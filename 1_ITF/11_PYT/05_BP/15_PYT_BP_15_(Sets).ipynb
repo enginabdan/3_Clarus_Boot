{
 "cells": [
  {
   "cell_type": "code",
   "execution_count": 1,
   "metadata": {
    "id": "uVi1UXWkxA-m"
   },
   "outputs": [],
   "source": [
    "# 15_Python_Ders_15_01_05_2021_Bireysel_Calısma"
   ]
  },
  {
   "cell_type": "code",
   "execution_count": null,
   "metadata": {
    "id": "yUgSGosbxr2D"
   },
   "outputs": [],
   "source": [
    "# 4. Bölüm 5. Kısım (Sets)"
   ]
  },
  {
   "cell_type": "code",
   "execution_count": null,
   "metadata": {
    "id": "vqoHP32Cl_Wv"
   },
   "outputs": [],
   "source": [
    "# ----------------Sets----------------"
   ]
  },
  {
   "cell_type": "code",
   "execution_count": null,
   "metadata": {
    "id": "bp-lKLG-Ll6Z"
   },
   "outputs": [],
   "source": [
    "# set:\n",
    "# collection of elements\n",
    "# with no repeats\n",
    "# without insertion order\n",
    "# but sorted order."
   ]
  },
  {
   "cell_type": "code",
   "execution_count": null,
   "metadata": {
    "id": "QX4eFl7fMD1B"
   },
   "outputs": [],
   "source": [
    "# membership testing\n",
    "# eliminating duplicate entries\n",
    "# support mathematical operations\n",
    "# union\n",
    "# intersection\n",
    "# difference\n",
    "# symmetric difference"
   ]
  },
  {
   "cell_type": "code",
   "execution_count": null,
   "metadata": {
    "id": "Qjd13S3DWpmh"
   },
   "outputs": [],
   "source": [
    "# Main Operations with Sets\n",
    "# .add()\n",
    "# .remove()\n",
    "# .intersection()\n",
    "# .union()\n",
    "# .difference()"
   ]
  },
  {
   "cell_type": "code",
   "execution_count": null,
   "metadata": {
    "id": "XS4YhqsfMeXk"
   },
   "outputs": [],
   "source": [
    "# Dictionary --- a = {\"a\":\"1\", \"b\":\"2\"} --- a = dict(a=\"1\", b=\"2\")"
   ]
  },
  {
   "cell_type": "code",
   "execution_count": null,
   "metadata": {
    "id": "pKw2KQ-ZNAN5"
   },
   "outputs": [],
   "source": [
    "# Sets  a = {\"a\", \"b\", \"c\"}  a = set(\"a\", \"b\", \"c\")  empty only a = set()"
   ]
  },
  {
   "cell_type": "code",
   "execution_count": null,
   "metadata": {
    "id": "tmZAAaijNKFY"
   },
   "outputs": [],
   "source": [
    "# If you make a = {}, creating an empty Dict not Set,\n",
    "# If you want empty set use a = set()"
   ]
  },
  {
   "cell_type": "code",
   "execution_count": null,
   "metadata": {
    "id": "TJ5MZMP-Nri-"
   },
   "outputs": [],
   "source": [
    "empty_set = set()"
   ]
  },
  {
   "cell_type": "code",
   "execution_count": null,
   "metadata": {
    "colab": {
     "base_uri": "https://localhost:8080/"
    },
    "executionInfo": {
     "elapsed": 1376,
     "status": "ok",
     "timestamp": 1619894174626,
     "user": {
      "displayName": "Engin Caliskan",
      "photoUrl": "https://lh3.googleusercontent.com/a-/AOh14GjCeifJ5R545-4cHpCmPWCbs_hlOVRMUf_2yws1=s64",
      "userId": "05516304192861072594"
     },
     "user_tz": -180
    },
    "id": "MB7YRDK0Nxt6",
    "outputId": "6d71a7fa-0f00-498d-e4fe-8ae8d0f77579"
   },
   "outputs": [
    {
     "name": "stdout",
     "output_type": "stream",
     "text": [
      "<class 'set'>\n"
     ]
    }
   ],
   "source": [
    "empty_set = set()\n",
    "print(type(empty_set))"
   ]
  },
  {
   "cell_type": "code",
   "execution_count": null,
   "metadata": {
    "colab": {
     "base_uri": "https://localhost:8080/"
    },
    "executionInfo": {
     "elapsed": 3198,
     "status": "ok",
     "timestamp": 1619894229458,
     "user": {
      "displayName": "Engin Caliskan",
      "photoUrl": "https://lh3.googleusercontent.com/a-/AOh14GjCeifJ5R545-4cHpCmPWCbs_hlOVRMUf_2yws1=s64",
      "userId": "05516304192861072594"
     },
     "user_tz": -180
    },
    "id": "bRcqlaieN34G",
    "outputId": "9a1152a8-d4bf-4262-d7aa-2c81f3b8072a"
   },
   "outputs": [
    {
     "name": "stdout",
     "output_type": "stream",
     "text": [
      "<class 'dict'>\n"
     ]
    }
   ],
   "source": [
    "empty_set = {}\n",
    "print(type(empty_set)) # As we see this empty Dict"
   ]
  },
  {
   "cell_type": "code",
   "execution_count": null,
   "metadata": {
    "colab": {
     "base_uri": "https://localhost:8080/"
    },
    "executionInfo": {
     "elapsed": 2604,
     "status": "ok",
     "timestamp": 1619894349068,
     "user": {
      "displayName": "Engin Caliskan",
      "photoUrl": "https://lh3.googleusercontent.com/a-/AOh14GjCeifJ5R545-4cHpCmPWCbs_hlOVRMUf_2yws1=s64",
      "userId": "05516304192861072594"
     },
     "user_tz": -180
    },
    "id": "uGNEebI8N-No",
    "outputId": "130f1df0-12ed-40aa-f518-da99a131f3b7"
   },
   "outputs": [
    {
     "name": "stdout",
     "output_type": "stream",
     "text": [
      "{'red', 'orange', 'darkblue', 'purple', 'yellow'}\n",
      "{'red', 'orange', 'darkblue', 'purple', 'yellow'}\n"
     ]
    }
   ],
   "source": [
    "colorset = {'purple', 'orange', 'red', 'darkblue', 'yellow', 'red'}\n",
    "print(colorset)\n",
    "print(colorset)  # Every activation of set will be different order"
   ]
  },
  {
   "cell_type": "code",
   "execution_count": null,
   "metadata": {
    "colab": {
     "base_uri": "https://localhost:8080/"
    },
    "executionInfo": {
     "elapsed": 962,
     "status": "ok",
     "timestamp": 1619959225303,
     "user": {
      "displayName": "Engin Caliskan",
      "photoUrl": "https://lh3.googleusercontent.com/a-/AOh14GjCeifJ5R545-4cHpCmPWCbs_hlOVRMUf_2yws1=s64",
      "userId": "05516304192861072594"
     },
     "user_tz": -180
    },
    "id": "uMtPOrr4OOP0",
    "outputId": "3478ac01-2b11-42ae-bd01-91bb9f0daca0"
   },
   "outputs": [
    {
     "name": "stdout",
     "output_type": "stream",
     "text": [
      "<class 'str'>\n",
      "<class 'str'>\n",
      "<class 'tuple'>\n",
      "<class 'list'>\n",
      "<class 'set'>\n",
      "<class 'dict'>\n",
      "\n",
      "unselfishness\n",
      "unselfishness\n",
      "('unselfishness',)\n",
      "['unselfishness']\n",
      "{'unselfishness'}\n",
      "{'unselfishness': '1'}\n",
      "\n"
     ]
    }
   ],
   "source": [
    "b = \"unselfishness\"         # Her sıradaki farklı tipte.\n",
    "c = (\"unselfishness\")\n",
    "d = (\"unselfishness\",)\n",
    "e = [\"unselfishness\"]\n",
    "f = {\"unselfishness\"}\n",
    "g = {\"unselfishness\":\"1\"}\n",
    "\n",
    "print(type(b))\n",
    "print(type(c))\n",
    "print(type(d))\n",
    "print(type(e))\n",
    "print(type(f))\n",
    "print(type(g))\n",
    "print()\n",
    "print(b)\n",
    "print(c)\n",
    "print(d)\n",
    "print(e)\n",
    "print(f)\n",
    "print(g)\n",
    "print()"
   ]
  },
  {
   "cell_type": "code",
   "execution_count": null,
   "metadata": {
    "colab": {
     "base_uri": "https://localhost:8080/"
    },
    "executionInfo": {
     "elapsed": 877,
     "status": "ok",
     "timestamp": 1619959287382,
     "user": {
      "displayName": "Engin Caliskan",
      "photoUrl": "https://lh3.googleusercontent.com/a-/AOh14GjCeifJ5R545-4cHpCmPWCbs_hlOVRMUf_2yws1=s64",
      "userId": "05516304192861072594"
     },
     "user_tz": -180
    },
    "id": "USVg7R_7GDRd",
    "outputId": "a254e8d5-af11-4472-d4fb-6486eea9bd7f"
   },
   "outputs": [
    {
     "name": "stdout",
     "output_type": "stream",
     "text": [
      "<class 'str'>\n",
      "<class 'str'>\n",
      "<class 'tuple'>\n",
      "<class 'list'>\n",
      "<class 'set'>\n",
      "<class 'dict'>\n",
      "\n",
      "unselfishness\n",
      "unselfishness\n",
      "('u', 'n', 's', 'e', 'l', 'f', 'i', 's', 'h', 'n', 'e', 's', 's')\n",
      "['u', 'n', 's', 'e', 'l', 'f', 'i', 's', 'h', 'n', 'e', 's', 's']\n",
      "{'n', 'f', 'u', 'h', 'e', 'l', 's', 'i'}\n",
      "{'unselfishness': '1'}\n"
     ]
    }
   ],
   "source": [
    "b = \"unselfishness\"         # Her sıradaki farklı tipte.\n",
    "c = (\"unselfishness\")\n",
    "d = tuple(\"unselfishness\")\n",
    "e = list(\"unselfishness\")\n",
    "f = set(\"unselfishness\")\n",
    "g = dict(unselfishness = \"1\")\n",
    "print(type(b))\n",
    "print(type(c))\n",
    "print(type(d))\n",
    "print(type(e))\n",
    "print(type(f))\n",
    "print(type(g))\n",
    "print()\n",
    "print(b)\n",
    "print(c)\n",
    "print(d)\n",
    "print(e)\n",
    "print(f)\n",
    "print(g)"
   ]
  },
  {
   "cell_type": "code",
   "execution_count": null,
   "metadata": {
    "colab": {
     "base_uri": "https://localhost:8080/"
    },
    "executionInfo": {
     "elapsed": 2636,
     "status": "ok",
     "timestamp": 1619894620969,
     "user": {
      "displayName": "Engin Caliskan",
      "photoUrl": "https://lh3.googleusercontent.com/a-/AOh14GjCeifJ5R545-4cHpCmPWCbs_hlOVRMUf_2yws1=s64",
      "userId": "05516304192861072594"
     },
     "user_tz": -180
    },
    "id": "QoLxzQ1LPRD1",
    "outputId": "c81c6e29-430c-4ec2-e013-c9ae185ec057"
   },
   "outputs": [
    {
     "name": "stdout",
     "output_type": "stream",
     "text": [
      "{'f', 'i', 'e', 'h', 'n', 's', 'l', 'u'}\n"
     ]
    }
   ],
   "source": [
    "s = set('unselfishness')\n",
    "print(s) "
   ]
  },
  {
   "cell_type": "code",
   "execution_count": null,
   "metadata": {
    "colab": {
     "base_uri": "https://localhost:8080/"
    },
    "executionInfo": {
     "elapsed": 1883,
     "status": "ok",
     "timestamp": 1619895365461,
     "user": {
      "displayName": "Engin Caliskan",
      "photoUrl": "https://lh3.googleusercontent.com/a-/AOh14GjCeifJ5R545-4cHpCmPWCbs_hlOVRMUf_2yws1=s64",
      "userId": "05516304192861072594"
     },
     "user_tz": -180
    },
    "id": "AA_L_MGUPkii",
    "outputId": "df01cd04-65cd-47bd-b36e-c476367cc5af"
   },
   "outputs": [
    {
     "name": "stdout",
     "output_type": "stream",
     "text": [
      "{'orchid', 'rose', 'violet', 'carnation'}\n",
      "['orchid', 'rose', 'violet', 'carnation']\n"
     ]
    }
   ],
   "source": [
    "flower_list = ['rose', 'violet', 'carnation', 'rose', 'orchid', 'rose', 'orchid']\n",
    "flowerset = set(flower_list)\n",
    "flowerlist = list(flowerset)\n",
    "print(flowerset) \n",
    "print(flowerlist)"
   ]
  },
  {
   "cell_type": "code",
   "execution_count": null,
   "metadata": {
    "colab": {
     "base_uri": "https://localhost:8080/"
    },
    "executionInfo": {
     "elapsed": 3131,
     "status": "ok",
     "timestamp": 1619895536848,
     "user": {
      "displayName": "Engin Caliskan",
      "photoUrl": "https://lh3.googleusercontent.com/a-/AOh14GjCeifJ5R545-4cHpCmPWCbs_hlOVRMUf_2yws1=s64",
      "userId": "05516304192861072594"
     },
     "user_tz": -180
    },
    "id": "FnycEcWQSaeH",
    "outputId": "8b8baf80-c228-46bf-a950-e78121460ca4"
   },
   "outputs": [
    {
     "name": "stdout",
     "output_type": "stream",
     "text": [
      "{'rose', 'violet', 'carnation'}\n",
      "['rose', 'violet', 'carnation']\n"
     ]
    }
   ],
   "source": [
    "flower_list = list(['rose', 'violet', 'carnation'])\n",
    "flowerset = set(flower_list)\n",
    "flowerlist = list(flowerset)\n",
    "print(flowerset) \n",
    "print(flowerlist)"
   ]
  },
  {
   "cell_type": "code",
   "execution_count": null,
   "metadata": {
    "colab": {
     "base_uri": "https://localhost:8080/"
    },
    "executionInfo": {
     "elapsed": 673,
     "status": "ok",
     "timestamp": 1619959402168,
     "user": {
      "displayName": "Engin Caliskan",
      "photoUrl": "https://lh3.googleusercontent.com/a-/AOh14GjCeifJ5R545-4cHpCmPWCbs_hlOVRMUf_2yws1=s64",
      "userId": "05516304192861072594"
     },
     "user_tz": -180
    },
    "id": "O0_15vDaSr9Z",
    "outputId": "0ef9e247-2ceb-46bf-88d4-1d9d87f11005"
   },
   "outputs": [
    {
     "name": "stdout",
     "output_type": "stream",
     "text": [
      "['1', '2', '3', '4']\n",
      "['a', 'b', 'c', 'd']\n",
      "('1', '2', '3', '4')\n",
      "{'c', 'd', 'b', 'a'}\n",
      "['1', '2', '3', '4']\n"
     ]
    }
   ],
   "source": [
    "a = [\"1\", \"2\", \"3\", \"4\"]\n",
    "b = [\"a\",\"b\",\"c\",\"d\"]\n",
    "c = tuple(a)\n",
    "d = set(b)\n",
    "e = list(c)\n",
    "print(a)\n",
    "print(b)\n",
    "print(c)\n",
    "print(d)\n",
    "print(e)"
   ]
  },
  {
   "cell_type": "code",
   "execution_count": 18,
   "metadata": {
    "colab": {
     "base_uri": "https://localhost:8080/"
    },
    "executionInfo": {
     "elapsed": 625,
     "status": "ok",
     "timestamp": 1620014852886,
     "user": {
      "displayName": "Engin Caliskan",
      "photoUrl": "https://lh3.googleusercontent.com/a-/AOh14GjCeifJ5R545-4cHpCmPWCbs_hlOVRMUf_2yws1=s64",
      "userId": "05516304192861072594"
     },
     "user_tz": -180
    },
    "id": "S2Kb95PRTacT",
    "outputId": "e8f610f1-5699-4362-9bc6-010a7f6b4896"
   },
   "outputs": [
    {
     "name": "stdout",
     "output_type": "stream",
     "text": [
      "{'2', '3', '4', '1'}\n",
      "{1, 2, 3, 4}\n",
      "<class 'set'>\n",
      "<class 'set'>\n"
     ]
    }
   ],
   "source": [
    "a = {\"1\",\"2\",\"3\",\"4\"}\n",
    "b = {1,2,3,4}\n",
    "print(a)\n",
    "print(b)\n",
    "print(type(a))\n",
    "print(type(b))"
   ]
  },
  {
   "cell_type": "code",
   "execution_count": null,
   "metadata": {
    "colab": {
     "base_uri": "https://localhost:8080/"
    },
    "executionInfo": {
     "elapsed": 1739,
     "status": "ok",
     "timestamp": 1619896694086,
     "user": {
      "displayName": "Engin Caliskan",
      "photoUrl": "https://lh3.googleusercontent.com/a-/AOh14GjCeifJ5R545-4cHpCmPWCbs_hlOVRMUf_2yws1=s64",
      "userId": "05516304192861072594"
     },
     "user_tz": -180
    },
    "id": "ZMpFDEx8VTKL",
    "outputId": "f1df2a40-a764-46eb-d0fa-c73370ef6a92"
   },
   "outputs": [
    {
     "name": "stdout",
     "output_type": "stream",
     "text": [
      "{'a', 'z', 'e', 'r'}\n"
     ]
    }
   ],
   "source": [
    "a = set(\"ezra\")\n",
    "print(a)"
   ]
  },
  {
   "cell_type": "code",
   "execution_count": null,
   "metadata": {
    "colab": {
     "base_uri": "https://localhost:8080/"
    },
    "executionInfo": {
     "elapsed": 2326,
     "status": "ok",
     "timestamp": 1619896704221,
     "user": {
      "displayName": "Engin Caliskan",
      "photoUrl": "https://lh3.googleusercontent.com/a-/AOh14GjCeifJ5R545-4cHpCmPWCbs_hlOVRMUf_2yws1=s64",
      "userId": "05516304192861072594"
     },
     "user_tz": -180
    },
    "id": "RQonv1WHXMEz",
    "outputId": "81be4172-e101-4895-8bf4-afff4226f98a"
   },
   "outputs": [
    {
     "name": "stdout",
     "output_type": "stream",
     "text": [
      "{'n', 'a', 'd', 'e'}\n"
     ]
    }
   ],
   "source": [
    "b = set(\"neda\")\n",
    "print(b)"
   ]
  },
  {
   "cell_type": "code",
   "execution_count": null,
   "metadata": {
    "colab": {
     "base_uri": "https://localhost:8080/"
    },
    "executionInfo": {
     "elapsed": 3111,
     "status": "ok",
     "timestamp": 1619897208734,
     "user": {
      "displayName": "Engin Caliskan",
      "photoUrl": "https://lh3.googleusercontent.com/a-/AOh14GjCeifJ5R545-4cHpCmPWCbs_hlOVRMUf_2yws1=s64",
      "userId": "05516304192861072594"
     },
     "user_tz": -180
    },
    "id": "ZABouns0XUDY",
    "outputId": "24f6f536-86c0-4639-a1bd-57c0a271e31c"
   },
   "outputs": [
    {
     "name": "stdout",
     "output_type": "stream",
     "text": [
      "{'z', 'r'}\n",
      "{'n', 'd'}\n",
      "{'z', 'r'}\n",
      "{'n', 'd'}\n",
      "{'d', 'r', 'e', 'n', 'a', 'z'}\n",
      "{'d', 'r', 'e', 'n', 'a', 'z'}\n",
      "{'d', 'r', 'e', 'n', 'a', 'z'}\n",
      "{'d', 'r', 'e', 'n', 'a', 'z'}\n",
      "{'a', 'e'}\n",
      "{'a', 'e'}\n",
      "{'a', 'e'}\n",
      "{'a', 'e'}\n"
     ]
    }
   ],
   "source": [
    "print(a.difference(b))\n",
    "print(b.difference(a))\n",
    "print(a-b)\n",
    "print(b-a)\n",
    "print(a.union(b))\n",
    "print(b.union(a))\n",
    "print(a | b)\n",
    "print(b | a)\n",
    "print(a.intersection(b))\n",
    "print(b.intersection(a))\n",
    "print(a & b)\n",
    "print(b & a)"
   ]
  },
  {
   "cell_type": "code",
   "execution_count": null,
   "metadata": {
    "colab": {
     "base_uri": "https://localhost:8080/"
    },
    "executionInfo": {
     "elapsed": 1549,
     "status": "ok",
     "timestamp": 1619897340746,
     "user": {
      "displayName": "Engin Caliskan",
      "photoUrl": "https://lh3.googleusercontent.com/a-/AOh14GjCeifJ5R545-4cHpCmPWCbs_hlOVRMUf_2yws1=s64",
      "userId": "05516304192861072594"
     },
     "user_tz": -180
    },
    "id": "rApS-UfaX89X",
    "outputId": "7ab52b5d-b051-4c26-8bab-5eae6dc7d819"
   },
   "outputs": [
    {
     "name": "stdout",
     "output_type": "stream",
     "text": [
      "{'r', 'k', 'e', 'a', 'z'}\n",
      "{'d', 'k', 'e', 'n', 'a'}\n"
     ]
    }
   ],
   "source": [
    "a.add(\"k\")\n",
    "b.add(\"k\")\n",
    "print(a)\n",
    "print(b)"
   ]
  },
  {
   "cell_type": "code",
   "execution_count": null,
   "metadata": {
    "colab": {
     "base_uri": "https://localhost:8080/"
    },
    "executionInfo": {
     "elapsed": 3362,
     "status": "ok",
     "timestamp": 1619897362534,
     "user": {
      "displayName": "Engin Caliskan",
      "photoUrl": "https://lh3.googleusercontent.com/a-/AOh14GjCeifJ5R545-4cHpCmPWCbs_hlOVRMUf_2yws1=s64",
      "userId": "05516304192861072594"
     },
     "user_tz": -180
    },
    "id": "4ZlAiZFMZyCZ",
    "outputId": "6034e000-8612-4179-9e07-074237f4691f"
   },
   "outputs": [
    {
     "name": "stdout",
     "output_type": "stream",
     "text": [
      "{'z', 'r'}\n",
      "{'n', 'd'}\n",
      "{'z', 'r'}\n",
      "{'n', 'd'}\n",
      "{'d', 'r', 'k', 'e', 'n', 'a', 'z'}\n",
      "{'d', 'r', 'k', 'e', 'n', 'a', 'z'}\n",
      "{'d', 'r', 'k', 'e', 'n', 'a', 'z'}\n",
      "{'d', 'r', 'k', 'e', 'n', 'a', 'z'}\n",
      "{'e', 'a', 'k'}\n",
      "{'e', 'a', 'k'}\n",
      "{'e', 'a', 'k'}\n",
      "{'e', 'a', 'k'}\n"
     ]
    }
   ],
   "source": [
    "print(a.difference(b))\n",
    "print(b.difference(a))\n",
    "print(a-b)\n",
    "print(b-a)\n",
    "print(a.union(b))\n",
    "print(b.union(a))\n",
    "print(a | b)\n",
    "print(b | a)\n",
    "print(a.intersection(b))\n",
    "print(b.intersection(a))\n",
    "print(a & b)\n",
    "print(b & a)"
   ]
  },
  {
   "cell_type": "code",
   "execution_count": null,
   "metadata": {
    "colab": {
     "base_uri": "https://localhost:8080/"
    },
    "executionInfo": {
     "elapsed": 684,
     "status": "ok",
     "timestamp": 1619960142993,
     "user": {
      "displayName": "Engin Caliskan",
      "photoUrl": "https://lh3.googleusercontent.com/a-/AOh14GjCeifJ5R545-4cHpCmPWCbs_hlOVRMUf_2yws1=s64",
      "userId": "05516304192861072594"
     },
     "user_tz": -180
    },
    "id": "7DT_JXgbaBqr",
    "outputId": "051c278f-70cc-4195-a98a-6e11d2091bd2"
   },
   "outputs": [
    {
     "name": "stdout",
     "output_type": "stream",
     "text": [
      "{'n', 'e', 'z', 'a', 'd', 'r'}\n",
      "{'n', 'e', 'z', 'a', 'd', 'r'}\n",
      "{'r', 'z', 'a'}\n"
     ]
    }
   ],
   "source": [
    "a = set(['d', 'r', 'k', 'e', 'n', 'a', 'z'])  # Set içi tek bir argüman olmalı\n",
    "b = set(['d', 'r', 'k', 'e', 'n', 'a', 'z'])  # [] onun için kullandık.\n",
    "c = set(\"azrak\")\n",
    "a.remove(\"k\")\n",
    "b.remove(\"k\")\n",
    "c.remove(\"k\")\n",
    "print(a)\n",
    "print(b)\n",
    "print(c)"
   ]
  },
  {
   "cell_type": "code",
   "execution_count": null,
   "metadata": {
    "colab": {
     "base_uri": "https://localhost:8080/"
    },
    "executionInfo": {
     "elapsed": 859,
     "status": "ok",
     "timestamp": 1619960173926,
     "user": {
      "displayName": "Engin Caliskan",
      "photoUrl": "https://lh3.googleusercontent.com/a-/AOh14GjCeifJ5R545-4cHpCmPWCbs_hlOVRMUf_2yws1=s64",
      "userId": "05516304192861072594"
     },
     "user_tz": -180
    },
    "id": "K6sALN5EHn6A",
    "outputId": "e56b6ab9-5265-43ef-ab77-67925de1759c"
   },
   "outputs": [
    {
     "name": "stdout",
     "output_type": "stream",
     "text": [
      "{'t', 'n', 'f', 'h', ' ', 'o', 'v', 'c', 'e', 'l', 's', 'i', 'd'}\n"
     ]
    }
   ],
   "source": [
    "a = set('listen to the voice of enlisted')\n",
    "print(a)"
   ]
  },
  {
   "cell_type": "code",
   "execution_count": null,
   "metadata": {
    "colab": {
     "base_uri": "https://localhost:8080/"
    },
    "executionInfo": {
     "elapsed": 805,
     "status": "ok",
     "timestamp": 1619960194174,
     "user": {
      "displayName": "Engin Caliskan",
      "photoUrl": "https://lh3.googleusercontent.com/a-/AOh14GjCeifJ5R545-4cHpCmPWCbs_hlOVRMUf_2yws1=s64",
      "userId": "05516304192861072594"
     },
     "user_tz": -180
    },
    "id": "o8ev6rXKJpEj",
    "outputId": "58175d35-5251-43b5-c651-4109242a5082"
   },
   "outputs": [
    {
     "name": "stdout",
     "output_type": "stream",
     "text": [
      "13\n"
     ]
    }
   ],
   "source": [
    "print(len(a))"
   ]
  },
  {
   "cell_type": "code",
   "execution_count": null,
   "metadata": {
    "colab": {
     "base_uri": "https://localhost:8080/"
    },
    "executionInfo": {
     "elapsed": 1289,
     "status": "ok",
     "timestamp": 1619960206005,
     "user": {
      "displayName": "Engin Caliskan",
      "photoUrl": "https://lh3.googleusercontent.com/a-/AOh14GjCeifJ5R545-4cHpCmPWCbs_hlOVRMUf_2yws1=s64",
      "userId": "05516304192861072594"
     },
     "user_tz": -180
    },
    "id": "4XuQBrYdJt12",
    "outputId": "d74613e1-c612-4a1f-9895-bc8afa33bf1f"
   },
   "outputs": [
    {
     "name": "stdout",
     "output_type": "stream",
     "text": [
      "13\n"
     ]
    }
   ],
   "source": [
    "print(len(set('listen to the voice of enlisted')))"
   ]
  },
  {
   "cell_type": "code",
   "execution_count": null,
   "metadata": {
    "colab": {
     "base_uri": "https://localhost:8080/"
    },
    "executionInfo": {
     "elapsed": 680,
     "status": "ok",
     "timestamp": 1619960522480,
     "user": {
      "displayName": "Engin Caliskan",
      "photoUrl": "https://lh3.googleusercontent.com/a-/AOh14GjCeifJ5R545-4cHpCmPWCbs_hlOVRMUf_2yws1=s64",
      "userId": "05516304192861072594"
     },
     "user_tz": -180
    },
    "id": "pA2S5eI4Jw1r",
    "outputId": "b540a5d7-b7e0-4999-e5d4-b0e927d88468"
   },
   "outputs": [
    {
     "name": "stdout",
     "output_type": "stream",
     "text": [
      "<class 'str'>\n",
      "<class 'str'>\n",
      "<class 'list'>\n",
      "<class 'tuple'>\n",
      "<class 'set'>\n",
      "<class 'dict'>\n",
      "\n",
      "azra\n",
      "azra\n",
      "['a', 'z', 'r', 'a']\n",
      "('a', 'z', 'r', 'a')\n",
      "{'r', 'z', 'a'}\n",
      "{'azra': '1'}\n"
     ]
    }
   ],
   "source": [
    "a = \"azra\"\n",
    "b = (\"azra\")\n",
    "c = list(\"azra\")\n",
    "d = tuple(\"azra\")\n",
    "e = set(\"azra\")\n",
    "f = dict(azra=\"1\")\n",
    "print(type(a))\n",
    "print(type(b))\n",
    "print(type(c))\n",
    "print(type(d))\n",
    "print(type(e))\n",
    "print(type(f))\n",
    "print()\n",
    "print (a)\n",
    "print (b)\n",
    "print (c)\n",
    "print (d)\n",
    "print (e)\n",
    "print (f)"
   ]
  },
  {
   "cell_type": "code",
   "execution_count": 5,
   "metadata": {
    "colab": {
     "base_uri": "https://localhost:8080/"
    },
    "executionInfo": {
     "elapsed": 722,
     "status": "ok",
     "timestamp": 1620014274943,
     "user": {
      "displayName": "Engin Caliskan",
      "photoUrl": "https://lh3.googleusercontent.com/a-/AOh14GjCeifJ5R545-4cHpCmPWCbs_hlOVRMUf_2yws1=s64",
      "userId": "05516304192861072594"
     },
     "user_tz": -180
    },
    "id": "6olvVy-TKjWI",
    "outputId": "5def73b2-1b05-410e-8b12-c497f49979b8"
   },
   "outputs": [
    {
     "name": "stdout",
     "output_type": "stream",
     "text": [
      "{'g', 'n', 'i', 'e'}\n"
     ]
    }
   ],
   "source": [
    "a = set(\"engin\")\n",
    "print(a)"
   ]
  },
  {
   "cell_type": "code",
   "execution_count": 13,
   "metadata": {
    "colab": {
     "base_uri": "https://localhost:8080/"
    },
    "executionInfo": {
     "elapsed": 622,
     "status": "ok",
     "timestamp": 1620014472250,
     "user": {
      "displayName": "Engin Caliskan",
      "photoUrl": "https://lh3.googleusercontent.com/a-/AOh14GjCeifJ5R545-4cHpCmPWCbs_hlOVRMUf_2yws1=s64",
      "userId": "05516304192861072594"
     },
     "user_tz": -180
    },
    "id": "e6P5-OhoX39W",
    "outputId": "78ca9d3f-f7f3-4a02-de4a-00ab072c42a6"
   },
   "outputs": [
    {
     "name": "stdout",
     "output_type": "stream",
     "text": [
      "['a', 'b', 'c']\n"
     ]
    }
   ],
   "source": [
    "a = list([\"a\", \"b\", \"c\"])\n",
    "print(a)"
   ]
  },
  {
   "cell_type": "code",
   "execution_count": 15,
   "metadata": {
    "colab": {
     "base_uri": "https://localhost:8080/"
    },
    "executionInfo": {
     "elapsed": 621,
     "status": "ok",
     "timestamp": 1620014516331,
     "user": {
      "displayName": "Engin Caliskan",
      "photoUrl": "https://lh3.googleusercontent.com/a-/AOh14GjCeifJ5R545-4cHpCmPWCbs_hlOVRMUf_2yws1=s64",
      "userId": "05516304192861072594"
     },
     "user_tz": -180
    },
    "id": "IlMwFesGYNrC",
    "outputId": "d422544f-dac7-4a5b-b2f1-9b6ab962543b"
   },
   "outputs": [
    {
     "name": "stdout",
     "output_type": "stream",
     "text": [
      "{'b', 'c', 'a'}\n"
     ]
    }
   ],
   "source": [
    "a = set({\"a\", \"b\", \"c\"})\n",
    "print(a)"
   ]
  },
  {
   "cell_type": "code",
   "execution_count": 12,
   "metadata": {
    "colab": {
     "base_uri": "https://localhost:8080/"
    },
    "executionInfo": {
     "elapsed": 650,
     "status": "ok",
     "timestamp": 1620014456909,
     "user": {
      "displayName": "Engin Caliskan",
      "photoUrl": "https://lh3.googleusercontent.com/a-/AOh14GjCeifJ5R545-4cHpCmPWCbs_hlOVRMUf_2yws1=s64",
      "userId": "05516304192861072594"
     },
     "user_tz": -180
    },
    "id": "_k8leRdkYSFt",
    "outputId": "d53dc004-1015-4dfc-c245-3024ba1d24a5"
   },
   "outputs": [
    {
     "name": "stdout",
     "output_type": "stream",
     "text": [
      "('a', 'b', 'c')\n"
     ]
    }
   ],
   "source": [
    "a = tuple((\"a\", \"b\", \"c\"))\n",
    "print(a)"
   ]
  },
  {
   "cell_type": "code",
   "execution_count": 4,
   "metadata": {
    "colab": {
     "base_uri": "https://localhost:8080/"
    },
    "executionInfo": {
     "elapsed": 694,
     "status": "ok",
     "timestamp": 1620014398579,
     "user": {
      "displayName": "Engin Caliskan",
      "photoUrl": "https://lh3.googleusercontent.com/a-/AOh14GjCeifJ5R545-4cHpCmPWCbs_hlOVRMUf_2yws1=s64",
      "userId": "05516304192861072594"
     },
     "user_tz": -180
    },
    "id": "Bg9jtFdpYUbC",
    "outputId": "db7d07d8-1ac4-406b-a422-b99b8498e471"
   },
   "outputs": [
    {
     "name": "stdout",
     "output_type": "stream",
     "text": [
      "{'a': '1', 'b': '2'}\n"
     ]
    }
   ],
   "source": [
    "a = dict(a=\"1\", b=\"2\")\n",
    "print(a)"
   ]
  },
  {
   "cell_type": "code",
   "execution_count": null,
   "metadata": {
    "id": "WAdo8VEbYfky"
   },
   "outputs": [],
   "source": []
  },
  {
   "cell_type": "code",
   "execution_count": null,
   "metadata": {},
   "outputs": [],
   "source": []
  }
 ],
 "metadata": {
  "colab": {
   "authorship_tag": "ABX9TyNeemdS+VELPRjhT59hlw77",
   "collapsed_sections": [],
   "name": "15_Python_Ders_15_01_05_2021_Sets.ipynb",
   "provenance": []
  },
  "kernelspec": {
   "display_name": "Python 3",
   "language": "python",
   "name": "python3"
  },
  "language_info": {
   "codemirror_mode": {
    "name": "ipython",
    "version": 3
   },
   "file_extension": ".py",
   "mimetype": "text/x-python",
   "name": "python",
   "nbconvert_exporter": "python",
   "pygments_lexer": "ipython3",
   "version": "3.9.4"
  }
 },
 "nbformat": 4,
 "nbformat_minor": 4
}
