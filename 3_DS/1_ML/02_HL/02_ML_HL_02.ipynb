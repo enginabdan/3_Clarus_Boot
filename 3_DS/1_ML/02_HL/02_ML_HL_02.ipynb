{
 "cells": [
  {
   "cell_type": "markdown",
   "id": "a078aa24",
   "metadata": {},
   "source": [
    "### 02_ML_HL_02 (Used Car Prediction)"
   ]
  },
  {
   "cell_type": "code",
   "execution_count": 107,
   "metadata": {},
   "outputs": [],
   "source": [
    "import pandas as pd\n",
    "import numpy as np\n",
    "\n",
    "import matplotlib.pyplot as plt\n",
    "import seaborn as sns\n",
    "plt.rcParams[\"figure.figsize\"] = (9,5)\n",
    "\n",
    "import warnings\n",
    "warnings.filterwarnings('ignore')\n",
    "\n",
    "pd.set_option('display.max_rows', 500)\n",
    "pd.set_option('display.max_columns', 500)\n",
    "pd.set_option('display.width', 1000)"
   ]
  },
  {
   "cell_type": "code",
   "execution_count": 108,
   "metadata": {},
   "outputs": [
    {
     "data": {
      "text/html": [
       "<div>\n",
       "<style scoped>\n",
       "    .dataframe tbody tr th:only-of-type {\n",
       "        vertical-align: middle;\n",
       "    }\n",
       "\n",
       "    .dataframe tbody tr th {\n",
       "        vertical-align: top;\n",
       "    }\n",
       "\n",
       "    .dataframe thead th {\n",
       "        text-align: right;\n",
       "    }\n",
       "</style>\n",
       "<table border=\"1\" class=\"dataframe\">\n",
       "  <thead>\n",
       "    <tr style=\"text-align: right;\">\n",
       "      <th></th>\n",
       "      <th>Car_Name</th>\n",
       "      <th>Year</th>\n",
       "      <th>Selling_Price</th>\n",
       "      <th>Present_Price</th>\n",
       "      <th>Kms_Driven</th>\n",
       "      <th>Fuel_Type</th>\n",
       "      <th>Seller_Type</th>\n",
       "      <th>Transmission</th>\n",
       "      <th>Owner</th>\n",
       "    </tr>\n",
       "  </thead>\n",
       "  <tbody>\n",
       "    <tr>\n",
       "      <th>0</th>\n",
       "      <td>ritz</td>\n",
       "      <td>2014</td>\n",
       "      <td>3.35</td>\n",
       "      <td>5.59</td>\n",
       "      <td>27000</td>\n",
       "      <td>Petrol</td>\n",
       "      <td>Dealer</td>\n",
       "      <td>Manual</td>\n",
       "      <td>0</td>\n",
       "    </tr>\n",
       "    <tr>\n",
       "      <th>1</th>\n",
       "      <td>sx4</td>\n",
       "      <td>2013</td>\n",
       "      <td>4.75</td>\n",
       "      <td>9.54</td>\n",
       "      <td>43000</td>\n",
       "      <td>Diesel</td>\n",
       "      <td>Dealer</td>\n",
       "      <td>Manual</td>\n",
       "      <td>0</td>\n",
       "    </tr>\n",
       "    <tr>\n",
       "      <th>2</th>\n",
       "      <td>ciaz</td>\n",
       "      <td>2017</td>\n",
       "      <td>7.25</td>\n",
       "      <td>9.85</td>\n",
       "      <td>6900</td>\n",
       "      <td>Petrol</td>\n",
       "      <td>Dealer</td>\n",
       "      <td>Manual</td>\n",
       "      <td>0</td>\n",
       "    </tr>\n",
       "    <tr>\n",
       "      <th>3</th>\n",
       "      <td>wagon r</td>\n",
       "      <td>2011</td>\n",
       "      <td>2.85</td>\n",
       "      <td>4.15</td>\n",
       "      <td>5200</td>\n",
       "      <td>Petrol</td>\n",
       "      <td>Dealer</td>\n",
       "      <td>Manual</td>\n",
       "      <td>0</td>\n",
       "    </tr>\n",
       "    <tr>\n",
       "      <th>4</th>\n",
       "      <td>swift</td>\n",
       "      <td>2014</td>\n",
       "      <td>4.60</td>\n",
       "      <td>6.87</td>\n",
       "      <td>42450</td>\n",
       "      <td>Diesel</td>\n",
       "      <td>Dealer</td>\n",
       "      <td>Manual</td>\n",
       "      <td>0</td>\n",
       "    </tr>\n",
       "  </tbody>\n",
       "</table>\n",
       "</div>"
      ],
      "text/plain": [
       "  Car_Name  Year  Selling_Price  Present_Price  Kms_Driven Fuel_Type Seller_Type Transmission  Owner\n",
       "0     ritz  2014           3.35           5.59       27000    Petrol      Dealer       Manual      0\n",
       "1      sx4  2013           4.75           9.54       43000    Diesel      Dealer       Manual      0\n",
       "2     ciaz  2017           7.25           9.85        6900    Petrol      Dealer       Manual      0\n",
       "3  wagon r  2011           2.85           4.15        5200    Petrol      Dealer       Manual      0\n",
       "4    swift  2014           4.60           6.87       42450    Diesel      Dealer       Manual      0"
      ]
     },
     "execution_count": 108,
     "metadata": {},
     "output_type": "execute_result"
    }
   ],
   "source": [
    "df=pd.read_csv(\"car_dataset.csv\")\n",
    "df.head()"
   ]
  },
  {
   "cell_type": "code",
   "execution_count": 109,
   "metadata": {},
   "outputs": [
    {
     "data": {
      "text/plain": [
       "(301, 9)"
      ]
     },
     "execution_count": 109,
     "metadata": {},
     "output_type": "execute_result"
    }
   ],
   "source": [
    "df.shape"
   ]
  },
  {
   "cell_type": "code",
   "execution_count": 110,
   "metadata": {},
   "outputs": [
    {
     "name": "stdout",
     "output_type": "stream",
     "text": [
      "<class 'pandas.core.frame.DataFrame'>\n",
      "RangeIndex: 301 entries, 0 to 300\n",
      "Data columns (total 9 columns):\n",
      " #   Column         Non-Null Count  Dtype  \n",
      "---  ------         --------------  -----  \n",
      " 0   Car_Name       301 non-null    object \n",
      " 1   Year           301 non-null    int64  \n",
      " 2   Selling_Price  301 non-null    float64\n",
      " 3   Present_Price  301 non-null    float64\n",
      " 4   Kms_Driven     301 non-null    int64  \n",
      " 5   Fuel_Type      301 non-null    object \n",
      " 6   Seller_Type    301 non-null    object \n",
      " 7   Transmission   301 non-null    object \n",
      " 8   Owner          301 non-null    int64  \n",
      "dtypes: float64(2), int64(3), object(4)\n",
      "memory usage: 21.3+ KB\n"
     ]
    }
   ],
   "source": [
    "df.info()"
   ]
  },
  {
   "cell_type": "code",
   "execution_count": 111,
   "metadata": {},
   "outputs": [
    {
     "data": {
      "text/plain": [
       "Car_Name         False\n",
       "Year             False\n",
       "Selling_Price    False\n",
       "Present_Price    False\n",
       "Kms_Driven       False\n",
       "Fuel_Type        False\n",
       "Seller_Type      False\n",
       "Transmission     False\n",
       "Owner            False\n",
       "dtype: bool"
      ]
     },
     "execution_count": 111,
     "metadata": {},
     "output_type": "execute_result"
    }
   ],
   "source": [
    "df.isnull().any()"
   ]
  },
  {
   "cell_type": "code",
   "execution_count": 112,
   "metadata": {},
   "outputs": [
    {
     "data": {
      "text/html": [
       "<div>\n",
       "<style scoped>\n",
       "    .dataframe tbody tr th:only-of-type {\n",
       "        vertical-align: middle;\n",
       "    }\n",
       "\n",
       "    .dataframe tbody tr th {\n",
       "        vertical-align: top;\n",
       "    }\n",
       "\n",
       "    .dataframe thead th {\n",
       "        text-align: right;\n",
       "    }\n",
       "</style>\n",
       "<table border=\"1\" class=\"dataframe\">\n",
       "  <thead>\n",
       "    <tr style=\"text-align: right;\">\n",
       "      <th></th>\n",
       "      <th>Year</th>\n",
       "      <th>Selling_Price</th>\n",
       "      <th>Present_Price</th>\n",
       "      <th>Kms_Driven</th>\n",
       "      <th>Owner</th>\n",
       "    </tr>\n",
       "  </thead>\n",
       "  <tbody>\n",
       "    <tr>\n",
       "      <th>count</th>\n",
       "      <td>301.000000</td>\n",
       "      <td>301.000000</td>\n",
       "      <td>301.000000</td>\n",
       "      <td>301.000000</td>\n",
       "      <td>301.000000</td>\n",
       "    </tr>\n",
       "    <tr>\n",
       "      <th>mean</th>\n",
       "      <td>2013.627907</td>\n",
       "      <td>4.661296</td>\n",
       "      <td>7.628472</td>\n",
       "      <td>36947.205980</td>\n",
       "      <td>0.043189</td>\n",
       "    </tr>\n",
       "    <tr>\n",
       "      <th>std</th>\n",
       "      <td>2.891554</td>\n",
       "      <td>5.082812</td>\n",
       "      <td>8.644115</td>\n",
       "      <td>38886.883882</td>\n",
       "      <td>0.247915</td>\n",
       "    </tr>\n",
       "    <tr>\n",
       "      <th>min</th>\n",
       "      <td>2003.000000</td>\n",
       "      <td>0.100000</td>\n",
       "      <td>0.320000</td>\n",
       "      <td>500.000000</td>\n",
       "      <td>0.000000</td>\n",
       "    </tr>\n",
       "    <tr>\n",
       "      <th>25%</th>\n",
       "      <td>2012.000000</td>\n",
       "      <td>0.900000</td>\n",
       "      <td>1.200000</td>\n",
       "      <td>15000.000000</td>\n",
       "      <td>0.000000</td>\n",
       "    </tr>\n",
       "    <tr>\n",
       "      <th>50%</th>\n",
       "      <td>2014.000000</td>\n",
       "      <td>3.600000</td>\n",
       "      <td>6.400000</td>\n",
       "      <td>32000.000000</td>\n",
       "      <td>0.000000</td>\n",
       "    </tr>\n",
       "    <tr>\n",
       "      <th>75%</th>\n",
       "      <td>2016.000000</td>\n",
       "      <td>6.000000</td>\n",
       "      <td>9.900000</td>\n",
       "      <td>48767.000000</td>\n",
       "      <td>0.000000</td>\n",
       "    </tr>\n",
       "    <tr>\n",
       "      <th>max</th>\n",
       "      <td>2018.000000</td>\n",
       "      <td>35.000000</td>\n",
       "      <td>92.600000</td>\n",
       "      <td>500000.000000</td>\n",
       "      <td>3.000000</td>\n",
       "    </tr>\n",
       "  </tbody>\n",
       "</table>\n",
       "</div>"
      ],
      "text/plain": [
       "              Year  Selling_Price  Present_Price     Kms_Driven       Owner\n",
       "count   301.000000     301.000000     301.000000     301.000000  301.000000\n",
       "mean   2013.627907       4.661296       7.628472   36947.205980    0.043189\n",
       "std       2.891554       5.082812       8.644115   38886.883882    0.247915\n",
       "min    2003.000000       0.100000       0.320000     500.000000    0.000000\n",
       "25%    2012.000000       0.900000       1.200000   15000.000000    0.000000\n",
       "50%    2014.000000       3.600000       6.400000   32000.000000    0.000000\n",
       "75%    2016.000000       6.000000       9.900000   48767.000000    0.000000\n",
       "max    2018.000000      35.000000      92.600000  500000.000000    3.000000"
      ]
     },
     "execution_count": 112,
     "metadata": {},
     "output_type": "execute_result"
    }
   ],
   "source": [
    "df.describe()"
   ]
  },
  {
   "cell_type": "code",
   "execution_count": 113,
   "metadata": {},
   "outputs": [
    {
     "data": {
      "image/png": "[encoded data removed]",
      "text/plain": [
       "<Figure size 648x360 with 1 Axes>"
      ]
     },
     "metadata": {},
     "output_type": "display_data"
    },
    {
     "data": {
      "image/png": "[encoded data removed]",
      "text/plain": [
       "<Figure size 648x360 with 1 Axes>"
      ]
     },
     "metadata": {},
     "output_type": "display_data"
    },
    {
     "data": {
      "image/png": "[encoded data removed]",
      "text/plain": [
       "<Figure size 648x360 with 1 Axes>"
      ]
     },
     "metadata": {},
     "output_type": "display_data"
    },
    {
     "data": {
      "image/png": "[encoded data removed]",
      "text/plain": [
       "<Figure size 648x360 with 1 Axes>"
      ]
     },
     "metadata": {},
     "output_type": "display_data"
    },
    {
     "data": {
      "image/png": "[encoded data removed]",
      "text/plain": [
       "<Figure size 648x360 with 1 Axes>"
      ]
     },
     "metadata": {},
     "output_type": "display_data"
    },
    {
     "data": {
      "image/png": "[encoded data removed]",
      "text/plain": [
       "<Figure size 648x360 with 1 Axes>"
      ]
     },
     "metadata": {},
     "output_type": "display_data"
    },
    {
     "data": {
      "image/png": "[encoded data removed]",
      "text/plain": [
       "<Figure size 648x360 with 1 Axes>"
      ]
     },
     "metadata": {},
     "output_type": "display_data"
    },
    {
     "data": {
      "image/png": "[encoded data removed]",
      "text/plain": [
       "<Figure size 648x360 with 1 Axes>"
      ]
     },
     "metadata": {},
     "output_type": "display_data"
    },
    {
     "data": {
      "image/png": "[encoded data removed]",
      "text/plain": [
       "<Figure size 648x360 with 1 Axes>"
      ]
     },
     "metadata": {},
     "output_type": "display_data"
    }
   ],
   "source": [
    "for i,col in enumerate(df.columns):\n",
    "    plt.figure(i)\n",
    "    sns.histplot(df[col])"
   ]
  },
  {
   "cell_type": "code",
   "execution_count": 114,
   "metadata": {},
   "outputs": [
    {
     "data": {
      "image/png": "[encoded data removed]",
      "text/plain": [
       "<Figure size 648x360 with 2 Axes>"
      ]
     },
     "metadata": {},
     "output_type": "display_data"
    }
   ],
   "source": [
    "sns.heatmap(df.corr(), annot=True)\n",
    "plt.show()"
   ]
  },
  {
   "cell_type": "code",
   "execution_count": 115,
   "metadata": {},
   "outputs": [
    {
     "data": {
      "text/html": [
       "<div>\n",
       "<style scoped>\n",
       "    .dataframe tbody tr th:only-of-type {\n",
       "        vertical-align: middle;\n",
       "    }\n",
       "\n",
       "    .dataframe tbody tr th {\n",
       "        vertical-align: top;\n",
       "    }\n",
       "\n",
       "    .dataframe thead th {\n",
       "        text-align: right;\n",
       "    }\n",
       "</style>\n",
       "<table border=\"1\" class=\"dataframe\">\n",
       "  <thead>\n",
       "    <tr style=\"text-align: right;\">\n",
       "      <th></th>\n",
       "      <th>Car_Name</th>\n",
       "      <th>Year</th>\n",
       "      <th>Selling_Price</th>\n",
       "      <th>Present_Price</th>\n",
       "      <th>Kms_Driven</th>\n",
       "      <th>Fuel_Type</th>\n",
       "      <th>Seller_Type</th>\n",
       "      <th>Transmission</th>\n",
       "      <th>Owner</th>\n",
       "    </tr>\n",
       "  </thead>\n",
       "  <tbody>\n",
       "    <tr>\n",
       "      <th>0</th>\n",
       "      <td>ritz</td>\n",
       "      <td>2014</td>\n",
       "      <td>3.35</td>\n",
       "      <td>5.59</td>\n",
       "      <td>27000</td>\n",
       "      <td>Petrol</td>\n",
       "      <td>Dealer</td>\n",
       "      <td>Manual</td>\n",
       "      <td>0</td>\n",
       "    </tr>\n",
       "    <tr>\n",
       "      <th>1</th>\n",
       "      <td>sx4</td>\n",
       "      <td>2013</td>\n",
       "      <td>4.75</td>\n",
       "      <td>9.54</td>\n",
       "      <td>43000</td>\n",
       "      <td>Diesel</td>\n",
       "      <td>Dealer</td>\n",
       "      <td>Manual</td>\n",
       "      <td>0</td>\n",
       "    </tr>\n",
       "    <tr>\n",
       "      <th>2</th>\n",
       "      <td>ciaz</td>\n",
       "      <td>2017</td>\n",
       "      <td>7.25</td>\n",
       "      <td>9.85</td>\n",
       "      <td>6900</td>\n",
       "      <td>Petrol</td>\n",
       "      <td>Dealer</td>\n",
       "      <td>Manual</td>\n",
       "      <td>0</td>\n",
       "    </tr>\n",
       "    <tr>\n",
       "      <th>3</th>\n",
       "      <td>wagon r</td>\n",
       "      <td>2011</td>\n",
       "      <td>2.85</td>\n",
       "      <td>4.15</td>\n",
       "      <td>5200</td>\n",
       "      <td>Petrol</td>\n",
       "      <td>Dealer</td>\n",
       "      <td>Manual</td>\n",
       "      <td>0</td>\n",
       "    </tr>\n",
       "    <tr>\n",
       "      <th>4</th>\n",
       "      <td>swift</td>\n",
       "      <td>2014</td>\n",
       "      <td>4.60</td>\n",
       "      <td>6.87</td>\n",
       "      <td>42450</td>\n",
       "      <td>Diesel</td>\n",
       "      <td>Dealer</td>\n",
       "      <td>Manual</td>\n",
       "      <td>0</td>\n",
       "    </tr>\n",
       "  </tbody>\n",
       "</table>\n",
       "</div>"
      ],
      "text/plain": [
       "  Car_Name  Year  Selling_Price  Present_Price  Kms_Driven Fuel_Type Seller_Type Transmission  Owner\n",
       "0     ritz  2014           3.35           5.59       27000    Petrol      Dealer       Manual      0\n",
       "1      sx4  2013           4.75           9.54       43000    Diesel      Dealer       Manual      0\n",
       "2     ciaz  2017           7.25           9.85        6900    Petrol      Dealer       Manual      0\n",
       "3  wagon r  2011           2.85           4.15        5200    Petrol      Dealer       Manual      0\n",
       "4    swift  2014           4.60           6.87       42450    Diesel      Dealer       Manual      0"
      ]
     },
     "execution_count": 115,
     "metadata": {},
     "output_type": "execute_result"
    }
   ],
   "source": [
    "df.head()"
   ]
  },
  {
   "cell_type": "code",
   "execution_count": 116,
   "metadata": {},
   "outputs": [],
   "source": [
    "df[\"vehicle_age\"]=2021-df.Year"
   ]
  },
  {
   "cell_type": "code",
   "execution_count": 117,
   "metadata": {},
   "outputs": [
    {
     "data": {
      "text/html": [
       "<div>\n",
       "<style scoped>\n",
       "    .dataframe tbody tr th:only-of-type {\n",
       "        vertical-align: middle;\n",
       "    }\n",
       "\n",
       "    .dataframe tbody tr th {\n",
       "        vertical-align: top;\n",
       "    }\n",
       "\n",
       "    .dataframe thead th {\n",
       "        text-align: right;\n",
       "    }\n",
       "</style>\n",
       "<table border=\"1\" class=\"dataframe\">\n",
       "  <thead>\n",
       "    <tr style=\"text-align: right;\">\n",
       "      <th></th>\n",
       "      <th>Car_Name</th>\n",
       "      <th>Year</th>\n",
       "      <th>Selling_Price</th>\n",
       "      <th>Present_Price</th>\n",
       "      <th>Kms_Driven</th>\n",
       "      <th>Fuel_Type</th>\n",
       "      <th>Seller_Type</th>\n",
       "      <th>Transmission</th>\n",
       "      <th>Owner</th>\n",
       "      <th>vehicle_age</th>\n",
       "    </tr>\n",
       "  </thead>\n",
       "  <tbody>\n",
       "    <tr>\n",
       "      <th>0</th>\n",
       "      <td>ritz</td>\n",
       "      <td>2014</td>\n",
       "      <td>3.35</td>\n",
       "      <td>5.59</td>\n",
       "      <td>27000</td>\n",
       "      <td>Petrol</td>\n",
       "      <td>Dealer</td>\n",
       "      <td>Manual</td>\n",
       "      <td>0</td>\n",
       "      <td>7</td>\n",
       "    </tr>\n",
       "    <tr>\n",
       "      <th>1</th>\n",
       "      <td>sx4</td>\n",
       "      <td>2013</td>\n",
       "      <td>4.75</td>\n",
       "      <td>9.54</td>\n",
       "      <td>43000</td>\n",
       "      <td>Diesel</td>\n",
       "      <td>Dealer</td>\n",
       "      <td>Manual</td>\n",
       "      <td>0</td>\n",
       "      <td>8</td>\n",
       "    </tr>\n",
       "    <tr>\n",
       "      <th>2</th>\n",
       "      <td>ciaz</td>\n",
       "      <td>2017</td>\n",
       "      <td>7.25</td>\n",
       "      <td>9.85</td>\n",
       "      <td>6900</td>\n",
       "      <td>Petrol</td>\n",
       "      <td>Dealer</td>\n",
       "      <td>Manual</td>\n",
       "      <td>0</td>\n",
       "      <td>4</td>\n",
       "    </tr>\n",
       "    <tr>\n",
       "      <th>3</th>\n",
       "      <td>wagon r</td>\n",
       "      <td>2011</td>\n",
       "      <td>2.85</td>\n",
       "      <td>4.15</td>\n",
       "      <td>5200</td>\n",
       "      <td>Petrol</td>\n",
       "      <td>Dealer</td>\n",
       "      <td>Manual</td>\n",
       "      <td>0</td>\n",
       "      <td>10</td>\n",
       "    </tr>\n",
       "    <tr>\n",
       "      <th>4</th>\n",
       "      <td>swift</td>\n",
       "      <td>2014</td>\n",
       "      <td>4.60</td>\n",
       "      <td>6.87</td>\n",
       "      <td>42450</td>\n",
       "      <td>Diesel</td>\n",
       "      <td>Dealer</td>\n",
       "      <td>Manual</td>\n",
       "      <td>0</td>\n",
       "      <td>7</td>\n",
       "    </tr>\n",
       "  </tbody>\n",
       "</table>\n",
       "</div>"
      ],
      "text/plain": [
       "  Car_Name  Year  Selling_Price  Present_Price  Kms_Driven Fuel_Type Seller_Type Transmission  Owner  vehicle_age\n",
       "0     ritz  2014           3.35           5.59       27000    Petrol      Dealer       Manual      0            7\n",
       "1      sx4  2013           4.75           9.54       43000    Diesel      Dealer       Manual      0            8\n",
       "2     ciaz  2017           7.25           9.85        6900    Petrol      Dealer       Manual      0            4\n",
       "3  wagon r  2011           2.85           4.15        5200    Petrol      Dealer       Manual      0           10\n",
       "4    swift  2014           4.60           6.87       42450    Diesel      Dealer       Manual      0            7"
      ]
     },
     "execution_count": 117,
     "metadata": {},
     "output_type": "execute_result"
    }
   ],
   "source": [
    "df.head()"
   ]
  },
  {
   "cell_type": "code",
   "execution_count": 118,
   "metadata": {},
   "outputs": [
    {
     "data": {
      "text/plain": [
       "city                         26\n",
       "corolla altis                16\n",
       "verna                        14\n",
       "fortuner                     11\n",
       "brio                         10\n",
       "ciaz                          9\n",
       "innova                        9\n",
       "i20                           9\n",
       "grand i10                     8\n",
       "jazz                          7\n",
       "amaze                         7\n",
       "Royal Enfield Classic 350     7\n",
       "ertiga                        6\n",
       "eon                           6\n",
       "sx4                           6\n",
       "alto k10                      5\n",
       "i10                           5\n",
       "swift                         5\n",
       "Bajaj Pulsar 150              4\n",
       "Royal Enfield Thunder 350     4\n",
       "ritz                          4\n",
       "wagon r                       4\n",
       "etios liva                    4\n",
       "dzire                         4\n",
       "xcent                         3\n",
       "etios cross                   3\n",
       "Royal Enfield Thunder 500     3\n",
       "TVS Apache RTR 160            3\n",
       "Yamaha FZ S V 2.0             3\n",
       "creta                         3\n",
       "Honda CB Hornet 160R          3\n",
       "etios g                       3\n",
       "Bajaj Avenger 220             3\n",
       "Bajaj Pulsar NS 200           3\n",
       "Bajaj Discover 125            2\n",
       "Bajaj Pulsar 220 F            2\n",
       "TVS Apache RTR 180            2\n",
       "Yamaha FZ  v 2.0              2\n",
       "Honda Activa 4G               2\n",
       "Hero Extreme                  2\n",
       "Honda CB twister              2\n",
       "Hero Splender iSmart          2\n",
       "Activa 3g                     2\n",
       "Hero Passion Pro              2\n",
       "Honda CB Shine                2\n",
       "Bajaj Avenger 220 dtsi        2\n",
       "Honda CBR 150                 2\n",
       "elantra                       2\n",
       "Royal Enfield Classic 500     2\n",
       "KTM RC200                     2\n",
       "Honda Karizma                 2\n",
       "Bajaj  ct 100                 1\n",
       "Hero  Ignitor Disc            1\n",
       "TVS Jupyter                   1\n",
       "Hero Honda Passion Pro        1\n",
       "Hero Splender Plus            1\n",
       "vitara brezza                 1\n",
       "Bajaj Discover 100            1\n",
       "Suzuki Access 125             1\n",
       "s cross                       1\n",
       "alto 800                      1\n",
       "baleno                        1\n",
       "TVS Wego                      1\n",
       "Hero  CBZ Xtreme              1\n",
       "Hero Glamour                  1\n",
       "ignis                         1\n",
       "Hero Super Splendor           1\n",
       "800                           1\n",
       "Hero Hunk                     1\n",
       "Honda Activa 125              1\n",
       "corolla                       1\n",
       "Hero Honda CBZ extreme        1\n",
       "Yamaha FZ 16                  1\n",
       "camry                         1\n",
       "land cruiser                  1\n",
       "UM Renegade Mojave            1\n",
       "Bajaj Dominar 400             1\n",
       "KTM RC390                     1\n",
       "Hyosung GT250R                1\n",
       "KTM 390 Duke                  1\n",
       "Mahindra Mojo XT300           1\n",
       "Bajaj Pulsar RS200            1\n",
       "Royal Enfield Bullet 350      1\n",
       "Bajaj Avenger 150             1\n",
       "Bajaj Avenger 150 street      1\n",
       "Honda CB Unicorn              1\n",
       "omni                          1\n",
       "Bajaj Pulsar  NS 200          1\n",
       "Hero Passion X pro            1\n",
       "Yamaha Fazer                  1\n",
       "TVS Sport                     1\n",
       "Honda Dream Yuga              1\n",
       "etios gd                      1\n",
       "Honda CB Trigger              1\n",
       "Yamaha FZ S                   1\n",
       "Bajaj Pulsar 135 LS           1\n",
       "Activa 4g                     1\n",
       "Bajaj Avenger Street 220      1\n",
       "Name: Car_Name, dtype: int64"
      ]
     },
     "execution_count": 118,
     "metadata": {},
     "output_type": "execute_result"
    }
   ],
   "source": [
    "df.Car_Name.value_counts()"
   ]
  },
  {
   "cell_type": "code",
   "execution_count": 119,
   "metadata": {},
   "outputs": [],
   "source": [
    "df.drop(columns=[\"Car_Name\", \"Year\"], inplace=True)"
   ]
  },
  {
   "cell_type": "code",
   "execution_count": 120,
   "metadata": {},
   "outputs": [],
   "source": [
    "df=pd.get_dummies(df, drop_first=True)"
   ]
  },
  {
   "cell_type": "code",
   "execution_count": 121,
   "metadata": {},
   "outputs": [
    {
     "data": {
      "text/html": [
       "<div>\n",
       "<style scoped>\n",
       "    .dataframe tbody tr th:only-of-type {\n",
       "        vertical-align: middle;\n",
       "    }\n",
       "\n",
       "    .dataframe tbody tr th {\n",
       "        vertical-align: top;\n",
       "    }\n",
       "\n",
       "    .dataframe thead th {\n",
       "        text-align: right;\n",
       "    }\n",
       "</style>\n",
       "<table border=\"1\" class=\"dataframe\">\n",
       "  <thead>\n",
       "    <tr style=\"text-align: right;\">\n",
       "      <th></th>\n",
       "      <th>Selling_Price</th>\n",
       "      <th>Present_Price</th>\n",
       "      <th>Kms_Driven</th>\n",
       "      <th>Owner</th>\n",
       "      <th>vehicle_age</th>\n",
       "      <th>Fuel_Type_Diesel</th>\n",
       "      <th>Fuel_Type_Petrol</th>\n",
       "      <th>Seller_Type_Individual</th>\n",
       "      <th>Transmission_Manual</th>\n",
       "    </tr>\n",
       "  </thead>\n",
       "  <tbody>\n",
       "    <tr>\n",
       "      <th>0</th>\n",
       "      <td>3.35</td>\n",
       "      <td>5.59</td>\n",
       "      <td>27000</td>\n",
       "      <td>0</td>\n",
       "      <td>7</td>\n",
       "      <td>0</td>\n",
       "      <td>1</td>\n",
       "      <td>0</td>\n",
       "      <td>1</td>\n",
       "    </tr>\n",
       "    <tr>\n",
       "      <th>1</th>\n",
       "      <td>4.75</td>\n",
       "      <td>9.54</td>\n",
       "      <td>43000</td>\n",
       "      <td>0</td>\n",
       "      <td>8</td>\n",
       "      <td>1</td>\n",
       "      <td>0</td>\n",
       "      <td>0</td>\n",
       "      <td>1</td>\n",
       "    </tr>\n",
       "    <tr>\n",
       "      <th>2</th>\n",
       "      <td>7.25</td>\n",
       "      <td>9.85</td>\n",
       "      <td>6900</td>\n",
       "      <td>0</td>\n",
       "      <td>4</td>\n",
       "      <td>0</td>\n",
       "      <td>1</td>\n",
       "      <td>0</td>\n",
       "      <td>1</td>\n",
       "    </tr>\n",
       "    <tr>\n",
       "      <th>3</th>\n",
       "      <td>2.85</td>\n",
       "      <td>4.15</td>\n",
       "      <td>5200</td>\n",
       "      <td>0</td>\n",
       "      <td>10</td>\n",
       "      <td>0</td>\n",
       "      <td>1</td>\n",
       "      <td>0</td>\n",
       "      <td>1</td>\n",
       "    </tr>\n",
       "    <tr>\n",
       "      <th>4</th>\n",
       "      <td>4.60</td>\n",
       "      <td>6.87</td>\n",
       "      <td>42450</td>\n",
       "      <td>0</td>\n",
       "      <td>7</td>\n",
       "      <td>1</td>\n",
       "      <td>0</td>\n",
       "      <td>0</td>\n",
       "      <td>1</td>\n",
       "    </tr>\n",
       "  </tbody>\n",
       "</table>\n",
       "</div>"
      ],
      "text/plain": [
       "   Selling_Price  Present_Price  Kms_Driven  Owner  vehicle_age  Fuel_Type_Diesel  Fuel_Type_Petrol  Seller_Type_Individual  Transmission_Manual\n",
       "0           3.35           5.59       27000      0            7                 0                 1                       0                    1\n",
       "1           4.75           9.54       43000      0            8                 1                 0                       0                    1\n",
       "2           7.25           9.85        6900      0            4                 0                 1                       0                    1\n",
       "3           2.85           4.15        5200      0           10                 0                 1                       0                    1\n",
       "4           4.60           6.87       42450      0            7                 1                 0                       0                    1"
      ]
     },
     "execution_count": 121,
     "metadata": {},
     "output_type": "execute_result"
    }
   ],
   "source": [
    "df.head()"
   ]
  },
  {
   "cell_type": "code",
   "execution_count": 122,
   "metadata": {},
   "outputs": [],
   "source": [
    "X=df.drop(\"Selling_Price\", axis=1)\n",
    "y=df.Selling_Price"
   ]
  },
  {
   "cell_type": "code",
   "execution_count": 123,
   "metadata": {},
   "outputs": [
    {
     "name": "stdout",
     "output_type": "stream",
     "text": [
      "Train features shape :  (240, 8)\n",
      "Train target shape   :  (240,)\n",
      "Test features shape  :  (61, 8)\n",
      "Test target shape    :  (61,)\n"
     ]
    }
   ],
   "source": [
    "from sklearn.model_selection import train_test_split\n",
    "X_train,X_test,y_train,y_test=train_test_split(X,y,test_size=0.2, random_state=5)\n",
    "print(\"Train features shape : \", X_train.shape)\n",
    "print(\"Train target shape   : \", y_train.shape)\n",
    "print(\"Test features shape  : \", X_test.shape)\n",
    "print(\"Test target shape    : \", y_test.shape)\n"
   ]
  },
  {
   "cell_type": "code",
   "execution_count": 124,
   "metadata": {},
   "outputs": [],
   "source": [
    "from sklearn.linear_model import LinearRegression\n",
    "model=LinearRegression(normalize=True).fit(X_train,y_train)"
   ]
  },
  {
   "cell_type": "code",
   "execution_count": 125,
   "metadata": {},
   "outputs": [
    {
     "data": {
      "text/plain": [
       "array([ 4.45257970e-01, -1.87067298e-05, -8.13577578e-01, -3.19047765e-01,\n",
       "        2.61924627e+00,  6.06486867e-01, -1.22016745e+00, -1.00868282e+00])"
      ]
     },
     "execution_count": 125,
     "metadata": {},
     "output_type": "execute_result"
    }
   ],
   "source": [
    "model.coef_"
   ]
  },
  {
   "cell_type": "code",
   "execution_count": 126,
   "metadata": {},
   "outputs": [
    {
     "name": "stdout",
     "output_type": "stream",
     "text": [
      "Model intercept  :  4.604429051576995 \n",
      "\n",
      "Present_Price :  0.4452579698976288\n",
      "Kms_Driven :  -1.8706729757021786e-05\n",
      "Owner :  -0.8135775776586688\n",
      "vehicle_age :  -0.3190477645588866\n",
      "Fuel_Type_Diesel :  2.6192462729450954\n",
      "Fuel_Type_Petrol :  0.606486866791333\n",
      "Seller_Type_Individual :  -1.2201674460429672\n",
      "Transmission_Manual :  -1.0086828216162718\n"
     ]
    }
   ],
   "source": [
    "print(\"Model intercept  : \", model.intercept_, \"\\n\")\n",
    "\n",
    "for i in range(len(X.columns)):\n",
    "    print(X.columns[i], \": \", model.coef_[i])"
   ]
  },
  {
   "cell_type": "code",
   "execution_count": 127,
   "metadata": {},
   "outputs": [
    {
     "data": {
      "text/html": [
       "<div>\n",
       "<style scoped>\n",
       "    .dataframe tbody tr th:only-of-type {\n",
       "        vertical-align: middle;\n",
       "    }\n",
       "\n",
       "    .dataframe tbody tr th {\n",
       "        vertical-align: top;\n",
       "    }\n",
       "\n",
       "    .dataframe thead th {\n",
       "        text-align: right;\n",
       "    }\n",
       "</style>\n",
       "<table border=\"1\" class=\"dataframe\">\n",
       "  <thead>\n",
       "    <tr style=\"text-align: right;\">\n",
       "      <th></th>\n",
       "      <th>Coefficient</th>\n",
       "    </tr>\n",
       "  </thead>\n",
       "  <tbody>\n",
       "    <tr>\n",
       "      <th>Present_Price</th>\n",
       "      <td>0.445258</td>\n",
       "    </tr>\n",
       "    <tr>\n",
       "      <th>Kms_Driven</th>\n",
       "      <td>-0.000019</td>\n",
       "    </tr>\n",
       "    <tr>\n",
       "      <th>Owner</th>\n",
       "      <td>-0.813578</td>\n",
       "    </tr>\n",
       "    <tr>\n",
       "      <th>vehicle_age</th>\n",
       "      <td>-0.319048</td>\n",
       "    </tr>\n",
       "    <tr>\n",
       "      <th>Fuel_Type_Diesel</th>\n",
       "      <td>2.619246</td>\n",
       "    </tr>\n",
       "    <tr>\n",
       "      <th>Fuel_Type_Petrol</th>\n",
       "      <td>0.606487</td>\n",
       "    </tr>\n",
       "    <tr>\n",
       "      <th>Seller_Type_Individual</th>\n",
       "      <td>-1.220167</td>\n",
       "    </tr>\n",
       "    <tr>\n",
       "      <th>Transmission_Manual</th>\n",
       "      <td>-1.008683</td>\n",
       "    </tr>\n",
       "  </tbody>\n",
       "</table>\n",
       "</div>"
      ],
      "text/plain": [
       "                        Coefficient\n",
       "Present_Price              0.445258\n",
       "Kms_Driven                -0.000019\n",
       "Owner                     -0.813578\n",
       "vehicle_age               -0.319048\n",
       "Fuel_Type_Diesel           2.619246\n",
       "Fuel_Type_Petrol           0.606487\n",
       "Seller_Type_Individual    -1.220167\n",
       "Transmission_Manual       -1.008683"
      ]
     },
     "execution_count": 127,
     "metadata": {},
     "output_type": "execute_result"
    }
   ],
   "source": [
    "coeff_df=pd.DataFrame(model.coef_, X.columns, columns=[\"Coefficient\"])\n",
    "coeff_df"
   ]
  },
  {
   "cell_type": "code",
   "execution_count": 128,
   "metadata": {},
   "outputs": [],
   "source": [
    "from sklearn.metrics import r2_score, mean_absolute_error, mean_squared_error"
   ]
  },
  {
   "cell_type": "code",
   "execution_count": 129,
   "metadata": {},
   "outputs": [],
   "source": [
    "y_pred=model.predict(X_test)"
   ]
  },
  {
   "cell_type": "code",
   "execution_count": 130,
   "metadata": {},
   "outputs": [
    {
     "data": {
      "text/plain": [
       "array([10.70729552, 10.87520713,  4.43096899,  5.91337788,  2.54941855,\n",
       "        9.03674575,  7.2737809 ,  1.49360032, 16.02286635,  4.74188631,\n",
       "        6.7140433 ,  6.40320371,  3.4644454 ,  3.4148824 , -0.60954639,\n",
       "        4.17855023,  9.09429896, -0.30209302,  9.1878139 ,  1.18733586,\n",
       "        7.5000935 , 18.19046601, 19.54269265,  0.21434982,  2.15321632,\n",
       "        4.76671337,  4.95716413,  6.82822836,  5.23694236,  5.48340774,\n",
       "        4.36427226,  7.93602233,  5.74539229, -0.54343788,  0.66628503,\n",
       "        7.00623246,  7.3790224 ,  5.4235689 ,  1.17465734,  1.16263268,\n",
       "        2.06339611,  5.1531104 , 14.03667284, -9.2787032 ,  1.39494051,\n",
       "        3.97812269, -0.91681301,  8.44163201,  4.34565296,  4.84278586,\n",
       "        5.18366168, 16.39104119,  0.85271469,  1.65187499,  1.6335204 ,\n",
       "       -1.42292807,  2.85945813,  0.66521417, -1.75047375,  1.6120861 ,\n",
       "        0.6862596 ])"
      ]
     },
     "execution_count": 130,
     "metadata": {},
     "output_type": "execute_result"
    }
   ],
   "source": [
    "y_pred"
   ]
  },
  {
   "cell_type": "code",
   "execution_count": 131,
   "metadata": {},
   "outputs": [],
   "source": [
    "rmse=(np.sqrt(mean_squared_error(y_test,y_pred)))\n",
    "mae=mean_absolute_error(y_test,y_pred)\n",
    "R2_score=r2_score(y_test,y_pred)"
   ]
  },
  {
   "cell_type": "code",
   "execution_count": 132,
   "metadata": {},
   "outputs": [
    {
     "name": "stdout",
     "output_type": "stream",
     "text": [
      "Model testing performance:\n",
      "--------------------------\n",
      "RMSE is            1.9460540138874811\n",
      "MAE is             1.1811769157076812\n",
      "R2 score is         0.8589039971923136\n"
     ]
    }
   ],
   "source": [
    "print(\"Model testing performance:\")\n",
    "print(\"--------------------------\")\n",
    "print('RMSE is {:29}'.format(rmse))\n",
    "print(\"MAE is {:30}\".format(mae))\n",
    "print('R2 score is {:26}'.format(R2_score))"
   ]
  },
  {
   "cell_type": "code",
   "execution_count": 133,
   "metadata": {},
   "outputs": [
    {
     "data": {
      "image/png": "[encoded data removed]",
      "text/plain": [
       "<Figure size 648x360 with 1 Axes>"
      ]
     },
     "metadata": {},
     "output_type": "display_data"
    },
    {
     "data": {
      "text/plain": [
       "<AxesSubplot:title={'center':'Prediction Error for LinearRegression'}, xlabel='$y$', ylabel='$\\\\hat{y}$'>"
      ]
     },
     "execution_count": 133,
     "metadata": {},
     "output_type": "execute_result"
    }
   ],
   "source": [
    "from yellowbrick.regressor import PredictionError\n",
    "# Instantiate the linear model and visualizer\n",
    "lm= LinearRegression(normalize=True)\n",
    "visualizer = PredictionError(model)\n",
    "visualizer.fit(X_train, y_train)  # Fit the training data to the visualizer\n",
    "visualizer.score(X_test, y_test)  # Evaluate the model on the test data\n",
    "visualizer.show() "
   ]
  },
  {
   "cell_type": "code",
   "execution_count": 134,
   "metadata": {},
   "outputs": [
    {
     "data": {
      "text/html": [
       "<div>\n",
       "<style scoped>\n",
       "    .dataframe tbody tr th:only-of-type {\n",
       "        vertical-align: middle;\n",
       "    }\n",
       "\n",
       "    .dataframe tbody tr th {\n",
       "        vertical-align: top;\n",
       "    }\n",
       "\n",
       "    .dataframe thead th {\n",
       "        text-align: right;\n",
       "    }\n",
       "</style>\n",
       "<table border=\"1\" class=\"dataframe\">\n",
       "  <thead>\n",
       "    <tr style=\"text-align: right;\">\n",
       "      <th></th>\n",
       "      <th>Actual</th>\n",
       "      <th>Predicted</th>\n",
       "    </tr>\n",
       "  </thead>\n",
       "  <tbody>\n",
       "    <tr>\n",
       "      <th>67</th>\n",
       "      <td>9.25</td>\n",
       "      <td>10.707296</td>\n",
       "    </tr>\n",
       "    <tr>\n",
       "      <th>99</th>\n",
       "      <td>9.65</td>\n",
       "      <td>10.875207</td>\n",
       "    </tr>\n",
       "    <tr>\n",
       "      <th>266</th>\n",
       "      <td>3.65</td>\n",
       "      <td>4.430969</td>\n",
       "    </tr>\n",
       "    <tr>\n",
       "      <th>222</th>\n",
       "      <td>6.00</td>\n",
       "      <td>5.913378</td>\n",
       "    </tr>\n",
       "    <tr>\n",
       "      <th>24</th>\n",
       "      <td>2.90</td>\n",
       "      <td>2.549419</td>\n",
       "    </tr>\n",
       "    <tr>\n",
       "      <th>282</th>\n",
       "      <td>8.25</td>\n",
       "      <td>9.036746</td>\n",
       "    </tr>\n",
       "    <tr>\n",
       "      <th>279</th>\n",
       "      <td>6.25</td>\n",
       "      <td>7.273781</td>\n",
       "    </tr>\n",
       "    <tr>\n",
       "      <th>138</th>\n",
       "      <td>0.60</td>\n",
       "      <td>1.493600</td>\n",
       "    </tr>\n",
       "    <tr>\n",
       "      <th>50</th>\n",
       "      <td>14.90</td>\n",
       "      <td>16.022866</td>\n",
       "    </tr>\n",
       "    <tr>\n",
       "      <th>234</th>\n",
       "      <td>5.50</td>\n",
       "      <td>4.741886</td>\n",
       "    </tr>\n",
       "    <tr>\n",
       "      <th>43</th>\n",
       "      <td>5.50</td>\n",
       "      <td>6.714043</td>\n",
       "    </tr>\n",
       "    <tr>\n",
       "      <th>265</th>\n",
       "      <td>6.50</td>\n",
       "      <td>6.403204</td>\n",
       "    </tr>\n",
       "    <tr>\n",
       "      <th>88</th>\n",
       "      <td>3.45</td>\n",
       "      <td>3.464445</td>\n",
       "    </tr>\n",
       "    <tr>\n",
       "      <th>84</th>\n",
       "      <td>3.49</td>\n",
       "      <td>3.414882</td>\n",
       "    </tr>\n",
       "    <tr>\n",
       "      <th>163</th>\n",
       "      <td>0.45</td>\n",
       "      <td>-0.609546</td>\n",
       "    </tr>\n",
       "    <tr>\n",
       "      <th>220</th>\n",
       "      <td>3.50</td>\n",
       "      <td>4.178550</td>\n",
       "    </tr>\n",
       "    <tr>\n",
       "      <th>98</th>\n",
       "      <td>7.05</td>\n",
       "      <td>9.094299</td>\n",
       "    </tr>\n",
       "    <tr>\n",
       "      <th>176</th>\n",
       "      <td>0.35</td>\n",
       "      <td>-0.302093</td>\n",
       "    </tr>\n",
       "    <tr>\n",
       "      <th>60</th>\n",
       "      <td>6.95</td>\n",
       "      <td>9.187814</td>\n",
       "    </tr>\n",
       "    <tr>\n",
       "      <th>171</th>\n",
       "      <td>0.40</td>\n",
       "      <td>1.187336</td>\n",
       "    </tr>\n",
       "    <tr>\n",
       "      <th>90</th>\n",
       "      <td>3.80</td>\n",
       "      <td>7.500093</td>\n",
       "    </tr>\n",
       "    <tr>\n",
       "      <th>93</th>\n",
       "      <td>23.00</td>\n",
       "      <td>18.190466</td>\n",
       "    </tr>\n",
       "    <tr>\n",
       "      <th>62</th>\n",
       "      <td>18.75</td>\n",
       "      <td>19.542693</td>\n",
       "    </tr>\n",
       "    <tr>\n",
       "      <th>123</th>\n",
       "      <td>1.00</td>\n",
       "      <td>0.214350</td>\n",
       "    </tr>\n",
       "    <tr>\n",
       "      <th>42</th>\n",
       "      <td>1.95</td>\n",
       "      <td>2.153216</td>\n",
       "    </tr>\n",
       "  </tbody>\n",
       "</table>\n",
       "</div>"
      ],
      "text/plain": [
       "     Actual  Predicted\n",
       "67     9.25  10.707296\n",
       "99     9.65  10.875207\n",
       "266    3.65   4.430969\n",
       "222    6.00   5.913378\n",
       "24     2.90   2.549419\n",
       "282    8.25   9.036746\n",
       "279    6.25   7.273781\n",
       "138    0.60   1.493600\n",
       "50    14.90  16.022866\n",
       "234    5.50   4.741886\n",
       "43     5.50   6.714043\n",
       "265    6.50   6.403204\n",
       "88     3.45   3.464445\n",
       "84     3.49   3.414882\n",
       "163    0.45  -0.609546\n",
       "220    3.50   4.178550\n",
       "98     7.05   9.094299\n",
       "176    0.35  -0.302093\n",
       "60     6.95   9.187814\n",
       "171    0.40   1.187336\n",
       "90     3.80   7.500093\n",
       "93    23.00  18.190466\n",
       "62    18.75  19.542693\n",
       "123    1.00   0.214350\n",
       "42     1.95   2.153216"
      ]
     },
     "execution_count": 134,
     "metadata": {},
     "output_type": "execute_result"
    }
   ],
   "source": [
    "results = pd.DataFrame({'Actual': y_test, 'Predicted': y_pred})\n",
    "\n",
    "result_sample = results.head(25)\n",
    "result_sample"
   ]
  },
  {
   "cell_type": "code",
   "execution_count": 135,
   "metadata": {},
   "outputs": [
    {
     "data": {
      "image/png": "[encoded data removed]",
      "text/plain": [
       "<Figure size 1080x648 with 1 Axes>"
      ]
     },
     "metadata": {},
     "output_type": "display_data"
    }
   ],
   "source": [
    "result_sample.plot(kind='bar',figsize=(15,9))\n",
    "plt.grid(linestyle=':', linewidth='0.5', color='green')\n",
    "plt.show()"
   ]
  },
  {
   "cell_type": "code",
   "execution_count": 136,
   "metadata": {},
   "outputs": [],
   "source": [
    "def show_metrics(y_test, y_pred):\n",
    "    rmse=(np.sqrt(mean_squared_error(y_test,y_pred)))\n",
    "    mae=mean_absolute_error(y_test,y_pred)\n",
    "    R2_score=r2_score(y_test,y_pred)\n",
    "    print(\"Model testing performance:\")\n",
    "    print(\"--------------------------\")\n",
    "    print('RMSE is {:29}'.format(rmse))\n",
    "    print(\"MAE is {:30}\".format(mae))\n",
    "    print('R2 score is {:26}'.format(R2_score))"
   ]
  },
  {
   "cell_type": "code",
   "execution_count": 137,
   "metadata": {},
   "outputs": [],
   "source": [
    "from sklearn.linear_model import Ridge, RidgeCV\n",
    "from sklearn.preprocessing import MinMaxScaler"
   ]
  },
  {
   "cell_type": "code",
   "execution_count": 138,
   "metadata": {},
   "outputs": [],
   "source": [
    "scaler=MinMaxScaler()\n",
    "scaler.fit(X_train)\n",
    "X_train=scaler.transform(X_train)\n",
    "X_test=scaler.transform(X_test)"
   ]
  },
  {
   "cell_type": "code",
   "execution_count": 139,
   "metadata": {},
   "outputs": [
    {
     "data": {
      "text/plain": [
       "array([[0.07780668, 0.28566118, 0.        , ..., 1.        , 0.        ,\n",
       "        1.        ],\n",
       "       [0.14390984, 0.13516706, 0.        , ..., 1.        , 0.        ,\n",
       "        1.        ],\n",
       "       [0.15680537, 0.20251765, 0.        , ..., 0.        , 0.        ,\n",
       "        1.        ],\n",
       "       ...,\n",
       "       [0.01246207, 0.12      , 0.        , ..., 1.        , 1.        ,\n",
       "        1.        ],\n",
       "       [0.00270915, 0.25647059, 0.        , ..., 1.        , 1.        ,\n",
       "        1.        ],\n",
       "       [0.07379714, 0.05637176, 0.        , ..., 1.        , 0.        ,\n",
       "        1.        ]])"
      ]
     },
     "execution_count": 139,
     "metadata": {},
     "output_type": "execute_result"
    }
   ],
   "source": [
    "X_train"
   ]
  },
  {
   "cell_type": "code",
   "execution_count": 140,
   "metadata": {},
   "outputs": [],
   "source": [
    "ridge_model = Ridge()\n",
    "ridge_model.fit(X_train, y_train)\n",
    "y_pred = ridge_model.predict(X_test)"
   ]
  },
  {
   "cell_type": "code",
   "execution_count": 141,
   "metadata": {},
   "outputs": [
    {
     "name": "stdout",
     "output_type": "stream",
     "text": [
      "Model testing performance:\n",
      "--------------------------\n",
      "RMSE is             1.902659457384942\n",
      "MAE is             1.1854250171898177\n",
      "R2 score is         0.8651263662232391\n"
     ]
    }
   ],
   "source": [
    "show_metrics(y_test,y_pred)"
   ]
  },
  {
   "cell_type": "code",
   "execution_count": 142,
   "metadata": {},
   "outputs": [
    {
     "data": {
      "text/plain": [
       "1.0"
      ]
     },
     "execution_count": 142,
     "metadata": {},
     "output_type": "execute_result"
    }
   ],
   "source": [
    "ridge_model.alpha"
   ]
  },
  {
   "cell_type": "code",
   "execution_count": 143,
   "metadata": {},
   "outputs": [
    {
     "data": {
      "text/plain": [
       "array([ 0.1       ,  0.3010101 ,  0.5020202 ,  0.7030303 ,  0.9040404 ,\n",
       "        1.10505051,  1.30606061,  1.50707071,  1.70808081,  1.90909091,\n",
       "        2.11010101,  2.31111111,  2.51212121,  2.71313131,  2.91414141,\n",
       "        3.11515152,  3.31616162,  3.51717172,  3.71818182,  3.91919192,\n",
       "        4.12020202,  4.32121212,  4.52222222,  4.72323232,  4.92424242,\n",
       "        5.12525253,  5.32626263,  5.52727273,  5.72828283,  5.92929293,\n",
       "        6.13030303,  6.33131313,  6.53232323,  6.73333333,  6.93434343,\n",
       "        7.13535354,  7.33636364,  7.53737374,  7.73838384,  7.93939394,\n",
       "        8.14040404,  8.34141414,  8.54242424,  8.74343434,  8.94444444,\n",
       "        9.14545455,  9.34646465,  9.54747475,  9.74848485,  9.94949495,\n",
       "       10.15050505, 10.35151515, 10.55252525, 10.75353535, 10.95454545,\n",
       "       11.15555556, 11.35656566, 11.55757576, 11.75858586, 11.95959596,\n",
       "       12.16060606, 12.36161616, 12.56262626, 12.76363636, 12.96464646,\n",
       "       13.16565657, 13.36666667, 13.56767677, 13.76868687, 13.96969697,\n",
       "       14.17070707, 14.37171717, 14.57272727, 14.77373737, 14.97474747,\n",
       "       15.17575758, 15.37676768, 15.57777778, 15.77878788, 15.97979798,\n",
       "       16.18080808, 16.38181818, 16.58282828, 16.78383838, 16.98484848,\n",
       "       17.18585859, 17.38686869, 17.58787879, 17.78888889, 17.98989899,\n",
       "       18.19090909, 18.39191919, 18.59292929, 18.79393939, 18.99494949,\n",
       "       19.1959596 , 19.3969697 , 19.5979798 , 19.7989899 , 20.        ])"
      ]
     },
     "execution_count": 143,
     "metadata": {},
     "output_type": "execute_result"
    }
   ],
   "source": [
    "alpha_space = np.linspace(0.1, 20, 100)\n",
    "alpha_space"
   ]
  },
  {
   "cell_type": "code",
   "execution_count": 144,
   "metadata": {},
   "outputs": [
    {
     "data": {
      "text/plain": [
       "RidgeCV(alphas=array([ 0.1       ,  0.3010101 ,  0.5020202 ,  0.7030303 ,  0.9040404 ,\n",
       "        1.10505051,  1.30606061,  1.50707071,  1.70808081,  1.90909091,\n",
       "        2.11010101,  2.31111111,  2.51212121,  2.71313131,  2.91414141,\n",
       "        3.11515152,  3.31616162,  3.51717172,  3.71818182,  3.91919192,\n",
       "        4.12020202,  4.32121212,  4.52222222,  4.72323232,  4.92424242,\n",
       "        5.12525253,  5.32626263,  5.52727273,  5.72828283,  5.92929293,\n",
       "        6.1303030...\n",
       "       14.17070707, 14.37171717, 14.57272727, 14.77373737, 14.97474747,\n",
       "       15.17575758, 15.37676768, 15.57777778, 15.77878788, 15.97979798,\n",
       "       16.18080808, 16.38181818, 16.58282828, 16.78383838, 16.98484848,\n",
       "       17.18585859, 17.38686869, 17.58787879, 17.78888889, 17.98989899,\n",
       "       18.19090909, 18.39191919, 18.59292929, 18.79393939, 18.99494949,\n",
       "       19.1959596 , 19.3969697 , 19.5979798 , 19.7989899 , 20.        ]),\n",
       "        cv=10)"
      ]
     },
     "execution_count": 144,
     "metadata": {},
     "output_type": "execute_result"
    }
   ],
   "source": [
    "ridgecv = RidgeCV(alphas=alpha_space, cv=10)\n",
    "ridgecv.fit(X_train, y_train)"
   ]
  },
  {
   "cell_type": "code",
   "execution_count": 145,
   "metadata": {},
   "outputs": [
    {
     "data": {
      "text/plain": [
       "0.1"
      ]
     },
     "execution_count": 145,
     "metadata": {},
     "output_type": "execute_result"
    }
   ],
   "source": [
    "ridgecv.alpha_"
   ]
  },
  {
   "cell_type": "code",
   "execution_count": 146,
   "metadata": {},
   "outputs": [
    {
     "data": {
      "text/plain": [
       "RidgeCV(alphas=array([ 0.01      ,  0.11090909,  0.21181818,  0.31272727,  0.41363636,\n",
       "        0.51454545,  0.61545455,  0.71636364,  0.81727273,  0.91818182,\n",
       "        1.01909091,  1.12      ,  1.22090909,  1.32181818,  1.42272727,\n",
       "        1.52363636,  1.62454545,  1.72545455,  1.82636364,  1.92727273,\n",
       "        2.02818182,  2.12909091,  2.23      ,  2.33090909,  2.43181818,\n",
       "        2.53272727,  2.63363636,  2.73454545,  2.83545455,  2.93636364,\n",
       "        3.03727273,  3.138...\n",
       "        6.56909091,  6.67      ,  6.77090909,  6.87181818,  6.97272727,\n",
       "        7.07363636,  7.17454545,  7.27545455,  7.37636364,  7.47727273,\n",
       "        7.57818182,  7.67909091,  7.78      ,  7.88090909,  7.98181818,\n",
       "        8.08272727,  8.18363636,  8.28454545,  8.38545455,  8.48636364,\n",
       "        8.58727273,  8.68818182,  8.78909091,  8.89      ,  8.99090909,\n",
       "        9.09181818,  9.19272727,  9.29363636,  9.39454545,  9.49545455,\n",
       "        9.59636364,  9.69727273,  9.79818182,  9.89909091, 10.        ]),\n",
       "        cv=10)"
      ]
     },
     "execution_count": 146,
     "metadata": {},
     "output_type": "execute_result"
    }
   ],
   "source": [
    "alpha_space = np.linspace(0.01, 10, 100)\n",
    "ridgecv = RidgeCV(alphas=alpha_space, cv=10)\n",
    "ridgecv.fit(X_train, y_train)"
   ]
  },
  {
   "cell_type": "code",
   "execution_count": 147,
   "metadata": {},
   "outputs": [
    {
     "data": {
      "text/plain": [
       "0.21181818181818182"
      ]
     },
     "execution_count": 147,
     "metadata": {},
     "output_type": "execute_result"
    }
   ],
   "source": [
    "ridgecv.alpha_"
   ]
  },
  {
   "cell_type": "code",
   "execution_count": 148,
   "metadata": {},
   "outputs": [
    {
     "data": {
      "image/png": "[encoded data removed]",
      "text/plain": [
       "<Figure size 648x360 with 1 Axes>"
      ]
     },
     "metadata": {},
     "output_type": "display_data"
    },
    {
     "data": {
      "text/plain": [
       "<AxesSubplot:title={'center':'Ridge Alpha Error'}, xlabel='alpha', ylabel='error (or score)'>"
      ]
     },
     "execution_count": 148,
     "metadata": {},
     "output_type": "execute_result"
    }
   ],
   "source": [
    "from yellowbrick.regressor import ManualAlphaSelection\n",
    "# Create a list of alphas to cross-validate against\n",
    "alpha_space = np.linspace(0.01, 10, 100)\n",
    "# Instantiate the visualizer\n",
    "visualizer = ManualAlphaSelection(Ridge(),\n",
    "                                  alphas=alpha_space,\n",
    "                                  cv=10)\n",
    "visualizer.fit(X_train, y_train)\n",
    "visualizer.show()"
   ]
  },
  {
   "cell_type": "code",
   "execution_count": 149,
   "metadata": {},
   "outputs": [],
   "source": [
    "y_pred=ridgecv.predict(X_test)"
   ]
  },
  {
   "cell_type": "code",
   "execution_count": 150,
   "metadata": {},
   "outputs": [
    {
     "name": "stdout",
     "output_type": "stream",
     "text": [
      "Model testing performance:\n",
      "--------------------------\n",
      "RMSE is            1.8181292744462774\n",
      "MAE is             1.1382510736753342\n",
      "R2 score is         0.8768443191837143\n"
     ]
    }
   ],
   "source": [
    "show_metrics(y_test,y_pred)"
   ]
  },
  {
   "cell_type": "code",
   "execution_count": 151,
   "metadata": {},
   "outputs": [
    {
     "data": {
      "image/png": "[encoded data removed]",
      "text/plain": [
       "<Figure size 648x360 with 1 Axes>"
      ]
     },
     "metadata": {},
     "output_type": "display_data"
    },
    {
     "data": {
      "text/plain": [
       "<AxesSubplot:title={'center':'Feature Importances of 8 Features using Ridge'}, xlabel='coefficient value'>"
      ]
     },
     "execution_count": 151,
     "metadata": {},
     "output_type": "execute_result"
    }
   ],
   "source": [
    "from yellowbrick.model_selection import FeatureImportances\n",
    "# Load the regression dataset\n",
    "# Title case the feature for better display and create the visualizer\n",
    "labels = list(map(lambda s: s.title(), X.columns))\n",
    "viz = FeatureImportances(ridge_model, labels=labels, relative=False)\n",
    "# Fit and show the feature importances\n",
    "viz.fit(X_train, y_train)\n",
    "viz.show()"
   ]
  },
  {
   "cell_type": "code",
   "execution_count": 152,
   "metadata": {},
   "outputs": [],
   "source": [
    "from sklearn.linear_model import Lasso\n",
    "from sklearn.linear_model import LassoCV"
   ]
  },
  {
   "cell_type": "code",
   "execution_count": 153,
   "metadata": {},
   "outputs": [
    {
     "name": "stdout",
     "output_type": "stream",
     "text": [
      "Model testing performance:\n",
      "--------------------------\n",
      "RMSE is             4.844430603529284\n",
      "MAE is              3.198316612453815\n",
      "R2 score is        0.12563974476813833\n"
     ]
    }
   ],
   "source": [
    "lasso_model = Lasso()\n",
    "lasso_model.fit(X_train, y_train)\n",
    "y_pred = lasso_model.predict(X_test)\n",
    "show_metrics(y_test,y_pred)"
   ]
  },
  {
   "cell_type": "code",
   "execution_count": 154,
   "metadata": {},
   "outputs": [],
   "source": [
    "alpha_space = np.linspace(0.001, 10, 100)\n",
    "lasso_cv_model = LassoCV(alphas = alpha_space, cv = 10).fit(X_train, y_train)"
   ]
  },
  {
   "cell_type": "code",
   "execution_count": 155,
   "metadata": {},
   "outputs": [
    {
     "name": "stdout",
     "output_type": "stream",
     "text": [
      "Model testing performance:\n",
      "--------------------------\n",
      "RMSE is            1.9323214066935646\n",
      "MAE is             1.1726681712627107\n",
      "R2 score is         0.8608882992084927\n"
     ]
    }
   ],
   "source": [
    "y_pred=lasso_cv_model.predict(X_test)\n",
    "show_metrics(y_test,y_pred)"
   ]
  },
  {
   "cell_type": "code",
   "execution_count": 156,
   "metadata": {},
   "outputs": [
    {
     "data": {
      "text/plain": [
       "0.001"
      ]
     },
     "execution_count": 156,
     "metadata": {},
     "output_type": "execute_result"
    }
   ],
   "source": [
    "lasso_cv_model.alpha_"
   ]
  },
  {
   "cell_type": "code",
   "execution_count": 157,
   "metadata": {},
   "outputs": [],
   "source": [
    "def plot_errors(lambdas, train_errors, test_errors, title):\n",
    "    plt.figure(figsize=(16, 9))\n",
    "    plt.plot(lambdas, train_errors, label=\"train\")\n",
    "    plt.plot(lambdas, test_errors, label=\"test\")\n",
    "    plt.xlabel(\"$\\\\lambda$\", fontsize=14)\n",
    "    plt.ylabel(\"MSE\", fontsize=14)\n",
    "    plt.title(title, fontsize=20)\n",
    "    plt.legend(fontsize=14)\n",
    "    plt.show()"
   ]
  },
  {
   "cell_type": "code",
   "execution_count": 158,
   "metadata": {},
   "outputs": [],
   "source": [
    "def evaluate_model(Model, lambdas):\n",
    "    training_errors = [] \n",
    "    testing_errors = [] \n",
    "    for l in lambdas:\n",
    "\n",
    "        model = Model(alpha=l) \n",
    "        model.fit(X_train, y_train)\n",
    "\n",
    "        training_predictions = model.predict(X_train)\n",
    "        training_mse = mean_squared_error(y_train, training_predictions)\n",
    "        training_errors.append(training_mse)\n",
    "\n",
    "        testing_predictions = model.predict(X_test)\n",
    "        testing_mse = mean_squared_error(y_test, testing_predictions)\n",
    "        testing_errors.append(testing_mse)\n",
    "    return training_errors, testing_errors"
   ]
  },
  {
   "cell_type": "code",
   "execution_count": 159,
   "metadata": {},
   "outputs": [
    {
     "data": {
      "image/png": "[encoded data removed]",
      "text/plain": [
       "<Figure size 1152x648 with 1 Axes>"
      ]
     },
     "metadata": {},
     "output_type": "display_data"
    }
   ],
   "source": [
    "lambdas = np.arange(0, 10, step=0.1)\n",
    "lasso_train, lasso_test = evaluate_model(Lasso, lambdas)\n",
    "plot_errors(lambdas, lasso_train, lasso_test, \"Lasso\")"
   ]
  },
  {
   "cell_type": "code",
   "execution_count": null,
   "metadata": {},
   "outputs": [],
   "source": []
  }
 ],
 "metadata": {
  "interpreter": {
   "hash": "78d5379cc5a4e608d385c34b2eb3bb89eeab02a92c9e7d486e469b4c860ee8ca"
  },
  "kernelspec": {
   "display_name": "Python 3.9.7 64-bit",
   "language": "python",
   "name": "python3"
  },
  "language_info": {
   "codemirror_mode": {
    "name": "ipython",
    "version": 3
   },
   "file_extension": ".py",
   "mimetype": "text/x-python",
   "name": "python",
   "nbconvert_exporter": "python",
   "pygments_lexer": "ipython3",
   "version": "3.9.7"
  }
 },
 "nbformat": 4,
 "nbformat_minor": 5
}
