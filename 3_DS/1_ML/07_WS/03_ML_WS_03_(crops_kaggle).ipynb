{
 "cells": [
  {
   "cell_type": "markdown",
   "id": "988f2545",
   "metadata": {},
   "source": [
    "03_ML_WS_03_(crops)"
   ]
  },
  {
   "cell_type": "markdown",
   "id": "d63d1a9c",
   "metadata": {
    "papermill": {
     "duration": 0.02725,
     "end_time": "2021-08-23T13:37:48.967276",
     "exception": false,
     "start_time": "2021-08-23T13:37:48.940026",
     "status": "completed"
    },
    "tags": []
   },
   "source": [
    "### Import"
   ]
  },
  {
   "cell_type": "code",
   "execution_count": 33,
   "id": "9858e3a8",
   "metadata": {
    "execution": {
     "iopub.execute_input": "2021-08-23T13:37:49.022715Z",
     "iopub.status.busy": "2021-08-23T13:37:49.021447Z",
     "iopub.status.idle": "2021-08-23T13:37:50.557084Z",
     "shell.execute_reply": "2021-08-23T13:37:50.556157Z",
     "shell.execute_reply.started": "2021-08-23T13:36:06.316788Z"
    },
    "papermill": {
     "duration": 1.564512,
     "end_time": "2021-08-23T13:37:50.557285",
     "exception": false,
     "start_time": "2021-08-23T13:37:48.992773",
     "status": "completed"
    },
    "tags": []
   },
   "outputs": [],
   "source": [
    "import os\n",
    "\n",
    "import numpy as np\n",
    "import pandas as pd\n",
    "\n",
    "import matplotlib.pyplot as plt\n",
    "import seaborn as sns\n",
    "sns.set_style(\"white\")\n",
    "\n",
    "from sklearn.metrics import classification_report\n",
    "from sklearn import metrics\n",
    "from sklearn import tree\n",
    "\n",
    "import warnings\n",
    "warnings.filterwarnings(\"ignore\")\n",
    "warnings.warn(\"this will not show\")"
   ]
  },
  {
   "cell_type": "markdown",
   "id": "48c60309",
   "metadata": {},
   "source": [
    "### Data"
   ]
  },
  {
   "cell_type": "code",
   "execution_count": 34,
   "id": "ec48a606",
   "metadata": {
    "execution": {
     "iopub.execute_input": "2021-08-23T13:37:50.616192Z",
     "iopub.status.busy": "2021-08-23T13:37:50.615430Z",
     "iopub.status.idle": "2021-08-23T13:37:50.646664Z",
     "shell.execute_reply": "2021-08-23T13:37:50.645919Z",
     "shell.execute_reply.started": "2021-08-23T13:36:11.473064Z"
    },
    "papermill": {
     "duration": 0.063092,
     "end_time": "2021-08-23T13:37:50.646844",
     "exception": false,
     "start_time": "2021-08-23T13:37:50.583752",
     "status": "completed"
    },
    "tags": []
   },
   "outputs": [],
   "source": [
    "df = pd.read_csv('crop.csv')"
   ]
  },
  {
   "cell_type": "code",
   "execution_count": 35,
   "id": "85238672",
   "metadata": {
    "execution": {
     "iopub.execute_input": "2021-08-23T13:37:50.710152Z",
     "iopub.status.busy": "2021-08-23T13:37:50.709462Z",
     "iopub.status.idle": "2021-08-23T13:37:50.735468Z",
     "shell.execute_reply": "2021-08-23T13:37:50.735979Z",
     "shell.execute_reply.started": "2021-08-23T13:36:34.948951Z"
    },
    "papermill": {
     "duration": 0.0623,
     "end_time": "2021-08-23T13:37:50.736148",
     "exception": false,
     "start_time": "2021-08-23T13:37:50.673848",
     "status": "completed"
    },
    "tags": []
   },
   "outputs": [
    {
     "data": {
      "text/html": [
       "<div>\n",
       "<style scoped>\n",
       "    .dataframe tbody tr th:only-of-type {\n",
       "        vertical-align: middle;\n",
       "    }\n",
       "\n",
       "    .dataframe tbody tr th {\n",
       "        vertical-align: top;\n",
       "    }\n",
       "\n",
       "    .dataframe thead th {\n",
       "        text-align: right;\n",
       "    }\n",
       "</style>\n",
       "<table border=\"1\" class=\"dataframe\">\n",
       "  <thead>\n",
       "    <tr style=\"text-align: right;\">\n",
       "      <th></th>\n",
       "      <th>N</th>\n",
       "      <th>P</th>\n",
       "      <th>K</th>\n",
       "      <th>temperature</th>\n",
       "      <th>humidity</th>\n",
       "      <th>ph</th>\n",
       "      <th>rainfall</th>\n",
       "      <th>label</th>\n",
       "    </tr>\n",
       "  </thead>\n",
       "  <tbody>\n",
       "    <tr>\n",
       "      <th>0</th>\n",
       "      <td>90</td>\n",
       "      <td>42</td>\n",
       "      <td>43</td>\n",
       "      <td>20.879744</td>\n",
       "      <td>82.002744</td>\n",
       "      <td>6.502985</td>\n",
       "      <td>202.935536</td>\n",
       "      <td>rice</td>\n",
       "    </tr>\n",
       "    <tr>\n",
       "      <th>1</th>\n",
       "      <td>85</td>\n",
       "      <td>58</td>\n",
       "      <td>41</td>\n",
       "      <td>21.770462</td>\n",
       "      <td>80.319644</td>\n",
       "      <td>7.038096</td>\n",
       "      <td>226.655537</td>\n",
       "      <td>rice</td>\n",
       "    </tr>\n",
       "    <tr>\n",
       "      <th>2</th>\n",
       "      <td>60</td>\n",
       "      <td>55</td>\n",
       "      <td>44</td>\n",
       "      <td>23.004459</td>\n",
       "      <td>82.320763</td>\n",
       "      <td>7.840207</td>\n",
       "      <td>263.964248</td>\n",
       "      <td>rice</td>\n",
       "    </tr>\n",
       "    <tr>\n",
       "      <th>3</th>\n",
       "      <td>74</td>\n",
       "      <td>35</td>\n",
       "      <td>40</td>\n",
       "      <td>26.491096</td>\n",
       "      <td>80.158363</td>\n",
       "      <td>6.980401</td>\n",
       "      <td>242.864034</td>\n",
       "      <td>rice</td>\n",
       "    </tr>\n",
       "    <tr>\n",
       "      <th>4</th>\n",
       "      <td>78</td>\n",
       "      <td>42</td>\n",
       "      <td>42</td>\n",
       "      <td>20.130175</td>\n",
       "      <td>81.604873</td>\n",
       "      <td>7.628473</td>\n",
       "      <td>262.717340</td>\n",
       "      <td>rice</td>\n",
       "    </tr>\n",
       "  </tbody>\n",
       "</table>\n",
       "</div>"
      ],
      "text/plain": [
       "    N   P   K  temperature   humidity        ph    rainfall label\n",
       "0  90  42  43    20.879744  82.002744  6.502985  202.935536  rice\n",
       "1  85  58  41    21.770462  80.319644  7.038096  226.655537  rice\n",
       "2  60  55  44    23.004459  82.320763  7.840207  263.964248  rice\n",
       "3  74  35  40    26.491096  80.158363  6.980401  242.864034  rice\n",
       "4  78  42  42    20.130175  81.604873  7.628473  262.717340  rice"
      ]
     },
     "execution_count": 35,
     "metadata": {},
     "output_type": "execute_result"
    }
   ],
   "source": [
    "df.head()"
   ]
  },
  {
   "cell_type": "code",
   "execution_count": 36,
   "id": "44dffa63",
   "metadata": {
    "execution": {
     "iopub.execute_input": "2021-08-23T13:37:50.791146Z",
     "iopub.status.busy": "2021-08-23T13:37:50.790174Z",
     "iopub.status.idle": "2021-08-23T13:37:50.807128Z",
     "shell.execute_reply": "2021-08-23T13:37:50.806473Z",
     "shell.execute_reply.started": "2021-08-23T13:36:39.181262Z"
    },
    "papermill": {
     "duration": 0.045345,
     "end_time": "2021-08-23T13:37:50.807274",
     "exception": false,
     "start_time": "2021-08-23T13:37:50.761929",
     "status": "completed"
    },
    "tags": []
   },
   "outputs": [
    {
     "data": {
      "text/html": [
       "<div>\n",
       "<style scoped>\n",
       "    .dataframe tbody tr th:only-of-type {\n",
       "        vertical-align: middle;\n",
       "    }\n",
       "\n",
       "    .dataframe tbody tr th {\n",
       "        vertical-align: top;\n",
       "    }\n",
       "\n",
       "    .dataframe thead th {\n",
       "        text-align: right;\n",
       "    }\n",
       "</style>\n",
       "<table border=\"1\" class=\"dataframe\">\n",
       "  <thead>\n",
       "    <tr style=\"text-align: right;\">\n",
       "      <th></th>\n",
       "      <th>N</th>\n",
       "      <th>P</th>\n",
       "      <th>K</th>\n",
       "      <th>temperature</th>\n",
       "      <th>humidity</th>\n",
       "      <th>ph</th>\n",
       "      <th>rainfall</th>\n",
       "      <th>label</th>\n",
       "    </tr>\n",
       "  </thead>\n",
       "  <tbody>\n",
       "    <tr>\n",
       "      <th>2195</th>\n",
       "      <td>107</td>\n",
       "      <td>34</td>\n",
       "      <td>32</td>\n",
       "      <td>26.774637</td>\n",
       "      <td>66.413269</td>\n",
       "      <td>6.780064</td>\n",
       "      <td>177.774507</td>\n",
       "      <td>coffee</td>\n",
       "    </tr>\n",
       "    <tr>\n",
       "      <th>2196</th>\n",
       "      <td>99</td>\n",
       "      <td>15</td>\n",
       "      <td>27</td>\n",
       "      <td>27.417112</td>\n",
       "      <td>56.636362</td>\n",
       "      <td>6.086922</td>\n",
       "      <td>127.924610</td>\n",
       "      <td>coffee</td>\n",
       "    </tr>\n",
       "    <tr>\n",
       "      <th>2197</th>\n",
       "      <td>118</td>\n",
       "      <td>33</td>\n",
       "      <td>30</td>\n",
       "      <td>24.131797</td>\n",
       "      <td>67.225123</td>\n",
       "      <td>6.362608</td>\n",
       "      <td>173.322839</td>\n",
       "      <td>coffee</td>\n",
       "    </tr>\n",
       "    <tr>\n",
       "      <th>2198</th>\n",
       "      <td>117</td>\n",
       "      <td>32</td>\n",
       "      <td>34</td>\n",
       "      <td>26.272418</td>\n",
       "      <td>52.127394</td>\n",
       "      <td>6.758793</td>\n",
       "      <td>127.175293</td>\n",
       "      <td>coffee</td>\n",
       "    </tr>\n",
       "    <tr>\n",
       "      <th>2199</th>\n",
       "      <td>104</td>\n",
       "      <td>18</td>\n",
       "      <td>30</td>\n",
       "      <td>23.603016</td>\n",
       "      <td>60.396475</td>\n",
       "      <td>6.779833</td>\n",
       "      <td>140.937041</td>\n",
       "      <td>coffee</td>\n",
       "    </tr>\n",
       "  </tbody>\n",
       "</table>\n",
       "</div>"
      ],
      "text/plain": [
       "        N   P   K  temperature   humidity        ph    rainfall   label\n",
       "2195  107  34  32    26.774637  66.413269  6.780064  177.774507  coffee\n",
       "2196   99  15  27    27.417112  56.636362  6.086922  127.924610  coffee\n",
       "2197  118  33  30    24.131797  67.225123  6.362608  173.322839  coffee\n",
       "2198  117  32  34    26.272418  52.127394  6.758793  127.175293  coffee\n",
       "2199  104  18  30    23.603016  60.396475  6.779833  140.937041  coffee"
      ]
     },
     "execution_count": 36,
     "metadata": {},
     "output_type": "execute_result"
    }
   ],
   "source": [
    "df.tail()"
   ]
  },
  {
   "cell_type": "code",
   "execution_count": 37,
   "id": "0b547315",
   "metadata": {
    "execution": {
     "iopub.execute_input": "2021-08-23T13:37:50.868997Z",
     "iopub.status.busy": "2021-08-23T13:37:50.868054Z",
     "iopub.status.idle": "2021-08-23T13:37:50.872854Z",
     "shell.execute_reply": "2021-08-23T13:37:50.872248Z",
     "shell.execute_reply.started": "2021-08-23T13:36:42.597062Z"
    },
    "papermill": {
     "duration": 0.040171,
     "end_time": "2021-08-23T13:37:50.873004",
     "exception": false,
     "start_time": "2021-08-23T13:37:50.832833",
     "status": "completed"
    },
    "tags": []
   },
   "outputs": [
    {
     "data": {
      "text/plain": [
       "N              2200\n",
       "P              2200\n",
       "K              2200\n",
       "temperature    2200\n",
       "humidity       2200\n",
       "ph             2200\n",
       "rainfall       2200\n",
       "label          2200\n",
       "dtype: int64"
      ]
     },
     "execution_count": 37,
     "metadata": {},
     "output_type": "execute_result"
    }
   ],
   "source": [
    "df.count()"
   ]
  },
  {
   "cell_type": "code",
   "execution_count": 38,
   "id": "bdf70430",
   "metadata": {
    "execution": {
     "iopub.execute_input": "2021-08-23T13:37:50.931429Z",
     "iopub.status.busy": "2021-08-23T13:37:50.930786Z",
     "iopub.status.idle": "2021-08-23T13:37:50.938309Z",
     "shell.execute_reply": "2021-08-23T13:37:50.937778Z",
     "shell.execute_reply.started": "2021-08-23T13:36:45.876913Z"
    },
    "papermill": {
     "duration": 0.038606,
     "end_time": "2021-08-23T13:37:50.938469",
     "exception": false,
     "start_time": "2021-08-23T13:37:50.899863",
     "status": "completed"
    },
    "tags": []
   },
   "outputs": [
    {
     "name": "stdout",
     "output_type": "stream",
     "text": [
      "17600\n",
      "(2200, 8)\n",
      "Index(['N', 'P', 'K', 'temperature', 'humidity', 'ph', 'rainfall', 'label'], dtype='object')\n"
     ]
    }
   ],
   "source": [
    "print(df.size)\n",
    "print(df.shape)\n",
    "print(df.columns)"
   ]
  },
  {
   "cell_type": "code",
   "execution_count": 39,
   "id": "2d6a48ab",
   "metadata": {
    "execution": {
     "iopub.execute_input": "2021-08-23T13:37:51.002414Z",
     "iopub.status.busy": "2021-08-23T13:37:51.001123Z",
     "iopub.status.idle": "2021-08-23T13:37:51.009476Z",
     "shell.execute_reply": "2021-08-23T13:37:51.008785Z",
     "shell.execute_reply.started": "2021-08-23T13:36:49.717191Z"
    },
    "papermill": {
     "duration": 0.044268,
     "end_time": "2021-08-23T13:37:51.009668",
     "exception": false,
     "start_time": "2021-08-23T13:37:50.965400",
     "status": "completed"
    },
    "tags": []
   },
   "outputs": [
    {
     "data": {
      "text/plain": [
       "array(['rice', 'maize', 'chickpea', 'kidneybeans', 'pigeonpeas',\n",
       "       'mothbeans', 'mungbean', 'blackgram', 'lentil', 'pomegranate',\n",
       "       'banana', 'mango', 'grapes', 'watermelon', 'muskmelon', 'apple',\n",
       "       'orange', 'papaya', 'coconut', 'cotton', 'jute', 'coffee'],\n",
       "      dtype=object)"
      ]
     },
     "execution_count": 39,
     "metadata": {},
     "output_type": "execute_result"
    }
   ],
   "source": [
    "df['label'].unique()"
   ]
  },
  {
   "cell_type": "code",
   "execution_count": 40,
   "id": "ecf11dff",
   "metadata": {
    "execution": {
     "iopub.execute_input": "2021-08-23T13:37:51.067860Z",
     "iopub.status.busy": "2021-08-23T13:37:51.067210Z",
     "iopub.status.idle": "2021-08-23T13:37:51.075678Z",
     "shell.execute_reply": "2021-08-23T13:37:51.075101Z",
     "shell.execute_reply.started": "2021-08-23T13:36:52.836981Z"
    },
    "papermill": {
     "duration": 0.038512,
     "end_time": "2021-08-23T13:37:51.075852",
     "exception": false,
     "start_time": "2021-08-23T13:37:51.037340",
     "status": "completed"
    },
    "tags": []
   },
   "outputs": [
    {
     "data": {
      "text/plain": [
       "N                int64\n",
       "P                int64\n",
       "K                int64\n",
       "temperature    float64\n",
       "humidity       float64\n",
       "ph             float64\n",
       "rainfall       float64\n",
       "label           object\n",
       "dtype: object"
      ]
     },
     "execution_count": 40,
     "metadata": {},
     "output_type": "execute_result"
    }
   ],
   "source": [
    "df.dtypes"
   ]
  },
  {
   "cell_type": "code",
   "execution_count": 41,
   "id": "f60aca1f",
   "metadata": {
    "execution": {
     "iopub.execute_input": "2021-08-23T13:37:51.145597Z",
     "iopub.status.busy": "2021-08-23T13:37:51.144655Z",
     "iopub.status.idle": "2021-08-23T13:37:51.149386Z",
     "shell.execute_reply": "2021-08-23T13:37:51.149874Z",
     "shell.execute_reply.started": "2021-08-23T13:36:55.816953Z"
    },
    "papermill": {
     "duration": 0.044075,
     "end_time": "2021-08-23T13:37:51.150091",
     "exception": false,
     "start_time": "2021-08-23T13:37:51.106016",
     "status": "completed"
    },
    "tags": []
   },
   "outputs": [
    {
     "data": {
      "text/plain": [
       "rice           100\n",
       "maize          100\n",
       "jute           100\n",
       "cotton         100\n",
       "coconut        100\n",
       "papaya         100\n",
       "orange         100\n",
       "apple          100\n",
       "muskmelon      100\n",
       "watermelon     100\n",
       "grapes         100\n",
       "mango          100\n",
       "banana         100\n",
       "pomegranate    100\n",
       "lentil         100\n",
       "blackgram      100\n",
       "mungbean       100\n",
       "mothbeans      100\n",
       "pigeonpeas     100\n",
       "kidneybeans    100\n",
       "chickpea       100\n",
       "coffee         100\n",
       "Name: label, dtype: int64"
      ]
     },
     "execution_count": 41,
     "metadata": {},
     "output_type": "execute_result"
    }
   ],
   "source": [
    "df['label'].value_counts()"
   ]
  },
  {
   "cell_type": "code",
   "execution_count": 42,
   "id": "2f9e8c10",
   "metadata": {
    "execution": {
     "iopub.execute_input": "2021-08-23T13:37:51.214760Z",
     "iopub.status.busy": "2021-08-23T13:37:51.213738Z",
     "iopub.status.idle": "2021-08-23T13:37:51.850986Z",
     "shell.execute_reply": "2021-08-23T13:37:51.851520Z",
     "shell.execute_reply.started": "2021-08-23T13:36:59.917354Z"
    },
    "papermill": {
     "duration": 0.673653,
     "end_time": "2021-08-23T13:37:51.851756",
     "exception": false,
     "start_time": "2021-08-23T13:37:51.178103",
     "status": "completed"
    },
    "tags": []
   },
   "outputs": [
    {
     "data": {
      "text/plain": [
       "<AxesSubplot:>"
      ]
     },
     "execution_count": 42,
     "metadata": {},
     "output_type": "execute_result"
    },
    {
     "data": {
      "image/png": "[encoded data removed]",
      "text/plain": [
       "<Figure size 432x288 with 2 Axes>"
      ]
     },
     "metadata": {},
     "output_type": "display_data"
    }
   ],
   "source": [
    "sns.heatmap(df.corr(),annot=True)"
   ]
  },
  {
   "cell_type": "markdown",
   "id": "af7ee3f4",
   "metadata": {},
   "source": [
    "### Train Test Split"
   ]
  },
  {
   "cell_type": "code",
   "execution_count": 43,
   "id": "862842f2",
   "metadata": {},
   "outputs": [],
   "source": [
    "from sklearn.model_selection import train_test_split"
   ]
  },
  {
   "cell_type": "code",
   "execution_count": 44,
   "id": "782676a3",
   "metadata": {
    "execution": {
     "iopub.execute_input": "2021-08-23T13:37:51.924512Z",
     "iopub.status.busy": "2021-08-23T13:37:51.923337Z",
     "iopub.status.idle": "2021-08-23T13:37:51.927008Z",
     "shell.execute_reply": "2021-08-23T13:37:51.927593Z",
     "shell.execute_reply.started": "2021-08-23T13:37:09.301356Z"
    },
    "papermill": {
     "duration": 0.043718,
     "end_time": "2021-08-23T13:37:51.927800",
     "exception": false,
     "start_time": "2021-08-23T13:37:51.884082",
     "status": "completed"
    },
    "tags": []
   },
   "outputs": [],
   "source": [
    "features = df[['N','P','K','temperature','humidity','ph','rainfall']]\n",
    "target = df['label']\n",
    "labels = df['label']"
   ]
  },
  {
   "cell_type": "code",
   "execution_count": 45,
   "id": "dcca2e56",
   "metadata": {
    "execution": {
     "iopub.execute_input": "2021-08-23T13:37:51.992930Z",
     "iopub.status.busy": "2021-08-23T13:37:51.991917Z",
     "iopub.status.idle": "2021-08-23T13:37:51.995370Z",
     "shell.execute_reply": "2021-08-23T13:37:51.994833Z",
     "shell.execute_reply.started": "2021-08-22T06:26:55.963246Z"
    },
    "papermill": {
     "duration": 0.038637,
     "end_time": "2021-08-23T13:37:51.995538",
     "exception": false,
     "start_time": "2021-08-23T13:37:51.956901",
     "status": "completed"
    },
    "tags": []
   },
   "outputs": [],
   "source": [
    "acc = []\n",
    "model = []"
   ]
  },
  {
   "cell_type": "code",
   "execution_count": 46,
   "id": "be27d5e6",
   "metadata": {
    "execution": {
     "iopub.execute_input": "2021-08-23T13:37:52.057860Z",
     "iopub.status.busy": "2021-08-23T13:37:52.056931Z",
     "iopub.status.idle": "2021-08-23T13:37:52.067538Z",
     "shell.execute_reply": "2021-08-23T13:37:52.068021Z",
     "shell.execute_reply.started": "2021-08-22T06:26:58.238338Z"
    },
    "papermill": {
     "duration": 0.043636,
     "end_time": "2021-08-23T13:37:52.068210",
     "exception": false,
     "start_time": "2021-08-23T13:37:52.024574",
     "status": "completed"
    },
    "tags": []
   },
   "outputs": [],
   "source": [
    "Xtrain, Xtest, Ytrain, Ytest = train_test_split(features,target,test_size=0.2,\n",
    "                                               random_state=2)"
   ]
  },
  {
   "cell_type": "markdown",
   "id": "f7c7d5d0",
   "metadata": {
    "papermill": {
     "duration": 0.029606,
     "end_time": "2021-08-23T13:37:52.185273",
     "exception": false,
     "start_time": "2021-08-23T13:37:52.155667",
     "status": "completed"
    },
    "tags": []
   },
   "source": [
    "### Decision Tree"
   ]
  },
  {
   "cell_type": "code",
   "execution_count": 47,
   "id": "22ef85de",
   "metadata": {},
   "outputs": [],
   "source": [
    "from sklearn.tree import DecisionTreeClassifier"
   ]
  },
  {
   "cell_type": "code",
   "execution_count": 48,
   "id": "5c90d1f4",
   "metadata": {
    "execution": {
     "iopub.execute_input": "2021-08-23T13:37:52.262597Z",
     "iopub.status.busy": "2021-08-23T13:37:52.259789Z",
     "iopub.status.idle": "2021-08-23T13:37:52.322919Z",
     "shell.execute_reply": "2021-08-23T13:37:52.323651Z",
     "shell.execute_reply.started": "2021-08-22T06:27:40.736718Z"
    },
    "papermill": {
     "duration": 0.108752,
     "end_time": "2021-08-23T13:37:52.323906",
     "exception": false,
     "start_time": "2021-08-23T13:37:52.215154",
     "status": "completed"
    },
    "tags": []
   },
   "outputs": [
    {
     "name": "stdout",
     "output_type": "stream",
     "text": [
      "DecisionTrees's Accuracy is:  90.0\n",
      "              precision    recall  f1-score   support\n",
      "\n",
      "       apple       1.00      1.00      1.00        13\n",
      "      banana       1.00      1.00      1.00        17\n",
      "   blackgram       0.59      1.00      0.74        16\n",
      "    chickpea       1.00      1.00      1.00        21\n",
      "     coconut       0.91      1.00      0.95        21\n",
      "      coffee       1.00      1.00      1.00        22\n",
      "      cotton       1.00      1.00      1.00        20\n",
      "      grapes       1.00      1.00      1.00        18\n",
      "        jute       0.74      0.93      0.83        28\n",
      " kidneybeans       0.00      0.00      0.00        14\n",
      "      lentil       0.68      1.00      0.81        23\n",
      "       maize       1.00      1.00      1.00        21\n",
      "       mango       1.00      1.00      1.00        26\n",
      "   mothbeans       0.00      0.00      0.00        19\n",
      "    mungbean       1.00      1.00      1.00        24\n",
      "   muskmelon       1.00      1.00      1.00        23\n",
      "      orange       1.00      1.00      1.00        29\n",
      "      papaya       1.00      0.84      0.91        19\n",
      "  pigeonpeas       0.62      1.00      0.77        18\n",
      " pomegranate       1.00      1.00      1.00        17\n",
      "        rice       1.00      0.62      0.77        16\n",
      "  watermelon       1.00      1.00      1.00        15\n",
      "\n",
      "    accuracy                           0.90       440\n",
      "   macro avg       0.84      0.88      0.85       440\n",
      "weighted avg       0.86      0.90      0.87       440\n",
      "\n"
     ]
    }
   ],
   "source": [
    "DecisionTree = DecisionTreeClassifier(criterion='entropy',random_state=2,max_depth=5)\n",
    "\n",
    "DecisionTree.fit(Xtrain,Ytrain)\n",
    "predicted_values = DecisionTree.predict(Xtest)\n",
    "\n",
    "x = metrics.accuracy_score(Ytest, predicted_values)\n",
    "acc.append(x)\n",
    "model.append('Decision Tree')\n",
    "\n",
    "print(\"DecisionTrees's Accuracy is: \", x*100)\n",
    "print(classification_report(Ytest,predicted_values))"
   ]
  },
  {
   "cell_type": "code",
   "execution_count": 49,
   "id": "f688c410",
   "metadata": {
    "execution": {
     "iopub.execute_input": "2021-08-23T13:37:52.392984Z",
     "iopub.status.busy": "2021-08-23T13:37:52.392194Z",
     "iopub.status.idle": "2021-08-23T13:37:52.396186Z",
     "shell.execute_reply": "2021-08-23T13:37:52.395433Z",
     "shell.execute_reply.started": "2021-08-22T06:27:05.574954Z"
    },
    "papermill": {
     "duration": 0.040317,
     "end_time": "2021-08-23T13:37:52.396354",
     "exception": false,
     "start_time": "2021-08-23T13:37:52.356037",
     "status": "completed"
    },
    "tags": []
   },
   "outputs": [],
   "source": [
    "from sklearn.model_selection import cross_val_score"
   ]
  },
  {
   "cell_type": "code",
   "execution_count": 50,
   "id": "c139b6b4",
   "metadata": {
    "execution": {
     "iopub.execute_input": "2021-08-23T13:37:52.471475Z",
     "iopub.status.busy": "2021-08-23T13:37:52.470748Z",
     "iopub.status.idle": "2021-08-23T13:37:52.626941Z",
     "shell.execute_reply": "2021-08-23T13:37:52.626101Z",
     "shell.execute_reply.started": "2021-08-22T06:27:54.913203Z"
    },
    "papermill": {
     "duration": 0.198831,
     "end_time": "2021-08-23T13:37:52.627114",
     "exception": false,
     "start_time": "2021-08-23T13:37:52.428283",
     "status": "completed"
    },
    "tags": []
   },
   "outputs": [],
   "source": [
    "# Cross validation score (Decision Tree)\n",
    "score = cross_val_score(DecisionTree, features, target,cv=5)"
   ]
  },
  {
   "cell_type": "code",
   "execution_count": 51,
   "id": "955abd92",
   "metadata": {
    "execution": {
     "iopub.execute_input": "2021-08-23T13:37:52.699200Z",
     "iopub.status.busy": "2021-08-23T13:37:52.698161Z",
     "iopub.status.idle": "2021-08-23T13:37:52.703317Z",
     "shell.execute_reply": "2021-08-23T13:37:52.702757Z",
     "shell.execute_reply.started": "2021-08-22T06:28:08.602249Z"
    },
    "papermill": {
     "duration": 0.044624,
     "end_time": "2021-08-23T13:37:52.703475",
     "exception": false,
     "start_time": "2021-08-23T13:37:52.658851",
     "status": "completed"
    },
    "tags": []
   },
   "outputs": [
    {
     "data": {
      "text/plain": [
       "array([0.93636364, 0.90909091, 0.91818182, 0.87045455, 0.93636364])"
      ]
     },
     "execution_count": 51,
     "metadata": {},
     "output_type": "execute_result"
    }
   ],
   "source": [
    "score"
   ]
  },
  {
   "cell_type": "code",
   "execution_count": 52,
   "id": "592ba221",
   "metadata": {},
   "outputs": [],
   "source": [
    "import pickle"
   ]
  },
  {
   "cell_type": "code",
   "execution_count": 53,
   "id": "7d0ae963",
   "metadata": {
    "execution": {
     "iopub.execute_input": "2021-08-23T13:37:52.773519Z",
     "iopub.status.busy": "2021-08-23T13:37:52.772751Z",
     "iopub.status.idle": "2021-08-23T13:37:52.776252Z",
     "shell.execute_reply": "2021-08-23T13:37:52.776812Z",
     "shell.execute_reply.started": "2021-08-22T06:28:59.723533Z"
    },
    "papermill": {
     "duration": 0.041684,
     "end_time": "2021-08-23T13:37:52.777046",
     "exception": false,
     "start_time": "2021-08-23T13:37:52.735362",
     "status": "completed"
    },
    "tags": []
   },
   "outputs": [],
   "source": [
    "DT_pkl_filename = 'DecisionTree.pkl'\n",
    "DT_Model_pkl = open(DT_pkl_filename, 'wb')\n",
    "pickle.dump(DecisionTree, DT_Model_pkl)\n",
    "# Close the pickle instances\n",
    "DT_Model_pkl.close()"
   ]
  },
  {
   "cell_type": "markdown",
   "id": "4b5a3238",
   "metadata": {
    "papermill": {
     "duration": 0.030413,
     "end_time": "2021-08-23T13:37:52.839310",
     "exception": false,
     "start_time": "2021-08-23T13:37:52.808897",
     "status": "completed"
    },
    "tags": []
   },
   "source": [
    "### Navie Bayes"
   ]
  },
  {
   "cell_type": "code",
   "execution_count": 54,
   "id": "7f0016b6",
   "metadata": {},
   "outputs": [],
   "source": [
    "from sklearn.naive_bayes import GaussianNB"
   ]
  },
  {
   "cell_type": "code",
   "execution_count": 55,
   "id": "3916a815",
   "metadata": {
    "execution": {
     "iopub.execute_input": "2021-08-23T13:37:52.909641Z",
     "iopub.status.busy": "2021-08-23T13:37:52.908873Z",
     "iopub.status.idle": "2021-08-23T13:37:52.947845Z",
     "shell.execute_reply": "2021-08-23T13:37:52.947156Z",
     "shell.execute_reply.started": "2021-08-22T06:29:26.330986Z"
    },
    "papermill": {
     "duration": 0.077959,
     "end_time": "2021-08-23T13:37:52.948020",
     "exception": false,
     "start_time": "2021-08-23T13:37:52.870061",
     "status": "completed"
    },
    "tags": []
   },
   "outputs": [
    {
     "name": "stdout",
     "output_type": "stream",
     "text": [
      "Naive Bayes's Accuracy is:  0.990909090909091\n",
      "              precision    recall  f1-score   support\n",
      "\n",
      "       apple       1.00      1.00      1.00        13\n",
      "      banana       1.00      1.00      1.00        17\n",
      "   blackgram       1.00      1.00      1.00        16\n",
      "    chickpea       1.00      1.00      1.00        21\n",
      "     coconut       1.00      1.00      1.00        21\n",
      "      coffee       1.00      1.00      1.00        22\n",
      "      cotton       1.00      1.00      1.00        20\n",
      "      grapes       1.00      1.00      1.00        18\n",
      "        jute       0.88      1.00      0.93        28\n",
      " kidneybeans       1.00      1.00      1.00        14\n",
      "      lentil       1.00      1.00      1.00        23\n",
      "       maize       1.00      1.00      1.00        21\n",
      "       mango       1.00      1.00      1.00        26\n",
      "   mothbeans       1.00      1.00      1.00        19\n",
      "    mungbean       1.00      1.00      1.00        24\n",
      "   muskmelon       1.00      1.00      1.00        23\n",
      "      orange       1.00      1.00      1.00        29\n",
      "      papaya       1.00      1.00      1.00        19\n",
      "  pigeonpeas       1.00      1.00      1.00        18\n",
      " pomegranate       1.00      1.00      1.00        17\n",
      "        rice       1.00      0.75      0.86        16\n",
      "  watermelon       1.00      1.00      1.00        15\n",
      "\n",
      "    accuracy                           0.99       440\n",
      "   macro avg       0.99      0.99      0.99       440\n",
      "weighted avg       0.99      0.99      0.99       440\n",
      "\n"
     ]
    }
   ],
   "source": [
    "NaiveBayes = GaussianNB()\n",
    "\n",
    "NaiveBayes.fit(Xtrain,Ytrain)\n",
    "\n",
    "predicted_values = NaiveBayes.predict(Xtest)\n",
    "x = metrics.accuracy_score(Ytest, predicted_values)\n",
    "acc.append(x)\n",
    "model.append('Naive Bayes')\n",
    "print(\"Naive Bayes's Accuracy is: \", x)\n",
    "\n",
    "print(classification_report(Ytest,predicted_values))"
   ]
  },
  {
   "cell_type": "code",
   "execution_count": 56,
   "id": "b9e8d165",
   "metadata": {
    "execution": {
     "iopub.execute_input": "2021-08-23T13:37:53.025799Z",
     "iopub.status.busy": "2021-08-23T13:37:53.025028Z",
     "iopub.status.idle": "2021-08-23T13:37:53.106662Z",
     "shell.execute_reply": "2021-08-23T13:37:53.105855Z",
     "shell.execute_reply.started": "2021-08-22T06:29:47.164908Z"
    },
    "papermill": {
     "duration": 0.125217,
     "end_time": "2021-08-23T13:37:53.106878",
     "exception": false,
     "start_time": "2021-08-23T13:37:52.981661",
     "status": "completed"
    },
    "tags": []
   },
   "outputs": [
    {
     "data": {
      "text/plain": [
       "array([0.99772727, 0.99545455, 0.99545455, 0.99545455, 0.99090909])"
      ]
     },
     "execution_count": 56,
     "metadata": {},
     "output_type": "execute_result"
    }
   ],
   "source": [
    "# Cross validation score (NaiveBayes)\n",
    "score = cross_val_score(NaiveBayes,features,target,cv=5)\n",
    "score"
   ]
  },
  {
   "cell_type": "code",
   "execution_count": 57,
   "id": "662cb64c",
   "metadata": {
    "execution": {
     "iopub.execute_input": "2021-08-23T13:37:53.179616Z",
     "iopub.status.busy": "2021-08-23T13:37:53.178890Z",
     "iopub.status.idle": "2021-08-23T13:37:53.182677Z",
     "shell.execute_reply": "2021-08-23T13:37:53.181994Z",
     "shell.execute_reply.started": "2021-08-22T06:30:06.123029Z"
    },
    "papermill": {
     "duration": 0.042132,
     "end_time": "2021-08-23T13:37:53.182868",
     "exception": false,
     "start_time": "2021-08-23T13:37:53.140736",
     "status": "completed"
    },
    "tags": []
   },
   "outputs": [],
   "source": [
    "import pickle\n",
    "# Dump the trained Naive Bayes classifier with Pickle\n",
    "NB_pkl_filename = 'NBClassifier.pkl'\n",
    "# Open the file to save as pkl file\n",
    "NB_Model_pkl = open(NB_pkl_filename, 'wb')\n",
    "pickle.dump(NaiveBayes, NB_Model_pkl)\n",
    "# Close the pickle instances\n",
    "NB_Model_pkl.close()"
   ]
  },
  {
   "cell_type": "markdown",
   "id": "8d8b18e5",
   "metadata": {
    "papermill": {
     "duration": 0.033363,
     "end_time": "2021-08-23T13:37:53.249254",
     "exception": false,
     "start_time": "2021-08-23T13:37:53.215891",
     "status": "completed"
    },
    "tags": []
   },
   "source": [
    "### SVM"
   ]
  },
  {
   "cell_type": "code",
   "execution_count": 58,
   "id": "dda43f61",
   "metadata": {},
   "outputs": [],
   "source": [
    "from sklearn.svm import SVC"
   ]
  },
  {
   "cell_type": "code",
   "execution_count": 59,
   "id": "4d0e4975",
   "metadata": {
    "execution": {
     "iopub.execute_input": "2021-08-23T13:37:53.323635Z",
     "iopub.status.busy": "2021-08-23T13:37:53.322893Z",
     "iopub.status.idle": "2021-08-23T13:37:53.737049Z",
     "shell.execute_reply": "2021-08-23T13:37:53.737558Z",
     "shell.execute_reply.started": "2021-08-22T06:31:11.820134Z"
    },
    "papermill": {
     "duration": 0.455432,
     "end_time": "2021-08-23T13:37:53.737761",
     "exception": false,
     "start_time": "2021-08-23T13:37:53.282329",
     "status": "completed"
    },
    "tags": []
   },
   "outputs": [
    {
     "name": "stdout",
     "output_type": "stream",
     "text": [
      "SVM's Accuracy is:  0.10681818181818181\n",
      "              precision    recall  f1-score   support\n",
      "\n",
      "       apple       1.00      0.23      0.38        13\n",
      "      banana       1.00      0.24      0.38        17\n",
      "   blackgram       1.00      0.19      0.32        16\n",
      "    chickpea       1.00      0.05      0.09        21\n",
      "     coconut       1.00      0.05      0.09        21\n",
      "      coffee       0.00      0.00      0.00        22\n",
      "      cotton       1.00      0.05      0.10        20\n",
      "      grapes       1.00      0.06      0.11        18\n",
      "        jute       1.00      0.07      0.13        28\n",
      " kidneybeans       0.03      1.00      0.07        14\n",
      "      lentil       0.00      0.00      0.00        23\n",
      "       maize       0.00      0.00      0.00        21\n",
      "       mango       0.00      0.00      0.00        26\n",
      "   mothbeans       0.00      0.00      0.00        19\n",
      "    mungbean       1.00      0.12      0.22        24\n",
      "   muskmelon       1.00      0.30      0.47        23\n",
      "      orange       1.00      0.03      0.07        29\n",
      "      papaya       1.00      0.05      0.10        19\n",
      "  pigeonpeas       0.00      0.00      0.00        18\n",
      " pomegranate       1.00      0.12      0.21        17\n",
      "        rice       0.50      0.06      0.11        16\n",
      "  watermelon       1.00      0.13      0.24        15\n",
      "\n",
      "    accuracy                           0.11       440\n",
      "   macro avg       0.66      0.13      0.14       440\n",
      "weighted avg       0.66      0.11      0.13       440\n",
      "\n"
     ]
    }
   ],
   "source": [
    "SVM = SVC(gamma='auto')\n",
    "\n",
    "SVM.fit(Xtrain,Ytrain)\n",
    "\n",
    "predicted_values = SVM.predict(Xtest)\n",
    "\n",
    "x = metrics.accuracy_score(Ytest, predicted_values)\n",
    "acc.append(x)\n",
    "model.append('SVM')\n",
    "print(\"SVM's Accuracy is: \", x)\n",
    "\n",
    "print(classification_report(Ytest,predicted_values))"
   ]
  },
  {
   "cell_type": "code",
   "execution_count": 60,
   "id": "065343e1",
   "metadata": {
    "execution": {
     "iopub.execute_input": "2021-08-23T13:37:53.815024Z",
     "iopub.status.busy": "2021-08-23T13:37:53.814139Z",
     "iopub.status.idle": "2021-08-23T13:37:55.643756Z",
     "shell.execute_reply": "2021-08-23T13:37:55.643177Z",
     "shell.execute_reply.started": "2021-08-22T06:31:27.51997Z"
    },
    "papermill": {
     "duration": 1.873086,
     "end_time": "2021-08-23T13:37:55.643922",
     "exception": false,
     "start_time": "2021-08-23T13:37:53.770836",
     "status": "completed"
    },
    "tags": []
   },
   "outputs": [
    {
     "data": {
      "text/plain": [
       "array([0.27727273, 0.28863636, 0.29090909, 0.275     , 0.26818182])"
      ]
     },
     "execution_count": 60,
     "metadata": {},
     "output_type": "execute_result"
    }
   ],
   "source": [
    "# Cross validation score (SVM)\n",
    "score = cross_val_score(SVM,features,target,cv=5)\n",
    "score"
   ]
  },
  {
   "cell_type": "markdown",
   "id": "fd4e37d1",
   "metadata": {
    "papermill": {
     "duration": 0.03327,
     "end_time": "2021-08-23T13:37:55.711186",
     "exception": false,
     "start_time": "2021-08-23T13:37:55.677916",
     "status": "completed"
    },
    "tags": []
   },
   "source": [
    "### Random Forrest"
   ]
  },
  {
   "cell_type": "code",
   "execution_count": 61,
   "id": "fbb249b9",
   "metadata": {},
   "outputs": [],
   "source": [
    "from sklearn.ensemble import RandomForestClassifier"
   ]
  },
  {
   "cell_type": "code",
   "execution_count": 62,
   "id": "c53c2449",
   "metadata": {
    "execution": {
     "iopub.execute_input": "2021-08-23T13:37:55.783205Z",
     "iopub.status.busy": "2021-08-23T13:37:55.782326Z",
     "iopub.status.idle": "2021-08-23T13:37:55.937910Z",
     "shell.execute_reply": "2021-08-23T13:37:55.937171Z",
     "shell.execute_reply.started": "2021-08-22T06:32:55.232333Z"
    },
    "papermill": {
     "duration": 0.194483,
     "end_time": "2021-08-23T13:37:55.938080",
     "exception": false,
     "start_time": "2021-08-23T13:37:55.743597",
     "status": "completed"
    },
    "tags": []
   },
   "outputs": [
    {
     "name": "stdout",
     "output_type": "stream",
     "text": [
      "RF's Accuracy is:  0.990909090909091\n",
      "              precision    recall  f1-score   support\n",
      "\n",
      "       apple       1.00      1.00      1.00        13\n",
      "      banana       1.00      1.00      1.00        17\n",
      "   blackgram       0.94      1.00      0.97        16\n",
      "    chickpea       1.00      1.00      1.00        21\n",
      "     coconut       1.00      1.00      1.00        21\n",
      "      coffee       1.00      1.00      1.00        22\n",
      "      cotton       1.00      1.00      1.00        20\n",
      "      grapes       1.00      1.00      1.00        18\n",
      "        jute       0.90      1.00      0.95        28\n",
      " kidneybeans       1.00      1.00      1.00        14\n",
      "      lentil       1.00      1.00      1.00        23\n",
      "       maize       1.00      1.00      1.00        21\n",
      "       mango       1.00      1.00      1.00        26\n",
      "   mothbeans       1.00      0.95      0.97        19\n",
      "    mungbean       1.00      1.00      1.00        24\n",
      "   muskmelon       1.00      1.00      1.00        23\n",
      "      orange       1.00      1.00      1.00        29\n",
      "      papaya       1.00      1.00      1.00        19\n",
      "  pigeonpeas       1.00      1.00      1.00        18\n",
      " pomegranate       1.00      1.00      1.00        17\n",
      "        rice       1.00      0.81      0.90        16\n",
      "  watermelon       1.00      1.00      1.00        15\n",
      "\n",
      "    accuracy                           0.99       440\n",
      "   macro avg       0.99      0.99      0.99       440\n",
      "weighted avg       0.99      0.99      0.99       440\n",
      "\n"
     ]
    }
   ],
   "source": [
    "RF = RandomForestClassifier(n_estimators=20, random_state=0)\n",
    "RF.fit(Xtrain,Ytrain)\n",
    "\n",
    "predicted_values = RF.predict(Xtest)\n",
    "\n",
    "x = metrics.accuracy_score(Ytest, predicted_values)\n",
    "acc.append(x)\n",
    "model.append('RF')\n",
    "print(\"RF's Accuracy is: \", x)\n",
    "\n",
    "print(classification_report(Ytest,predicted_values))"
   ]
  },
  {
   "cell_type": "code",
   "execution_count": 63,
   "id": "01ee857f",
   "metadata": {
    "execution": {
     "iopub.execute_input": "2021-08-23T13:37:56.012563Z",
     "iopub.status.busy": "2021-08-23T13:37:56.011533Z",
     "iopub.status.idle": "2021-08-23T13:37:56.207995Z",
     "shell.execute_reply": "2021-08-23T13:37:56.206956Z",
     "shell.execute_reply.started": "2021-08-22T06:33:45.685177Z"
    },
    "papermill": {
     "duration": 0.236991,
     "end_time": "2021-08-23T13:37:56.208163",
     "exception": false,
     "start_time": "2021-08-23T13:37:55.971172",
     "status": "completed"
    },
    "tags": []
   },
   "outputs": [
    {
     "data": {
      "text/plain": [
       "<AxesSubplot:title={'center':'Accuracy Comparison'}, xlabel='Accuracy', ylabel='Algorithm'>"
      ]
     },
     "execution_count": 63,
     "metadata": {},
     "output_type": "execute_result"
    },
    {
     "data": {
      "image/png": "[encoded data removed]",
      "text/plain": [
       "<Figure size 1000x500 with 1 Axes>"
      ]
     },
     "metadata": {},
     "output_type": "display_data"
    }
   ],
   "source": [
    "plt.figure(figsize=[10,5],dpi = 100)\n",
    "plt.title('Accuracy Comparison')\n",
    "plt.xlabel('Accuracy')\n",
    "plt.ylabel('Algorithm')\n",
    "sns.barplot(x = acc,y = model,palette='dark')"
   ]
  },
  {
   "cell_type": "markdown",
   "id": "1248bfa1",
   "metadata": {
    "papermill": {
     "duration": 0.0333,
     "end_time": "2021-08-23T13:37:56.275513",
     "exception": false,
     "start_time": "2021-08-23T13:37:56.242213",
     "status": "completed"
    },
    "tags": []
   },
   "source": [
    "### Prediction"
   ]
  },
  {
   "cell_type": "code",
   "execution_count": 64,
   "id": "5f4c09f5",
   "metadata": {
    "execution": {
     "iopub.execute_input": "2021-08-23T13:37:56.353739Z",
     "iopub.status.busy": "2021-08-23T13:37:56.352853Z",
     "iopub.status.idle": "2021-08-23T13:37:56.357807Z",
     "shell.execute_reply": "2021-08-23T13:37:56.357082Z",
     "shell.execute_reply.started": "2021-08-22T06:34:19.537887Z"
    },
    "papermill": {
     "duration": 0.048715,
     "end_time": "2021-08-23T13:37:56.357974",
     "exception": false,
     "start_time": "2021-08-23T13:37:56.309259",
     "status": "completed"
    },
    "tags": []
   },
   "outputs": [
    {
     "name": "stdout",
     "output_type": "stream",
     "text": [
      "['coffee']\n"
     ]
    }
   ],
   "source": [
    "data = np.array([[104,18, 30, 23.603016, 60.3, 6.7, 140.91]])\n",
    "prediction = RF.predict(data)\n",
    "print(prediction)"
   ]
  },
  {
   "cell_type": "code",
   "execution_count": null,
   "id": "10050218",
   "metadata": {},
   "outputs": [],
   "source": []
  }
 ],
 "metadata": {
  "kernelspec": {
   "display_name": "Python 3.9.7 64-bit",
   "language": "python",
   "name": "python3"
  },
  "language_info": {
   "codemirror_mode": {
    "name": "ipython",
    "version": 3
   },
   "file_extension": ".py",
   "mimetype": "text/x-python",
   "name": "python",
   "nbconvert_exporter": "python",
   "pygments_lexer": "ipython3",
   "version": "3.9.7"
  },
  "papermill": {
   "default_parameters": {},
   "duration": 17.966442,
   "end_time": "2021-08-23T13:37:57.678842",
   "environment_variables": {},
   "exception": null,
   "input_path": "__notebook__.ipynb",
   "output_path": "__notebook__.ipynb",
   "parameters": {},
   "start_time": "2021-08-23T13:37:39.712400",
   "version": "2.3.3"
  },
  "vscode": {
   "interpreter": {
    "hash": "78d5379cc5a4e608d385c34b2eb3bb89eeab02a92c9e7d486e469b4c860ee8ca"
   }
  }
 },
 "nbformat": 4,
 "nbformat_minor": 5
}
