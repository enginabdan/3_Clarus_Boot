{
 "cells": [
  {
   "cell_type": "markdown",
   "metadata": {},
   "source": [
    "## NLP with DL"
   ]
  },
  {
   "cell_type": "markdown",
   "metadata": {},
   "source": [
    "## Import libraries"
   ]
  },
  {
   "cell_type": "code",
   "execution_count": 1,
   "metadata": {},
   "outputs": [],
   "source": [
    "import numpy as np\n",
    "import pandas as pd\n",
    "from tensorflow.keras.models import Sequential\n",
    "from tensorflow.keras.layers import Dense, GRU, Embedding\n",
    "from tensorflow.keras.optimizers import Adam\n",
    "from tensorflow.keras.preprocessing.text import Tokenizer\n",
    "from tensorflow.keras.preprocessing.sequence import pad_sequences"
   ]
  },
  {
   "cell_type": "code",
   "execution_count": 2,
   "metadata": {},
   "outputs": [],
   "source": [
    "df = pd.read_csv('hepsiburada.csv')"
   ]
  },
  {
   "cell_type": "code",
   "execution_count": 3,
   "metadata": {},
   "outputs": [
    {
     "data": {
      "text/html": [
       "<div>\n",
       "<style scoped>\n",
       "    .dataframe tbody tr th:only-of-type {\n",
       "        vertical-align: middle;\n",
       "    }\n",
       "\n",
       "    .dataframe tbody tr th {\n",
       "        vertical-align: top;\n",
       "    }\n",
       "\n",
       "    .dataframe thead th {\n",
       "        text-align: right;\n",
       "    }\n",
       "</style>\n",
       "<table border=\"1\" class=\"dataframe\">\n",
       "  <thead>\n",
       "    <tr style=\"text-align: right;\">\n",
       "      <th></th>\n",
       "      <th>Rating</th>\n",
       "      <th>Review</th>\n",
       "    </tr>\n",
       "  </thead>\n",
       "  <tbody>\n",
       "    <tr>\n",
       "      <th>0</th>\n",
       "      <td>1</td>\n",
       "      <td>3 yıldır tık demedi. :)</td>\n",
       "    </tr>\n",
       "    <tr>\n",
       "      <th>1</th>\n",
       "      <td>1</td>\n",
       "      <td>3 yıldır kullanıyorum müthiş</td>\n",
       "    </tr>\n",
       "    <tr>\n",
       "      <th>2</th>\n",
       "      <td>1</td>\n",
       "      <td>Ürün bugün elime geçti çok fazla inceleme fırs...</td>\n",
       "    </tr>\n",
       "    <tr>\n",
       "      <th>3</th>\n",
       "      <td>1</td>\n",
       "      <td>Almaya karar verdim. Hemencecik geldi. Keyifle...</td>\n",
       "    </tr>\n",
       "    <tr>\n",
       "      <th>4</th>\n",
       "      <td>1</td>\n",
       "      <td>Günlük kullanımınızı çok çok iyi karsılıyor kı...</td>\n",
       "    </tr>\n",
       "    <tr>\n",
       "      <th>...</th>\n",
       "      <td>...</td>\n",
       "      <td>...</td>\n",
       "    </tr>\n",
       "    <tr>\n",
       "      <th>243492</th>\n",
       "      <td>1</td>\n",
       "      <td>fiyatına göre güzel</td>\n",
       "    </tr>\n",
       "    <tr>\n",
       "      <th>243493</th>\n",
       "      <td>1</td>\n",
       "      <td>Ürün kullanışlı iş görüyor fazlasıyla eşime al...</td>\n",
       "    </tr>\n",
       "    <tr>\n",
       "      <th>243494</th>\n",
       "      <td>1</td>\n",
       "      <td>Hızlı Kargo, güzel ürün</td>\n",
       "    </tr>\n",
       "    <tr>\n",
       "      <th>243495</th>\n",
       "      <td>1</td>\n",
       "      <td>telefon başarılı hızlı bir cihaz  sadece beyaz...</td>\n",
       "    </tr>\n",
       "    <tr>\n",
       "      <th>243496</th>\n",
       "      <td>1</td>\n",
       "      <td>Urun cok guzel pazar gunu siparis verdim adana...</td>\n",
       "    </tr>\n",
       "  </tbody>\n",
       "</table>\n",
       "<p>243497 rows × 2 columns</p>\n",
       "</div>"
      ],
      "text/plain": [
       "        Rating                                             Review\n",
       "0            1                            3 yıldır tık demedi. :)\n",
       "1            1                      3 yıldır kullanıyorum müthiş \n",
       "2            1  Ürün bugün elime geçti çok fazla inceleme fırs...\n",
       "3            1  Almaya karar verdim. Hemencecik geldi. Keyifle...\n",
       "4            1  Günlük kullanımınızı çok çok iyi karsılıyor kı...\n",
       "...        ...                                                ...\n",
       "243492       1                                fiyatına göre güzel\n",
       "243493       1  Ürün kullanışlı iş görüyor fazlasıyla eşime al...\n",
       "243494       1                            Hızlı Kargo, güzel ürün\n",
       "243495       1  telefon başarılı hızlı bir cihaz  sadece beyaz...\n",
       "243496       1  Urun cok guzel pazar gunu siparis verdim adana...\n",
       "\n",
       "[243497 rows x 2 columns]"
      ]
     },
     "execution_count": 3,
     "metadata": {},
     "output_type": "execute_result"
    }
   ],
   "source": [
    "df"
   ]
  },
  {
   "cell_type": "markdown",
   "metadata": {},
   "source": [
    "## Tokenization"
   ]
  },
  {
   "cell_type": "code",
   "execution_count": 4,
   "metadata": {},
   "outputs": [],
   "source": [
    "X = df['Review'].values\n",
    "y = df['Rating'].values"
   ]
  },
  {
   "cell_type": "code",
   "execution_count": 5,
   "metadata": {},
   "outputs": [],
   "source": [
    "num_words = 15000 # corpusta geçen en fazla kullanılan ilk 15.000 kelimeyi(tokeni) alacağız gerisini yok sayacağız. \n",
    "# None değeri atanırsa tüm kelimeler dikkate alınır.\n",
    "tokenizer = Tokenizer(num_words=num_words) #filters='!\"#$%&()*+,-./:;<=>?@[\\\\]^_`{|}~\\t\\n1234567890' "
   ]
  },
  {
   "cell_type": "code",
   "execution_count": 6,
   "metadata": {},
   "outputs": [],
   "source": [
    "tokenizer.fit_on_texts(X)"
   ]
  },
  {
   "cell_type": "markdown",
   "metadata": {},
   "source": [
    "## Creating word index"
   ]
  },
  {
   "cell_type": "code",
   "execution_count": 7,
   "metadata": {},
   "outputs": [
    {
     "data": {
      "text/plain": [
       "{'çok': 1,\n",
       " 'bir': 2,\n",
       " 've': 3,\n",
       " 'ürün': 4,\n",
       " 'bu': 5,\n",
       " 'iyi': 6,\n",
       " 'güzel': 7,\n",
       " 'için': 8,\n",
       " 'tavsiye': 9,\n",
       " 'ederim': 10,\n",
       " 'daha': 11,\n",
       " 'ama': 12,\n",
       " 'da': 13,\n",
       " 'gayet': 14,\n",
       " 'hızlı': 15,\n",
       " 'teşekkürler': 16,\n",
       " 'aldım': 17,\n",
       " 'de': 18,\n",
       " 'ürünü': 19,\n",
       " 'gibi': 20,\n",
       " 'yok': 21,\n",
       " 'uygun': 22,\n",
       " 'olarak': 23,\n",
       " 'kaliteli': 24,\n",
       " 'en': 25,\n",
       " '2': 26,\n",
       " 'kargo': 27,\n",
       " 'fiyat': 28,\n",
       " 'elime': 29,\n",
       " 'kadar': 30,\n",
       " 'ile': 31,\n",
       " 'göre': 32,\n",
       " 'geldi': 33,\n",
       " 'var': 34,\n",
       " 'hepsiburada': 35,\n",
       " 'ben': 36,\n",
       " 'gerçekten': 37,\n",
       " '1': 38,\n",
       " 'fiyata': 39,\n",
       " 'gün': 40,\n",
       " 'sonra': 41,\n",
       " 'cok': 42,\n",
       " 'kesinlikle': 43,\n",
       " 'telefon': 44,\n",
       " 'biraz': 45,\n",
       " 'hiç': 46,\n",
       " 'ulaştı': 47,\n",
       " 'memnun': 48,\n",
       " 'hem': 49,\n",
       " 'değil': 50,\n",
       " 'kullanışlı': 51,\n",
       " '3': 52,\n",
       " 'mükemmel': 53,\n",
       " 'oldu': 54,\n",
       " 'kullanıyorum': 55,\n",
       " 'önce': 56,\n",
       " 'sipariş': 57,\n",
       " 'tek': 58,\n",
       " 'her': 59,\n",
       " 'bence': 60,\n",
       " 'harika': 61,\n",
       " 'kalitesi': 62,\n",
       " 'bi': 63,\n",
       " 'ayrıca': 64,\n",
       " '5': 65,\n",
       " 'teşekkür': 66,\n",
       " 'fiyatı': 67,\n",
       " 'olması': 68,\n",
       " 'ne': 69,\n",
       " 'herkese': 70,\n",
       " 'bile': 71,\n",
       " 'uzun': 72,\n",
       " 'süper': 73,\n",
       " 'tam': 74,\n",
       " 'zaten': 75,\n",
       " 'fazla': 76,\n",
       " 'ilk': 77,\n",
       " 'o': 78,\n",
       " 'başarılı': 79,\n",
       " 'fakat': 80,\n",
       " 'memnunum': 81,\n",
       " 'ancak': 82,\n",
       " 'ediyorum': 83,\n",
       " 'şarj': 84,\n",
       " 'saat': 85,\n",
       " 'fiyatına': 86,\n",
       " 'oldukça': 87,\n",
       " 'hemen': 88,\n",
       " 'şekilde': 89,\n",
       " 'ses': 90,\n",
       " 'hepsi': 91,\n",
       " 'gerek': 92,\n",
       " 'rahat': 93,\n",
       " 'aynı': 94,\n",
       " '4': 95,\n",
       " 'şık': 96,\n",
       " 'verdim': 97,\n",
       " 'kolay': 98,\n",
       " 'diye': 99,\n",
       " 'ki': 100,\n",
       " 'sadece': 101,\n",
       " 'kaldım': 102,\n",
       " 'diğer': 103,\n",
       " 'büyük': 104,\n",
       " 'sorun': 105,\n",
       " 'alın': 106,\n",
       " 'burada': 107,\n",
       " 'kısa': 108,\n",
       " 'ürünün': 109,\n",
       " 'sorunsuz': 110,\n",
       " 'performans': 111,\n",
       " 'içinde': 112,\n",
       " 'olan': 113,\n",
       " 'günde': 114,\n",
       " 'olsun': 115,\n",
       " 'küçük': 116,\n",
       " 'urun': 117,\n",
       " '10': 118,\n",
       " 'benim': 119,\n",
       " 'başka': 120,\n",
       " 'iki': 121,\n",
       " 'olduğu': 122,\n",
       " 'teslimat': 123,\n",
       " 'com': 124,\n",
       " 'arkadaşlar': 125,\n",
       " 'sağlam': 126,\n",
       " 'oluyor': 127,\n",
       " 'teslim': 128,\n",
       " 'ettim': 129,\n",
       " 'zaman': 130,\n",
       " 'kalite': 131,\n",
       " 'almak': 132,\n",
       " 'az': 133,\n",
       " 'telefonu': 134,\n",
       " 'yeni': 135,\n",
       " 'cihaz': 136,\n",
       " 'marka': 137,\n",
       " 'son': 138,\n",
       " 'koku': 139,\n",
       " 'ise': 140,\n",
       " 'kullandım': 141,\n",
       " 'kokusu': 142,\n",
       " 'derim': 143,\n",
       " 'olduğunu': 144,\n",
       " 'özellikle': 145,\n",
       " 'beğendim': 146,\n",
       " 'sıkıntı': 147,\n",
       " 'ucuz': 148,\n",
       " 'rağmen': 149,\n",
       " 'geçti': 150,\n",
       " 'geliyor': 151,\n",
       " 'guzel': 152,\n",
       " 'bana': 153,\n",
       " 'ya': 154,\n",
       " 'ideal': 155,\n",
       " 'orjinal': 156,\n",
       " 'almıştım': 157,\n",
       " 'yeterli': 158,\n",
       " 'tane': 159,\n",
       " 'hediye': 160,\n",
       " 'sürede': 161,\n",
       " 'yani': 162,\n",
       " 'normal': 163,\n",
       " 'yaklaşık': 164,\n",
       " 'ediyor': 165,\n",
       " 'hafif': 166,\n",
       " 'bunu': 167,\n",
       " 'ekran': 168,\n",
       " 'aldığım': 169,\n",
       " 'veriyor': 170,\n",
       " '6': 171,\n",
       " 'yüksek': 172,\n",
       " 'tüm': 173,\n",
       " 'pişman': 174,\n",
       " 'tercih': 175,\n",
       " 'düşünmeden': 176,\n",
       " 'kötü': 177,\n",
       " 'düşünüyorum': 178,\n",
       " 'numara': 179,\n",
       " 'bi̇r': 180,\n",
       " 'süre': 181,\n",
       " 'kullanımı': 182,\n",
       " 'çıktı': 183,\n",
       " 'günü': 184,\n",
       " 'su': 185,\n",
       " 'adet': 186,\n",
       " 'şey': 187,\n",
       " 'hemde': 188,\n",
       " 'icin': 189,\n",
       " 'hizli': 190,\n",
       " 'çalışıyor': 191,\n",
       " 'ay': 192,\n",
       " 'hb': 193,\n",
       " 'hafta': 194,\n",
       " 'sesi': 195,\n",
       " 'alışveriş': 196,\n",
       " 'farklı': 197,\n",
       " 'kitap': 198,\n",
       " 'yine': 199,\n",
       " 'böyle': 200,\n",
       " 'zor': 201,\n",
       " 'alabilirsiniz': 202,\n",
       " 'hızı': 203,\n",
       " 'çünkü': 204,\n",
       " 'para': 205,\n",
       " 'ertesi': 206,\n",
       " 'bende': 207,\n",
       " 'kullanım': 208,\n",
       " 'sürekli': 209,\n",
       " 'duruyor': 210,\n",
       " 'aldim': 211,\n",
       " 'olur': 212,\n",
       " 'hoş': 213,\n",
       " 'artık': 214,\n",
       " 'yapıyor': 215,\n",
       " 'konusunda': 216,\n",
       " 'yorumlara': 217,\n",
       " 'gönderi': 218,\n",
       " 'olsa': 219,\n",
       " 'gücü': 220,\n",
       " 'şu': 221,\n",
       " 'vardı': 222,\n",
       " 'üründen': 223,\n",
       " 'malzeme': 224,\n",
       " 'biri': 225,\n",
       " 'pratik': 226,\n",
       " 'dışında': 227,\n",
       " 'defa': 228,\n",
       " 'kullandığım': 229,\n",
       " 'şimdi': 230,\n",
       " 'diş': 231,\n",
       " 'samsung': 232,\n",
       " 'onun': 233,\n",
       " 'bugün': 234,\n",
       " 'özelliği': 235,\n",
       " 'iş': 236,\n",
       " 'kurulumu': 237,\n",
       " 'tereddüt': 238,\n",
       " 'şarjı': 239,\n",
       " 'i̇lk': 240,\n",
       " '7': 241,\n",
       " 'ince': 242,\n",
       " 'gelen': 243,\n",
       " 'kullanmaya': 244,\n",
       " 'diyebilirim': 245,\n",
       " 'almayı': 246,\n",
       " 'pek': 247,\n",
       " 'aldık': 248,\n",
       " 'denedim': 249,\n",
       " '8': 250,\n",
       " 'tekrar': 251,\n",
       " 'çabuk': 252,\n",
       " 'karar': 253,\n",
       " 'kez': 254,\n",
       " 'sahip': 255,\n",
       " 'kendi': 256,\n",
       " 'basit': 257,\n",
       " 'dolayı': 258,\n",
       " 'derece': 259,\n",
       " 'veya': 260,\n",
       " 'kamera': 261,\n",
       " 'pil': 262,\n",
       " 'hiçbir': 263,\n",
       " 'öncelikle': 264,\n",
       " 'açısından': 265,\n",
       " 'iphone': 266,\n",
       " 'sonuç': 267,\n",
       " 'yanında': 268,\n",
       " 'sessiz': 269,\n",
       " 'pahalı': 270,\n",
       " 'işe': 271,\n",
       " 'gidiyor': 272,\n",
       " 'dan': 273,\n",
       " 'olmadı': 274,\n",
       " 'öyle': 275,\n",
       " 'tesekkurler': 276,\n",
       " 'bunun': 277,\n",
       " 'beni': 278,\n",
       " 'varsa': 279,\n",
       " 'yer': 280,\n",
       " 'gece': 281,\n",
       " 'zamanında': 282,\n",
       " 'yorum': 283,\n",
       " 'performansı': 284,\n",
       " 'parfüm': 285,\n",
       " 'evde': 286,\n",
       " 'belli': 287,\n",
       " 'eğer': 288,\n",
       " 'oyun': 289,\n",
       " 'ağır': 290,\n",
       " 'iyisi': 291,\n",
       " 'arada': 292,\n",
       " 'mutlaka': 293,\n",
       " 'zamanda': 294,\n",
       " 'usb': 295,\n",
       " 'ufak': 296,\n",
       " 'üzerinde': 297,\n",
       " 'hatta': 298,\n",
       " 'fark': 299,\n",
       " 'gönül': 300,\n",
       " 'paketleme': 301,\n",
       " 'eşim': 302,\n",
       " 'alacak': 303,\n",
       " '15': 304,\n",
       " 'gereken': 305,\n",
       " 'doğru': 306,\n",
       " 'eski': 307,\n",
       " 'herhangi': 308,\n",
       " 'aydır': 309,\n",
       " 'tl': 310,\n",
       " 'kalıcı': 311,\n",
       " 'rahatlıkla': 312,\n",
       " 'vs': 313,\n",
       " 'satın': 314,\n",
       " 'alınabilecek': 315,\n",
       " 'bundan': 316,\n",
       " 'farkı': 317,\n",
       " 'görüntü': 318,\n",
       " 'lazım': 319,\n",
       " 'gercekten': 320,\n",
       " 'şiddetle': 321,\n",
       " 'kullanmak': 322,\n",
       " 'kaçırmayın': 323,\n",
       " 'alırken': 324,\n",
       " 'kargoya': 325,\n",
       " 'yaşamadım': 326,\n",
       " 'mi': 327,\n",
       " 'yaptım': 328,\n",
       " 'prima': 329,\n",
       " 'birlikte': 330,\n",
       " 'gördüm': 331,\n",
       " 'gerekiyor': 332,\n",
       " 'telefonun': 333,\n",
       " 'ürünler': 334,\n",
       " 'ayrı': 335,\n",
       " 'önemli': 336,\n",
       " 'sayesinde': 337,\n",
       " 'bütün': 338,\n",
       " 'yıl': 339,\n",
       " 'gb': 340,\n",
       " 'alalı': 341,\n",
       " 'beklediğimden': 342,\n",
       " 'almaya': 343,\n",
       " 'yerde': 344,\n",
       " 'olmasına': 345,\n",
       " 'tv': 346,\n",
       " 'sabah': 347,\n",
       " 'devam': 348,\n",
       " 'kutu': 349,\n",
       " 'henüz': 350,\n",
       " 'falan': 351,\n",
       " 'sorunu': 352,\n",
       " 'tabi': 353,\n",
       " 'a': 354,\n",
       " '20': 355,\n",
       " 'bakarak': 356,\n",
       " 'sanırım': 357,\n",
       " 'hepsiburadaya': 358,\n",
       " 'kulaklık': 359,\n",
       " 'süresi': 360,\n",
       " 'hala': 361,\n",
       " 'muhteşem': 362,\n",
       " 'dikkat': 363,\n",
       " 'güvenilir': 364,\n",
       " 'rahatsız': 365,\n",
       " 'edilir': 366,\n",
       " 'çıkıyor': 367,\n",
       " 'alıp': 368,\n",
       " 'yüzden': 369,\n",
       " 'toz': 370,\n",
       " 'kere': 371,\n",
       " 'orijinal': 372,\n",
       " 'sağlıyor': 373,\n",
       " 'kamerası': 374,\n",
       " 'dün': 375,\n",
       " 'ürüne': 376,\n",
       " 'düşük': 377,\n",
       " 'spor': 378,\n",
       " 'i̇yi': 379,\n",
       " 'problem': 380,\n",
       " 'öneririm': 381,\n",
       " 'edildi': 382,\n",
       " 'plastik': 383,\n",
       " 'içerisinde': 384,\n",
       " 'makine': 385,\n",
       " 'beri': 386,\n",
       " 'fazlasıyla': 387,\n",
       " 'baya': 388,\n",
       " 'kullanımda': 389,\n",
       " '30': 390,\n",
       " 'tavsi̇ye': 391,\n",
       " 'an': 392,\n",
       " 'yalnız': 393,\n",
       " 'özellikleri': 394,\n",
       " 'on': 395,\n",
       " 'den': 396,\n",
       " 'satıcı': 397,\n",
       " 'ilgili': 398,\n",
       " 'genel': 399,\n",
       " 'oldum': 400,\n",
       " 'kaç': 401,\n",
       " 'etkili': 402,\n",
       " 'sıcak': 403,\n",
       " 'haftadır': 404,\n",
       " 'üstelik': 405,\n",
       " 'fiyatıda': 406,\n",
       " 'olmuş': 407,\n",
       " '24': 408,\n",
       " 'yada': 409,\n",
       " 'hep': 410,\n",
       " 'üst': 411,\n",
       " 'olabilir': 412,\n",
       " 'paket': 413,\n",
       " 'bazı': 414,\n",
       " 'almışım': 415,\n",
       " 'güçlü': 416,\n",
       " 'piyasada': 417,\n",
       " 'yerine': 418,\n",
       " 'arasında': 419,\n",
       " 'renk': 420,\n",
       " 'inanılmaz': 421,\n",
       " 'arkadaşlara': 422,\n",
       " 'paraya': 423,\n",
       " 'kurulum': 424,\n",
       " 'umarım': 425,\n",
       " 'sert': 426,\n",
       " 'kitabı': 427,\n",
       " 'ederi̇m': 428,\n",
       " 'olmuyor': 429,\n",
       " 'fena': 430,\n",
       " 'gitti': 431,\n",
       " 'servis': 432,\n",
       " 'altında': 433,\n",
       " 'üzerine': 434,\n",
       " 'nasıl': 435,\n",
       " 'birde': 436,\n",
       " 'ye': 437,\n",
       " 'gelince': 438,\n",
       " 'birşey': 439,\n",
       " 'note': 440,\n",
       " 'yorumları': 441,\n",
       " 'başladım': 442,\n",
       " 'olanlar': 443,\n",
       " 'ön': 444,\n",
       " '0': 445,\n",
       " 'dk': 446,\n",
       " 'üründe': 447,\n",
       " 'sanki': 448,\n",
       " 'kalitesini': 449,\n",
       " 'i̇yi̇': 450,\n",
       " 'sarj': 451,\n",
       " 'almadan': 452,\n",
       " 'etti': 453,\n",
       " 'alıyorum': 454,\n",
       " 'ev': 455,\n",
       " 'cihazı': 456,\n",
       " 'kullanıyoruz': 457,\n",
       " 'geç': 458,\n",
       " 'eşime': 459,\n",
       " 'görünce': 460,\n",
       " 'memnunuz': 461,\n",
       " 'yıldır': 462,\n",
       " 'edici': 463,\n",
       " 'bez': 464,\n",
       " 'arka': 465,\n",
       " 'saatte': 466,\n",
       " 'anda': 467,\n",
       " 'tamamen': 468,\n",
       " 'hizmet': 469,\n",
       " 'çekim': 470,\n",
       " 'herkes': 471,\n",
       " 'parmak': 472,\n",
       " 'akşam': 473,\n",
       " 'tutuyor': 474,\n",
       " 'geçen': 475,\n",
       " 'gore': 476,\n",
       " 'android': 477,\n",
       " 'elimize': 478,\n",
       " '12': 479,\n",
       " 'telefona': 480,\n",
       " 'temizlik': 481,\n",
       " 'görünüyor': 482,\n",
       " 'yumuşak': 483,\n",
       " 'kablo': 484,\n",
       " 'buradan': 485,\n",
       " '100': 486,\n",
       " 'kısmı': 487,\n",
       " 'size': 488,\n",
       " 'orta': 489,\n",
       " 'piyasadaki': 490,\n",
       " 'net': 491,\n",
       " 'hak': 492,\n",
       " 'yere': 493,\n",
       " 'günlük': 494,\n",
       " 'beğendi': 495,\n",
       " 'rahatlığıyla': 496,\n",
       " 'eder': 497,\n",
       " 'hız': 498,\n",
       " 'müzik': 499,\n",
       " 'kalın': 500,\n",
       " 'siyah': 501,\n",
       " 'urunu': 502,\n",
       " 'degil': 503,\n",
       " 'bedava': 504,\n",
       " 'istediğim': 505,\n",
       " 'oğlum': 506,\n",
       " 'saç': 507,\n",
       " 'güvenli': 508,\n",
       " 'kılıf': 509,\n",
       " 'onu': 510,\n",
       " 'yıldız': 511,\n",
       " 'yoksa': 512,\n",
       " 'çıkan': 513,\n",
       " 'hesaplı': 514,\n",
       " 'etmeden': 515,\n",
       " 'hava': 516,\n",
       " 'piyasaya': 517,\n",
       " 'kilo': 518,\n",
       " 'ışık': 519,\n",
       " 'neredeyse': 520,\n",
       " 'fotoğraf': 521,\n",
       " 'i̇çi̇n': 522,\n",
       " 'tşk': 523,\n",
       " 'belki': 524,\n",
       " 'olurdu': 525,\n",
       " 'kablosu': 526,\n",
       " 'bır': 527,\n",
       " 'mı': 528,\n",
       " 'gündür': 529,\n",
       " 'temiz': 530,\n",
       " 'garantili': 531,\n",
       " 'içine': 532,\n",
       " 'alınabilir': 533,\n",
       " 'herşey': 534,\n",
       " 'almanızı': 535,\n",
       " 'siparişi': 536,\n",
       " 'olmaz': 537,\n",
       " 'keşke': 538,\n",
       " 'kendini': 539,\n",
       " 'olacak': 540,\n",
       " 'yakın': 541,\n",
       " 'rengi': 542,\n",
       " 'gun': 543,\n",
       " 'süpürge': 544,\n",
       " 'traş': 545,\n",
       " 'çift': 546,\n",
       " 'şuan': 547,\n",
       " 'gönderim': 548,\n",
       " 'buna': 549,\n",
       " 'motor': 550,\n",
       " 'birkaç': 551,\n",
       " 'hoşuma': 552,\n",
       " 'tasarımı': 553,\n",
       " 'kaldık': 554,\n",
       " 'verdiğim': 555,\n",
       " 'hic': 556,\n",
       " 'değer': 557,\n",
       " 'yağ': 558,\n",
       " 'ekonomik': 559,\n",
       " 'dedim': 560,\n",
       " 'tatmin': 561,\n",
       " 'isteyenlere': 562,\n",
       " 'içinden': 563,\n",
       " 'araştırdım': 564,\n",
       " 'oda': 565,\n",
       " 'yıllardır': 566,\n",
       " 'mevcut': 567,\n",
       " 'kızım': 568,\n",
       " 'kalıyor': 569,\n",
       " 'yapmak': 570,\n",
       " 'buldum': 571,\n",
       " 'şimdilik': 572,\n",
       " 'yanı': 573,\n",
       " 'makina': 574,\n",
       " 'görüyor': 575,\n",
       " 'model': 576,\n",
       " 'kargoda': 577,\n",
       " 'kaldı': 578,\n",
       " '9': 579,\n",
       " 'üstünde': 580,\n",
       " 'avantaj': 581,\n",
       " 'sizi': 582,\n",
       " 'alet': 583,\n",
       " 'müthiş': 584,\n",
       " 'metal': 585,\n",
       " 'ürünleri': 586,\n",
       " 'mouse': 587,\n",
       " 'beraber': 588,\n",
       " 'bebek': 589,\n",
       " 'kullanıyordum': 590,\n",
       " 'geri': 591,\n",
       " 'ederiz': 592,\n",
       " 'başta': 593,\n",
       " 'makul': 594,\n",
       " 'olmazsınız': 595,\n",
       " 'apple': 596,\n",
       " 'yaptı': 597,\n",
       " 'okudum': 598,\n",
       " 'elimde': 599,\n",
       " 'görür': 600,\n",
       " 'olduğundan': 601,\n",
       " 'fiyatının': 602,\n",
       " 'açık': 603,\n",
       " 'üzerinden': 604,\n",
       " 'aşırı': 605,\n",
       " 'özellik': 606,\n",
       " 'e': 607,\n",
       " 'olanlara': 608,\n",
       " 'izi': 609,\n",
       " 'garanti': 610,\n",
       " 'film': 611,\n",
       " 'biz': 612,\n",
       " 'yavaş': 613,\n",
       " 'ucuza': 614,\n",
       " 'bişey': 615,\n",
       " 'tartışılmaz': 616,\n",
       " 'sene': 617,\n",
       " 'super': 618,\n",
       " 'site': 619,\n",
       " 'birçok': 620,\n",
       " 'ücretsiz': 621,\n",
       " 'sonunda': 622,\n",
       " 'ısınma': 623,\n",
       " 'saati': 624,\n",
       " 'batarya': 625,\n",
       " 'kapalı': 626,\n",
       " 'olumsuz': 627,\n",
       " 'alan': 628,\n",
       " 'hediyesi': 629,\n",
       " 'kullaniyorum': 630,\n",
       " 'yapmıyor': 631,\n",
       " 'eve': 632,\n",
       " 'evet': 633,\n",
       " 'önceki': 634,\n",
       " 'sık': 635,\n",
       " 'hakkını': 636,\n",
       " 'beklediğim': 637,\n",
       " 'kelimeyle': 638,\n",
       " 'beyaz': 639,\n",
       " 'zorunda': 640,\n",
       " 'üç': 641,\n",
       " 'kat': 642,\n",
       " 'telefonda': 643,\n",
       " 'tasarım': 644,\n",
       " 'dakika': 645,\n",
       " 'etmek': 646,\n",
       " 'uyumlu': 647,\n",
       " 'önceden': 648,\n",
       " 'olunca': 649,\n",
       " 'severek': 650,\n",
       " 'isteyenler': 651,\n",
       " 'diyorum': 652,\n",
       " 'çanta': 653,\n",
       " 'el': 654,\n",
       " 'istedim': 655,\n",
       " 'iyiki': 656,\n",
       " 'kullanın': 657,\n",
       " 'yoktu': 658,\n",
       " 'sıkıntısı': 659,\n",
       " 'ikinci': 660,\n",
       " 'yorumlarda': 661,\n",
       " 'çekiyor': 662,\n",
       " 'bilmiyorum': 663,\n",
       " 'kullanma': 664,\n",
       " 'araç': 665,\n",
       " 'edin': 666,\n",
       " 'görüntüsü': 667,\n",
       " 'firma': 668,\n",
       " 'alıyor': 669,\n",
       " 'hepsi̇burada': 670,\n",
       " 'alt': 671,\n",
       " 'olmadan': 672,\n",
       " 'bazen': 673,\n",
       " 'dayanıklı': 674,\n",
       " 'olmaması': 675,\n",
       " 'ona': 676,\n",
       " 'iade': 677,\n",
       " 'fiyatlı': 678,\n",
       " 'internet': 679,\n",
       " 'geniş': 680,\n",
       " 'philips': 681,\n",
       " 'koltuk': 682,\n",
       " 'elimdeydi': 683,\n",
       " 'kullanan': 684,\n",
       " 'yaparken': 685,\n",
       " 'derecede': 686,\n",
       " 'asla': 687,\n",
       " '16': 688,\n",
       " 'kalitede': 689,\n",
       " 'taktım': 690,\n",
       " 'resmen': 691,\n",
       " 'eden': 692,\n",
       " 'halde': 693,\n",
       " 'merhaba': 694,\n",
       " 'mukemmel': 695,\n",
       " 'hassas': 696,\n",
       " 'başladı': 697,\n",
       " 'zarar': 698,\n",
       " 'kalitesiz': 699,\n",
       " 'aylık': 700,\n",
       " 'açıkçası': 701,\n",
       " 'mutlu': 702,\n",
       " 'alin': 703,\n",
       " 'yeri': 704,\n",
       " 'ram': 705,\n",
       " 'neden': 706,\n",
       " 'eksiksiz': 707,\n",
       " 'paketlenmiş': 708,\n",
       " 'idi': 709,\n",
       " 'idare': 710,\n",
       " 'iyiydi': 711,\n",
       " 'olabilirdi': 712,\n",
       " 'yarıyor': 713,\n",
       " 'gerekli': 714,\n",
       " 'olduğum': 715,\n",
       " '50': 716,\n",
       " 'parfümü': 717,\n",
       " 'buradaya': 718,\n",
       " 'kelime': 719,\n",
       " 'herkesin': 720,\n",
       " 'olmasi': 721,\n",
       " 'ara': 722,\n",
       " 'verildi': 723,\n",
       " 'yoğun': 724,\n",
       " 'etkisi': 725,\n",
       " 'vermeye': 726,\n",
       " 'saçlarım': 727,\n",
       " 'siz': 728,\n",
       " 'kullanıyor': 729,\n",
       " 'b': 730,\n",
       " '40': 731,\n",
       " 'zamandır': 732,\n",
       " 'yapan': 733,\n",
       " 'olmayan': 734,\n",
       " 'yorumlar': 735,\n",
       " 'ayrica': 736,\n",
       " 'yinede': 737,\n",
       " 'kendim': 738,\n",
       " 'ulasti': 739,\n",
       " 'hafıza': 740,\n",
       " 'etmiyor': 741,\n",
       " 'almış': 742,\n",
       " 'yapılmış': 743,\n",
       " 'verdikten': 744,\n",
       " 'kendime': 745,\n",
       " 'yedek': 746,\n",
       " 'düşünenlere': 747,\n",
       " 'durum': 748,\n",
       " 'sonuçta': 749,\n",
       " 'yerden': 750,\n",
       " 'etmiyorum': 751,\n",
       " 'video': 752,\n",
       " 'çekiş': 753,\n",
       " 'cuma': 754,\n",
       " 'cam': 755,\n",
       " 'uygulama': 756,\n",
       " 'içi': 757,\n",
       " 'işi': 758,\n",
       " 'eksik': 759,\n",
       " 'ihtiyacı': 760,\n",
       " 'eksiği': 761,\n",
       " 'faydalı': 762,\n",
       " 'göz': 763,\n",
       " 'deneme': 764,\n",
       " 'isteyen': 765,\n",
       " 'acaba': 766,\n",
       " 'kısacası': 767,\n",
       " 'kullanabilirsiniz': 768,\n",
       " 'merak': 769,\n",
       " 'temizliyor': 770,\n",
       " 'ürünle': 771,\n",
       " 'rahatlığı': 772,\n",
       " 'p': 773,\n",
       " 'türkiye': 774,\n",
       " 'hepsiburadadan': 775,\n",
       " 'aldı': 776,\n",
       " 'görmedim': 777,\n",
       " 'test': 778,\n",
       " 'ana': 779,\n",
       " 'aldıktan': 780,\n",
       " 'aleti': 781,\n",
       " 'şimdiye': 782,\n",
       " 'yapıyorum': 783,\n",
       " 'olumlu': 784,\n",
       " 'hakkında': 785,\n",
       " 'piyasa': 786,\n",
       " 'ekranı': 787,\n",
       " 'mümkün': 788,\n",
       " 'kış': 789,\n",
       " 'siparis': 790,\n",
       " 'd': 791,\n",
       " 'malı': 792,\n",
       " 'elinize': 793,\n",
       " 'km': 794,\n",
       " 'gösteriyor': 795,\n",
       " 'haricinde': 796,\n",
       " 'donma': 797,\n",
       " 'denemek': 798,\n",
       " 'türlü': 799,\n",
       " 'i': 800,\n",
       " 'alacaklara': 801,\n",
       " 'elde': 802,\n",
       " 'dış': 803,\n",
       " 'dokunmatik': 804,\n",
       " 'gerçek': 805,\n",
       " 'tabiki': 806,\n",
       " 'ürünlere': 807,\n",
       " 'boyutu': 808,\n",
       " 'hissi': 809,\n",
       " 'söyleyebilirim': 810,\n",
       " 'cabası': 811,\n",
       " 'kaldim': 812,\n",
       " 'emiş': 813,\n",
       " 'kanal': 814,\n",
       " 'takip': 815,\n",
       " 'problemi': 816,\n",
       " 'tavsiyem': 817,\n",
       " 'kargolama': 818,\n",
       " 'aslında': 819,\n",
       " 'dahi': 820,\n",
       " 'yardımcı': 821,\n",
       " 'akıcı': 822,\n",
       " 'ütü': 823,\n",
       " 'konuda': 824,\n",
       " 'hayırlı': 825,\n",
       " 'değilim': 826,\n",
       " 'herkeze': 827,\n",
       " 'karşı': 828,\n",
       " 'markanın': 829,\n",
       " 'kutusu': 830,\n",
       " 'elektrik': 831,\n",
       " 'yaz': 832,\n",
       " 'yerli': 833,\n",
       " 'tavsıye': 834,\n",
       " 'emin': 835,\n",
       " 's': 836,\n",
       " 'lg': 837,\n",
       " 'once': 838,\n",
       " 'araba': 839,\n",
       " 'pazartesi': 840,\n",
       " 'f': 841,\n",
       " 'kullandıktan': 842,\n",
       " 'yatak': 843,\n",
       " 'zarif': 844,\n",
       " 'gelir': 845,\n",
       " 'beden': 846,\n",
       " 'özel': 847,\n",
       " 'ciddi': 848,\n",
       " 'kontrol': 849,\n",
       " 'olmak': 850,\n",
       " 'i̇ki': 851,\n",
       " 'zamanla': 852,\n",
       " 'fayda': 853,\n",
       " 'istiyorsanız': 854,\n",
       " 'bağlantı': 855,\n",
       " 'sıfır': 856,\n",
       " 'çıkmadı': 857,\n",
       " 'ayni': 858,\n",
       " 'parasını': 859,\n",
       " 'fön': 860,\n",
       " 'anladım': 861,\n",
       " 'düzgün': 862,\n",
       " 'olmadığı': 863,\n",
       " 'fiyatını': 864,\n",
       " 'kibar': 865,\n",
       " 'veren': 866,\n",
       " 'sağlıklı': 867,\n",
       " 'birisi': 868,\n",
       " 'soğuk': 869,\n",
       " 'montaj': 870,\n",
       " 'klasik': 871,\n",
       " 'parça': 872,\n",
       " 'yarım': 873,\n",
       " 'telefondan': 874,\n",
       " 'okuma': 875,\n",
       " 'makinesi': 876,\n",
       " 'verilen': 877,\n",
       " 'düzenli': 878,\n",
       " 'düşünmeyin': 879,\n",
       " 'kullanılabilir': 880,\n",
       " 'koruyucu': 881,\n",
       " 'anneme': 882,\n",
       " 'hale': 883,\n",
       " 'ömrü': 884,\n",
       " 'kalitesine': 885,\n",
       " 'bulmak': 886,\n",
       " 'kullanmadım': 887,\n",
       " 'saglam': 888,\n",
       " 'normalde': 889,\n",
       " 'cm': 890,\n",
       " 'xiaomi': 891,\n",
       " 'beklemeyin': 892,\n",
       " 'çoğu': 893,\n",
       " 'pili': 894,\n",
       " 'çocuk': 895,\n",
       " 'bakımından': 896,\n",
       " 'birebir': 897,\n",
       " 'yazma': 898,\n",
       " 'boyu': 899,\n",
       " 'hareket': 900,\n",
       " 'siteden': 901,\n",
       " 'cihazın': 902,\n",
       " 'led': 903,\n",
       " 'tahmin': 904,\n",
       " 'kapak': 905,\n",
       " 'bilgisayar': 906,\n",
       " 'ısınıyor': 907,\n",
       " 'eksi': 908,\n",
       " 'gelmesi': 909,\n",
       " 'kalmadı': 910,\n",
       " 'begendim': 911,\n",
       " 'kullanisli': 912,\n",
       " 'verip': 913,\n",
       " 'günden': 914,\n",
       " 'kaçmaz': 915,\n",
       " 'sürükleyici': 916,\n",
       " 'sonucu': 917,\n",
       " 'markası': 918,\n",
       " 'indirim': 919,\n",
       " 'oranı': 920,\n",
       " 'arkadaşım': 921,\n",
       " 'telefonum': 922,\n",
       " 'temizliği': 923,\n",
       " 'şarjlı': 924,\n",
       " 'kullanırken': 925,\n",
       " 'zayıf': 926,\n",
       " 'tesekkur': 927,\n",
       " 'çıkarıyor': 928,\n",
       " 'karşıladı': 929,\n",
       " 'sistemi': 930,\n",
       " 'akıllı': 931,\n",
       " 'ortalama': 932,\n",
       " 'direk': 933,\n",
       " 'alınır': 934,\n",
       " 'olsaydı': 935,\n",
       " 'arkadaslar': 936,\n",
       " 'profesyonel': 937,\n",
       " 'boşuna': 938,\n",
       " 'hd': 939,\n",
       " 'sony': 940,\n",
       " 'iç': 941,\n",
       " 'ekstra': 942,\n",
       " 'yi': 943,\n",
       " 'kuru': 944,\n",
       " 'sonrası': 945,\n",
       " 'almayın': 946,\n",
       " 'lik': 947,\n",
       " 'kusursuz': 948,\n",
       " 'başlık': 949,\n",
       " 'seviyede': 950,\n",
       " 'bluetooth': 951,\n",
       " 'kullanmıştım': 952,\n",
       " 'burda': 953,\n",
       " 'genelde': 954,\n",
       " 'kokuyu': 955,\n",
       " 'olacağını': 956,\n",
       " 'siparişim': 957,\n",
       " 'burdan': 958,\n",
       " 'kampanya': 959,\n",
       " 'nin': 960,\n",
       " 'olanı': 961,\n",
       " 'vestel': 962,\n",
       " 'alacağım': 963,\n",
       " 'tarafı': 964,\n",
       " 'insan': 965,\n",
       " 'artı': 966,\n",
       " 'paketi': 967,\n",
       " 'ayarı': 968,\n",
       " 'karşılıyor': 969,\n",
       " 'üstüne': 970,\n",
       " 'premium': 971,\n",
       " 'kalıcılığı': 972,\n",
       " 'eminim': 973,\n",
       " 'olup': 974,\n",
       " 'ürünlerden': 975,\n",
       " 'malzemesi': 976,\n",
       " 'mavi': 977,\n",
       " 'buradaki': 978,\n",
       " 'markalara': 979,\n",
       " 'parlak': 980,\n",
       " 'söz': 981,\n",
       " 'ergonomik': 982,\n",
       " 'yaptığım': 983,\n",
       " 'kendisi': 984,\n",
       " 'düşünen': 985,\n",
       " 'hızlıydı': 986,\n",
       " 'kasma': 987,\n",
       " 'fiyatta': 988,\n",
       " 'enerji': 989,\n",
       " 'kolayca': 990,\n",
       " 'yan': 991,\n",
       " 'pc': 992,\n",
       " '00': 993,\n",
       " 'bol': 994,\n",
       " 'kablosuz': 995,\n",
       " 'full': 996,\n",
       " 'işinizi': 997,\n",
       " 'modeli': 998,\n",
       " 'oturuyor': 999,\n",
       " 'kişi': 1000,\n",
       " ...}"
      ]
     },
     "execution_count": 7,
     "metadata": {},
     "output_type": "execute_result"
    }
   ],
   "source": [
    "tokenizer.word_index"
   ]
  },
  {
   "cell_type": "code",
   "execution_count": 8,
   "metadata": {},
   "outputs": [
    {
     "data": {
      "text/plain": [
       "217983"
      ]
     },
     "execution_count": 8,
     "metadata": {},
     "output_type": "execute_result"
    }
   ],
   "source": [
    "len(tokenizer.word_index)"
   ]
  },
  {
   "cell_type": "markdown",
   "metadata": {},
   "source": [
    "## Converting tokens to numeric"
   ]
  },
  {
   "cell_type": "code",
   "execution_count": 9,
   "metadata": {},
   "outputs": [],
   "source": [
    "X_num_tokens = tokenizer.texts_to_sequences(X)"
   ]
  },
  {
   "cell_type": "code",
   "execution_count": 10,
   "metadata": {},
   "outputs": [
    {
     "data": {
      "text/plain": [
       "'Logitech ürünlerinin geneli kalite olarak çok iyidir. Adedini tam saymadım ama 10 un üzerinde kendime akrabalarıma arkadaşlarıma almışımdır hepside memnunlar. İhtiyacı olan kaçırmasın başkada ürün aramasın derim.'"
      ]
     },
     "execution_count": 10,
     "metadata": {},
     "output_type": "execute_result"
    }
   ],
   "source": [
    "X[105]"
   ]
  },
  {
   "cell_type": "code",
   "execution_count": 11,
   "metadata": {},
   "outputs": [
    {
     "name": "stdout",
     "output_type": "stream",
     "text": [
      "[1816, 5360, 131, 23, 1, 1849, 74, 12, 118, 1533, 297, 745, 3216, 13402, 6326, 5030, 2463, 113, 2534, 8858, 4, 143]\n"
     ]
    }
   ],
   "source": [
    "print(X_num_tokens[105])"
   ]
  },
  {
   "cell_type": "code",
   "execution_count": 12,
   "metadata": {},
   "outputs": [
    {
     "data": {
      "text/plain": [
       "22"
      ]
     },
     "execution_count": 12,
     "metadata": {},
     "output_type": "execute_result"
    }
   ],
   "source": [
    "len(X_num_tokens[105])"
   ]
  },
  {
   "cell_type": "code",
   "execution_count": 13,
   "metadata": {},
   "outputs": [
    {
     "data": {
      "text/plain": [
       "18"
      ]
     },
     "execution_count": 13,
     "metadata": {},
     "output_type": "execute_result"
    }
   ],
   "source": [
    "len(X_num_tokens[106])"
   ]
  },
  {
   "cell_type": "code",
   "execution_count": 14,
   "metadata": {},
   "outputs": [],
   "source": [
    "num_tokens = [len(tokens) for tokens in X_num_tokens]\n",
    "num_tokens = np.array(num_tokens)"
   ]
  },
  {
   "cell_type": "markdown",
   "metadata": {},
   "source": [
    "## Maximum number of tokens for all documents"
   ]
  },
  {
   "cell_type": "code",
   "execution_count": 15,
   "metadata": {},
   "outputs": [
    {
     "data": {
      "text/plain": [
       "21.36101060793357"
      ]
     },
     "execution_count": 15,
     "metadata": {},
     "output_type": "execute_result"
    }
   ],
   "source": [
    "num_tokens.mean()"
   ]
  },
  {
   "cell_type": "code",
   "execution_count": 16,
   "metadata": {},
   "outputs": [
    {
     "data": {
      "text/plain": [
       "298"
      ]
     },
     "execution_count": 16,
     "metadata": {},
     "output_type": "execute_result"
    }
   ],
   "source": [
    "num_tokens.max()"
   ]
  },
  {
   "cell_type": "code",
   "execution_count": 17,
   "metadata": {},
   "outputs": [
    {
     "data": {
      "text/plain": [
       "21941"
      ]
     },
     "execution_count": 17,
     "metadata": {},
     "output_type": "execute_result"
    }
   ],
   "source": [
    "num_tokens.argmax() # listedeki en uzun yorumun indexini argmax ile bulabiliyoruz."
   ]
  },
  {
   "cell_type": "code",
   "execution_count": 18,
   "metadata": {},
   "outputs": [
    {
     "data": {
      "text/plain": [
       "'Özellikle bu kısma yazıyorum iyice okuyunuz,cihazın hızı çok iyi.Isınma normal boyutlarda.Kamerası elinizi sabit tutarsanız ve gündüz çok net gece ise çok net çekmez.Görüntülü konuşma özelliği yok ancak uygulama ile olur,anten çekimi gayet iyi.Parmak izi okuyucusu gayet hızlı bazen tuşu silmenizi istiyor ve okuyamıyor kirden vs...Ön kamera da tatmin edici,çekim esnasında ekran beyaz ışık vererek flaş görevi görür.Batarya bana 1 hafta gidiyor sık kullanımda ise 2-3 gün gidiyor.Hızlı şarj 1 saatte doluyor , şekilleri ele oturuyor ve şık bir görüntü var.Telefonu aldığım gün gittim ve ilk girdiğim yerden ekran koruyucu ve kılıf buldum.Kulaklık sesi çok net ve yüksek ancak kendi hoparlörü biraz zayıf sesi.Ekrana bakarken açık kalma özelliği yok.Diğer akıllı cihaz özellikleri %90 ı bu cihazda mevcut.Güç tasarrufu 2 ayrı modu var ve çok başarılı çalışıyor.4gb ram var genelde yarısı boş kalıyor.Bir de yeni cihazların çoğu titreşimi az ve sesi de az çıkıyor.Bu cihaz da içine dahil...Bu cihazlar güncelleme almaz ve rom bulunmuyormuş.Benim için güncelleme sorun olmaz -cihaz parasına göre s serisi ile yarışıyor çünkü.Biraz metal olmasından dolayı elden kolay kaysada duruşu ve gösterişi iyidir.Çift flaşı var arkada.Kısaca şöyle ki bu fiyata bu ürün alınır.5 aydır kullanıyorum kasma donma felan zaten olmaz,bataryası iyi,şekli iyi,özellikler de iyi....En büyük kafa karıştıran soru şu ki hadi cihaz arıza yaptı veya düştü ekranı kırıldı.Bunun bir servisi var,ithalatçı garantisi de var.Cihazın adı sanı belli...Parça bulanmaz tamir olmaz derseniz size kalmış.Zaten normal bir cihazı da düşürseniz farkedermi?.Güncelleme almaz diyorlar bu konuda düşünebilirsiniz.S serisi cihazlarla hızını kıyaslarsınız ama güncelleme ile araya fark koymuşlar.İki katı fiyata satılan cihazla farkı olmasa zaten olmaz değil mi?Almayı düşünenler başka bir cihazla kıyas yapacaksa yine  7pro veya 9 baksınlar.C5 pro da biraz boyutu kısa ve kibar....Sonuçta ömürlük değil alın fazla düşünmeyin'"
      ]
     },
     "execution_count": 18,
     "metadata": {},
     "output_type": "execute_result"
    }
   ],
   "source": [
    "X[21941]"
   ]
  },
  {
   "cell_type": "code",
   "execution_count": 19,
   "metadata": {},
   "outputs": [
    {
     "data": {
      "text/plain": [
       "71440"
      ]
     },
     "execution_count": 19,
     "metadata": {},
     "output_type": "execute_result"
    }
   ],
   "source": [
    "sum(num_tokens < 10)"
   ]
  },
  {
   "cell_type": "code",
   "execution_count": 20,
   "metadata": {},
   "outputs": [],
   "source": [
    "max_tokens = 61"
   ]
  },
  {
   "cell_type": "code",
   "execution_count": 21,
   "metadata": {},
   "outputs": [
    {
     "data": {
      "text/plain": [
       "0.9598968365113328"
      ]
     },
     "execution_count": 21,
     "metadata": {},
     "output_type": "execute_result"
    }
   ],
   "source": [
    "sum(num_tokens < max_tokens) / len(num_tokens)"
   ]
  },
  {
   "cell_type": "code",
   "execution_count": 22,
   "metadata": {},
   "outputs": [
    {
     "data": {
      "text/plain": [
       "233732"
      ]
     },
     "execution_count": 22,
     "metadata": {},
     "output_type": "execute_result"
    }
   ],
   "source": [
    "sum(num_tokens < max_tokens)"
   ]
  },
  {
   "cell_type": "code",
   "execution_count": 23,
   "metadata": {},
   "outputs": [
    {
     "data": {
      "text/plain": [
       "243497"
      ]
     },
     "execution_count": 23,
     "metadata": {},
     "output_type": "execute_result"
    }
   ],
   "source": [
    "len(num_tokens)"
   ]
  },
  {
   "cell_type": "markdown",
   "metadata": {},
   "source": [
    "## Fixing token counts of all documents (pad_sequences)"
   ]
  },
  {
   "cell_type": "code",
   "execution_count": 24,
   "metadata": {},
   "outputs": [],
   "source": [
    "X_pad = pad_sequences(X_num_tokens, maxlen=max_tokens)"
   ]
  },
  {
   "cell_type": "code",
   "execution_count": 25,
   "metadata": {},
   "outputs": [
    {
     "data": {
      "text/plain": [
       "(243497, 61)"
      ]
     },
     "execution_count": 25,
     "metadata": {},
     "output_type": "execute_result"
    }
   ],
   "source": [
    "X_pad.shape"
   ]
  },
  {
   "cell_type": "code",
   "execution_count": 26,
   "metadata": {},
   "outputs": [
    {
     "data": {
      "text/plain": [
       "array([  19,  341,   52,  194,   30,   54, 7992,   55,  209,  603, 7887,\n",
       "          3,   36,  114,  164,  479,   85,    1, 1682,  782,   30,    2,\n",
       "        380,  326,    3,    1,   81,  132,  562,    9,   10])"
      ]
     },
     "execution_count": 26,
     "metadata": {},
     "output_type": "execute_result"
    }
   ],
   "source": [
    "np.array(X_num_tokens[800])"
   ]
  },
  {
   "cell_type": "code",
   "execution_count": 27,
   "metadata": {},
   "outputs": [
    {
     "data": {
      "text/plain": [
       "array([   0,    0,    0,    0,    0,    0,    0,    0,    0,    0,    0,\n",
       "          0,    0,    0,    0,    0,    0,    0,    0,    0,    0,    0,\n",
       "          0,    0,    0,    0,    0,    0,    0,    0,   19,  341,   52,\n",
       "        194,   30,   54, 7992,   55,  209,  603, 7887,    3,   36,  114,\n",
       "        164,  479,   85,    1, 1682,  782,   30,    2,  380,  326,    3,\n",
       "          1,   81,  132,  562,    9,   10])"
      ]
     },
     "execution_count": 27,
     "metadata": {},
     "output_type": "execute_result"
    }
   ],
   "source": [
    "X_pad[800]"
   ]
  },
  {
   "cell_type": "code",
   "execution_count": 28,
   "metadata": {},
   "outputs": [
    {
     "data": {
      "text/plain": [
       "array([ 1789,  2440,     7,    44,  1837,    38,    84,   250,    85,\n",
       "          84,  2181,    41,    26,   134,   209,     3,   716,    11,\n",
       "         795,     5,  1478,    58,  1478,    72,   181,  1943,    44,\n",
       "        1433,  4082,   947,   625,   636,    26,  2817,  5518,  3515,\n",
       "         241,  1158,  1174,   454,   874,   755,     1,     7,     3,\n",
       "          45,  2555,     1,     6,   585,  1068,  1160,   170,   811,\n",
       "        2440,  1455,   472,  1785,  2704,  2223,   182,    49,     1,\n",
       "           6,   188,     1,   402,    65,    65,  2330,   345, 13609,\n",
       "         104,  1427,    46,    52,   261,    63,  3515,   260,   232,\n",
       "        2108,    50,    12,     2, 10826,  5593,     5,    31, 12274,\n",
       "        4819,     2,  2731,    60,    28,   111,  9906,     1,    79,\n",
       "         571,  3637,   546,  5455,     1,     6,  2714,   373,   118,\n",
       "         604,   250,  7804,  5277,  6164,  1263,    23,  2871,    14,\n",
       "           6,   133,    56,  8334,    20,  3515,  1174,   170,    14,\n",
       "           3,   402,  1290,   340,   740,    34,   250,   340,   256,\n",
       "        1659,  2696,  2841,   408,   340,   740,   569,  1368,    18,\n",
       "        7021,    71,     5,   988,     2,    44,  9005,   250,   260,\n",
       "         688,   340,   740,  1290,    68,     1,     6,   407,    52,\n",
       "         340,   705,    34,  1102,     7,  3344,    36,   146,   582,\n",
       "        9328,   741,    25,   552,  1943,   868,    18,   140,   168,\n",
       "         420,    62,    54,    37,     1,  2059,     3,     1,    24,\n",
       "         667,    34,  3632,  1514,   792,   699,     2,  2609,    21,\n",
       "         162,   338,  3409,   167,  6030,   101,   759,  4453,   964,\n",
       "          90,    62,    54,   819,    90,    62,    90,   930,    34,\n",
       "          12,     1,   133,    90,   367,     1,    24,    80,   133,\n",
       "          90,   245,  2219,  9352,     5,    39,   315,    25,     6,\n",
       "          44,   245,  2233,     8,  9698,   167,    37,   275,   232,\n",
       "           5,  3979,   134,  7919,  2118,   310,   437,  4901,    36,\n",
       "          25,   138,   940,   590,     3,  1625,   590,    12,     5,\n",
       "         874,   335,     2,  2204,    17,   501,   420,   961,    17,\n",
       "          36,  4289,  2091,  2740,    60,     1,    96,     9,    10,\n",
       "         898,  4239])"
      ]
     },
     "execution_count": 28,
     "metadata": {},
     "output_type": "execute_result"
    }
   ],
   "source": [
    "np.array(X_num_tokens[212558])"
   ]
  },
  {
   "cell_type": "code",
   "execution_count": 29,
   "metadata": {},
   "outputs": [
    {
     "data": {
      "text/plain": [
       "array([ 367,    1,   24,   80,  133,   90,  245, 2219, 9352,    5,   39,\n",
       "        315,   25,    6,   44,  245, 2233,    8, 9698,  167,   37,  275,\n",
       "        232,    5, 3979,  134, 7919, 2118,  310,  437, 4901,   36,   25,\n",
       "        138,  940,  590,    3, 1625,  590,   12,    5,  874,  335,    2,\n",
       "       2204,   17,  501,  420,  961,   17,   36, 4289, 2091, 2740,   60,\n",
       "          1,   96,    9,   10,  898, 4239])"
      ]
     },
     "execution_count": 29,
     "metadata": {},
     "output_type": "execute_result"
    }
   ],
   "source": [
    "X_pad[212558]"
   ]
  },
  {
   "cell_type": "markdown",
   "metadata": {},
   "source": [
    "## Converting numeric tokens to string"
   ]
  },
  {
   "cell_type": "code",
   "execution_count": 30,
   "metadata": {},
   "outputs": [
    {
     "data": {
      "text/plain": [
       "{1: 'çok',\n",
       " 2: 'bir',\n",
       " 3: 've',\n",
       " 4: 'ürün',\n",
       " 5: 'bu',\n",
       " 6: 'iyi',\n",
       " 7: 'güzel',\n",
       " 8: 'için',\n",
       " 9: 'tavsiye',\n",
       " 10: 'ederim',\n",
       " 11: 'daha',\n",
       " 12: 'ama',\n",
       " 13: 'da',\n",
       " 14: 'gayet',\n",
       " 15: 'hızlı',\n",
       " 16: 'teşekkürler',\n",
       " 17: 'aldım',\n",
       " 18: 'de',\n",
       " 19: 'ürünü',\n",
       " 20: 'gibi',\n",
       " 21: 'yok',\n",
       " 22: 'uygun',\n",
       " 23: 'olarak',\n",
       " 24: 'kaliteli',\n",
       " 25: 'en',\n",
       " 26: '2',\n",
       " 27: 'kargo',\n",
       " 28: 'fiyat',\n",
       " 29: 'elime',\n",
       " 30: 'kadar',\n",
       " 31: 'ile',\n",
       " 32: 'göre',\n",
       " 33: 'geldi',\n",
       " 34: 'var',\n",
       " 35: 'hepsiburada',\n",
       " 36: 'ben',\n",
       " 37: 'gerçekten',\n",
       " 38: '1',\n",
       " 39: 'fiyata',\n",
       " 40: 'gün',\n",
       " 41: 'sonra',\n",
       " 42: 'cok',\n",
       " 43: 'kesinlikle',\n",
       " 44: 'telefon',\n",
       " 45: 'biraz',\n",
       " 46: 'hiç',\n",
       " 47: 'ulaştı',\n",
       " 48: 'memnun',\n",
       " 49: 'hem',\n",
       " 50: 'değil',\n",
       " 51: 'kullanışlı',\n",
       " 52: '3',\n",
       " 53: 'mükemmel',\n",
       " 54: 'oldu',\n",
       " 55: 'kullanıyorum',\n",
       " 56: 'önce',\n",
       " 57: 'sipariş',\n",
       " 58: 'tek',\n",
       " 59: 'her',\n",
       " 60: 'bence',\n",
       " 61: 'harika',\n",
       " 62: 'kalitesi',\n",
       " 63: 'bi',\n",
       " 64: 'ayrıca',\n",
       " 65: '5',\n",
       " 66: 'teşekkür',\n",
       " 67: 'fiyatı',\n",
       " 68: 'olması',\n",
       " 69: 'ne',\n",
       " 70: 'herkese',\n",
       " 71: 'bile',\n",
       " 72: 'uzun',\n",
       " 73: 'süper',\n",
       " 74: 'tam',\n",
       " 75: 'zaten',\n",
       " 76: 'fazla',\n",
       " 77: 'ilk',\n",
       " 78: 'o',\n",
       " 79: 'başarılı',\n",
       " 80: 'fakat',\n",
       " 81: 'memnunum',\n",
       " 82: 'ancak',\n",
       " 83: 'ediyorum',\n",
       " 84: 'şarj',\n",
       " 85: 'saat',\n",
       " 86: 'fiyatına',\n",
       " 87: 'oldukça',\n",
       " 88: 'hemen',\n",
       " 89: 'şekilde',\n",
       " 90: 'ses',\n",
       " 91: 'hepsi',\n",
       " 92: 'gerek',\n",
       " 93: 'rahat',\n",
       " 94: 'aynı',\n",
       " 95: '4',\n",
       " 96: 'şık',\n",
       " 97: 'verdim',\n",
       " 98: 'kolay',\n",
       " 99: 'diye',\n",
       " 100: 'ki',\n",
       " 101: 'sadece',\n",
       " 102: 'kaldım',\n",
       " 103: 'diğer',\n",
       " 104: 'büyük',\n",
       " 105: 'sorun',\n",
       " 106: 'alın',\n",
       " 107: 'burada',\n",
       " 108: 'kısa',\n",
       " 109: 'ürünün',\n",
       " 110: 'sorunsuz',\n",
       " 111: 'performans',\n",
       " 112: 'içinde',\n",
       " 113: 'olan',\n",
       " 114: 'günde',\n",
       " 115: 'olsun',\n",
       " 116: 'küçük',\n",
       " 117: 'urun',\n",
       " 118: '10',\n",
       " 119: 'benim',\n",
       " 120: 'başka',\n",
       " 121: 'iki',\n",
       " 122: 'olduğu',\n",
       " 123: 'teslimat',\n",
       " 124: 'com',\n",
       " 125: 'arkadaşlar',\n",
       " 126: 'sağlam',\n",
       " 127: 'oluyor',\n",
       " 128: 'teslim',\n",
       " 129: 'ettim',\n",
       " 130: 'zaman',\n",
       " 131: 'kalite',\n",
       " 132: 'almak',\n",
       " 133: 'az',\n",
       " 134: 'telefonu',\n",
       " 135: 'yeni',\n",
       " 136: 'cihaz',\n",
       " 137: 'marka',\n",
       " 138: 'son',\n",
       " 139: 'koku',\n",
       " 140: 'ise',\n",
       " 141: 'kullandım',\n",
       " 142: 'kokusu',\n",
       " 143: 'derim',\n",
       " 144: 'olduğunu',\n",
       " 145: 'özellikle',\n",
       " 146: 'beğendim',\n",
       " 147: 'sıkıntı',\n",
       " 148: 'ucuz',\n",
       " 149: 'rağmen',\n",
       " 150: 'geçti',\n",
       " 151: 'geliyor',\n",
       " 152: 'guzel',\n",
       " 153: 'bana',\n",
       " 154: 'ya',\n",
       " 155: 'ideal',\n",
       " 156: 'orjinal',\n",
       " 157: 'almıştım',\n",
       " 158: 'yeterli',\n",
       " 159: 'tane',\n",
       " 160: 'hediye',\n",
       " 161: 'sürede',\n",
       " 162: 'yani',\n",
       " 163: 'normal',\n",
       " 164: 'yaklaşık',\n",
       " 165: 'ediyor',\n",
       " 166: 'hafif',\n",
       " 167: 'bunu',\n",
       " 168: 'ekran',\n",
       " 169: 'aldığım',\n",
       " 170: 'veriyor',\n",
       " 171: '6',\n",
       " 172: 'yüksek',\n",
       " 173: 'tüm',\n",
       " 174: 'pişman',\n",
       " 175: 'tercih',\n",
       " 176: 'düşünmeden',\n",
       " 177: 'kötü',\n",
       " 178: 'düşünüyorum',\n",
       " 179: 'numara',\n",
       " 180: 'bi̇r',\n",
       " 181: 'süre',\n",
       " 182: 'kullanımı',\n",
       " 183: 'çıktı',\n",
       " 184: 'günü',\n",
       " 185: 'su',\n",
       " 186: 'adet',\n",
       " 187: 'şey',\n",
       " 188: 'hemde',\n",
       " 189: 'icin',\n",
       " 190: 'hizli',\n",
       " 191: 'çalışıyor',\n",
       " 192: 'ay',\n",
       " 193: 'hb',\n",
       " 194: 'hafta',\n",
       " 195: 'sesi',\n",
       " 196: 'alışveriş',\n",
       " 197: 'farklı',\n",
       " 198: 'kitap',\n",
       " 199: 'yine',\n",
       " 200: 'böyle',\n",
       " 201: 'zor',\n",
       " 202: 'alabilirsiniz',\n",
       " 203: 'hızı',\n",
       " 204: 'çünkü',\n",
       " 205: 'para',\n",
       " 206: 'ertesi',\n",
       " 207: 'bende',\n",
       " 208: 'kullanım',\n",
       " 209: 'sürekli',\n",
       " 210: 'duruyor',\n",
       " 211: 'aldim',\n",
       " 212: 'olur',\n",
       " 213: 'hoş',\n",
       " 214: 'artık',\n",
       " 215: 'yapıyor',\n",
       " 216: 'konusunda',\n",
       " 217: 'yorumlara',\n",
       " 218: 'gönderi',\n",
       " 219: 'olsa',\n",
       " 220: 'gücü',\n",
       " 221: 'şu',\n",
       " 222: 'vardı',\n",
       " 223: 'üründen',\n",
       " 224: 'malzeme',\n",
       " 225: 'biri',\n",
       " 226: 'pratik',\n",
       " 227: 'dışında',\n",
       " 228: 'defa',\n",
       " 229: 'kullandığım',\n",
       " 230: 'şimdi',\n",
       " 231: 'diş',\n",
       " 232: 'samsung',\n",
       " 233: 'onun',\n",
       " 234: 'bugün',\n",
       " 235: 'özelliği',\n",
       " 236: 'iş',\n",
       " 237: 'kurulumu',\n",
       " 238: 'tereddüt',\n",
       " 239: 'şarjı',\n",
       " 240: 'i̇lk',\n",
       " 241: '7',\n",
       " 242: 'ince',\n",
       " 243: 'gelen',\n",
       " 244: 'kullanmaya',\n",
       " 245: 'diyebilirim',\n",
       " 246: 'almayı',\n",
       " 247: 'pek',\n",
       " 248: 'aldık',\n",
       " 249: 'denedim',\n",
       " 250: '8',\n",
       " 251: 'tekrar',\n",
       " 252: 'çabuk',\n",
       " 253: 'karar',\n",
       " 254: 'kez',\n",
       " 255: 'sahip',\n",
       " 256: 'kendi',\n",
       " 257: 'basit',\n",
       " 258: 'dolayı',\n",
       " 259: 'derece',\n",
       " 260: 'veya',\n",
       " 261: 'kamera',\n",
       " 262: 'pil',\n",
       " 263: 'hiçbir',\n",
       " 264: 'öncelikle',\n",
       " 265: 'açısından',\n",
       " 266: 'iphone',\n",
       " 267: 'sonuç',\n",
       " 268: 'yanında',\n",
       " 269: 'sessiz',\n",
       " 270: 'pahalı',\n",
       " 271: 'işe',\n",
       " 272: 'gidiyor',\n",
       " 273: 'dan',\n",
       " 274: 'olmadı',\n",
       " 275: 'öyle',\n",
       " 276: 'tesekkurler',\n",
       " 277: 'bunun',\n",
       " 278: 'beni',\n",
       " 279: 'varsa',\n",
       " 280: 'yer',\n",
       " 281: 'gece',\n",
       " 282: 'zamanında',\n",
       " 283: 'yorum',\n",
       " 284: 'performansı',\n",
       " 285: 'parfüm',\n",
       " 286: 'evde',\n",
       " 287: 'belli',\n",
       " 288: 'eğer',\n",
       " 289: 'oyun',\n",
       " 290: 'ağır',\n",
       " 291: 'iyisi',\n",
       " 292: 'arada',\n",
       " 293: 'mutlaka',\n",
       " 294: 'zamanda',\n",
       " 295: 'usb',\n",
       " 296: 'ufak',\n",
       " 297: 'üzerinde',\n",
       " 298: 'hatta',\n",
       " 299: 'fark',\n",
       " 300: 'gönül',\n",
       " 301: 'paketleme',\n",
       " 302: 'eşim',\n",
       " 303: 'alacak',\n",
       " 304: '15',\n",
       " 305: 'gereken',\n",
       " 306: 'doğru',\n",
       " 307: 'eski',\n",
       " 308: 'herhangi',\n",
       " 309: 'aydır',\n",
       " 310: 'tl',\n",
       " 311: 'kalıcı',\n",
       " 312: 'rahatlıkla',\n",
       " 313: 'vs',\n",
       " 314: 'satın',\n",
       " 315: 'alınabilecek',\n",
       " 316: 'bundan',\n",
       " 317: 'farkı',\n",
       " 318: 'görüntü',\n",
       " 319: 'lazım',\n",
       " 320: 'gercekten',\n",
       " 321: 'şiddetle',\n",
       " 322: 'kullanmak',\n",
       " 323: 'kaçırmayın',\n",
       " 324: 'alırken',\n",
       " 325: 'kargoya',\n",
       " 326: 'yaşamadım',\n",
       " 327: 'mi',\n",
       " 328: 'yaptım',\n",
       " 329: 'prima',\n",
       " 330: 'birlikte',\n",
       " 331: 'gördüm',\n",
       " 332: 'gerekiyor',\n",
       " 333: 'telefonun',\n",
       " 334: 'ürünler',\n",
       " 335: 'ayrı',\n",
       " 336: 'önemli',\n",
       " 337: 'sayesinde',\n",
       " 338: 'bütün',\n",
       " 339: 'yıl',\n",
       " 340: 'gb',\n",
       " 341: 'alalı',\n",
       " 342: 'beklediğimden',\n",
       " 343: 'almaya',\n",
       " 344: 'yerde',\n",
       " 345: 'olmasına',\n",
       " 346: 'tv',\n",
       " 347: 'sabah',\n",
       " 348: 'devam',\n",
       " 349: 'kutu',\n",
       " 350: 'henüz',\n",
       " 351: 'falan',\n",
       " 352: 'sorunu',\n",
       " 353: 'tabi',\n",
       " 354: 'a',\n",
       " 355: '20',\n",
       " 356: 'bakarak',\n",
       " 357: 'sanırım',\n",
       " 358: 'hepsiburadaya',\n",
       " 359: 'kulaklık',\n",
       " 360: 'süresi',\n",
       " 361: 'hala',\n",
       " 362: 'muhteşem',\n",
       " 363: 'dikkat',\n",
       " 364: 'güvenilir',\n",
       " 365: 'rahatsız',\n",
       " 366: 'edilir',\n",
       " 367: 'çıkıyor',\n",
       " 368: 'alıp',\n",
       " 369: 'yüzden',\n",
       " 370: 'toz',\n",
       " 371: 'kere',\n",
       " 372: 'orijinal',\n",
       " 373: 'sağlıyor',\n",
       " 374: 'kamerası',\n",
       " 375: 'dün',\n",
       " 376: 'ürüne',\n",
       " 377: 'düşük',\n",
       " 378: 'spor',\n",
       " 379: 'i̇yi',\n",
       " 380: 'problem',\n",
       " 381: 'öneririm',\n",
       " 382: 'edildi',\n",
       " 383: 'plastik',\n",
       " 384: 'içerisinde',\n",
       " 385: 'makine',\n",
       " 386: 'beri',\n",
       " 387: 'fazlasıyla',\n",
       " 388: 'baya',\n",
       " 389: 'kullanımda',\n",
       " 390: '30',\n",
       " 391: 'tavsi̇ye',\n",
       " 392: 'an',\n",
       " 393: 'yalnız',\n",
       " 394: 'özellikleri',\n",
       " 395: 'on',\n",
       " 396: 'den',\n",
       " 397: 'satıcı',\n",
       " 398: 'ilgili',\n",
       " 399: 'genel',\n",
       " 400: 'oldum',\n",
       " 401: 'kaç',\n",
       " 402: 'etkili',\n",
       " 403: 'sıcak',\n",
       " 404: 'haftadır',\n",
       " 405: 'üstelik',\n",
       " 406: 'fiyatıda',\n",
       " 407: 'olmuş',\n",
       " 408: '24',\n",
       " 409: 'yada',\n",
       " 410: 'hep',\n",
       " 411: 'üst',\n",
       " 412: 'olabilir',\n",
       " 413: 'paket',\n",
       " 414: 'bazı',\n",
       " 415: 'almışım',\n",
       " 416: 'güçlü',\n",
       " 417: 'piyasada',\n",
       " 418: 'yerine',\n",
       " 419: 'arasında',\n",
       " 420: 'renk',\n",
       " 421: 'inanılmaz',\n",
       " 422: 'arkadaşlara',\n",
       " 423: 'paraya',\n",
       " 424: 'kurulum',\n",
       " 425: 'umarım',\n",
       " 426: 'sert',\n",
       " 427: 'kitabı',\n",
       " 428: 'ederi̇m',\n",
       " 429: 'olmuyor',\n",
       " 430: 'fena',\n",
       " 431: 'gitti',\n",
       " 432: 'servis',\n",
       " 433: 'altında',\n",
       " 434: 'üzerine',\n",
       " 435: 'nasıl',\n",
       " 436: 'birde',\n",
       " 437: 'ye',\n",
       " 438: 'gelince',\n",
       " 439: 'birşey',\n",
       " 440: 'note',\n",
       " 441: 'yorumları',\n",
       " 442: 'başladım',\n",
       " 443: 'olanlar',\n",
       " 444: 'ön',\n",
       " 445: '0',\n",
       " 446: 'dk',\n",
       " 447: 'üründe',\n",
       " 448: 'sanki',\n",
       " 449: 'kalitesini',\n",
       " 450: 'i̇yi̇',\n",
       " 451: 'sarj',\n",
       " 452: 'almadan',\n",
       " 453: 'etti',\n",
       " 454: 'alıyorum',\n",
       " 455: 'ev',\n",
       " 456: 'cihazı',\n",
       " 457: 'kullanıyoruz',\n",
       " 458: 'geç',\n",
       " 459: 'eşime',\n",
       " 460: 'görünce',\n",
       " 461: 'memnunuz',\n",
       " 462: 'yıldır',\n",
       " 463: 'edici',\n",
       " 464: 'bez',\n",
       " 465: 'arka',\n",
       " 466: 'saatte',\n",
       " 467: 'anda',\n",
       " 468: 'tamamen',\n",
       " 469: 'hizmet',\n",
       " 470: 'çekim',\n",
       " 471: 'herkes',\n",
       " 472: 'parmak',\n",
       " 473: 'akşam',\n",
       " 474: 'tutuyor',\n",
       " 475: 'geçen',\n",
       " 476: 'gore',\n",
       " 477: 'android',\n",
       " 478: 'elimize',\n",
       " 479: '12',\n",
       " 480: 'telefona',\n",
       " 481: 'temizlik',\n",
       " 482: 'görünüyor',\n",
       " 483: 'yumuşak',\n",
       " 484: 'kablo',\n",
       " 485: 'buradan',\n",
       " 486: '100',\n",
       " 487: 'kısmı',\n",
       " 488: 'size',\n",
       " 489: 'orta',\n",
       " 490: 'piyasadaki',\n",
       " 491: 'net',\n",
       " 492: 'hak',\n",
       " 493: 'yere',\n",
       " 494: 'günlük',\n",
       " 495: 'beğendi',\n",
       " 496: 'rahatlığıyla',\n",
       " 497: 'eder',\n",
       " 498: 'hız',\n",
       " 499: 'müzik',\n",
       " 500: 'kalın',\n",
       " 501: 'siyah',\n",
       " 502: 'urunu',\n",
       " 503: 'degil',\n",
       " 504: 'bedava',\n",
       " 505: 'istediğim',\n",
       " 506: 'oğlum',\n",
       " 507: 'saç',\n",
       " 508: 'güvenli',\n",
       " 509: 'kılıf',\n",
       " 510: 'onu',\n",
       " 511: 'yıldız',\n",
       " 512: 'yoksa',\n",
       " 513: 'çıkan',\n",
       " 514: 'hesaplı',\n",
       " 515: 'etmeden',\n",
       " 516: 'hava',\n",
       " 517: 'piyasaya',\n",
       " 518: 'kilo',\n",
       " 519: 'ışık',\n",
       " 520: 'neredeyse',\n",
       " 521: 'fotoğraf',\n",
       " 522: 'i̇çi̇n',\n",
       " 523: 'tşk',\n",
       " 524: 'belki',\n",
       " 525: 'olurdu',\n",
       " 526: 'kablosu',\n",
       " 527: 'bır',\n",
       " 528: 'mı',\n",
       " 529: 'gündür',\n",
       " 530: 'temiz',\n",
       " 531: 'garantili',\n",
       " 532: 'içine',\n",
       " 533: 'alınabilir',\n",
       " 534: 'herşey',\n",
       " 535: 'almanızı',\n",
       " 536: 'siparişi',\n",
       " 537: 'olmaz',\n",
       " 538: 'keşke',\n",
       " 539: 'kendini',\n",
       " 540: 'olacak',\n",
       " 541: 'yakın',\n",
       " 542: 'rengi',\n",
       " 543: 'gun',\n",
       " 544: 'süpürge',\n",
       " 545: 'traş',\n",
       " 546: 'çift',\n",
       " 547: 'şuan',\n",
       " 548: 'gönderim',\n",
       " 549: 'buna',\n",
       " 550: 'motor',\n",
       " 551: 'birkaç',\n",
       " 552: 'hoşuma',\n",
       " 553: 'tasarımı',\n",
       " 554: 'kaldık',\n",
       " 555: 'verdiğim',\n",
       " 556: 'hic',\n",
       " 557: 'değer',\n",
       " 558: 'yağ',\n",
       " 559: 'ekonomik',\n",
       " 560: 'dedim',\n",
       " 561: 'tatmin',\n",
       " 562: 'isteyenlere',\n",
       " 563: 'içinden',\n",
       " 564: 'araştırdım',\n",
       " 565: 'oda',\n",
       " 566: 'yıllardır',\n",
       " 567: 'mevcut',\n",
       " 568: 'kızım',\n",
       " 569: 'kalıyor',\n",
       " 570: 'yapmak',\n",
       " 571: 'buldum',\n",
       " 572: 'şimdilik',\n",
       " 573: 'yanı',\n",
       " 574: 'makina',\n",
       " 575: 'görüyor',\n",
       " 576: 'model',\n",
       " 577: 'kargoda',\n",
       " 578: 'kaldı',\n",
       " 579: '9',\n",
       " 580: 'üstünde',\n",
       " 581: 'avantaj',\n",
       " 582: 'sizi',\n",
       " 583: 'alet',\n",
       " 584: 'müthiş',\n",
       " 585: 'metal',\n",
       " 586: 'ürünleri',\n",
       " 587: 'mouse',\n",
       " 588: 'beraber',\n",
       " 589: 'bebek',\n",
       " 590: 'kullanıyordum',\n",
       " 591: 'geri',\n",
       " 592: 'ederiz',\n",
       " 593: 'başta',\n",
       " 594: 'makul',\n",
       " 595: 'olmazsınız',\n",
       " 596: 'apple',\n",
       " 597: 'yaptı',\n",
       " 598: 'okudum',\n",
       " 599: 'elimde',\n",
       " 600: 'görür',\n",
       " 601: 'olduğundan',\n",
       " 602: 'fiyatının',\n",
       " 603: 'açık',\n",
       " 604: 'üzerinden',\n",
       " 605: 'aşırı',\n",
       " 606: 'özellik',\n",
       " 607: 'e',\n",
       " 608: 'olanlara',\n",
       " 609: 'izi',\n",
       " 610: 'garanti',\n",
       " 611: 'film',\n",
       " 612: 'biz',\n",
       " 613: 'yavaş',\n",
       " 614: 'ucuza',\n",
       " 615: 'bişey',\n",
       " 616: 'tartışılmaz',\n",
       " 617: 'sene',\n",
       " 618: 'super',\n",
       " 619: 'site',\n",
       " 620: 'birçok',\n",
       " 621: 'ücretsiz',\n",
       " 622: 'sonunda',\n",
       " 623: 'ısınma',\n",
       " 624: 'saati',\n",
       " 625: 'batarya',\n",
       " 626: 'kapalı',\n",
       " 627: 'olumsuz',\n",
       " 628: 'alan',\n",
       " 629: 'hediyesi',\n",
       " 630: 'kullaniyorum',\n",
       " 631: 'yapmıyor',\n",
       " 632: 'eve',\n",
       " 633: 'evet',\n",
       " 634: 'önceki',\n",
       " 635: 'sık',\n",
       " 636: 'hakkını',\n",
       " 637: 'beklediğim',\n",
       " 638: 'kelimeyle',\n",
       " 639: 'beyaz',\n",
       " 640: 'zorunda',\n",
       " 641: 'üç',\n",
       " 642: 'kat',\n",
       " 643: 'telefonda',\n",
       " 644: 'tasarım',\n",
       " 645: 'dakika',\n",
       " 646: 'etmek',\n",
       " 647: 'uyumlu',\n",
       " 648: 'önceden',\n",
       " 649: 'olunca',\n",
       " 650: 'severek',\n",
       " 651: 'isteyenler',\n",
       " 652: 'diyorum',\n",
       " 653: 'çanta',\n",
       " 654: 'el',\n",
       " 655: 'istedim',\n",
       " 656: 'iyiki',\n",
       " 657: 'kullanın',\n",
       " 658: 'yoktu',\n",
       " 659: 'sıkıntısı',\n",
       " 660: 'ikinci',\n",
       " 661: 'yorumlarda',\n",
       " 662: 'çekiyor',\n",
       " 663: 'bilmiyorum',\n",
       " 664: 'kullanma',\n",
       " 665: 'araç',\n",
       " 666: 'edin',\n",
       " 667: 'görüntüsü',\n",
       " 668: 'firma',\n",
       " 669: 'alıyor',\n",
       " 670: 'hepsi̇burada',\n",
       " 671: 'alt',\n",
       " 672: 'olmadan',\n",
       " 673: 'bazen',\n",
       " 674: 'dayanıklı',\n",
       " 675: 'olmaması',\n",
       " 676: 'ona',\n",
       " 677: 'iade',\n",
       " 678: 'fiyatlı',\n",
       " 679: 'internet',\n",
       " 680: 'geniş',\n",
       " 681: 'philips',\n",
       " 682: 'koltuk',\n",
       " 683: 'elimdeydi',\n",
       " 684: 'kullanan',\n",
       " 685: 'yaparken',\n",
       " 686: 'derecede',\n",
       " 687: 'asla',\n",
       " 688: '16',\n",
       " 689: 'kalitede',\n",
       " 690: 'taktım',\n",
       " 691: 'resmen',\n",
       " 692: 'eden',\n",
       " 693: 'halde',\n",
       " 694: 'merhaba',\n",
       " 695: 'mukemmel',\n",
       " 696: 'hassas',\n",
       " 697: 'başladı',\n",
       " 698: 'zarar',\n",
       " 699: 'kalitesiz',\n",
       " 700: 'aylık',\n",
       " 701: 'açıkçası',\n",
       " 702: 'mutlu',\n",
       " 703: 'alin',\n",
       " 704: 'yeri',\n",
       " 705: 'ram',\n",
       " 706: 'neden',\n",
       " 707: 'eksiksiz',\n",
       " 708: 'paketlenmiş',\n",
       " 709: 'idi',\n",
       " 710: 'idare',\n",
       " 711: 'iyiydi',\n",
       " 712: 'olabilirdi',\n",
       " 713: 'yarıyor',\n",
       " 714: 'gerekli',\n",
       " 715: 'olduğum',\n",
       " 716: '50',\n",
       " 717: 'parfümü',\n",
       " 718: 'buradaya',\n",
       " 719: 'kelime',\n",
       " 720: 'herkesin',\n",
       " 721: 'olmasi',\n",
       " 722: 'ara',\n",
       " 723: 'verildi',\n",
       " 724: 'yoğun',\n",
       " 725: 'etkisi',\n",
       " 726: 'vermeye',\n",
       " 727: 'saçlarım',\n",
       " 728: 'siz',\n",
       " 729: 'kullanıyor',\n",
       " 730: 'b',\n",
       " 731: '40',\n",
       " 732: 'zamandır',\n",
       " 733: 'yapan',\n",
       " 734: 'olmayan',\n",
       " 735: 'yorumlar',\n",
       " 736: 'ayrica',\n",
       " 737: 'yinede',\n",
       " 738: 'kendim',\n",
       " 739: 'ulasti',\n",
       " 740: 'hafıza',\n",
       " 741: 'etmiyor',\n",
       " 742: 'almış',\n",
       " 743: 'yapılmış',\n",
       " 744: 'verdikten',\n",
       " 745: 'kendime',\n",
       " 746: 'yedek',\n",
       " 747: 'düşünenlere',\n",
       " 748: 'durum',\n",
       " 749: 'sonuçta',\n",
       " 750: 'yerden',\n",
       " 751: 'etmiyorum',\n",
       " 752: 'video',\n",
       " 753: 'çekiş',\n",
       " 754: 'cuma',\n",
       " 755: 'cam',\n",
       " 756: 'uygulama',\n",
       " 757: 'içi',\n",
       " 758: 'işi',\n",
       " 759: 'eksik',\n",
       " 760: 'ihtiyacı',\n",
       " 761: 'eksiği',\n",
       " 762: 'faydalı',\n",
       " 763: 'göz',\n",
       " 764: 'deneme',\n",
       " 765: 'isteyen',\n",
       " 766: 'acaba',\n",
       " 767: 'kısacası',\n",
       " 768: 'kullanabilirsiniz',\n",
       " 769: 'merak',\n",
       " 770: 'temizliyor',\n",
       " 771: 'ürünle',\n",
       " 772: 'rahatlığı',\n",
       " 773: 'p',\n",
       " 774: 'türkiye',\n",
       " 775: 'hepsiburadadan',\n",
       " 776: 'aldı',\n",
       " 777: 'görmedim',\n",
       " 778: 'test',\n",
       " 779: 'ana',\n",
       " 780: 'aldıktan',\n",
       " 781: 'aleti',\n",
       " 782: 'şimdiye',\n",
       " 783: 'yapıyorum',\n",
       " 784: 'olumlu',\n",
       " 785: 'hakkında',\n",
       " 786: 'piyasa',\n",
       " 787: 'ekranı',\n",
       " 788: 'mümkün',\n",
       " 789: 'kış',\n",
       " 790: 'siparis',\n",
       " 791: 'd',\n",
       " 792: 'malı',\n",
       " 793: 'elinize',\n",
       " 794: 'km',\n",
       " 795: 'gösteriyor',\n",
       " 796: 'haricinde',\n",
       " 797: 'donma',\n",
       " 798: 'denemek',\n",
       " 799: 'türlü',\n",
       " 800: 'i',\n",
       " 801: 'alacaklara',\n",
       " 802: 'elde',\n",
       " 803: 'dış',\n",
       " 804: 'dokunmatik',\n",
       " 805: 'gerçek',\n",
       " 806: 'tabiki',\n",
       " 807: 'ürünlere',\n",
       " 808: 'boyutu',\n",
       " 809: 'hissi',\n",
       " 810: 'söyleyebilirim',\n",
       " 811: 'cabası',\n",
       " 812: 'kaldim',\n",
       " 813: 'emiş',\n",
       " 814: 'kanal',\n",
       " 815: 'takip',\n",
       " 816: 'problemi',\n",
       " 817: 'tavsiyem',\n",
       " 818: 'kargolama',\n",
       " 819: 'aslında',\n",
       " 820: 'dahi',\n",
       " 821: 'yardımcı',\n",
       " 822: 'akıcı',\n",
       " 823: 'ütü',\n",
       " 824: 'konuda',\n",
       " 825: 'hayırlı',\n",
       " 826: 'değilim',\n",
       " 827: 'herkeze',\n",
       " 828: 'karşı',\n",
       " 829: 'markanın',\n",
       " 830: 'kutusu',\n",
       " 831: 'elektrik',\n",
       " 832: 'yaz',\n",
       " 833: 'yerli',\n",
       " 834: 'tavsıye',\n",
       " 835: 'emin',\n",
       " 836: 's',\n",
       " 837: 'lg',\n",
       " 838: 'once',\n",
       " 839: 'araba',\n",
       " 840: 'pazartesi',\n",
       " 841: 'f',\n",
       " 842: 'kullandıktan',\n",
       " 843: 'yatak',\n",
       " 844: 'zarif',\n",
       " 845: 'gelir',\n",
       " 846: 'beden',\n",
       " 847: 'özel',\n",
       " 848: 'ciddi',\n",
       " 849: 'kontrol',\n",
       " 850: 'olmak',\n",
       " 851: 'i̇ki',\n",
       " 852: 'zamanla',\n",
       " 853: 'fayda',\n",
       " 854: 'istiyorsanız',\n",
       " 855: 'bağlantı',\n",
       " 856: 'sıfır',\n",
       " 857: 'çıkmadı',\n",
       " 858: 'ayni',\n",
       " 859: 'parasını',\n",
       " 860: 'fön',\n",
       " 861: 'anladım',\n",
       " 862: 'düzgün',\n",
       " 863: 'olmadığı',\n",
       " 864: 'fiyatını',\n",
       " 865: 'kibar',\n",
       " 866: 'veren',\n",
       " 867: 'sağlıklı',\n",
       " 868: 'birisi',\n",
       " 869: 'soğuk',\n",
       " 870: 'montaj',\n",
       " 871: 'klasik',\n",
       " 872: 'parça',\n",
       " 873: 'yarım',\n",
       " 874: 'telefondan',\n",
       " 875: 'okuma',\n",
       " 876: 'makinesi',\n",
       " 877: 'verilen',\n",
       " 878: 'düzenli',\n",
       " 879: 'düşünmeyin',\n",
       " 880: 'kullanılabilir',\n",
       " 881: 'koruyucu',\n",
       " 882: 'anneme',\n",
       " 883: 'hale',\n",
       " 884: 'ömrü',\n",
       " 885: 'kalitesine',\n",
       " 886: 'bulmak',\n",
       " 887: 'kullanmadım',\n",
       " 888: 'saglam',\n",
       " 889: 'normalde',\n",
       " 890: 'cm',\n",
       " 891: 'xiaomi',\n",
       " 892: 'beklemeyin',\n",
       " 893: 'çoğu',\n",
       " 894: 'pili',\n",
       " 895: 'çocuk',\n",
       " 896: 'bakımından',\n",
       " 897: 'birebir',\n",
       " 898: 'yazma',\n",
       " 899: 'boyu',\n",
       " 900: 'hareket',\n",
       " 901: 'siteden',\n",
       " 902: 'cihazın',\n",
       " 903: 'led',\n",
       " 904: 'tahmin',\n",
       " 905: 'kapak',\n",
       " 906: 'bilgisayar',\n",
       " 907: 'ısınıyor',\n",
       " 908: 'eksi',\n",
       " 909: 'gelmesi',\n",
       " 910: 'kalmadı',\n",
       " 911: 'begendim',\n",
       " 912: 'kullanisli',\n",
       " 913: 'verip',\n",
       " 914: 'günden',\n",
       " 915: 'kaçmaz',\n",
       " 916: 'sürükleyici',\n",
       " 917: 'sonucu',\n",
       " 918: 'markası',\n",
       " 919: 'indirim',\n",
       " 920: 'oranı',\n",
       " 921: 'arkadaşım',\n",
       " 922: 'telefonum',\n",
       " 923: 'temizliği',\n",
       " 924: 'şarjlı',\n",
       " 925: 'kullanırken',\n",
       " 926: 'zayıf',\n",
       " 927: 'tesekkur',\n",
       " 928: 'çıkarıyor',\n",
       " 929: 'karşıladı',\n",
       " 930: 'sistemi',\n",
       " 931: 'akıllı',\n",
       " 932: 'ortalama',\n",
       " 933: 'direk',\n",
       " 934: 'alınır',\n",
       " 935: 'olsaydı',\n",
       " 936: 'arkadaslar',\n",
       " 937: 'profesyonel',\n",
       " 938: 'boşuna',\n",
       " 939: 'hd',\n",
       " 940: 'sony',\n",
       " 941: 'iç',\n",
       " 942: 'ekstra',\n",
       " 943: 'yi',\n",
       " 944: 'kuru',\n",
       " 945: 'sonrası',\n",
       " 946: 'almayın',\n",
       " 947: 'lik',\n",
       " 948: 'kusursuz',\n",
       " 949: 'başlık',\n",
       " 950: 'seviyede',\n",
       " 951: 'bluetooth',\n",
       " 952: 'kullanmıştım',\n",
       " 953: 'burda',\n",
       " 954: 'genelde',\n",
       " 955: 'kokuyu',\n",
       " 956: 'olacağını',\n",
       " 957: 'siparişim',\n",
       " 958: 'burdan',\n",
       " 959: 'kampanya',\n",
       " 960: 'nin',\n",
       " 961: 'olanı',\n",
       " 962: 'vestel',\n",
       " 963: 'alacağım',\n",
       " 964: 'tarafı',\n",
       " 965: 'insan',\n",
       " 966: 'artı',\n",
       " 967: 'paketi',\n",
       " 968: 'ayarı',\n",
       " 969: 'karşılıyor',\n",
       " 970: 'üstüne',\n",
       " 971: 'premium',\n",
       " 972: 'kalıcılığı',\n",
       " 973: 'eminim',\n",
       " 974: 'olup',\n",
       " 975: 'ürünlerden',\n",
       " 976: 'malzemesi',\n",
       " 977: 'mavi',\n",
       " 978: 'buradaki',\n",
       " 979: 'markalara',\n",
       " 980: 'parlak',\n",
       " 981: 'söz',\n",
       " 982: 'ergonomik',\n",
       " 983: 'yaptığım',\n",
       " 984: 'kendisi',\n",
       " 985: 'düşünen',\n",
       " 986: 'hızlıydı',\n",
       " 987: 'kasma',\n",
       " 988: 'fiyatta',\n",
       " 989: 'enerji',\n",
       " 990: 'kolayca',\n",
       " 991: 'yan',\n",
       " 992: 'pc',\n",
       " 993: '00',\n",
       " 994: 'bol',\n",
       " 995: 'kablosuz',\n",
       " 996: 'full',\n",
       " 997: 'işinizi',\n",
       " 998: 'modeli',\n",
       " 999: 'oturuyor',\n",
       " 1000: 'kişi',\n",
       " ...}"
      ]
     },
     "execution_count": 30,
     "metadata": {},
     "output_type": "execute_result"
    }
   ],
   "source": [
    "index = tokenizer.word_index\n",
    "inverse_map = dict(zip(index.values(), index.keys()))\n",
    "inverse_map"
   ]
  },
  {
   "cell_type": "code",
   "execution_count": 31,
   "metadata": {},
   "outputs": [],
   "source": [
    "def tokens_to_string(tokens):\n",
    "    words = [inverse_map[token] for token in tokens if token!=0]\n",
    "    text = ' '.join(words)\n",
    "    return text"
   ]
  },
  {
   "cell_type": "code",
   "execution_count": 32,
   "metadata": {},
   "outputs": [
    {
     "data": {
      "text/plain": [
       "'ürünü alalı 3 hafta kadar oldu. aralıksız kullanıyorum bilgisyarım sürekli açık durur ve ben günde yaklaşık 12 saat başındayım mousesu çok kullanırım. şimdiye kadar bir problem yaşamadım ve çok memnunum almak isteyenlere tavsiye ederim.'"
      ]
     },
     "execution_count": 32,
     "metadata": {},
     "output_type": "execute_result"
    }
   ],
   "source": [
    "X[800]"
   ]
  },
  {
   "cell_type": "code",
   "execution_count": 33,
   "metadata": {},
   "outputs": [
    {
     "data": {
      "text/plain": [
       "array([  19,  341,   52,  194,   30,   54, 7992,   55,  209,  603, 7887,\n",
       "          3,   36,  114,  164,  479,   85,    1, 1682,  782,   30,    2,\n",
       "        380,  326,    3,    1,   81,  132,  562,    9,   10])"
      ]
     },
     "execution_count": 33,
     "metadata": {},
     "output_type": "execute_result"
    }
   ],
   "source": [
    "np.array(X_num_tokens[800])"
   ]
  },
  {
   "cell_type": "code",
   "execution_count": 34,
   "metadata": {},
   "outputs": [
    {
     "data": {
      "text/plain": [
       "'ürünü alalı 3 hafta kadar oldu aralıksız kullanıyorum sürekli açık durur ve ben günde yaklaşık 12 saat çok kullanırım şimdiye kadar bir problem yaşamadım ve çok memnunum almak isteyenlere tavsiye ederim'"
      ]
     },
     "execution_count": 34,
     "metadata": {},
     "output_type": "execute_result"
    }
   ],
   "source": [
    "tokens_to_string(X_num_tokens[800])"
   ]
  },
  {
   "cell_type": "markdown",
   "metadata": {},
   "source": [
    "## Train Set Split"
   ]
  },
  {
   "cell_type": "code",
   "execution_count": 35,
   "metadata": {},
   "outputs": [],
   "source": [
    "from sklearn.model_selection import train_test_split"
   ]
  },
  {
   "cell_type": "code",
   "execution_count": 36,
   "metadata": {},
   "outputs": [],
   "source": [
    "X_train, X_test, y_train, y_test = train_test_split(X_pad, y, test_size=0.2, stratify=y, random_state=101)"
   ]
  },
  {
   "cell_type": "markdown",
   "metadata": {},
   "source": [
    "## Modelling"
   ]
  },
  {
   "cell_type": "code",
   "execution_count": 37,
   "metadata": {},
   "outputs": [],
   "source": [
    "model = Sequential()"
   ]
  },
  {
   "cell_type": "code",
   "execution_count": 38,
   "metadata": {},
   "outputs": [],
   "source": [
    "embedding_size = 100"
   ]
  },
  {
   "cell_type": "code",
   "execution_count": 39,
   "metadata": {},
   "outputs": [],
   "source": [
    "model.add(Embedding(input_dim=num_words,\n",
    "                    output_dim=embedding_size,\n",
    "                    input_length=max_tokens,\n",
    "                    name='embedding_layer'))"
   ]
  },
  {
   "cell_type": "code",
   "execution_count": 40,
   "metadata": {},
   "outputs": [],
   "source": [
    "# pip install -U numpy==1.19.5"
   ]
  },
  {
   "cell_type": "code",
   "execution_count": 41,
   "metadata": {},
   "outputs": [],
   "source": [
    "model.add(GRU(units=48, return_sequences=True))\n",
    "model.add(GRU(units=24, return_sequences=True))\n",
    "model.add(GRU(units=12))\n",
    "model.add(Dense(1, activation='sigmoid'))"
   ]
  },
  {
   "cell_type": "code",
   "execution_count": 42,
   "metadata": {},
   "outputs": [
    {
     "name": "stderr",
     "output_type": "stream",
     "text": [
      "C:\\Users\\engin\\AppData\\Local\\Programs\\Python\\Python39\\lib\\site-packages\\keras\\optimizer_v2\\adam.py:105: UserWarning: The `lr` argument is deprecated, use `learning_rate` instead.\n",
      "  super(Adam, self).__init__(name, **kwargs)\n"
     ]
    }
   ],
   "source": [
    "optimizer = Adam(lr=0.004)"
   ]
  },
  {
   "cell_type": "code",
   "execution_count": 43,
   "metadata": {},
   "outputs": [],
   "source": [
    "model.compile(loss='binary_crossentropy',\n",
    "              optimizer=optimizer,\n",
    "              metrics=['Recall'])"
   ]
  },
  {
   "cell_type": "markdown",
   "metadata": {},
   "source": [
    "https://stats.stackexchange.com/questions/328926/how-many-parameters-are-in-a-gated-recurrent-unit-gru-recurrent-neural-network"
   ]
  },
  {
   "cell_type": "code",
   "execution_count": 44,
   "metadata": {},
   "outputs": [
    {
     "name": "stdout",
     "output_type": "stream",
     "text": [
      "Model: \"sequential\"\n",
      "_________________________________________________________________\n",
      " Layer (type)                Output Shape              Param #   \n",
      "=================================================================\n",
      " embedding_layer (Embedding)  (None, 61, 100)          1500000   \n",
      "                                                                 \n",
      " gru (GRU)                   (None, 61, 48)            21600     \n",
      "                                                                 \n",
      " gru_1 (GRU)                 (None, 61, 24)            5328      \n",
      "                                                                 \n",
      " gru_2 (GRU)                 (None, 12)                1368      \n",
      "                                                                 \n",
      " dense (Dense)               (None, 1)                 13        \n",
      "                                                                 \n",
      "=================================================================\n",
      "Total params: 1,528,309\n",
      "Trainable params: 1,528,309\n",
      "Non-trainable params: 0\n",
      "_________________________________________________________________\n"
     ]
    }
   ],
   "source": [
    "model.summary() \n",
    "# 3 x (n2 + nm + 2n) m= input, n= output\n",
    "# (48*48 + 100*48 +2*48)*3 ==> m = 100, n = 48\n",
    "# (24*24 + 48*24  +2*24)*3 ==> m =  48, n = 24\n",
    "# (12*12 + 24*12  +2*12)*3 ==> m =  24, n = 12"
   ]
  },
  {
   "cell_type": "code",
   "execution_count": 45,
   "metadata": {},
   "outputs": [],
   "source": [
    "from tensorflow.keras.callbacks import EarlyStopping\n",
    "\n",
    "early_stop = EarlyStopping(monitor=\"val_loss\", mode=\"auto\", \n",
    "                           verbose=1, patience = 5, restore_best_weights=True)"
   ]
  },
  {
   "cell_type": "code",
   "execution_count": 46,
   "metadata": {},
   "outputs": [
    {
     "data": {
      "text/plain": [
       "1    0.943834\n",
       "0    0.056166\n",
       "dtype: float64"
      ]
     },
     "execution_count": 46,
     "metadata": {},
     "output_type": "execute_result"
    }
   ],
   "source": [
    "pd.Series(y_train).value_counts(normalize=True)"
   ]
  },
  {
   "cell_type": "code",
   "execution_count": 47,
   "metadata": {},
   "outputs": [],
   "source": [
    "weights = {0:95, 1:5}"
   ]
  },
  {
   "cell_type": "code",
   "execution_count": 48,
   "metadata": {},
   "outputs": [
    {
     "name": "stdout",
     "output_type": "stream",
     "text": [
      "Epoch 1/25\n",
      "761/761 [==============================] - 157s 197ms/step - loss: 3.1599 - recall: 0.8630 - val_loss: 0.2132 - val_recall: 0.9199\n",
      "Epoch 2/25\n",
      "761/761 [==============================] - 143s 188ms/step - loss: 1.7163 - recall: 0.9322 - val_loss: 0.2095 - val_recall: 0.9233\n",
      "Epoch 3/25\n",
      "761/761 [==============================] - 145s 190ms/step - loss: 1.0803 - recall: 0.9579 - val_loss: 0.1840 - val_recall: 0.9463\n",
      "Epoch 4/25\n",
      "761/761 [==============================] - 153s 201ms/step - loss: 0.7871 - recall: 0.9710 - val_loss: 0.1685 - val_recall: 0.9598\n",
      "Epoch 5/25\n",
      "761/761 [==============================] - 144s 190ms/step - loss: 0.6397 - recall: 0.9767 - val_loss: 0.2099 - val_recall: 0.9415\n",
      "Epoch 6/25\n",
      "761/761 [==============================] - 143s 188ms/step - loss: 0.5412 - recall: 0.9804 - val_loss: 0.1695 - val_recall: 0.9601\n",
      "Epoch 7/25\n",
      "761/761 [==============================] - 148s 195ms/step - loss: 0.4863 - recall: 0.9834 - val_loss: 0.2291 - val_recall: 0.9444\n",
      "Epoch 8/25\n",
      "761/761 [==============================] - 148s 194ms/step - loss: 0.3921 - recall: 0.9874 - val_loss: 0.2180 - val_recall: 0.9584\n",
      "Epoch 9/25\n",
      "761/761 [==============================] - ETA: 0s - loss: 0.3860 - recall: 0.9872Restoring model weights from the end of the best epoch: 4.\n",
      "761/761 [==============================] - 144s 189ms/step - loss: 0.3860 - recall: 0.9872 - val_loss: 0.2221 - val_recall: 0.9532\n",
      "Epoch 00009: early stopping\n"
     ]
    },
    {
     "data": {
      "text/plain": [
       "<keras.callbacks.History at 0x16696156790>"
      ]
     },
     "execution_count": 48,
     "metadata": {},
     "output_type": "execute_result"
    }
   ],
   "source": [
    "model.fit(X_train, y_train, epochs=25, batch_size=256, class_weight=weights,\n",
    "         validation_data=(X_test, y_test), callbacks=[early_stop])"
   ]
  },
  {
   "cell_type": "markdown",
   "metadata": {},
   "source": [
    "## Model evaluation"
   ]
  },
  {
   "cell_type": "code",
   "execution_count": 49,
   "metadata": {},
   "outputs": [
    {
     "data": {
      "text/html": [
       "<div>\n",
       "<style scoped>\n",
       "    .dataframe tbody tr th:only-of-type {\n",
       "        vertical-align: middle;\n",
       "    }\n",
       "\n",
       "    .dataframe tbody tr th {\n",
       "        vertical-align: top;\n",
       "    }\n",
       "\n",
       "    .dataframe thead th {\n",
       "        text-align: right;\n",
       "    }\n",
       "</style>\n",
       "<table border=\"1\" class=\"dataframe\">\n",
       "  <thead>\n",
       "    <tr style=\"text-align: right;\">\n",
       "      <th></th>\n",
       "      <th>loss</th>\n",
       "      <th>recall</th>\n",
       "      <th>val_loss</th>\n",
       "      <th>val_recall</th>\n",
       "    </tr>\n",
       "  </thead>\n",
       "  <tbody>\n",
       "    <tr>\n",
       "      <th>0</th>\n",
       "      <td>3.159899</td>\n",
       "      <td>0.863023</td>\n",
       "      <td>0.213183</td>\n",
       "      <td>0.919852</td>\n",
       "    </tr>\n",
       "    <tr>\n",
       "      <th>1</th>\n",
       "      <td>1.716319</td>\n",
       "      <td>0.932208</td>\n",
       "      <td>0.209521</td>\n",
       "      <td>0.923333</td>\n",
       "    </tr>\n",
       "    <tr>\n",
       "      <th>2</th>\n",
       "      <td>1.080322</td>\n",
       "      <td>0.957913</td>\n",
       "      <td>0.183959</td>\n",
       "      <td>0.946263</td>\n",
       "    </tr>\n",
       "    <tr>\n",
       "      <th>3</th>\n",
       "      <td>0.787092</td>\n",
       "      <td>0.971026</td>\n",
       "      <td>0.168549</td>\n",
       "      <td>0.959795</td>\n",
       "    </tr>\n",
       "    <tr>\n",
       "      <th>4</th>\n",
       "      <td>0.639673</td>\n",
       "      <td>0.976748</td>\n",
       "      <td>0.209884</td>\n",
       "      <td>0.941521</td>\n",
       "    </tr>\n",
       "  </tbody>\n",
       "</table>\n",
       "</div>"
      ],
      "text/plain": [
       "       loss    recall  val_loss  val_recall\n",
       "0  3.159899  0.863023  0.213183    0.919852\n",
       "1  1.716319  0.932208  0.209521    0.923333\n",
       "2  1.080322  0.957913  0.183959    0.946263\n",
       "3  0.787092  0.971026  0.168549    0.959795\n",
       "4  0.639673  0.976748  0.209884    0.941521"
      ]
     },
     "execution_count": 49,
     "metadata": {},
     "output_type": "execute_result"
    }
   ],
   "source": [
    "model_loss = pd.DataFrame(model.history.history)\n",
    "model_loss.head()"
   ]
  },
  {
   "cell_type": "code",
   "execution_count": 50,
   "metadata": {},
   "outputs": [
    {
     "data": {
      "text/plain": [
       "<AxesSubplot:>"
      ]
     },
     "execution_count": 50,
     "metadata": {},
     "output_type": "execute_result"
    },
    {
     "data": {
      "image/png": "[encoded data removed]",
      "text/plain": [
       "<Figure size 432x288 with 1 Axes>"
      ]
     },
     "metadata": {
      "needs_background": "light"
     },
     "output_type": "display_data"
    }
   ],
   "source": [
    "model_loss.plot()"
   ]
  },
  {
   "cell_type": "code",
   "execution_count": 51,
   "metadata": {},
   "outputs": [
    {
     "name": "stdout",
     "output_type": "stream",
     "text": [
      "6088/6088 [==============================] - 95s 16ms/step - loss: 0.0550 - recall: 0.9812\n"
     ]
    },
    {
     "data": {
      "text/plain": [
       "[0.055006854236125946, 0.9812244176864624]"
      ]
     },
     "execution_count": 51,
     "metadata": {},
     "output_type": "execute_result"
    }
   ],
   "source": [
    "model.evaluate(X_train, y_train)"
   ]
  },
  {
   "cell_type": "code",
   "execution_count": 52,
   "metadata": {},
   "outputs": [
    {
     "name": "stdout",
     "output_type": "stream",
     "text": [
      "1522/1522 [==============================] - 23s 15ms/step - loss: 0.1685 - recall: 0.9598\n"
     ]
    },
    {
     "data": {
      "text/plain": [
       "[0.1685492992401123, 0.9597954750061035]"
      ]
     },
     "execution_count": 52,
     "metadata": {},
     "output_type": "execute_result"
    }
   ],
   "source": [
    "model.evaluate(X_test, y_test)"
   ]
  },
  {
   "cell_type": "code",
   "execution_count": 53,
   "metadata": {},
   "outputs": [
    {
     "name": "stdout",
     "output_type": "stream",
     "text": [
      "[[ 10835    106]\n",
      " [  3452 180404]]\n",
      "-------------------------------------------------------\n",
      "              precision    recall  f1-score   support\n",
      "\n",
      "           0       0.76      0.99      0.86     10941\n",
      "           1       1.00      0.98      0.99    183856\n",
      "\n",
      "    accuracy                           0.98    194797\n",
      "   macro avg       0.88      0.99      0.92    194797\n",
      "weighted avg       0.99      0.98      0.98    194797\n",
      "\n"
     ]
    }
   ],
   "source": [
    "from sklearn.metrics import confusion_matrix, classification_report, accuracy_score, f1_score, roc_auc_score\n",
    "\n",
    "y_train_pred = (model.predict(X_train) >= 0.5).astype(\"int32\")\n",
    "\n",
    "print(confusion_matrix(y_train, y_train_pred))\n",
    "print(\"-------------------------------------------------------\")\n",
    "print(classification_report(y_train, y_train_pred))"
   ]
  },
  {
   "cell_type": "code",
   "execution_count": 54,
   "metadata": {},
   "outputs": [
    {
     "name": "stdout",
     "output_type": "stream",
     "text": [
      "[[ 2081   654]\n",
      " [ 1848 44117]]\n",
      "-------------------------------------------------------\n",
      "              precision    recall  f1-score   support\n",
      "\n",
      "           0       0.53      0.76      0.62      2735\n",
      "           1       0.99      0.96      0.97     45965\n",
      "\n",
      "    accuracy                           0.95     48700\n",
      "   macro avg       0.76      0.86      0.80     48700\n",
      "weighted avg       0.96      0.95      0.95     48700\n",
      "\n"
     ]
    }
   ],
   "source": [
    "y_pred = (model.predict(X_test) >= 0.5).astype(\"int32\")\n",
    "\n",
    "print(confusion_matrix(y_test, y_pred))\n",
    "print(\"-------------------------------------------------------\")\n",
    "print(classification_report(y_test, y_pred))"
   ]
  },
  {
   "cell_type": "code",
   "execution_count": 55,
   "metadata": {},
   "outputs": [
    {
     "data": {
      "text/plain": [
       "array([1, 1, 1, ..., 1, 1, 1], dtype=int64)"
      ]
     },
     "execution_count": 55,
     "metadata": {},
     "output_type": "execute_result"
    }
   ],
   "source": [
    "y_test"
   ]
  },
  {
   "cell_type": "code",
   "execution_count": 56,
   "metadata": {},
   "outputs": [
    {
     "data": {
      "text/plain": [
       "array([[1],\n",
       "       [1],\n",
       "       [1],\n",
       "       ...,\n",
       "       [1],\n",
       "       [1],\n",
       "       [1]])"
      ]
     },
     "execution_count": 56,
     "metadata": {},
     "output_type": "execute_result"
    }
   ],
   "source": [
    "y_pred"
   ]
  },
  {
   "cell_type": "code",
   "execution_count": 57,
   "metadata": {},
   "outputs": [
    {
     "data": {
      "text/plain": [
       "array([1, 1, 1, ..., 1, 1, 1])"
      ]
     },
     "execution_count": 57,
     "metadata": {},
     "output_type": "execute_result"
    }
   ],
   "source": [
    "y_pred2 = np.array([i[0] for i in y_pred])\n",
    "y_pred2"
   ]
  },
  {
   "cell_type": "code",
   "execution_count": 58,
   "metadata": {},
   "outputs": [
    {
     "data": {
      "text/plain": [
       "(array([   49,    52,    55, ..., 48622, 48678, 48688], dtype=int64),)"
      ]
     },
     "execution_count": 58,
     "metadata": {},
     "output_type": "execute_result"
    }
   ],
   "source": [
    "incorrect = np.where(y_test != y_pred2)\n",
    "incorrect"
   ]
  },
  {
   "cell_type": "code",
   "execution_count": 59,
   "metadata": {},
   "outputs": [
    {
     "data": {
      "text/plain": [
       "array([   49,    52,    55, ..., 48622, 48678, 48688], dtype=int64)"
      ]
     },
     "execution_count": 59,
     "metadata": {},
     "output_type": "execute_result"
    }
   ],
   "source": [
    "incorrect = incorrect[0]\n",
    "incorrect"
   ]
  },
  {
   "cell_type": "code",
   "execution_count": 60,
   "metadata": {},
   "outputs": [
    {
     "data": {
      "text/plain": [
       "2502"
      ]
     },
     "execution_count": 60,
     "metadata": {},
     "output_type": "execute_result"
    }
   ],
   "source": [
    "len(incorrect)"
   ]
  },
  {
   "cell_type": "code",
   "execution_count": 61,
   "metadata": {},
   "outputs": [
    {
     "data": {
      "text/plain": [
       "49"
      ]
     },
     "execution_count": 61,
     "metadata": {},
     "output_type": "execute_result"
    }
   ],
   "source": [
    "idx = incorrect[0]\n",
    "idx"
   ]
  },
  {
   "cell_type": "code",
   "execution_count": 62,
   "metadata": {},
   "outputs": [
    {
     "data": {
      "text/plain": [
       "array([   0,    0,    0,    0,    0,    0,    0,    0,    0,    0,    0,\n",
       "          0,    0,    0,    0,    0,    0,    0,    0,    0,    0,    0,\n",
       "          0,    0,    0,    0,    0,    0,    0,    0,    0,    0,    0,\n",
       "          0,    0,    0,    0,    0,    0,    0,    0,    0,    0,    0,\n",
       "          0,    0,    0,    0,   15,  548, 3488,   16,   80,    4,   84,\n",
       "        704, 5686,   33, 1820, 2360,  357])"
      ]
     },
     "execution_count": 62,
     "metadata": {},
     "output_type": "execute_result"
    }
   ],
   "source": [
    "text = X_test[idx]\n",
    "text"
   ]
  },
  {
   "cell_type": "code",
   "execution_count": 63,
   "metadata": {},
   "outputs": [
    {
     "data": {
      "text/plain": [
       "'hızlı gönderim i̇çin teşekkürler fakat ürün şarj yeri yamuk geldi kargodan kaynaklı sanırım'"
      ]
     },
     "execution_count": 63,
     "metadata": {},
     "output_type": "execute_result"
    }
   ],
   "source": [
    "tokens_to_string(text)"
   ]
  },
  {
   "cell_type": "code",
   "execution_count": 64,
   "metadata": {},
   "outputs": [
    {
     "data": {
      "text/plain": [
       "array([0])"
      ]
     },
     "execution_count": 64,
     "metadata": {},
     "output_type": "execute_result"
    }
   ],
   "source": [
    "y_pred[idx]"
   ]
  },
  {
   "cell_type": "code",
   "execution_count": 65,
   "metadata": {},
   "outputs": [
    {
     "data": {
      "text/plain": [
       "1"
      ]
     },
     "execution_count": 65,
     "metadata": {},
     "output_type": "execute_result"
    }
   ],
   "source": [
    "y_test[idx]"
   ]
  },
  {
   "cell_type": "code",
   "execution_count": 66,
   "metadata": {},
   "outputs": [],
   "source": [
    "y_pr = model.predict(X_test)"
   ]
  },
  {
   "cell_type": "code",
   "execution_count": 67,
   "metadata": {},
   "outputs": [
    {
     "data": {
      "text/plain": [
       "array([0.03913417], dtype=float32)"
      ]
     },
     "execution_count": 67,
     "metadata": {},
     "output_type": "execute_result"
    }
   ],
   "source": [
    "y_pr[idx]"
   ]
  },
  {
   "cell_type": "markdown",
   "metadata": {},
   "source": [
    "## Predicton"
   ]
  },
  {
   "cell_type": "code",
   "execution_count": 68,
   "metadata": {},
   "outputs": [],
   "source": [
    "review1 = \"çok beğendim herkese tavsiye ederim\"\n",
    "review2 = \"süper ürün aynı gün elime geçti\"\n",
    "review3 = \"büyük bir hayal kırıklığı yaşadım bu ürünü bu markaya yakıştıramadım\"\n",
    "review4 = \"kelimelerle tarif edilemez\"\n",
    "review5 = \"tasarımı harika ancak kargo çok geç geldi ve ürün açılmıştı hayal kırıklığı gerçekten\"\n",
    "review6 = \"hiç resimde gösterildiği gibi değil\"\n",
    "review7 = \"kötü yorumlar gözümü korkutmuştu ancak hiçbir sorun yaşamadım teşekkürler\"\n",
    "review8 = \"hiç bu kadar kötü bir satıcıya denk gelmemiştim ürün siparişimi iptal ediyorum\"\n",
    "review9 = \"tam bir fiyat performans ürünü\"\n",
    "review10 = \"beklediğim gibi çıkmadı\"\n",
    "review11 = \"on numara beş yıldız\"\n",
    "review12 = \"bu kargoyu biran önce bırakın. yoksa üründe sıkıntı yok\"\n",
    "review13 = \"televizyonun görüntü kalitesi çok kötü, dün akşam evde arkadaşlarla toplandık. yedik, içtik, sohbet ettik. Sonra televizyonda Türkiye - İngiltere maçını seyrettik. \"\n",
    "review14 = '1 gün gibi kısa bir sürede elime geçti. Ve bu fıyata süper bir ürün tavsiye ederim. Lakin eli büyük olan kişiler daha büyük modelini tercih edebilirler ortaboy ürün. Teşekkürler '\n",
    "reviews = [review1, review2, review3, review4, review5, review6, review7, review8, review9, review10, review11, review12, review13, review14]"
   ]
  },
  {
   "cell_type": "code",
   "execution_count": 69,
   "metadata": {},
   "outputs": [],
   "source": [
    "tokens = tokenizer.texts_to_sequences(reviews)"
   ]
  },
  {
   "cell_type": "code",
   "execution_count": 70,
   "metadata": {},
   "outputs": [
    {
     "data": {
      "text/plain": [
       "(14, 61)"
      ]
     },
     "execution_count": 70,
     "metadata": {},
     "output_type": "execute_result"
    }
   ],
   "source": [
    "tokens_pad = pad_sequences(tokens, maxlen=max_tokens)\n",
    "tokens_pad.shape"
   ]
  },
  {
   "cell_type": "code",
   "execution_count": 71,
   "metadata": {},
   "outputs": [
    {
     "data": {
      "text/plain": [
       "array([[0.99602515],\n",
       "       [0.9431267 ],\n",
       "       [0.00165054],\n",
       "       [0.98150027],\n",
       "       [0.00438365],\n",
       "       [0.00224429],\n",
       "       [0.96462995],\n",
       "       [0.7510786 ],\n",
       "       [0.9932668 ],\n",
       "       [0.00659114],\n",
       "       [0.99474394],\n",
       "       [0.9683082 ],\n",
       "       [0.00192627],\n",
       "       [0.41361547]], dtype=float32)"
      ]
     },
     "execution_count": 71,
     "metadata": {},
     "output_type": "execute_result"
    }
   ],
   "source": [
    "model.predict(tokens_pad)"
   ]
  },
  {
   "cell_type": "code",
   "execution_count": null,
   "metadata": {},
   "outputs": [],
   "source": []
  }
 ],
 "metadata": {
  "kernelspec": {
   "display_name": "Python 3",
   "language": "python",
   "name": "python3"
  },
  "language_info": {
   "codemirror_mode": {
    "name": "ipython",
    "version": 3
   },
   "file_extension": ".py",
   "mimetype": "text/x-python",
   "name": "python",
   "nbconvert_exporter": "python",
   "pygments_lexer": "ipython3",
   "version": "3.9.7"
  }
 },
 "nbformat": 4,
 "nbformat_minor": 2
}
