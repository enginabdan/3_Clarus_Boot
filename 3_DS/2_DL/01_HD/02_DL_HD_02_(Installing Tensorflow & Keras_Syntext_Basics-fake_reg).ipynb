{
 "cells": [
  {
   "cell_type": "markdown",
   "metadata": {},
   "source": [
    "# Installing Tensorflow"
   ]
  },
  {
   "cell_type": "markdown",
   "metadata": {},
   "source": [
    "Tensorflow Playground: https://playground.tensorflow.org/#activation=tanh&batchSize=10&dataset=circle&regDataset=reg-plane&learningRate=0.03&regularizationRate=0&noise=0&networkShape=4,2&seed=0.75817&showTestData=false&discretize=false&percTrainData=50&x=true&y=true&xTimesY=false&xSquared=false&ySquared=false&cosX=false&sinX=false&cosY=false&sinY=false&collectStats=false&problem=classification&initZero=false&hideText=false"
   ]
  },
  {
   "cell_type": "code",
   "execution_count": 5,
   "metadata": {},
   "outputs": [
    {
     "ename": "SyntaxError",
     "evalue": "invalid syntax (1169281837.py, line 2)",
     "output_type": "error",
     "traceback": [
      "\u001b[0;36m  File \u001b[0;32m\"/var/folders/c9/5smrmch121gfp7kxbg114__h0000gn/T/ipykernel_1146/1169281837.py\"\u001b[0;36m, line \u001b[0;32m2\u001b[0m\n\u001b[0;31m    pip install tensorflow\u001b[0m\n\u001b[0m        ^\u001b[0m\n\u001b[0;31mSyntaxError\u001b[0m\u001b[0;31m:\u001b[0m invalid syntax\n"
     ]
    }
   ],
   "source": [
    "#python3 --version\n",
    "#pip install tensorflow\n",
    "#pip install tensorflow==2.0\n",
    "#pip install --ignore-installed --upgrade tensorflow==2.0\n",
    "#import tensorflow as tf\n",
    "#tf.__version__"
   ]
  },
  {
   "cell_type": "markdown",
   "metadata": {},
   "source": [
    "# Keras Syntax Basics"
   ]
  },
  {
   "cell_type": "code",
   "execution_count": 3,
   "metadata": {},
   "outputs": [],
   "source": [
    "import numpy as np\n",
    "import pandas as pd\n",
    "import seaborn as sns\n",
    "import matplotlib.pyplot as plt\n",
    "import tensorflow as tf\n",
    "\n",
    "%matplotlib inline\n",
    "# %matplotlib notebook\n",
    "plt.rcParams[\"figure.figsize\"] = (10,6)\n",
    "# plt.rcParams['figure.dpi'] = 100\n",
    "sns.set_style(\"whitegrid\")\n",
    "import warnings\n",
    "warnings.filterwarnings(\"ignore\")\n",
    "warnings.warn(\"this will not show\")\n",
    "pd.set_option('display.float_format', lambda x: '%.3f' % x)"
   ]
  },
  {
   "cell_type": "code",
   "execution_count": 1,
   "metadata": {},
   "outputs": [],
   "source": [
    "#from google.colab import drive\n",
    "#drive.mount('/content/drive')"
   ]
  },
  {
   "cell_type": "code",
   "execution_count": 2,
   "metadata": {},
   "outputs": [
    {
     "data": {
      "application/javascript": "\n        if (window._pyforest_update_imports_cell) { window._pyforest_update_imports_cell('import pandas as pd'); }\n    ",
      "text/plain": [
       "<IPython.core.display.Javascript object>"
      ]
     },
     "metadata": {},
     "output_type": "display_data"
    }
   ],
   "source": [
    "#df = pd.read_csv(\"drive/MyDrive/Colab_Files/data/fake_reg.csv\")\n",
    "df = pd.read_csv(\"fake_reg.csv\")"
   ]
  },
  {
   "cell_type": "markdown",
   "metadata": {},
   "source": [
    "## Exploratory Data Analysis and Visualization"
   ]
  },
  {
   "cell_type": "code",
   "execution_count": 3,
   "metadata": {},
   "outputs": [
    {
     "data": {
      "text/html": [
       "<div>\n",
       "<style scoped>\n",
       "    .dataframe tbody tr th:only-of-type {\n",
       "        vertical-align: middle;\n",
       "    }\n",
       "\n",
       "    .dataframe tbody tr th {\n",
       "        vertical-align: top;\n",
       "    }\n",
       "\n",
       "    .dataframe thead th {\n",
       "        text-align: right;\n",
       "    }\n",
       "</style>\n",
       "<table border=\"1\" class=\"dataframe\">\n",
       "  <thead>\n",
       "    <tr style=\"text-align: right;\">\n",
       "      <th></th>\n",
       "      <th>price</th>\n",
       "      <th>feature1</th>\n",
       "      <th>feature2</th>\n",
       "    </tr>\n",
       "  </thead>\n",
       "  <tbody>\n",
       "    <tr>\n",
       "      <th>0</th>\n",
       "      <td>461.527929</td>\n",
       "      <td>999.787558</td>\n",
       "      <td>999.766096</td>\n",
       "    </tr>\n",
       "    <tr>\n",
       "      <th>1</th>\n",
       "      <td>548.130011</td>\n",
       "      <td>998.861615</td>\n",
       "      <td>1001.042403</td>\n",
       "    </tr>\n",
       "    <tr>\n",
       "      <th>2</th>\n",
       "      <td>410.297162</td>\n",
       "      <td>1000.070267</td>\n",
       "      <td>998.844015</td>\n",
       "    </tr>\n",
       "    <tr>\n",
       "      <th>3</th>\n",
       "      <td>540.382220</td>\n",
       "      <td>999.952251</td>\n",
       "      <td>1000.440940</td>\n",
       "    </tr>\n",
       "    <tr>\n",
       "      <th>4</th>\n",
       "      <td>546.024553</td>\n",
       "      <td>1000.446011</td>\n",
       "      <td>1000.338531</td>\n",
       "    </tr>\n",
       "  </tbody>\n",
       "</table>\n",
       "</div>"
      ],
      "text/plain": [
       "        price     feature1     feature2\n",
       "0  461.527929   999.787558   999.766096\n",
       "1  548.130011   998.861615  1001.042403\n",
       "2  410.297162  1000.070267   998.844015\n",
       "3  540.382220   999.952251  1000.440940\n",
       "4  546.024553  1000.446011  1000.338531"
      ]
     },
     "execution_count": 3,
     "metadata": {},
     "output_type": "execute_result"
    }
   ],
   "source": [
    "df.head()"
   ]
  },
  {
   "cell_type": "code",
   "execution_count": 4,
   "metadata": {},
   "outputs": [
    {
     "name": "stdout",
     "output_type": "stream",
     "text": [
      "<class 'pandas.core.frame.DataFrame'>\n",
      "RangeIndex: 1000 entries, 0 to 999\n",
      "Data columns (total 3 columns):\n",
      " #   Column    Non-Null Count  Dtype  \n",
      "---  ------    --------------  -----  \n",
      " 0   price     1000 non-null   float64\n",
      " 1   feature1  1000 non-null   float64\n",
      " 2   feature2  1000 non-null   float64\n",
      "dtypes: float64(3)\n",
      "memory usage: 23.6 KB\n"
     ]
    }
   ],
   "source": [
    "df.info()"
   ]
  },
  {
   "cell_type": "code",
   "execution_count": 5,
   "metadata": {},
   "outputs": [
    {
     "data": {
      "text/html": [
       "<div>\n",
       "<style scoped>\n",
       "    .dataframe tbody tr th:only-of-type {\n",
       "        vertical-align: middle;\n",
       "    }\n",
       "\n",
       "    .dataframe tbody tr th {\n",
       "        vertical-align: top;\n",
       "    }\n",
       "\n",
       "    .dataframe thead th {\n",
       "        text-align: right;\n",
       "    }\n",
       "</style>\n",
       "<table border=\"1\" class=\"dataframe\">\n",
       "  <thead>\n",
       "    <tr style=\"text-align: right;\">\n",
       "      <th></th>\n",
       "      <th>count</th>\n",
       "      <th>mean</th>\n",
       "      <th>std</th>\n",
       "      <th>min</th>\n",
       "      <th>25%</th>\n",
       "      <th>50%</th>\n",
       "      <th>75%</th>\n",
       "      <th>max</th>\n",
       "    </tr>\n",
       "  </thead>\n",
       "  <tbody>\n",
       "    <tr>\n",
       "      <th>price</th>\n",
       "      <td>1000.0</td>\n",
       "      <td>498.673029</td>\n",
       "      <td>93.785431</td>\n",
       "      <td>223.346793</td>\n",
       "      <td>433.025732</td>\n",
       "      <td>502.382117</td>\n",
       "      <td>564.921588</td>\n",
       "      <td>774.407854</td>\n",
       "    </tr>\n",
       "    <tr>\n",
       "      <th>feature1</th>\n",
       "      <td>1000.0</td>\n",
       "      <td>1000.014171</td>\n",
       "      <td>0.974018</td>\n",
       "      <td>997.058347</td>\n",
       "      <td>999.332068</td>\n",
       "      <td>1000.009915</td>\n",
       "      <td>1000.637580</td>\n",
       "      <td>1003.207934</td>\n",
       "    </tr>\n",
       "    <tr>\n",
       "      <th>feature2</th>\n",
       "      <td>1000.0</td>\n",
       "      <td>999.979847</td>\n",
       "      <td>0.948330</td>\n",
       "      <td>996.995651</td>\n",
       "      <td>999.316106</td>\n",
       "      <td>1000.002243</td>\n",
       "      <td>1000.645380</td>\n",
       "      <td>1002.666308</td>\n",
       "    </tr>\n",
       "  </tbody>\n",
       "</table>\n",
       "</div>"
      ],
      "text/plain": [
       "           count         mean        std         min         25%          50%  \\\n",
       "price     1000.0   498.673029  93.785431  223.346793  433.025732   502.382117   \n",
       "feature1  1000.0  1000.014171   0.974018  997.058347  999.332068  1000.009915   \n",
       "feature2  1000.0   999.979847   0.948330  996.995651  999.316106  1000.002243   \n",
       "\n",
       "                  75%          max  \n",
       "price      564.921588   774.407854  \n",
       "feature1  1000.637580  1003.207934  \n",
       "feature2  1000.645380  1002.666308  "
      ]
     },
     "execution_count": 5,
     "metadata": {},
     "output_type": "execute_result"
    }
   ],
   "source": [
    "df.describe().T"
   ]
  },
  {
   "cell_type": "code",
   "execution_count": 6,
   "metadata": {},
   "outputs": [
    {
     "data": {
      "application/javascript": "\n        if (window._pyforest_update_imports_cell) { window._pyforest_update_imports_cell('import seaborn as sns\\nimport pandas as pd'); }\n    ",
      "text/plain": [
       "<IPython.core.display.Javascript object>"
      ]
     },
     "metadata": {},
     "output_type": "display_data"
    },
    {
     "data": {
      "image/png": "[encoded data removed]",
      "text/plain": [
       "<Figure size 540x540 with 12 Axes>"
      ]
     },
     "metadata": {
      "needs_background": "light"
     },
     "output_type": "display_data"
    }
   ],
   "source": [
    "sns.pairplot(df);"
   ]
  },
  {
   "cell_type": "code",
   "execution_count": 7,
   "metadata": {},
   "outputs": [
    {
     "data": {
      "text/html": [
       "<div>\n",
       "<style scoped>\n",
       "    .dataframe tbody tr th:only-of-type {\n",
       "        vertical-align: middle;\n",
       "    }\n",
       "\n",
       "    .dataframe tbody tr th {\n",
       "        vertical-align: top;\n",
       "    }\n",
       "\n",
       "    .dataframe thead th {\n",
       "        text-align: right;\n",
       "    }\n",
       "</style>\n",
       "<table border=\"1\" class=\"dataframe\">\n",
       "  <thead>\n",
       "    <tr style=\"text-align: right;\">\n",
       "      <th></th>\n",
       "      <th>price</th>\n",
       "      <th>feature1</th>\n",
       "      <th>feature2</th>\n",
       "    </tr>\n",
       "  </thead>\n",
       "  <tbody>\n",
       "    <tr>\n",
       "      <th>price</th>\n",
       "      <td>1.000000</td>\n",
       "      <td>0.444190</td>\n",
       "      <td>0.907576</td>\n",
       "    </tr>\n",
       "    <tr>\n",
       "      <th>feature1</th>\n",
       "      <td>0.444190</td>\n",
       "      <td>1.000000</td>\n",
       "      <td>0.030607</td>\n",
       "    </tr>\n",
       "    <tr>\n",
       "      <th>feature2</th>\n",
       "      <td>0.907576</td>\n",
       "      <td>0.030607</td>\n",
       "      <td>1.000000</td>\n",
       "    </tr>\n",
       "  </tbody>\n",
       "</table>\n",
       "</div>"
      ],
      "text/plain": [
       "             price  feature1  feature2\n",
       "price     1.000000  0.444190  0.907576\n",
       "feature1  0.444190  1.000000  0.030607\n",
       "feature2  0.907576  0.030607  1.000000"
      ]
     },
     "execution_count": 7,
     "metadata": {},
     "output_type": "execute_result"
    }
   ],
   "source": [
    "df.corr()"
   ]
  },
  {
   "cell_type": "markdown",
   "metadata": {},
   "source": [
    "## Preprocessing of Data\n",
    "- Train | Test Split, Scalling"
   ]
  },
  {
   "cell_type": "code",
   "execution_count": 8,
   "metadata": {},
   "outputs": [],
   "source": [
    "from sklearn.model_selection import train_test_split"
   ]
  },
  {
   "cell_type": "code",
   "execution_count": 9,
   "metadata": {},
   "outputs": [],
   "source": [
    "X = df[['feature1', 'feature2']].values\n",
    "y = df['price'].values"
   ]
  },
  {
   "cell_type": "code",
   "execution_count": 10,
   "metadata": {},
   "outputs": [
    {
     "data": {
      "text/plain": [
       "array([[ 999.78755752,  999.7660962 ],\n",
       "       [ 998.86161491, 1001.04240315],\n",
       "       [1000.07026691,  998.84401463],\n",
       "       ...,\n",
       "       [1001.45164617,  998.84760554],\n",
       "       [1000.77102275,  998.56285086],\n",
       "       [ 999.2322436 , 1001.45140713]])"
      ]
     },
     "execution_count": 10,
     "metadata": {},
     "output_type": "execute_result"
    }
   ],
   "source": [
    "X"
   ]
  },
  {
   "cell_type": "code",
   "execution_count": 11,
   "metadata": {},
   "outputs": [
    {
     "data": {
      "text/plain": [
       "array([461.52792939, 548.13001146, 410.29716167, 540.38221981,\n",
       "       546.02455292, 542.9836716 , 555.48566416, 417.56972453,\n",
       "       373.14653122, 633.35029248, 624.24709206, 475.37241721,\n",
       "       600.36844486, 532.83295175, 472.8353628 , 506.31229096,\n",
       "       508.414406  , 610.4553519 , 323.65776198, 446.21230389,\n",
       "       362.12270299, 433.41064026, 562.00257647, 637.30962074,\n",
       "       522.80800754, 469.8028243 , 543.10992778, 565.43416994,\n",
       "       530.03285381, 610.58016503, 482.55641188, 327.56004052,\n",
       "       579.73083872, 448.42981468, 628.97709187, 536.79737216,\n",
       "       570.06729543, 357.82557519, 612.08492732, 444.67970846,\n",
       "       600.1186364 , 523.53312776, 512.94994495, 614.8813169 ,\n",
       "       404.35303251, 643.68851807, 488.95660398, 443.20468572,\n",
       "       514.47906638, 514.88174058, 325.05852217, 554.6620585 ,\n",
       "       451.39140001, 587.67887726, 477.73749721, 574.51560687,\n",
       "       548.9107991 , 528.69088356, 443.21100482, 397.88209319,\n",
       "       355.79535223, 460.69478138, 534.7673737 , 537.6067329 ,\n",
       "       603.66990347, 547.27579153, 567.30862153, 454.32901321,\n",
       "       492.60451447, 643.13593178, 477.4305163 , 497.41251837,\n",
       "       559.04378534, 576.67843837, 292.1917811 , 542.99539996,\n",
       "       547.73198239, 507.43439141, 408.12200074, 595.43348561,\n",
       "       463.3552036 , 468.35698045, 462.00480189, 410.35912407,\n",
       "       467.46059552, 497.23978613, 411.63794464, 583.06598409,\n",
       "       441.95036691, 536.04090915, 530.98717439, 364.50842093,\n",
       "       626.06865169, 434.62971003, 523.02344198, 484.10880902,\n",
       "       411.57560703, 722.26394433, 519.46299177, 558.50321048,\n",
       "       526.24297782, 531.27754687, 470.89067007, 459.92494538,\n",
       "       577.58298501, 599.90573138, 584.92843756, 357.34223391,\n",
       "       392.04726871, 515.77844597, 390.2092368 , 497.49148239,\n",
       "       506.74032509, 395.51477512, 239.65626376, 507.6052943 ,\n",
       "       628.84940437, 468.07324688, 444.9447339 , 527.31719596,\n",
       "       415.44298463, 363.4303791 , 591.86909195, 391.12466656,\n",
       "       526.1019196 , 402.00959595, 563.67781737, 362.24018346,\n",
       "       514.31349869, 322.31435197, 513.519732  , 340.05814212,\n",
       "       560.79471778, 489.79459784, 381.07367881, 558.34939279,\n",
       "       451.8041724 , 451.79140134, 442.17202786, 488.78691774,\n",
       "       433.09376956, 518.00709658, 511.69454654, 334.89459622,\n",
       "       490.78489309, 510.46356567, 565.02540892, 542.30140508,\n",
       "       655.42619806, 433.51753016, 373.06190748, 517.32199998,\n",
       "       609.96955536, 401.28033698, 540.74381886, 410.53824963,\n",
       "       441.7417974 , 448.70138654, 377.57042607, 450.85178618,\n",
       "       695.08064351, 548.94851249, 479.70887661, 345.01181992,\n",
       "       576.85255167, 337.95129476, 466.8394786 , 429.91541295,\n",
       "       567.88189283, 422.77852605, 559.7847254 , 503.75687251,\n",
       "       355.35228879, 622.37147383, 450.9760715 , 591.71413509,\n",
       "       522.42993416, 474.08634639, 423.05243386, 466.70445806,\n",
       "       481.92547045, 362.91867606, 566.05763935, 457.05958811,\n",
       "       580.88060484, 497.33921897, 519.17237518, 640.40485258,\n",
       "       477.25839763, 506.50370548, 634.2482933 , 311.87137765,\n",
       "       556.61215428, 446.36031515, 543.83027912, 617.61509904,\n",
       "       491.55128715, 441.90522674, 418.45717839, 524.47348399,\n",
       "       483.13482709, 622.99764305, 424.60840775, 515.14753991,\n",
       "       496.89047668, 534.23436696, 627.3802761 , 460.02329028,\n",
       "       338.13384172, 397.62059618, 562.05793604, 504.69389644,\n",
       "       490.99787402, 361.42640522, 608.12804021, 625.07938608,\n",
       "       461.38078609, 533.07210805, 438.26540597, 404.14239475,\n",
       "       458.52789767, 455.13953399, 521.87959462, 507.09798982,\n",
       "       480.80694031, 539.68399729, 376.32625533, 449.458484  ,\n",
       "       457.77794629, 531.16341758, 599.81185581, 526.67361757,\n",
       "       512.1515175 , 510.02950867, 391.26547583, 593.6677957 ,\n",
       "       415.60708684, 469.07283863, 485.22477592, 354.92884232,\n",
       "       316.63684801, 464.44494809, 649.39591652, 474.02501346,\n",
       "       551.56006043, 631.88915741, 597.71257172, 532.62879772,\n",
       "       445.58282142, 599.92382612, 375.95938044, 581.90748483,\n",
       "       464.9944057 , 417.23887206, 570.6460653 , 414.754452  ,\n",
       "       578.22402034, 405.92898949, 626.6797543 , 484.01952653,\n",
       "       275.33337527, 531.66193891, 223.34679276, 637.77896908,\n",
       "       553.87999612, 487.7379163 , 439.09025956, 378.04069831,\n",
       "       379.23669121, 537.12524033, 553.12387811, 505.69270877,\n",
       "       421.53806534, 510.88504979, 567.19470601, 697.70715802,\n",
       "       388.74663225, 578.32901814, 734.2765031 , 449.32814488,\n",
       "       512.04904895, 357.29591446, 360.23212493, 395.12045332,\n",
       "       423.70001699, 443.80983891, 595.96581968, 515.56181283,\n",
       "       531.9290881 , 530.13508628, 448.63240577, 527.61587693,\n",
       "       453.45829752, 417.54122635, 656.97308566, 546.23137991,\n",
       "       492.93591939, 379.90913372, 511.36670783, 503.51419982,\n",
       "       519.46055247, 611.14763688, 411.05157782, 403.41301547,\n",
       "       496.75415064, 466.00440866, 528.12861343, 633.45125327,\n",
       "       567.04497795, 435.09849106, 537.92888483, 452.71044444,\n",
       "       609.3840753 , 396.1965711 , 504.43137263, 626.69427794,\n",
       "       493.01201779, 724.47187575, 713.46667346, 565.19184559,\n",
       "       551.57372795, 451.89764782, 565.96723066, 367.7919044 ,\n",
       "       576.32144345, 579.42843094, 489.09760772, 487.18793877,\n",
       "       621.11885596, 481.90704139, 700.98368025, 599.99118092,\n",
       "       522.35888373, 646.8239136 , 568.61318745, 511.29824533,\n",
       "       760.65101669, 304.43261518, 543.32064222, 399.86651896,\n",
       "       585.16821441, 484.229812  , 425.84365096, 550.47494925,\n",
       "       325.79480263, 364.03501381, 439.49653517, 518.26312427,\n",
       "       693.9884929 , 512.59570173, 257.71199724, 524.32438029,\n",
       "       402.1955134 , 579.85178649, 476.07122974, 411.18423872,\n",
       "       367.76354239, 400.63495186, 609.58070746, 612.47025609,\n",
       "       366.3818868 , 485.50390003, 443.39703561, 479.56906767,\n",
       "       559.69848911, 432.82161991, 328.20550401, 524.37119547,\n",
       "       552.77893509, 630.61363933, 424.81078609, 375.13754715,\n",
       "       338.93370122, 574.74001083, 355.81485125, 378.79339707,\n",
       "       555.99978702, 642.3708192 , 347.87631327, 330.08230225,\n",
       "       392.70436827, 519.32640956, 612.7537015 , 469.24686052,\n",
       "       460.31999098, 646.25928592, 452.73449935, 446.6617038 ,\n",
       "       392.57787377, 419.11235041, 485.67140382, 533.55074599,\n",
       "       558.68796948, 433.41514433, 572.67843212, 474.34929884,\n",
       "       587.45566743, 603.60488162, 679.89502292, 454.02841184,\n",
       "       641.29636111, 523.12643425, 451.86441942, 369.91451298,\n",
       "       602.12024979, 589.28379767, 552.35874313, 497.82077751,\n",
       "       645.7084402 , 299.39441419, 416.37530318, 371.22410361,\n",
       "       305.42221221, 476.19497523, 718.25653986, 481.64581321,\n",
       "       449.79721212, 423.13089618, 487.23276805, 486.74414447,\n",
       "       333.08087339, 560.13543661, 711.65777328, 424.61108821,\n",
       "       367.88499002, 502.8467149 , 661.16436862, 422.44243544,\n",
       "       612.72791033, 526.44751951, 462.88163084, 574.57837765,\n",
       "       477.80625993, 431.18869681, 596.27161677, 367.04561733,\n",
       "       610.29650189, 573.83826959, 561.6815936 , 316.9505926 ,\n",
       "       353.78339461, 462.24239731, 395.74531349, 461.17944502,\n",
       "       265.31883491, 516.28603756, 495.54358534, 655.0298841 ,\n",
       "       361.96928555, 383.93441552, 339.21223298, 438.97699136,\n",
       "       518.36039543, 587.06918986, 513.58851064, 541.1289475 ,\n",
       "       318.2422866 , 407.41050587, 401.53996228, 530.27625921,\n",
       "       421.52951149, 509.05805746, 460.1838563 , 387.89272462,\n",
       "       560.93779062, 586.55980649, 426.36278463, 479.91915661,\n",
       "       525.70465661, 555.42087135, 530.68301453, 469.87238663,\n",
       "       606.31505182, 364.85210784, 360.16078118, 425.10615848,\n",
       "       365.56087755, 480.23012282, 533.48426265, 477.32136011,\n",
       "       685.07306529, 595.85363797, 510.87857855, 403.69954917,\n",
       "       493.96420737, 368.9200954 , 549.84762007, 601.76780838,\n",
       "       508.20389135, 418.93004519, 564.36822362, 604.11066099,\n",
       "       599.28050672, 527.88077226, 547.07286694, 576.8926402 ,\n",
       "       491.80281223, 518.70630218, 532.62653164, 685.21654079,\n",
       "       441.38724011, 315.51892903, 581.51143808, 585.15669192,\n",
       "       481.20614899, 470.46051802, 535.54367583, 489.05755196,\n",
       "       731.50955837, 539.7932304 , 421.26795581, 480.59911503,\n",
       "       530.21039882, 464.11587006, 633.4727288 , 449.41611879,\n",
       "       635.34706613, 537.24922805, 572.38065064, 553.90462877,\n",
       "       616.51060101, 402.29631873, 456.89995237, 505.74726413,\n",
       "       601.63849578, 510.88661196, 556.83209711, 379.10982057,\n",
       "       453.49681218, 594.68664574, 567.46368769, 498.9283394 ,\n",
       "       413.10071452, 437.18179741, 699.73384102, 351.42908062,\n",
       "       593.23051938, 544.18131004, 438.76371594, 446.87698755,\n",
       "       471.99435967, 461.14062423, 689.1734889 , 521.79699247,\n",
       "       603.88757737, 655.39140319, 369.78582541, 509.84188626,\n",
       "       475.17585767, 338.0902386 , 480.80616796, 587.30777032,\n",
       "       503.39000141, 518.12788339, 506.33929863, 647.36155957,\n",
       "       453.13824142, 396.04998476, 612.50533943, 618.93363459,\n",
       "       524.56895456, 666.06222545, 657.95491426, 496.06904958,\n",
       "       524.38393835, 461.49048992, 433.99838446, 572.31305385,\n",
       "       451.92641532, 362.68807582, 514.89474416, 427.36956977,\n",
       "       435.51362445, 566.27172557, 452.37238329, 375.62302356,\n",
       "       466.49020065, 465.17802914, 405.40016562, 427.74126221,\n",
       "       358.85061321, 481.53346268, 358.68011197, 375.31180205,\n",
       "       550.14246248, 556.54397565, 595.38094652, 512.58377753,\n",
       "       665.04739236, 549.29054549, 569.87336031, 550.29340062,\n",
       "       607.41940296, 617.37737732, 613.42662915, 604.57261409,\n",
       "       516.98581378, 401.89505573, 448.55357219, 475.94699622,\n",
       "       501.89188819, 498.6284209 , 474.2054026 , 568.60477798,\n",
       "       698.41041396, 550.89673991, 481.52436972, 498.46359085,\n",
       "       515.90099007, 478.08030334, 562.84736681, 578.52385723,\n",
       "       564.9556813 , 497.46472684, 526.34259721, 568.73205922,\n",
       "       439.65054024, 624.99250404, 370.74177754, 553.07681733,\n",
       "       414.85687715, 448.51914416, 347.1911182 , 631.56069392,\n",
       "       527.05754159, 553.32419751, 514.40564086, 444.05469284,\n",
       "       341.68789552, 565.24995494, 436.55494972, 548.61436053,\n",
       "       501.62206015, 362.24928105, 309.35587863, 435.26155328,\n",
       "       428.31614877, 308.22343125, 536.59066876, 774.40785445,\n",
       "       428.84321279, 552.88912902, 297.29389413, 637.85870827,\n",
       "       564.11153791, 648.01014932, 404.12928655, 508.82552564,\n",
       "       539.54049318, 467.66852221, 489.12458007, 571.18829179,\n",
       "       497.72274826, 396.92876859, 414.11072814, 406.28845394,\n",
       "       579.55848998, 406.6160671 , 515.21520276, 564.18681488,\n",
       "       578.58860646, 408.28620182, 581.54252662, 667.4812481 ,\n",
       "       622.86551828, 500.13304581, 379.13131207, 502.71948002,\n",
       "       343.73541799, 441.48474021, 499.21235117, 542.36204897,\n",
       "       547.62404325, 535.92947542, 461.52076712, 529.4394398 ,\n",
       "       521.61588724, 547.71292837, 584.38110772, 465.99980649,\n",
       "       489.99646515, 634.5322379 , 639.81836225, 500.7218448 ,\n",
       "       514.69378589, 380.13984916, 402.78860922, 507.44318662,\n",
       "       516.66204986, 246.73972006, 345.85149947, 728.54158643,\n",
       "       593.47480723, 623.05449555, 466.78702434, 524.96702947,\n",
       "       695.77282817, 498.19000033, 420.23890075, 449.25967508,\n",
       "       518.34877268, 608.64466352, 476.08427344, 425.4599912 ,\n",
       "       388.0260642 , 595.54443191, 606.21795936, 502.35831316,\n",
       "       470.9635849 , 565.07689035, 570.16851237, 505.63188399,\n",
       "       443.18691766, 387.64605588, 592.7579165 , 528.1454695 ,\n",
       "       610.09170764, 543.3237843 , 651.39612886, 552.91452026,\n",
       "       662.92504623, 571.70626262, 521.7744574 , 565.9362005 ,\n",
       "       526.29247961, 525.55617773, 547.12901446, 556.38156913,\n",
       "       643.55257205, 310.19085317, 316.97373493, 581.24757434,\n",
       "       675.76026898, 637.27161099, 503.27065876, 386.83158001,\n",
       "       449.22797293, 624.15619847, 708.0181058 , 436.66965907,\n",
       "       582.4550663 , 523.15977914, 454.01363039, 458.33002662,\n",
       "       553.13406068, 575.68656759, 399.74690881, 479.03778184,\n",
       "       377.13616236, 611.84754884, 457.69568614, 320.68694051,\n",
       "       607.66473078, 431.47987323, 536.00593624, 487.25310045,\n",
       "       357.11605236, 406.97496006, 367.88456147, 352.28258718,\n",
       "       428.43268624, 674.31102047, 455.03533539, 493.53818767,\n",
       "       323.74660823, 570.87438588, 522.35358676, 512.37078567,\n",
       "       344.445388  , 603.44292484, 494.19769248, 623.10445015,\n",
       "       615.5627227 , 501.09520221, 460.4308638 , 511.19375671,\n",
       "       619.10478486, 425.20422156, 439.38667763, 609.7226948 ,\n",
       "       520.97315983, 564.91022293, 574.57307473, 273.43263798,\n",
       "       416.57967214, 414.00400534, 602.54914671, 501.81396346,\n",
       "       657.25888889, 545.58520276, 363.11433585, 587.10134867,\n",
       "       535.98312568, 357.044414  , 543.91850962, 487.46952396,\n",
       "       491.03773416, 618.12341696, 442.93357949, 528.44015453,\n",
       "       492.87327105, 497.04387645, 606.29736199, 368.90204456,\n",
       "       463.83315596, 411.35636173, 670.21237633, 408.52236362,\n",
       "       484.43638366, 492.6419263 , 381.85298995, 613.95995262,\n",
       "       327.36024129, 491.79240663, 585.44412785, 380.3945669 ,\n",
       "       554.7626666 , 493.85668075, 526.2107462 , 385.39655988,\n",
       "       484.46159148, 332.22764352, 564.67207171, 649.44006825,\n",
       "       424.72778986, 618.08695111, 511.89276394, 331.12168828,\n",
       "       558.16409431, 493.56964948, 396.05573683, 631.37140169,\n",
       "       478.44486619, 628.54499456, 499.75474684, 506.8234736 ,\n",
       "       258.64403747, 478.35823792, 460.54250824, 552.62665953,\n",
       "       519.60816751, 456.98761551, 562.62597526, 560.98721013,\n",
       "       588.24268147, 579.43065472, 490.68891134, 372.77743562,\n",
       "       677.27628686, 420.76621323, 478.08636807, 608.79918051,\n",
       "       498.40036414, 351.09008918, 604.7965235 , 584.29415078,\n",
       "       552.36859639, 514.85636404, 324.75278473, 551.65009963,\n",
       "       646.42137115, 412.01627785, 542.05581314, 376.82027575,\n",
       "       485.65542199, 530.00104432, 531.48237221, 502.90170221,\n",
       "       320.22783441, 410.17228689, 307.49262471, 414.32154328,\n",
       "       429.47259522, 611.37280691, 579.49800824, 645.84815363,\n",
       "       528.21987259, 487.29933081, 530.99314592, 374.19760282,\n",
       "       453.82582684, 535.04562659, 381.36832678, 657.71868008,\n",
       "       403.06256371, 502.40592148, 612.48716221, 473.14373027,\n",
       "       648.49853653, 477.59301587, 478.85719007, 469.11310605,\n",
       "       558.87741587, 560.67805186, 484.56010504, 602.9701103 ,\n",
       "       501.88831717, 296.98984675, 409.95257743, 429.21452014,\n",
       "       529.71971585, 503.21614081, 656.65474461, 378.81430465,\n",
       "       627.64016416, 420.35676968, 347.19521436, 559.96108847,\n",
       "       437.90401436, 382.48198573, 446.61250992, 578.94348317,\n",
       "       427.85700338, 563.58363749, 603.55869587, 445.94046658,\n",
       "       577.31665049, 453.9716661 , 367.16096642, 591.50358214,\n",
       "       404.90316218, 403.90327413, 425.48260511, 657.80019814,\n",
       "       664.50877632, 503.05044876, 518.66756145, 544.49878325,\n",
       "       409.67675815, 338.5727094 , 427.48699506, 349.71799435,\n",
       "       434.38654316, 549.93636627, 524.5896561 , 502.90947332,\n",
       "       342.05906592, 622.03205011, 654.83912076, 434.69375374,\n",
       "       470.5546375 , 380.47707861, 560.3817655 , 549.2573511 ,\n",
       "       494.25163915, 450.42484415, 594.84047708, 412.90687671,\n",
       "       433.42313493, 512.04979227, 478.04811801, 413.29973991,\n",
       "       415.84564074, 511.58583419, 472.89142434, 657.93173622,\n",
       "       560.66409232, 587.74308283, 472.06766427, 390.86267833,\n",
       "       329.06703513, 526.72673086, 452.10238608, 413.87226234,\n",
       "       666.44170815, 487.7692307 , 560.63785511, 449.81047626,\n",
       "       499.94830987, 429.26772106, 508.91176483, 546.20393322,\n",
       "       621.59703226, 413.84178036, 449.02606966, 447.05319043,\n",
       "       595.48648065, 480.87733296, 667.70856487, 594.60958875,\n",
       "       600.04329091, 508.19978205, 359.19507992, 365.88328071,\n",
       "       576.73842525, 515.32519058, 423.65453319, 543.49227764,\n",
       "       577.29292367, 421.05894642, 625.08018462, 434.27528283,\n",
       "       657.73425067, 518.35614426, 481.86280607, 476.52607826,\n",
       "       457.31318609, 456.72099249, 403.31557562, 599.36709348])"
      ]
     },
     "execution_count": 11,
     "metadata": {},
     "output_type": "execute_result"
    }
   ],
   "source": [
    "y"
   ]
  },
  {
   "cell_type": "code",
   "execution_count": 12,
   "metadata": {},
   "outputs": [],
   "source": [
    "X_train, X_test, y_train, y_test = train_test_split(X, y, test_size = 0.3, random_state = 42)"
   ]
  },
  {
   "cell_type": "code",
   "execution_count": 13,
   "metadata": {},
   "outputs": [
    {
     "data": {
      "text/plain": [
       "(700, 2)"
      ]
     },
     "execution_count": 13,
     "metadata": {},
     "output_type": "execute_result"
    }
   ],
   "source": [
    "X_train.shape"
   ]
  },
  {
   "cell_type": "code",
   "execution_count": 14,
   "metadata": {},
   "outputs": [
    {
     "data": {
      "text/plain": [
       "(300, 2)"
      ]
     },
     "execution_count": 14,
     "metadata": {},
     "output_type": "execute_result"
    }
   ],
   "source": [
    "X_test.shape"
   ]
  },
  {
   "cell_type": "code",
   "execution_count": 15,
   "metadata": {},
   "outputs": [],
   "source": [
    "from sklearn.preprocessing import MinMaxScaler"
   ]
  },
  {
   "cell_type": "code",
   "execution_count": 16,
   "metadata": {},
   "outputs": [
    {
     "name": "stdout",
     "output_type": "stream",
     "text": [
      "Help on class MinMaxScaler in module sklearn.preprocessing._data:\n",
      "\n",
      "class MinMaxScaler(sklearn.base.TransformerMixin, sklearn.base.BaseEstimator)\n",
      " |  MinMaxScaler(feature_range=(0, 1), *, copy=True, clip=False)\n",
      " |  \n",
      " |  Transform features by scaling each feature to a given range.\n",
      " |  \n",
      " |  This estimator scales and translates each feature individually such\n",
      " |  that it is in the given range on the training set, e.g. between\n",
      " |  zero and one.\n",
      " |  \n",
      " |  The transformation is given by::\n",
      " |  \n",
      " |      X_std = (X - X.min(axis=0)) / (X.max(axis=0) - X.min(axis=0))\n",
      " |      X_scaled = X_std * (max - min) + min\n",
      " |  \n",
      " |  where min, max = feature_range.\n",
      " |  \n",
      " |  This transformation is often used as an alternative to zero mean,\n",
      " |  unit variance scaling.\n",
      " |  \n",
      " |  Read more in the :ref:`User Guide <preprocessing_scaler>`.\n",
      " |  \n",
      " |  Parameters\n",
      " |  ----------\n",
      " |  feature_range : tuple (min, max), default=(0, 1)\n",
      " |      Desired range of transformed data.\n",
      " |  \n",
      " |  copy : bool, default=True\n",
      " |      Set to False to perform inplace row normalization and avoid a\n",
      " |      copy (if the input is already a numpy array).\n",
      " |  \n",
      " |  clip : bool, default=False\n",
      " |      Set to True to clip transformed values of held-out data to\n",
      " |      provided `feature range`.\n",
      " |  \n",
      " |      .. versionadded:: 0.24\n",
      " |  \n",
      " |  Attributes\n",
      " |  ----------\n",
      " |  min_ : ndarray of shape (n_features,)\n",
      " |      Per feature adjustment for minimum. Equivalent to\n",
      " |      ``min - X.min(axis=0) * self.scale_``\n",
      " |  \n",
      " |  scale_ : ndarray of shape (n_features,)\n",
      " |      Per feature relative scaling of the data. Equivalent to\n",
      " |      ``(max - min) / (X.max(axis=0) - X.min(axis=0))``\n",
      " |  \n",
      " |      .. versionadded:: 0.17\n",
      " |         *scale_* attribute.\n",
      " |  \n",
      " |  data_min_ : ndarray of shape (n_features,)\n",
      " |      Per feature minimum seen in the data\n",
      " |  \n",
      " |      .. versionadded:: 0.17\n",
      " |         *data_min_*\n",
      " |  \n",
      " |  data_max_ : ndarray of shape (n_features,)\n",
      " |      Per feature maximum seen in the data\n",
      " |  \n",
      " |      .. versionadded:: 0.17\n",
      " |         *data_max_*\n",
      " |  \n",
      " |  data_range_ : ndarray of shape (n_features,)\n",
      " |      Per feature range ``(data_max_ - data_min_)`` seen in the data\n",
      " |  \n",
      " |      .. versionadded:: 0.17\n",
      " |         *data_range_*\n",
      " |  \n",
      " |  n_samples_seen_ : int\n",
      " |      The number of samples processed by the estimator.\n",
      " |      It will be reset on new calls to fit, but increments across\n",
      " |      ``partial_fit`` calls.\n",
      " |  \n",
      " |  Examples\n",
      " |  --------\n",
      " |  >>> from sklearn.preprocessing import MinMaxScaler\n",
      " |  >>> data = [[-1, 2], [-0.5, 6], [0, 10], [1, 18]]\n",
      " |  >>> scaler = MinMaxScaler()\n",
      " |  >>> print(scaler.fit(data))\n",
      " |  MinMaxScaler()\n",
      " |  >>> print(scaler.data_max_)\n",
      " |  [ 1. 18.]\n",
      " |  >>> print(scaler.transform(data))\n",
      " |  [[0.   0.  ]\n",
      " |   [0.25 0.25]\n",
      " |   [0.5  0.5 ]\n",
      " |   [1.   1.  ]]\n",
      " |  >>> print(scaler.transform([[2, 2]]))\n",
      " |  [[1.5 0. ]]\n",
      " |  \n",
      " |  See Also\n",
      " |  --------\n",
      " |  minmax_scale : Equivalent function without the estimator API.\n",
      " |  \n",
      " |  Notes\n",
      " |  -----\n",
      " |  NaNs are treated as missing values: disregarded in fit, and maintained in\n",
      " |  transform.\n",
      " |  \n",
      " |  For a comparison of the different scalers, transformers, and normalizers,\n",
      " |  see :ref:`examples/preprocessing/plot_all_scaling.py\n",
      " |  <sphx_glr_auto_examples_preprocessing_plot_all_scaling.py>`.\n",
      " |  \n",
      " |  Method resolution order:\n",
      " |      MinMaxScaler\n",
      " |      sklearn.base.TransformerMixin\n",
      " |      sklearn.base.BaseEstimator\n",
      " |      builtins.object\n",
      " |  \n",
      " |  Methods defined here:\n",
      " |  \n",
      " |  __init__(self, feature_range=(0, 1), *, copy=True, clip=False)\n",
      " |      Initialize self.  See help(type(self)) for accurate signature.\n",
      " |  \n",
      " |  fit(self, X, y=None)\n",
      " |      Compute the minimum and maximum to be used for later scaling.\n",
      " |      \n",
      " |      Parameters\n",
      " |      ----------\n",
      " |      X : array-like of shape (n_samples, n_features)\n",
      " |          The data used to compute the per-feature minimum and maximum\n",
      " |          used for later scaling along the features axis.\n",
      " |      \n",
      " |      y : None\n",
      " |          Ignored.\n",
      " |      \n",
      " |      Returns\n",
      " |      -------\n",
      " |      self : object\n",
      " |          Fitted scaler.\n",
      " |  \n",
      " |  inverse_transform(self, X)\n",
      " |      Undo the scaling of X according to feature_range.\n",
      " |      \n",
      " |      Parameters\n",
      " |      ----------\n",
      " |      X : array-like of shape (n_samples, n_features)\n",
      " |          Input data that will be transformed. It cannot be sparse.\n",
      " |      \n",
      " |      Returns\n",
      " |      -------\n",
      " |      Xt : ndarray of shape (n_samples, n_features)\n",
      " |          Transformed data.\n",
      " |  \n",
      " |  partial_fit(self, X, y=None)\n",
      " |      Online computation of min and max on X for later scaling.\n",
      " |      \n",
      " |      All of X is processed as a single batch. This is intended for cases\n",
      " |      when :meth:`fit` is not feasible due to very large number of\n",
      " |      `n_samples` or because X is read from a continuous stream.\n",
      " |      \n",
      " |      Parameters\n",
      " |      ----------\n",
      " |      X : array-like of shape (n_samples, n_features)\n",
      " |          The data used to compute the mean and standard deviation\n",
      " |          used for later scaling along the features axis.\n",
      " |      \n",
      " |      y : None\n",
      " |          Ignored.\n",
      " |      \n",
      " |      Returns\n",
      " |      -------\n",
      " |      self : object\n",
      " |          Fitted scaler.\n",
      " |  \n",
      " |  transform(self, X)\n",
      " |      Scale features of X according to feature_range.\n",
      " |      \n",
      " |      Parameters\n",
      " |      ----------\n",
      " |      X : array-like of shape (n_samples, n_features)\n",
      " |          Input data that will be transformed.\n",
      " |      \n",
      " |      Returns\n",
      " |      -------\n",
      " |      Xt : ndarray of shape (n_samples, n_features)\n",
      " |          Transformed data.\n",
      " |  \n",
      " |  ----------------------------------------------------------------------\n",
      " |  Methods inherited from sklearn.base.TransformerMixin:\n",
      " |  \n",
      " |  fit_transform(self, X, y=None, **fit_params)\n",
      " |      Fit to data, then transform it.\n",
      " |      \n",
      " |      Fits transformer to `X` and `y` with optional parameters `fit_params`\n",
      " |      and returns a transformed version of `X`.\n",
      " |      \n",
      " |      Parameters\n",
      " |      ----------\n",
      " |      X : array-like of shape (n_samples, n_features)\n",
      " |          Input samples.\n",
      " |      \n",
      " |      y :  array-like of shape (n_samples,) or (n_samples, n_outputs),                 default=None\n",
      " |          Target values (None for unsupervised transformations).\n",
      " |      \n",
      " |      **fit_params : dict\n",
      " |          Additional fit parameters.\n",
      " |      \n",
      " |      Returns\n",
      " |      -------\n",
      " |      X_new : ndarray array of shape (n_samples, n_features_new)\n",
      " |          Transformed array.\n",
      " |  \n",
      " |  ----------------------------------------------------------------------\n",
      " |  Data descriptors inherited from sklearn.base.TransformerMixin:\n",
      " |  \n",
      " |  __dict__\n",
      " |      dictionary for instance variables (if defined)\n",
      " |  \n",
      " |  __weakref__\n",
      " |      list of weak references to the object (if defined)\n",
      " |  \n",
      " |  ----------------------------------------------------------------------\n",
      " |  Methods inherited from sklearn.base.BaseEstimator:\n",
      " |  \n",
      " |  __getstate__(self)\n",
      " |  \n",
      " |  __repr__(self, N_CHAR_MAX=700)\n",
      " |      Return repr(self).\n",
      " |  \n",
      " |  __setstate__(self, state)\n",
      " |  \n",
      " |  get_params(self, deep=True)\n",
      " |      Get parameters for this estimator.\n",
      " |      \n",
      " |      Parameters\n",
      " |      ----------\n",
      " |      deep : bool, default=True\n",
      " |          If True, will return the parameters for this estimator and\n",
      " |          contained subobjects that are estimators.\n",
      " |      \n",
      " |      Returns\n",
      " |      -------\n",
      " |      params : dict\n",
      " |          Parameter names mapped to their values.\n",
      " |  \n",
      " |  set_params(self, **params)\n",
      " |      Set the parameters of this estimator.\n",
      " |      \n",
      " |      The method works on simple estimators as well as on nested objects\n",
      " |      (such as :class:`~sklearn.pipeline.Pipeline`). The latter have\n",
      " |      parameters of the form ``<component>__<parameter>`` so that it's\n",
      " |      possible to update each component of a nested object.\n",
      " |      \n",
      " |      Parameters\n",
      " |      ----------\n",
      " |      **params : dict\n",
      " |          Estimator parameters.\n",
      " |      \n",
      " |      Returns\n",
      " |      -------\n",
      " |      self : estimator instance\n",
      " |          Estimator instance.\n",
      "\n"
     ]
    }
   ],
   "source": [
    "help(MinMaxScaler)"
   ]
  },
  {
   "cell_type": "code",
   "execution_count": 17,
   "metadata": {},
   "outputs": [],
   "source": [
    "scaler = MinMaxScaler()"
   ]
  },
  {
   "cell_type": "code",
   "execution_count": 18,
   "metadata": {},
   "outputs": [],
   "source": [
    "scaler.fit(X_train)\n",
    "X_train = scaler.transform(X_train)\n",
    "X_test = scaler.transform(X_test)"
   ]
  },
  {
   "cell_type": "code",
   "execution_count": 19,
   "metadata": {},
   "outputs": [
    {
     "data": {
      "text/plain": [
       "1.0"
      ]
     },
     "execution_count": 19,
     "metadata": {},
     "output_type": "execute_result"
    }
   ],
   "source": [
    "X_train.max()"
   ]
  },
  {
   "cell_type": "code",
   "execution_count": 20,
   "metadata": {},
   "outputs": [
    {
     "data": {
      "text/plain": [
       "0.0"
      ]
     },
     "execution_count": 20,
     "metadata": {},
     "output_type": "execute_result"
    }
   ],
   "source": [
    "X_train.min()"
   ]
  },
  {
   "cell_type": "code",
   "execution_count": 21,
   "metadata": {},
   "outputs": [
    {
     "data": {
      "text/plain": [
       "1.0186515935232023"
      ]
     },
     "execution_count": 21,
     "metadata": {},
     "output_type": "execute_result"
    }
   ],
   "source": [
    "X_test.max()"
   ]
  },
  {
   "cell_type": "code",
   "execution_count": 22,
   "metadata": {},
   "outputs": [
    {
     "data": {
      "text/plain": [
       "-0.014108392024525074"
      ]
     },
     "execution_count": 22,
     "metadata": {},
     "output_type": "execute_result"
    }
   ],
   "source": [
    "X_test.min()"
   ]
  },
  {
   "cell_type": "markdown",
   "metadata": {},
   "source": [
    "## Modelling"
   ]
  },
  {
   "cell_type": "code",
   "execution_count": 6,
   "metadata": {},
   "outputs": [],
   "source": [
    "import tensorflow as tf"
   ]
  },
  {
   "cell_type": "code",
   "execution_count": 1,
   "metadata": {},
   "outputs": [],
   "source": [
    "from tensorflow.keras.models import Sequential\n",
    "from tensorflow.keras.layers import Dense, Activation"
   ]
  },
  {
   "cell_type": "code",
   "execution_count": 1,
   "metadata": {},
   "outputs": [
    {
     "ename": "NameError",
     "evalue": "name 'Sequential' is not defined",
     "output_type": "error",
     "traceback": [
      "\u001b[0;31m---------------------------------------------------------------------------\u001b[0m",
      "\u001b[0;31mNameError\u001b[0m                                 Traceback (most recent call last)",
      "\u001b[0;32m/var/folders/c9/5smrmch121gfp7kxbg114__h0000gn/T/ipykernel_1177/199003958.py\u001b[0m in \u001b[0;36m<module>\u001b[0;34m\u001b[0m\n\u001b[0;32m----> 1\u001b[0;31m \u001b[0mhelp\u001b[0m\u001b[0;34m(\u001b[0m\u001b[0mSequential\u001b[0m\u001b[0;34m)\u001b[0m\u001b[0;34m\u001b[0m\u001b[0;34m\u001b[0m\u001b[0m\n\u001b[0m",
      "\u001b[0;31mNameError\u001b[0m: name 'Sequential' is not defined"
     ]
    }
   ],
   "source": [
    "help(Sequential)"
   ]
  },
  {
   "cell_type": "code",
   "execution_count": 2,
   "metadata": {},
   "outputs": [],
   "source": [
    "help(Dense)"
   ]
  },
  {
   "cell_type": "code",
   "execution_count": 3,
   "metadata": {},
   "outputs": [
    {
     "ename": "NameError",
     "evalue": "name 'Sequential' is not defined",
     "output_type": "error",
     "traceback": [
      "\u001b[0;31m---------------------------------------------------------------------------\u001b[0m",
      "\u001b[0;31mNameError\u001b[0m                                 Traceback (most recent call last)",
      "\u001b[0;32m/var/folders/c9/5smrmch121gfp7kxbg114__h0000gn/T/ipykernel_959/1591870930.py\u001b[0m in \u001b[0;36m<module>\u001b[0;34m\u001b[0m\n\u001b[1;32m      1\u001b[0m \u001b[0;31m# First way to create model\u001b[0m\u001b[0;34m\u001b[0m\u001b[0;34m\u001b[0m\u001b[0;34m\u001b[0m\u001b[0m\n\u001b[1;32m      2\u001b[0m \u001b[0;34m\u001b[0m\u001b[0m\n\u001b[0;32m----> 3\u001b[0;31m model = Sequential([Dense(units = 4, activation = \"relu\"), # Layer-1\n\u001b[0m\u001b[1;32m      4\u001b[0m                     \u001b[0mDense\u001b[0m\u001b[0;34m(\u001b[0m\u001b[0munits\u001b[0m \u001b[0;34m=\u001b[0m \u001b[0;36m4\u001b[0m\u001b[0;34m,\u001b[0m \u001b[0mactivation\u001b[0m \u001b[0;34m=\u001b[0m \u001b[0;34m\"relu\"\u001b[0m\u001b[0;34m)\u001b[0m\u001b[0;34m,\u001b[0m \u001b[0;31m# Layer-2\u001b[0m\u001b[0;34m\u001b[0m\u001b[0;34m\u001b[0m\u001b[0m\n\u001b[1;32m      5\u001b[0m                     \u001b[0mDense\u001b[0m\u001b[0;34m(\u001b[0m\u001b[0munits\u001b[0m \u001b[0;34m=\u001b[0m \u001b[0;36m4\u001b[0m\u001b[0;34m,\u001b[0m \u001b[0mactivation\u001b[0m \u001b[0;34m=\u001b[0m \u001b[0;34m\"relu\"\u001b[0m\u001b[0;34m)\u001b[0m\u001b[0;34m,\u001b[0m \u001b[0;31m# Layer-3\u001b[0m\u001b[0;34m\u001b[0m\u001b[0;34m\u001b[0m\u001b[0m\n",
      "\u001b[0;31mNameError\u001b[0m: name 'Sequential' is not defined"
     ]
    }
   ],
   "source": [
    "# First way to create model\n",
    "\n",
    "model = Sequential([Dense(units = 4, activation = \"relu\"), # Layer-1\n",
    "                    Dense(units = 4, activation = \"relu\"), # Layer-2\n",
    "                    Dense(units = 4, activation = \"relu\"), # Layer-3\n",
    "                    Dense(units = 1)]) # output"
   ]
  },
  {
   "cell_type": "code",
   "execution_count": 4,
   "metadata": {},
   "outputs": [
    {
     "ename": "NameError",
     "evalue": "name 'Sequential' is not defined",
     "output_type": "error",
     "traceback": [
      "\u001b[0;31m---------------------------------------------------------------------------\u001b[0m",
      "\u001b[0;31mNameError\u001b[0m                                 Traceback (most recent call last)",
      "\u001b[0;32m/var/folders/c9/5smrmch121gfp7kxbg114__h0000gn/T/ipykernel_959/702928307.py\u001b[0m in \u001b[0;36m<module>\u001b[0;34m\u001b[0m\n\u001b[1;32m      1\u001b[0m \u001b[0;31m# Second way to create model (recommended)\u001b[0m\u001b[0;34m\u001b[0m\u001b[0;34m\u001b[0m\u001b[0;34m\u001b[0m\u001b[0m\n\u001b[1;32m      2\u001b[0m \u001b[0;34m\u001b[0m\u001b[0m\n\u001b[0;32m----> 3\u001b[0;31m \u001b[0mmodel\u001b[0m \u001b[0;34m=\u001b[0m \u001b[0mSequential\u001b[0m\u001b[0;34m(\u001b[0m\u001b[0;34m)\u001b[0m\u001b[0;34m\u001b[0m\u001b[0;34m\u001b[0m\u001b[0m\n\u001b[0m\u001b[1;32m      4\u001b[0m \u001b[0mmodel\u001b[0m\u001b[0;34m.\u001b[0m\u001b[0madd\u001b[0m\u001b[0;34m(\u001b[0m\u001b[0mDense\u001b[0m\u001b[0;34m(\u001b[0m\u001b[0munits\u001b[0m \u001b[0;34m=\u001b[0m \u001b[0;36m4\u001b[0m\u001b[0;34m,\u001b[0m \u001b[0mactivation\u001b[0m \u001b[0;34m=\u001b[0m \u001b[0;34m\"relu\"\u001b[0m\u001b[0;34m)\u001b[0m\u001b[0;34m)\u001b[0m     \u001b[0;31m# input_dim = X_train.shape[1]\u001b[0m\u001b[0;34m\u001b[0m\u001b[0;34m\u001b[0m\u001b[0m\n\u001b[1;32m      5\u001b[0m \u001b[0mmodel\u001b[0m\u001b[0;34m.\u001b[0m\u001b[0madd\u001b[0m\u001b[0;34m(\u001b[0m\u001b[0mDense\u001b[0m\u001b[0;34m(\u001b[0m\u001b[0munits\u001b[0m \u001b[0;34m=\u001b[0m \u001b[0;36m4\u001b[0m\u001b[0;34m,\u001b[0m \u001b[0mactivation\u001b[0m \u001b[0;34m=\u001b[0m \u001b[0;34m\"relu\"\u001b[0m\u001b[0;34m)\u001b[0m\u001b[0;34m)\u001b[0m\u001b[0;34m\u001b[0m\u001b[0;34m\u001b[0m\u001b[0m\n",
      "\u001b[0;31mNameError\u001b[0m: name 'Sequential' is not defined"
     ]
    }
   ],
   "source": [
    "# Second way to create model (recommended)\n",
    "\n",
    "model = Sequential()\n",
    "model.add(Dense(units = 4, activation = \"relu\"))     # input_dim = X_train.shape[1]\n",
    "model.add(Dense(units = 4, activation = \"relu\"))\n",
    "model.add(Dense(units = 4, activation = \"relu\"))\n",
    "model.add(Dense(units = 1))"
   ]
  },
  {
   "cell_type": "code",
   "execution_count": 5,
   "metadata": {},
   "outputs": [
    {
     "ename": "NameError",
     "evalue": "name 'model' is not defined",
     "output_type": "error",
     "traceback": [
      "\u001b[0;31m---------------------------------------------------------------------------\u001b[0m",
      "\u001b[0;31mNameError\u001b[0m                                 Traceback (most recent call last)",
      "\u001b[0;32m/var/folders/c9/5smrmch121gfp7kxbg114__h0000gn/T/ipykernel_959/2732851898.py\u001b[0m in \u001b[0;36m<module>\u001b[0;34m\u001b[0m\n\u001b[0;32m----> 1\u001b[0;31m \u001b[0mmodel\u001b[0m\u001b[0;34m.\u001b[0m\u001b[0mcompile\u001b[0m\u001b[0;34m(\u001b[0m\u001b[0moptimizer\u001b[0m \u001b[0;34m=\u001b[0m \u001b[0;34m\"rmsprop\"\u001b[0m\u001b[0;34m,\u001b[0m \u001b[0mloss\u001b[0m \u001b[0;34m=\u001b[0m \u001b[0;34m\"mse\"\u001b[0m\u001b[0;34m)\u001b[0m \u001b[0;31m# optimizer default None dır\u001b[0m\u001b[0;34m\u001b[0m\u001b[0;34m\u001b[0m\u001b[0m\n\u001b[0m",
      "\u001b[0;31mNameError\u001b[0m: name 'model' is not defined"
     ]
    }
   ],
   "source": [
    "model.compile(optimizer = \"rmsprop\", loss = \"mse\") # optimizer default None dır"
   ]
  },
  {
   "cell_type": "markdown",
   "metadata": {},
   "source": [
    "### Choosing an optimizer and loss\n",
    "\n",
    "Keep in mind what kind of problem you are trying to solve:\n",
    "\n",
    "    # For a multi-class classification problem\n",
    "    model.compile(optimizer='rmsprop',\n",
    "                  loss='categorical_crossentropy',\n",
    "                  metrics=['accuracy'])\n",
    "\n",
    "    # For a binary classification problem\n",
    "    model.compile(optimizer='rmsprop',\n",
    "                  loss='binary_crossentropy',\n",
    "                  metrics=['accuracy'])\n",
    "\n",
    "    # For a mean squared error regression problem\n",
    "    model.compile(optimizer='rmsprop',\n",
    "                  loss='mse')"
   ]
  },
  {
   "cell_type": "code",
   "execution_count": 6,
   "metadata": {},
   "outputs": [
    {
     "ename": "NameError",
     "evalue": "name 'model' is not defined",
     "output_type": "error",
     "traceback": [
      "\u001b[0;31m---------------------------------------------------------------------------\u001b[0m",
      "\u001b[0;31mNameError\u001b[0m                                 Traceback (most recent call last)",
      "\u001b[0;32m/var/folders/c9/5smrmch121gfp7kxbg114__h0000gn/T/ipykernel_959/2001505663.py\u001b[0m in \u001b[0;36m<module>\u001b[0;34m\u001b[0m\n\u001b[0;32m----> 1\u001b[0;31m \u001b[0mmodel\u001b[0m\u001b[0;34m.\u001b[0m\u001b[0mfit\u001b[0m\u001b[0;34m(\u001b[0m\u001b[0mx\u001b[0m \u001b[0;34m=\u001b[0m \u001b[0mX_train\u001b[0m\u001b[0;34m,\u001b[0m \u001b[0my\u001b[0m \u001b[0;34m=\u001b[0m \u001b[0my_train\u001b[0m\u001b[0;34m,\u001b[0m \u001b[0mbatch_size\u001b[0m \u001b[0;34m=\u001b[0m \u001b[0;36m32\u001b[0m\u001b[0;34m,\u001b[0m \u001b[0mepochs\u001b[0m \u001b[0;34m=\u001b[0m \u001b[0;36m250\u001b[0m\u001b[0;34m)\u001b[0m\u001b[0;34m\u001b[0m\u001b[0;34m\u001b[0m\u001b[0m\n\u001b[0m",
      "\u001b[0;31mNameError\u001b[0m: name 'model' is not defined"
     ]
    }
   ],
   "source": [
    "model.fit(x = X_train, y = y_train, batch_size = 32, epochs = 250)"
   ]
  },
  {
   "cell_type": "code",
   "execution_count": null,
   "metadata": {},
   "outputs": [
    {
     "name": "stdout",
     "output_type": "stream",
     "text": [
      "Model: \"sequential_1\"\n",
      "_________________________________________________________________\n",
      "Layer (type)                 Output Shape              Param #   \n",
      "=================================================================\n",
      "dense_4 (Dense)              (None, 4)                 12        \n",
      "_________________________________________________________________\n",
      "dense_5 (Dense)              (None, 4)                 20        \n",
      "_________________________________________________________________\n",
      "dense_6 (Dense)              (None, 4)                 20        \n",
      "_________________________________________________________________\n",
      "dense_7 (Dense)              (None, 1)                 5         \n",
      "=================================================================\n",
      "Total params: 57\n",
      "Trainable params: 57\n",
      "Non-trainable params: 0\n",
      "_________________________________________________________________\n"
     ]
    }
   ],
   "source": [
    "model.summary() # 12 = Layer 1 de yer alan 2(xw)+2(xw)+2(xw)+2(xw)+2(bias) = 12"
   ]
  },
  {
   "cell_type": "code",
   "execution_count": null,
   "metadata": {},
   "outputs": [
    {
     "data": {
      "text/plain": [
       "[<tf.Variable 'dense_4/kernel:0' shape=(2, 4) dtype=float32, numpy=\n",
       " array([[ 0.25482386,  2.1041868 ,  1.1887506 , -0.64314747],\n",
       "        [-0.08718135,  3.3057606 ,  3.455549  , -0.37148046]],\n",
       "       dtype=float32)>,\n",
       " <tf.Variable 'dense_4/bias:0' shape=(4,) dtype=float32, numpy=array([-0.2001257,  0.6996925,  0.6050841,  0.       ], dtype=float32)>,\n",
       " <tf.Variable 'dense_5/kernel:0' shape=(4, 4) dtype=float32, numpy=\n",
       " array([[-0.26577896, -0.0557948 ,  0.67427105,  0.16559586],\n",
       "        [ 2.789813  ,  2.4617841 , -0.10281432,  2.392338  ],\n",
       "        [ 2.146499  ,  2.4031339 , -0.30560338,  2.5547624 ],\n",
       "        [ 0.7740764 , -0.33456612,  0.43562526,  0.49200302]],\n",
       "       dtype=float32)>,\n",
       " <tf.Variable 'dense_5/bias:0' shape=(4,) dtype=float32, numpy=array([ 0.8274609 ,  0.53459316, -0.08753186,  0.5655562 ], dtype=float32)>,\n",
       " <tf.Variable 'dense_6/kernel:0' shape=(4, 4) dtype=float32, numpy=\n",
       " array([[ 2.6862223 , -0.52799106,  2.0396426 ,  0.03366186],\n",
       "        [ 1.5684335 ,  0.22517735,  2.192301  , -0.4044998 ],\n",
       "        [-0.19869593, -0.73329544,  0.7713009 ,  0.73320866],\n",
       "        [ 2.211076  , -0.21825397,  2.6973276 ,  0.37724093]],\n",
       "       dtype=float32)>,\n",
       " <tf.Variable 'dense_6/bias:0' shape=(4,) dtype=float32, numpy=array([ 0.85664034,  0.        ,  0.8766819 , -0.41157833], dtype=float32)>,\n",
       " <tf.Variable 'dense_7/kernel:0' shape=(4, 1) dtype=float32, numpy=\n",
       " array([[ 2.4426217],\n",
       "        [ 0.6824199],\n",
       "        [ 2.0199015],\n",
       "        [-0.48053  ]], dtype=float32)>,\n",
       " <tf.Variable 'dense_7/bias:0' shape=(1,) dtype=float32, numpy=array([0.8420653], dtype=float32)>]"
      ]
     },
     "execution_count": 54,
     "metadata": {},
     "output_type": "execute_result"
    }
   ],
   "source": [
    "model.weights"
   ]
  },
  {
   "cell_type": "code",
   "execution_count": null,
   "metadata": {},
   "outputs": [
    {
     "data": {
      "text/plain": [
       "{'loss': [257137.6875,\n",
       "  256908.984375,\n",
       "  256738.53125,\n",
       "  256591.265625,\n",
       "  256466.125,\n",
       "  256346.453125,\n",
       "  256215.34375,\n",
       "  256073.078125,\n",
       "  255906.859375,\n",
       "  255701.578125,\n",
       "  255455.8125,\n",
       "  255164.3125,\n",
       "  254825.03125,\n",
       "  254437.53125,\n",
       "  253997.328125,\n",
       "  253513.828125,\n",
       "  252982.234375,\n",
       "  252393.078125,\n",
       "  251744.3125,\n",
       "  251024.609375,\n",
       "  250236.34375,\n",
       "  249368.390625,\n",
       "  248422.53125,\n",
       "  247382.03125,\n",
       "  246262.125,\n",
       "  245045.140625,\n",
       "  243720.4375,\n",
       "  242296.484375,\n",
       "  240768.65625,\n",
       "  239128.234375,\n",
       "  237359.796875,\n",
       "  235471.203125,\n",
       "  233447.046875,\n",
       "  231304.40625,\n",
       "  229026.078125,\n",
       "  226610.8125,\n",
       "  224051.390625,\n",
       "  221345.28125,\n",
       "  218485.21875,\n",
       "  215464.890625,\n",
       "  212302.578125,\n",
       "  208966.328125,\n",
       "  205478.46875,\n",
       "  201804.953125,\n",
       "  197975.171875,\n",
       "  193995.890625,\n",
       "  189845.046875,\n",
       "  185521.21875,\n",
       "  181042.84375,\n",
       "  176371.796875,\n",
       "  171544.484375,\n",
       "  166540.890625,\n",
       "  161405.34375,\n",
       "  156119.25,\n",
       "  150659.578125,\n",
       "  145105.5625,\n",
       "  139389.65625,\n",
       "  133556.921875,\n",
       "  127582.5703125,\n",
       "  121514.4765625,\n",
       "  115382.7578125,\n",
       "  109137.3359375,\n",
       "  102876.2734375,\n",
       "  96534.0546875,\n",
       "  90123.5625,\n",
       "  83789.3359375,\n",
       "  77399.296875,\n",
       "  71056.9140625,\n",
       "  64771.6640625,\n",
       "  58614.82421875,\n",
       "  52582.03515625,\n",
       "  46665.6328125,\n",
       "  40973.140625,\n",
       "  35436.64453125,\n",
       "  30209.400390625,\n",
       "  25316.380859375,\n",
       "  20722.869140625,\n",
       "  16517.265625,\n",
       "  12745.400390625,\n",
       "  9476.36328125,\n",
       "  6723.5458984375,\n",
       "  4526.6630859375,\n",
       "  2943.1611328125,\n",
       "  1949.6046142578125,\n",
       "  1495.7412109375,\n",
       "  1379.4090576171875,\n",
       "  1350.4327392578125,\n",
       "  1325.547607421875,\n",
       "  1296.2734375,\n",
       "  1272.364013671875,\n",
       "  1240.418212890625,\n",
       "  1214.0750732421875,\n",
       "  1182.9447021484375,\n",
       "  1162.4664306640625,\n",
       "  1134.704833984375,\n",
       "  1108.024658203125,\n",
       "  1079.9110107421875,\n",
       "  1053.6048583984375,\n",
       "  1023.9363403320312,\n",
       "  998.9957885742188,\n",
       "  971.1812744140625,\n",
       "  945.5363159179688,\n",
       "  920.7449340820312,\n",
       "  893.8898315429688,\n",
       "  868.9495239257812,\n",
       "  843.9255981445312,\n",
       "  816.1829223632812,\n",
       "  791.0623168945312,\n",
       "  765.7421264648438,\n",
       "  737.2857055664062,\n",
       "  713.3880615234375,\n",
       "  690.5103759765625,\n",
       "  669.9359741210938,\n",
       "  647.2459106445312,\n",
       "  626.7236328125,\n",
       "  601.8634643554688,\n",
       "  581.94189453125,\n",
       "  562.0315551757812,\n",
       "  541.3433227539062,\n",
       "  519.2540283203125,\n",
       "  501.994384765625,\n",
       "  482.19952392578125,\n",
       "  463.42803955078125,\n",
       "  443.4106140136719,\n",
       "  425.3412170410156,\n",
       "  406.9444580078125,\n",
       "  389.9932556152344,\n",
       "  371.82025146484375,\n",
       "  352.475830078125,\n",
       "  338.76324462890625,\n",
       "  322.9759521484375,\n",
       "  308.33038330078125,\n",
       "  292.0268859863281,\n",
       "  277.6886901855469,\n",
       "  264.5222473144531,\n",
       "  250.0030975341797,\n",
       "  237.20631408691406,\n",
       "  223.86785888671875,\n",
       "  210.3437042236328,\n",
       "  197.67022705078125,\n",
       "  184.98031616210938,\n",
       "  174.1449737548828,\n",
       "  164.1544952392578,\n",
       "  152.92044067382812,\n",
       "  141.58714294433594,\n",
       "  131.6737060546875,\n",
       "  121.64986419677734,\n",
       "  112.42633056640625,\n",
       "  102.80046844482422,\n",
       "  94.77601623535156,\n",
       "  88.06877899169922,\n",
       "  81.44324493408203,\n",
       "  75.52088928222656,\n",
       "  69.3930892944336,\n",
       "  64.08887481689453,\n",
       "  59.832576751708984,\n",
       "  56.10304260253906,\n",
       "  52.17654037475586,\n",
       "  48.908687591552734,\n",
       "  45.598392486572266,\n",
       "  42.454803466796875,\n",
       "  40.13584899902344,\n",
       "  38.08576583862305,\n",
       "  35.328853607177734,\n",
       "  33.75205993652344,\n",
       "  32.776947021484375,\n",
       "  31.52444839477539,\n",
       "  30.49050521850586,\n",
       "  29.23171615600586,\n",
       "  29.00467872619629,\n",
       "  27.745811462402344,\n",
       "  27.42496681213379,\n",
       "  26.638309478759766,\n",
       "  26.26247215270996,\n",
       "  26.17135238647461,\n",
       "  25.78529930114746,\n",
       "  25.32335662841797,\n",
       "  25.567955017089844,\n",
       "  25.19545555114746,\n",
       "  25.225759506225586,\n",
       "  24.646305084228516,\n",
       "  24.897676467895508,\n",
       "  24.9320011138916,\n",
       "  24.5455379486084,\n",
       "  24.56169319152832,\n",
       "  24.327348709106445,\n",
       "  24.5057430267334,\n",
       "  24.139787673950195,\n",
       "  24.60964012145996,\n",
       "  24.483640670776367,\n",
       "  24.10651969909668,\n",
       "  24.283891677856445,\n",
       "  24.325780868530273,\n",
       "  24.563844680786133,\n",
       "  24.019954681396484,\n",
       "  24.290075302124023,\n",
       "  24.583309173583984,\n",
       "  23.999547958374023,\n",
       "  24.5845947265625,\n",
       "  24.3583984375,\n",
       "  24.1873722076416,\n",
       "  24.685731887817383,\n",
       "  24.258920669555664,\n",
       "  24.70628547668457,\n",
       "  24.318944931030273,\n",
       "  24.509662628173828,\n",
       "  24.809907913208008,\n",
       "  24.140216827392578,\n",
       "  24.338781356811523,\n",
       "  24.396411895751953,\n",
       "  24.151958465576172,\n",
       "  24.859600067138672,\n",
       "  24.112987518310547,\n",
       "  23.91510009765625,\n",
       "  24.43052101135254,\n",
       "  24.440900802612305,\n",
       "  23.964927673339844,\n",
       "  24.339170455932617,\n",
       "  24.25689697265625,\n",
       "  24.233102798461914,\n",
       "  24.232667922973633,\n",
       "  24.46848487854004,\n",
       "  24.759056091308594,\n",
       "  24.242345809936523,\n",
       "  24.1444149017334,\n",
       "  24.437034606933594,\n",
       "  24.283178329467773,\n",
       "  23.88886070251465,\n",
       "  24.541059494018555,\n",
       "  23.978652954101562,\n",
       "  24.709360122680664,\n",
       "  24.050674438476562,\n",
       "  24.411252975463867,\n",
       "  24.23261070251465,\n",
       "  24.185070037841797,\n",
       "  24.324798583984375,\n",
       "  24.009397506713867,\n",
       "  24.273027420043945,\n",
       "  24.461612701416016,\n",
       "  24.376482009887695,\n",
       "  24.438030242919922,\n",
       "  24.21120834350586,\n",
       "  24.339712142944336,\n",
       "  24.185014724731445,\n",
       "  24.393024444580078,\n",
       "  23.92560577392578,\n",
       "  24.246980667114258,\n",
       "  24.337528228759766,\n",
       "  24.37105941772461,\n",
       "  24.143903732299805]}"
      ]
     },
     "execution_count": 55,
     "metadata": {},
     "output_type": "execute_result"
    }
   ],
   "source": [
    "model.history.history"
   ]
  },
  {
   "cell_type": "code",
   "execution_count": null,
   "metadata": {},
   "outputs": [
    {
     "data": {
      "text/html": [
       "<div>\n",
       "<style scoped>\n",
       "    .dataframe tbody tr th:only-of-type {\n",
       "        vertical-align: middle;\n",
       "    }\n",
       "\n",
       "    .dataframe tbody tr th {\n",
       "        vertical-align: top;\n",
       "    }\n",
       "\n",
       "    .dataframe thead th {\n",
       "        text-align: right;\n",
       "    }\n",
       "</style>\n",
       "<table border=\"1\" class=\"dataframe\">\n",
       "  <thead>\n",
       "    <tr style=\"text-align: right;\">\n",
       "      <th></th>\n",
       "      <th>loss</th>\n",
       "    </tr>\n",
       "  </thead>\n",
       "  <tbody>\n",
       "    <tr>\n",
       "      <th>0</th>\n",
       "      <td>257137.688</td>\n",
       "    </tr>\n",
       "    <tr>\n",
       "      <th>1</th>\n",
       "      <td>256908.984</td>\n",
       "    </tr>\n",
       "    <tr>\n",
       "      <th>2</th>\n",
       "      <td>256738.531</td>\n",
       "    </tr>\n",
       "    <tr>\n",
       "      <th>3</th>\n",
       "      <td>256591.266</td>\n",
       "    </tr>\n",
       "    <tr>\n",
       "      <th>4</th>\n",
       "      <td>256466.125</td>\n",
       "    </tr>\n",
       "    <tr>\n",
       "      <th>...</th>\n",
       "      <td>...</td>\n",
       "    </tr>\n",
       "    <tr>\n",
       "      <th>245</th>\n",
       "      <td>23.926</td>\n",
       "    </tr>\n",
       "    <tr>\n",
       "      <th>246</th>\n",
       "      <td>24.247</td>\n",
       "    </tr>\n",
       "    <tr>\n",
       "      <th>247</th>\n",
       "      <td>24.338</td>\n",
       "    </tr>\n",
       "    <tr>\n",
       "      <th>248</th>\n",
       "      <td>24.371</td>\n",
       "    </tr>\n",
       "    <tr>\n",
       "      <th>249</th>\n",
       "      <td>24.144</td>\n",
       "    </tr>\n",
       "  </tbody>\n",
       "</table>\n",
       "<p>250 rows × 1 columns</p>\n",
       "</div>"
      ],
      "text/plain": [
       "          loss\n",
       "0   257137.688\n",
       "1   256908.984\n",
       "2   256738.531\n",
       "3   256591.266\n",
       "4   256466.125\n",
       "..         ...\n",
       "245     23.926\n",
       "246     24.247\n",
       "247     24.338\n",
       "248     24.371\n",
       "249     24.144\n",
       "\n",
       "[250 rows x 1 columns]"
      ]
     },
     "execution_count": 56,
     "metadata": {},
     "output_type": "execute_result"
    }
   ],
   "source": [
    "pd.DataFrame(model.history.history)"
   ]
  },
  {
   "cell_type": "code",
   "execution_count": null,
   "metadata": {},
   "outputs": [
    {
     "data": {
      "text/plain": [
       "<AxesSubplot:>"
      ]
     },
     "execution_count": 57,
     "metadata": {},
     "output_type": "execute_result"
    },
    {
     "data": {
      "image/png": "[encoded data removed]",
      "text/plain": [
       "<Figure size 720x432 with 1 Axes>"
      ]
     },
     "metadata": {},
     "output_type": "display_data"
    }
   ],
   "source": [
    "# Her çalıştırmada ayrı değerler çıkar, çıkmaz ise eğitilmezise, optimizer değiştir \n",
    "loss_df = pd.DataFrame(model.history.history)\n",
    "loss_df.plot()"
   ]
  },
  {
   "cell_type": "code",
   "execution_count": null,
   "metadata": {},
   "outputs": [
    {
     "data": {
      "text/plain": [
       "(0.0, 3000.0)"
      ]
     },
     "execution_count": 58,
     "metadata": {},
     "output_type": "execute_result"
    },
    {
     "data": {
      "image/png": "[encoded data removed]",
      "text/plain": [
       "<Figure size 720x432 with 1 Axes>"
      ]
     },
     "metadata": {},
     "output_type": "display_data"
    }
   ],
   "source": [
    "fig, ax= plt.subplots()\n",
    "ax.plot(loss_df)\n",
    "ax.set_xlabel(\"epoch\")\n",
    "ax.set_ylabel(\"loss\")\n",
    "ax.set_title(\"loss - epoch graph\")\n",
    "ax.set_xlim([0, 250]) # focusing on the given x values\n",
    "ax.set_ylim([0, 3000]) # focusing on the given y values"
   ]
  },
  {
   "cell_type": "markdown",
   "metadata": {},
   "source": [
    "## Model Performance"
   ]
  },
  {
   "cell_type": "code",
   "execution_count": null,
   "metadata": {},
   "outputs": [],
   "source": [
    "from sklearn.metrics import mean_squared_error, mean_absolute_error, r2_score, explained_variance_score"
   ]
  },
  {
   "cell_type": "code",
   "execution_count": null,
   "metadata": {},
   "outputs": [
    {
     "data": {
      "text/plain": [
       "28.024221420288086"
      ]
     },
     "execution_count": 60,
     "metadata": {},
     "output_type": "execute_result"
    }
   ],
   "source": [
    "model.evaluate(X_train, y_train, verbose=0) # her epoch sonucu min loss function değeridir"
   ]
  },
  {
   "cell_type": "code",
   "execution_count": null,
   "metadata": {},
   "outputs": [
    {
     "data": {
      "text/plain": [
       "31.324052810668945"
      ]
     },
     "execution_count": 61,
     "metadata": {},
     "output_type": "execute_result"
    }
   ],
   "source": [
    "model.evaluate(X_test, y_test, verbose=0) # her epoch sonucu min loss function değeridir"
   ]
  },
  {
   "cell_type": "code",
   "execution_count": null,
   "metadata": {},
   "outputs": [],
   "source": [
    "y_pred = model.predict(X_test)"
   ]
  },
  {
   "cell_type": "code",
   "execution_count": null,
   "metadata": {},
   "outputs": [
    {
     "data": {
      "text/plain": [
       "0.9971268944168279"
      ]
     },
     "execution_count": 63,
     "metadata": {},
     "output_type": "execute_result"
    }
   ],
   "source": [
    "explained_variance_score(y_test, y_pred)"
   ]
  },
  {
   "cell_type": "code",
   "execution_count": null,
   "metadata": {},
   "outputs": [
    {
     "data": {
      "text/html": [
       "<div>\n",
       "<style scoped>\n",
       "    .dataframe tbody tr th:only-of-type {\n",
       "        vertical-align: middle;\n",
       "    }\n",
       "\n",
       "    .dataframe tbody tr th {\n",
       "        vertical-align: top;\n",
       "    }\n",
       "\n",
       "    .dataframe thead th {\n",
       "        text-align: right;\n",
       "    }\n",
       "</style>\n",
       "<table border=\"1\" class=\"dataframe\">\n",
       "  <thead>\n",
       "    <tr style=\"text-align: right;\">\n",
       "      <th></th>\n",
       "      <th>Actual</th>\n",
       "      <th>Pred</th>\n",
       "    </tr>\n",
       "  </thead>\n",
       "  <tbody>\n",
       "    <tr>\n",
       "      <th>28</th>\n",
       "      <td>656.655</td>\n",
       "      <td>658.486</td>\n",
       "    </tr>\n",
       "    <tr>\n",
       "      <th>279</th>\n",
       "      <td>273.433</td>\n",
       "      <td>274.713</td>\n",
       "    </tr>\n",
       "    <tr>\n",
       "      <th>9</th>\n",
       "      <td>451.804</td>\n",
       "      <td>449.684</td>\n",
       "    </tr>\n",
       "    <tr>\n",
       "      <th>23</th>\n",
       "      <td>379.110</td>\n",
       "      <td>380.574</td>\n",
       "    </tr>\n",
       "    <tr>\n",
       "      <th>136</th>\n",
       "      <td>415.443</td>\n",
       "      <td>416.897</td>\n",
       "    </tr>\n",
       "    <tr>\n",
       "      <th>47</th>\n",
       "      <td>498.628</td>\n",
       "      <td>492.757</td>\n",
       "    </tr>\n",
       "    <tr>\n",
       "      <th>125</th>\n",
       "      <td>618.934</td>\n",
       "      <td>619.323</td>\n",
       "    </tr>\n",
       "    <tr>\n",
       "      <th>65</th>\n",
       "      <td>593.475</td>\n",
       "      <td>589.149</td>\n",
       "    </tr>\n",
       "    <tr>\n",
       "      <th>298</th>\n",
       "      <td>417.570</td>\n",
       "      <td>418.979</td>\n",
       "    </tr>\n",
       "    <tr>\n",
       "      <th>181</th>\n",
       "      <td>499.212</td>\n",
       "      <td>502.968</td>\n",
       "    </tr>\n",
       "  </tbody>\n",
       "</table>\n",
       "</div>"
      ],
      "text/plain": [
       "     Actual    Pred\n",
       "28  656.655 658.486\n",
       "279 273.433 274.713\n",
       "9   451.804 449.684\n",
       "23  379.110 380.574\n",
       "136 415.443 416.897\n",
       "47  498.628 492.757\n",
       "125 618.934 619.323\n",
       "65  593.475 589.149\n",
       "298 417.570 418.979\n",
       "181 499.212 502.968"
      ]
     },
     "execution_count": 64,
     "metadata": {},
     "output_type": "execute_result"
    }
   ],
   "source": [
    "my_dict = {\"Actual\" : y_test, \"Pred\" : y_pred.reshape(-1,)}\n",
    "compare = pd.DataFrame(my_dict)\n",
    "compare.sample(10)"
   ]
  },
  {
   "cell_type": "code",
   "execution_count": null,
   "metadata": {},
   "outputs": [
    {
     "data": {
      "text/plain": [
       "<AxesSubplot:xlabel='Actual', ylabel='Pred'>"
      ]
     },
     "execution_count": 65,
     "metadata": {},
     "output_type": "execute_result"
    },
    {
     "data": {
      "image/png": "[encoded data removed]",
      "text/plain": [
       "<Figure size 720x432 with 1 Axes>"
      ]
     },
     "metadata": {},
     "output_type": "display_data"
    }
   ],
   "source": [
    "sns.scatterplot(x = 'Actual', y = 'Pred', data = compare)"
   ]
  },
  {
   "cell_type": "code",
   "execution_count": null,
   "metadata": {},
   "outputs": [],
   "source": [
    "def eval_metric(actual, pred):\n",
    "    mae = mean_absolute_error(actual, pred)\n",
    "    mse = mean_squared_error(actual, pred)\n",
    "    rmse = np.sqrt(mean_squared_error(actual, pred))\n",
    "    score = r2_score(actual, pred)\n",
    "    return print(\"r2_score:\", score, \"\\nmae:\", mae, \"\\nmse:\", mse, \"\\nrmse:\", rmse)"
   ]
  },
  {
   "cell_type": "code",
   "execution_count": null,
   "metadata": {},
   "outputs": [
    {
     "name": "stdout",
     "output_type": "stream",
     "text": [
      "r2_score: 0.9964372220146177 \n",
      "mae: 4.552067251538345 \n",
      "mse: 31.324056864316347 \n",
      "rmse: 5.596789871374156\n"
     ]
    }
   ],
   "source": [
    "eval_metric(y_test, y_pred)"
   ]
  },
  {
   "cell_type": "markdown",
   "metadata": {},
   "source": [
    "## Final Model and Model Deployment"
   ]
  },
  {
   "cell_type": "code",
   "execution_count": null,
   "metadata": {},
   "outputs": [],
   "source": [
    "scaler = MinMaxScaler().fit(X)"
   ]
  },
  {
   "cell_type": "code",
   "execution_count": null,
   "metadata": {},
   "outputs": [],
   "source": [
    "import pickle\n",
    "pickle.dump(scaler, open(\"scaler_fake_reg\", 'wb'))"
   ]
  },
  {
   "cell_type": "code",
   "execution_count": null,
   "metadata": {},
   "outputs": [],
   "source": [
    "X_scaled = scaler.transform(X)"
   ]
  },
  {
   "cell_type": "code",
   "execution_count": null,
   "metadata": {},
   "outputs": [
    {
     "name": "stdout",
     "output_type": "stream",
     "text": [
      "Epoch 1/250\n",
      "32/32 [==============================] - 1s 1ms/step - loss: 257468.9219\n",
      "Epoch 2/250\n",
      "32/32 [==============================] - 0s 1ms/step - loss: 257405.5156\n",
      "Epoch 3/250\n",
      "32/32 [==============================] - 0s 2ms/step - loss: 257373.5625\n",
      "Epoch 4/250\n",
      "32/32 [==============================] - 0s 2ms/step - loss: 257341.6875\n",
      "Epoch 5/250\n",
      "32/32 [==============================] - 0s 1ms/step - loss: 257309.7031\n",
      "Epoch 6/250\n",
      "32/32 [==============================] - 0s 2ms/step - loss: 257277.7500\n",
      "Epoch 7/250\n",
      "32/32 [==============================] - 0s 2ms/step - loss: 257245.9375\n",
      "Epoch 8/250\n",
      "32/32 [==============================] - 0s 2ms/step - loss: 257214.0938\n",
      "Epoch 9/250\n",
      "32/32 [==============================] - 0s 2ms/step - loss: 257182.2500\n",
      "Epoch 10/250\n",
      "32/32 [==============================] - 0s 635us/step - loss: 257150.3438\n",
      "Epoch 11/250\n",
      "32/32 [==============================] - 0s 1ms/step - loss: 257118.4531\n",
      "Epoch 12/250\n",
      "32/32 [==============================] - 0s 1ms/step - loss: 257086.5625\n",
      "Epoch 13/250\n",
      "32/32 [==============================] - 0s 1ms/step - loss: 257054.6719\n",
      "Epoch 14/250\n",
      "32/32 [==============================] - 0s 1ms/step - loss: 257022.8750\n",
      "Epoch 15/250\n",
      "32/32 [==============================] - 0s 961us/step - loss: 256990.9688\n",
      "Epoch 16/250\n",
      "32/32 [==============================] - 0s 1ms/step - loss: 256959.1094\n",
      "Epoch 17/250\n",
      "32/32 [==============================] - 0s 1ms/step - loss: 256927.3281\n",
      "Epoch 18/250\n",
      "32/32 [==============================] - 0s 2ms/step - loss: 256895.3750\n",
      "Epoch 19/250\n",
      "32/32 [==============================] - 0s 1ms/step - loss: 256863.4062\n",
      "Epoch 20/250\n",
      "32/32 [==============================] - 0s 2ms/step - loss: 256831.7031\n",
      "Epoch 21/250\n",
      "32/32 [==============================] - 0s 2ms/step - loss: 256799.9062\n",
      "Epoch 22/250\n",
      "32/32 [==============================] - 0s 2ms/step - loss: 256768.0469\n",
      "Epoch 23/250\n",
      "32/32 [==============================] - 0s 1ms/step - loss: 256736.1094\n",
      "Epoch 24/250\n",
      "32/32 [==============================] - 0s 1ms/step - loss: 256704.2500\n",
      "Epoch 25/250\n",
      "32/32 [==============================] - 0s 2ms/step - loss: 256672.3594\n",
      "Epoch 26/250\n",
      "32/32 [==============================] - 0s 2ms/step - loss: 256640.5938\n",
      "Epoch 27/250\n",
      "32/32 [==============================] - 0s 2ms/step - loss: 256608.8281\n",
      "Epoch 28/250\n",
      "32/32 [==============================] - 0s 3ms/step - loss: 256576.9688\n",
      "Epoch 29/250\n",
      "32/32 [==============================] - 0s 2ms/step - loss: 256545.1250\n",
      "Epoch 30/250\n",
      "32/32 [==============================] - 0s 2ms/step - loss: 256513.2812\n",
      "Epoch 31/250\n",
      "32/32 [==============================] - 0s 2ms/step - loss: 256481.4219\n",
      "Epoch 32/250\n",
      "32/32 [==============================] - 0s 2ms/step - loss: 256449.5469\n",
      "Epoch 33/250\n",
      "32/32 [==============================] - 0s 2ms/step - loss: 256417.7031\n",
      "Epoch 34/250\n",
      "32/32 [==============================] - 0s 2ms/step - loss: 256385.8750\n",
      "Epoch 35/250\n",
      "32/32 [==============================] - 0s 1ms/step - loss: 256354.0156\n",
      "Epoch 36/250\n",
      "32/32 [==============================] - 0s 743us/step - loss: 256322.2344\n",
      "Epoch 37/250\n",
      "32/32 [==============================] - 0s 1ms/step - loss: 256290.3906\n",
      "Epoch 38/250\n",
      "32/32 [==============================] - 0s 1ms/step - loss: 256258.5625\n",
      "Epoch 39/250\n",
      "32/32 [==============================] - 0s 1ms/step - loss: 256226.8281\n",
      "Epoch 40/250\n",
      "32/32 [==============================] - 0s 1ms/step - loss: 256194.9844\n",
      "Epoch 41/250\n",
      "32/32 [==============================] - 0s 1ms/step - loss: 256163.1406\n",
      "Epoch 42/250\n",
      "32/32 [==============================] - 0s 1ms/step - loss: 256131.3281\n",
      "Epoch 43/250\n",
      "32/32 [==============================] - 0s 2ms/step - loss: 256099.6250\n",
      "Epoch 44/250\n",
      "32/32 [==============================] - 0s 2ms/step - loss: 256067.7969\n",
      "Epoch 45/250\n",
      "32/32 [==============================] - 0s 1ms/step - loss: 256035.9688\n",
      "Epoch 46/250\n",
      "32/32 [==============================] - 0s 2ms/step - loss: 256004.0938\n",
      "Epoch 47/250\n",
      "32/32 [==============================] - 0s 1ms/step - loss: 255972.2656\n",
      "Epoch 48/250\n",
      "32/32 [==============================] - 0s 872us/step - loss: 255940.4844\n",
      "Epoch 49/250\n",
      "32/32 [==============================] - 0s 1ms/step - loss: 255908.7188\n",
      "Epoch 50/250\n",
      "32/32 [==============================] - 0s 1ms/step - loss: 255876.9219\n",
      "Epoch 51/250\n",
      "32/32 [==============================] - 0s 1ms/step - loss: 255845.1562\n",
      "Epoch 52/250\n",
      "32/32 [==============================] - 0s 1ms/step - loss: 255813.3906\n",
      "Epoch 53/250\n",
      "32/32 [==============================] - 0s 1ms/step - loss: 255781.5625\n",
      "Epoch 54/250\n",
      "32/32 [==============================] - 0s 1ms/step - loss: 255749.7500\n",
      "Epoch 55/250\n",
      "32/32 [==============================] - 0s 1ms/step - loss: 255718.0156\n",
      "Epoch 56/250\n",
      "32/32 [==============================] - 0s 1ms/step - loss: 255686.2656\n",
      "Epoch 57/250\n",
      "32/32 [==============================] - 0s 1ms/step - loss: 255654.4219\n",
      "Epoch 58/250\n",
      "32/32 [==============================] - 0s 1ms/step - loss: 255622.7031\n",
      "Epoch 59/250\n",
      "32/32 [==============================] - 0s 2ms/step - loss: 255590.9531\n",
      "Epoch 60/250\n",
      "32/32 [==============================] - 0s 2ms/step - loss: 255559.1562\n",
      "Epoch 61/250\n",
      "32/32 [==============================] - 0s 1ms/step - loss: 255527.2812\n",
      "Epoch 62/250\n",
      "32/32 [==============================] - 0s 1ms/step - loss: 255495.5625\n",
      "Epoch 63/250\n",
      "32/32 [==============================] - 0s 1ms/step - loss: 255463.7500\n",
      "Epoch 64/250\n",
      "32/32 [==============================] - 0s 624us/step - loss: 255431.9531\n",
      "Epoch 65/250\n",
      "32/32 [==============================] - 0s 2ms/step - loss: 255400.2656\n",
      "Epoch 66/250\n",
      "32/32 [==============================] - 0s 990us/step - loss: 255368.5469\n",
      "Epoch 67/250\n",
      "32/32 [==============================] - 0s 977us/step - loss: 255336.7500\n",
      "Epoch 68/250\n",
      "32/32 [==============================] - 0s 1ms/step - loss: 255304.9375\n",
      "Epoch 69/250\n",
      "32/32 [==============================] - 0s 1ms/step - loss: 255273.2188\n",
      "Epoch 70/250\n",
      "32/32 [==============================] - 0s 1ms/step - loss: 255241.4531\n",
      "Epoch 71/250\n",
      "32/32 [==============================] - 0s 1ms/step - loss: 255209.7031\n",
      "Epoch 72/250\n",
      "32/32 [==============================] - 0s 742us/step - loss: 255177.9844\n",
      "Epoch 73/250\n",
      "32/32 [==============================] - 0s 2ms/step - loss: 255146.1719\n",
      "Epoch 74/250\n",
      "32/32 [==============================] - 0s 2ms/step - loss: 255114.4375\n",
      "Epoch 75/250\n",
      "32/32 [==============================] - 0s 1ms/step - loss: 255082.7188\n",
      "Epoch 76/250\n",
      "32/32 [==============================] - 0s 963us/step - loss: 255051.0312\n",
      "Epoch 77/250\n",
      "32/32 [==============================] - 0s 1ms/step - loss: 255019.2656\n",
      "Epoch 78/250\n",
      "32/32 [==============================] - 0s 1ms/step - loss: 254987.5781\n",
      "Epoch 79/250\n",
      "32/32 [==============================] - 0s 1ms/step - loss: 254955.8281\n",
      "Epoch 80/250\n",
      "32/32 [==============================] - 0s 531us/step - loss: 254924.1094\n",
      "Epoch 81/250\n",
      "32/32 [==============================] - 0s 2ms/step - loss: 254892.3594\n",
      "Epoch 82/250\n",
      "32/32 [==============================] - 0s 2ms/step - loss: 254860.5312\n",
      "Epoch 83/250\n",
      "32/32 [==============================] - 0s 2ms/step - loss: 254828.9062\n",
      "Epoch 84/250\n",
      "32/32 [==============================] - 0s 999us/step - loss: 254797.1875\n",
      "Epoch 85/250\n",
      "32/32 [==============================] - 0s 1ms/step - loss: 254765.3750\n",
      "Epoch 86/250\n",
      "32/32 [==============================] - 0s 1ms/step - loss: 254733.6250\n",
      "Epoch 87/250\n",
      "32/32 [==============================] - 0s 806us/step - loss: 254701.9688\n",
      "Epoch 88/250\n",
      "32/32 [==============================] - 0s 2ms/step - loss: 254670.2344\n",
      "Epoch 89/250\n",
      "32/32 [==============================] - 0s 2ms/step - loss: 254638.6406\n",
      "Epoch 90/250\n",
      "32/32 [==============================] - 0s 1ms/step - loss: 254606.7812\n",
      "Epoch 91/250\n",
      "32/32 [==============================] - 0s 1ms/step - loss: 254575.1094\n",
      "Epoch 92/250\n",
      "32/32 [==============================] - 0s 1ms/step - loss: 254543.3906\n",
      "Epoch 93/250\n",
      "32/32 [==============================] - 0s 1ms/step - loss: 254511.6562\n",
      "Epoch 94/250\n",
      "32/32 [==============================] - 0s 1ms/step - loss: 254480.0469\n",
      "Epoch 95/250\n",
      "32/32 [==============================] - 0s 2ms/step - loss: 254448.3125\n",
      "Epoch 96/250\n",
      "32/32 [==============================] - 0s 1ms/step - loss: 254416.5625\n",
      "Epoch 97/250\n",
      "32/32 [==============================] - 0s 597us/step - loss: 254384.8906\n",
      "Epoch 98/250\n",
      "32/32 [==============================] - 0s 965us/step - loss: 254353.2188\n",
      "Epoch 99/250\n",
      "32/32 [==============================] - 0s 604us/step - loss: 254321.5469\n",
      "Epoch 100/250\n",
      "32/32 [==============================] - 0s 1ms/step - loss: 254289.8281\n",
      "Epoch 101/250\n",
      "32/32 [==============================] - 0s 1ms/step - loss: 254258.2031\n",
      "Epoch 102/250\n",
      "32/32 [==============================] - 0s 1ms/step - loss: 254226.4531\n",
      "Epoch 103/250\n",
      "32/32 [==============================] - 0s 1ms/step - loss: 254194.7500\n",
      "Epoch 104/250\n",
      "32/32 [==============================] - 0s 2ms/step - loss: 254163.2031\n",
      "Epoch 105/250\n",
      "32/32 [==============================] - 0s 1ms/step - loss: 254131.3750\n",
      "Epoch 106/250\n",
      "32/32 [==============================] - 0s 2ms/step - loss: 254099.6406\n",
      "Epoch 107/250\n",
      "32/32 [==============================] - 0s 1ms/step - loss: 254068.0625\n",
      "Epoch 108/250\n",
      "32/32 [==============================] - 0s 1ms/step - loss: 254036.4219\n",
      "Epoch 109/250\n",
      "32/32 [==============================] - 0s 1ms/step - loss: 254004.6875\n",
      "Epoch 110/250\n",
      "32/32 [==============================] - 0s 796us/step - loss: 253973.0938\n",
      "Epoch 111/250\n",
      "32/32 [==============================] - 0s 1ms/step - loss: 253941.3281\n",
      "Epoch 112/250\n",
      "32/32 [==============================] - 0s 2ms/step - loss: 253909.7344\n",
      "Epoch 113/250\n",
      "32/32 [==============================] - 0s 2ms/step - loss: 253878.0000\n",
      "Epoch 114/250\n",
      "32/32 [==============================] - 0s 1ms/step - loss: 253846.5000\n",
      "Epoch 115/250\n",
      "32/32 [==============================] - 0s 504us/step - loss: 253814.7812\n",
      "Epoch 116/250\n",
      "32/32 [==============================] - 0s 582us/step - loss: 253783.0781\n",
      "Epoch 117/250\n",
      "32/32 [==============================] - 0s 1ms/step - loss: 253751.4531\n",
      "Epoch 118/250\n",
      "32/32 [==============================] - 0s 1ms/step - loss: 253719.7500\n",
      "Epoch 119/250\n",
      "32/32 [==============================] - 0s 2ms/step - loss: 253688.1094\n",
      "Epoch 120/250\n",
      "32/32 [==============================] - 0s 1ms/step - loss: 253656.4531\n",
      "Epoch 121/250\n",
      "32/32 [==============================] - 0s 1ms/step - loss: 253624.7812\n",
      "Epoch 122/250\n",
      "32/32 [==============================] - 0s 1ms/step - loss: 253593.2656\n",
      "Epoch 123/250\n",
      "32/32 [==============================] - 0s 1ms/step - loss: 253561.5625\n",
      "Epoch 124/250\n",
      "32/32 [==============================] - 0s 1ms/step - loss: 253529.8438\n",
      "Epoch 125/250\n",
      "32/32 [==============================] - 0s 1ms/step - loss: 253498.1875\n",
      "Epoch 126/250\n",
      "32/32 [==============================] - 0s 1ms/step - loss: 253466.5625\n",
      "Epoch 127/250\n",
      "32/32 [==============================] - 0s 1ms/step - loss: 253434.8594\n",
      "Epoch 128/250\n",
      "32/32 [==============================] - 0s 562us/step - loss: 253403.2344\n",
      "Epoch 129/250\n",
      "32/32 [==============================] - 0s 504us/step - loss: 253371.5625\n",
      "Epoch 130/250\n",
      "32/32 [==============================] - 0s 1ms/step - loss: 253340.0156\n",
      "Epoch 131/250\n",
      "32/32 [==============================] - 0s 1ms/step - loss: 253308.4062\n",
      "Epoch 132/250\n",
      "32/32 [==============================] - 0s 2ms/step - loss: 253276.7344\n",
      "Epoch 133/250\n",
      "32/32 [==============================] - 0s 2ms/step - loss: 253245.1875\n",
      "Epoch 134/250\n",
      "32/32 [==============================] - 0s 1ms/step - loss: 253213.5938\n",
      "Epoch 135/250\n",
      "32/32 [==============================] - 0s 485us/step - loss: 253181.9844\n",
      "Epoch 136/250\n",
      "32/32 [==============================] - 0s 1ms/step - loss: 253150.3438\n",
      "Epoch 137/250\n",
      "32/32 [==============================] - 0s 1ms/step - loss: 253118.7500\n",
      "Epoch 138/250\n",
      "32/32 [==============================] - 0s 1ms/step - loss: 253087.0469\n",
      "Epoch 139/250\n",
      "32/32 [==============================] - 0s 1ms/step - loss: 253055.4531\n",
      "Epoch 140/250\n",
      "32/32 [==============================] - 0s 1ms/step - loss: 253023.8125\n",
      "Epoch 141/250\n",
      "32/32 [==============================] - 0s 1ms/step - loss: 252992.1875\n",
      "Epoch 142/250\n",
      "32/32 [==============================] - 0s 1ms/step - loss: 252960.6875\n",
      "Epoch 143/250\n",
      "32/32 [==============================] - 0s 1ms/step - loss: 252929.0469\n",
      "Epoch 144/250\n",
      "32/32 [==============================] - 0s 1ms/step - loss: 252897.5156\n",
      "Epoch 145/250\n",
      "32/32 [==============================] - 0s 594us/step - loss: 252865.8281\n",
      "Epoch 146/250\n",
      "32/32 [==============================] - 0s 1ms/step - loss: 252834.3125\n",
      "Epoch 147/250\n",
      "32/32 [==============================] - 0s 504us/step - loss: 252802.6875\n",
      "Epoch 148/250\n",
      "32/32 [==============================] - 0s 1ms/step - loss: 252771.0781\n",
      "Epoch 149/250\n",
      "32/32 [==============================] - 0s 518us/step - loss: 252739.4375\n",
      "Epoch 150/250\n",
      "32/32 [==============================] - 0s 1ms/step - loss: 252707.8438\n",
      "Epoch 151/250\n",
      "32/32 [==============================] - 0s 1ms/step - loss: 252676.2344\n",
      "Epoch 152/250\n",
      "32/32 [==============================] - 0s 1ms/step - loss: 252644.6719\n",
      "Epoch 153/250\n",
      "32/32 [==============================] - 0s 1ms/step - loss: 252613.1094\n",
      "Epoch 154/250\n",
      "32/32 [==============================] - 0s 2ms/step - loss: 252581.5156\n",
      "Epoch 155/250\n",
      "32/32 [==============================] - 0s 1ms/step - loss: 252549.9062\n",
      "Epoch 156/250\n",
      "32/32 [==============================] - 0s 1ms/step - loss: 252518.4062\n",
      "Epoch 157/250\n",
      "32/32 [==============================] - 0s 957us/step - loss: 252486.7969\n",
      "Epoch 158/250\n",
      "32/32 [==============================] - 0s 1ms/step - loss: 252455.2031\n",
      "Epoch 159/250\n",
      "32/32 [==============================] - 0s 1ms/step - loss: 252423.6562\n",
      "Epoch 160/250\n",
      "32/32 [==============================] - 0s 1ms/step - loss: 252392.0625\n",
      "Epoch 161/250\n",
      "32/32 [==============================] - 0s 1ms/step - loss: 252360.5469\n",
      "Epoch 162/250\n",
      "32/32 [==============================] - 0s 1ms/step - loss: 252328.8906\n",
      "Epoch 163/250\n",
      "32/32 [==============================] - 0s 1ms/step - loss: 252297.3438\n",
      "Epoch 164/250\n",
      "32/32 [==============================] - 0s 1ms/step - loss: 252265.8125\n",
      "Epoch 165/250\n",
      "32/32 [==============================] - 0s 1ms/step - loss: 252234.2500\n",
      "Epoch 166/250\n",
      "32/32 [==============================] - 0s 1ms/step - loss: 252202.6875\n",
      "Epoch 167/250\n",
      "32/32 [==============================] - 0s 1ms/step - loss: 252171.1406\n",
      "Epoch 168/250\n",
      "32/32 [==============================] - 0s 1ms/step - loss: 252139.5781\n",
      "Epoch 169/250\n",
      "32/32 [==============================] - 0s 936us/step - loss: 252108.0469\n",
      "Epoch 170/250\n",
      "32/32 [==============================] - 0s 1ms/step - loss: 252076.5156\n",
      "Epoch 171/250\n",
      "32/32 [==============================] - 0s 1ms/step - loss: 252044.9688\n",
      "Epoch 172/250\n",
      "32/32 [==============================] - 0s 585us/step - loss: 252013.4531\n",
      "Epoch 173/250\n",
      "32/32 [==============================] - 0s 1ms/step - loss: 251981.9062\n",
      "Epoch 174/250\n",
      "32/32 [==============================] - 0s 1ms/step - loss: 251950.3750\n",
      "Epoch 175/250\n",
      "32/32 [==============================] - 0s 2ms/step - loss: 251918.8594\n",
      "Epoch 176/250\n",
      "32/32 [==============================] - 0s 2ms/step - loss: 251887.3125\n",
      "Epoch 177/250\n",
      "32/32 [==============================] - 0s 2ms/step - loss: 251855.8281\n",
      "Epoch 178/250\n",
      "32/32 [==============================] - 0s 1ms/step - loss: 251824.1562\n",
      "Epoch 179/250\n",
      "32/32 [==============================] - 0s 2ms/step - loss: 251792.6719\n",
      "Epoch 180/250\n",
      "32/32 [==============================] - 0s 2ms/step - loss: 251761.1406\n",
      "Epoch 181/250\n",
      "32/32 [==============================] - 0s 968us/step - loss: 251729.5625\n",
      "Epoch 182/250\n",
      "32/32 [==============================] - 0s 521us/step - loss: 251698.0625\n",
      "Epoch 183/250\n",
      "32/32 [==============================] - 0s 1ms/step - loss: 251666.6250\n",
      "Epoch 184/250\n",
      "32/32 [==============================] - 0s 1ms/step - loss: 251635.1094\n",
      "Epoch 185/250\n",
      "32/32 [==============================] - 0s 1ms/step - loss: 251603.6094\n",
      "Epoch 186/250\n",
      "32/32 [==============================] - 0s 2ms/step - loss: 251572.0312\n",
      "Epoch 187/250\n",
      "32/32 [==============================] - 0s 2ms/step - loss: 251540.5000\n",
      "Epoch 188/250\n",
      "32/32 [==============================] - 0s 1ms/step - loss: 251509.0938\n",
      "Epoch 189/250\n",
      "32/32 [==============================] - 0s 1ms/step - loss: 251477.4062\n",
      "Epoch 190/250\n",
      "32/32 [==============================] - 0s 1ms/step - loss: 251445.9219\n",
      "Epoch 191/250\n",
      "32/32 [==============================] - 0s 1ms/step - loss: 251414.5469\n",
      "Epoch 192/250\n",
      "32/32 [==============================] - 0s 1ms/step - loss: 251383.0781\n",
      "Epoch 193/250\n",
      "32/32 [==============================] - 0s 1ms/step - loss: 251351.6406\n",
      "Epoch 194/250\n",
      "32/32 [==============================] - 0s 1ms/step - loss: 251320.0000\n",
      "Epoch 195/250\n",
      "32/32 [==============================] - 0s 1ms/step - loss: 251288.5781\n",
      "Epoch 196/250\n",
      "32/32 [==============================] - 0s 2ms/step - loss: 251257.0781\n",
      "Epoch 197/250\n",
      "32/32 [==============================] - 0s 2ms/step - loss: 251225.5938\n",
      "Epoch 198/250\n",
      "32/32 [==============================] - 0s 2ms/step - loss: 251194.0312\n",
      "Epoch 199/250\n",
      "32/32 [==============================] - 0s 1ms/step - loss: 251162.5156\n",
      "Epoch 200/250\n",
      "32/32 [==============================] - 0s 892us/step - loss: 251131.0156\n",
      "Epoch 201/250\n",
      "32/32 [==============================] - 0s 1ms/step - loss: 251099.5625\n",
      "Epoch 202/250\n",
      "32/32 [==============================] - 0s 2ms/step - loss: 251068.0781\n",
      "Epoch 203/250\n",
      "32/32 [==============================] - 0s 2ms/step - loss: 251036.5469\n",
      "Epoch 204/250\n",
      "32/32 [==============================] - 0s 1ms/step - loss: 251005.0625\n",
      "Epoch 205/250\n",
      "32/32 [==============================] - 0s 995us/step - loss: 250973.6406\n",
      "Epoch 206/250\n",
      "32/32 [==============================] - 0s 796us/step - loss: 250942.1875\n",
      "Epoch 207/250\n",
      "32/32 [==============================] - 0s 1ms/step - loss: 250910.7188\n",
      "Epoch 208/250\n",
      "32/32 [==============================] - 0s 2ms/step - loss: 250879.2031\n",
      "Epoch 209/250\n",
      "32/32 [==============================] - 0s 1ms/step - loss: 250847.7656\n",
      "Epoch 210/250\n",
      "32/32 [==============================] - 0s 1ms/step - loss: 250816.3594\n",
      "Epoch 211/250\n",
      "32/32 [==============================] - 0s 2ms/step - loss: 250784.8906\n",
      "Epoch 212/250\n",
      "32/32 [==============================] - 0s 2ms/step - loss: 250753.4219\n",
      "Epoch 213/250\n",
      "32/32 [==============================] - 0s 2ms/step - loss: 250721.9688\n",
      "Epoch 214/250\n",
      "32/32 [==============================] - 0s 1ms/step - loss: 250690.4531\n",
      "Epoch 215/250\n",
      "32/32 [==============================] - 0s 1ms/step - loss: 250658.9375\n",
      "Epoch 216/250\n",
      "32/32 [==============================] - 0s 1ms/step - loss: 250627.5312\n",
      "Epoch 217/250\n",
      "32/32 [==============================] - 0s 1ms/step - loss: 250596.0781\n",
      "Epoch 218/250\n",
      "32/32 [==============================] - 0s 2ms/step - loss: 250564.6875\n",
      "Epoch 219/250\n",
      "32/32 [==============================] - 0s 2ms/step - loss: 250533.1406\n",
      "Epoch 220/250\n",
      "32/32 [==============================] - 0s 2ms/step - loss: 250501.6875\n",
      "Epoch 221/250\n",
      "32/32 [==============================] - 0s 1ms/step - loss: 250470.3594\n",
      "Epoch 222/250\n",
      "32/32 [==============================] - 0s 1ms/step - loss: 250438.8594\n",
      "Epoch 223/250\n",
      "32/32 [==============================] - 0s 935us/step - loss: 250407.3750\n",
      "Epoch 224/250\n",
      "32/32 [==============================] - 0s 1ms/step - loss: 250375.9375\n",
      "Epoch 225/250\n",
      "32/32 [==============================] - 0s 1ms/step - loss: 250344.5469\n",
      "Epoch 226/250\n",
      "32/32 [==============================] - 0s 853us/step - loss: 250313.1406\n",
      "Epoch 227/250\n",
      "32/32 [==============================] - 0s 1ms/step - loss: 250281.7031\n",
      "Epoch 228/250\n",
      "32/32 [==============================] - 0s 1ms/step - loss: 250250.0938\n",
      "Epoch 229/250\n",
      "32/32 [==============================] - 0s 1ms/step - loss: 250218.7812\n",
      "Epoch 230/250\n",
      "32/32 [==============================] - 0s 1ms/step - loss: 250187.3750\n",
      "Epoch 231/250\n",
      "32/32 [==============================] - 0s 1ms/step - loss: 250156.0156\n",
      "Epoch 232/250\n",
      "32/32 [==============================] - 0s 2ms/step - loss: 250124.5625\n",
      "Epoch 233/250\n",
      "32/32 [==============================] - 0s 1ms/step - loss: 250093.0938\n",
      "Epoch 234/250\n",
      "32/32 [==============================] - 0s 1ms/step - loss: 250061.7656\n",
      "Epoch 235/250\n",
      "32/32 [==============================] - 0s 940us/step - loss: 250030.3750\n",
      "Epoch 236/250\n",
      "32/32 [==============================] - 0s 2ms/step - loss: 249998.9844\n",
      "Epoch 237/250\n",
      "32/32 [==============================] - 0s 830us/step - loss: 249967.4688\n",
      "Epoch 238/250\n",
      "32/32 [==============================] - 0s 2ms/step - loss: 249936.0000\n",
      "Epoch 239/250\n",
      "32/32 [==============================] - 0s 1ms/step - loss: 249904.5625\n",
      "Epoch 240/250\n",
      "32/32 [==============================] - 0s 1ms/step - loss: 249873.2969\n",
      "Epoch 241/250\n",
      "32/32 [==============================] - 0s 2ms/step - loss: 249841.9531\n",
      "Epoch 242/250\n",
      "32/32 [==============================] - 0s 1ms/step - loss: 249810.3906\n",
      "Epoch 243/250\n",
      "32/32 [==============================] - 0s 1ms/step - loss: 249779.0938\n",
      "Epoch 244/250\n",
      "32/32 [==============================] - 0s 2ms/step - loss: 249747.6875\n",
      "Epoch 245/250\n",
      "32/32 [==============================] - 0s 2ms/step - loss: 249716.3438\n",
      "Epoch 246/250\n",
      "32/32 [==============================] - 0s 1ms/step - loss: 249684.9844\n",
      "Epoch 247/250\n",
      "32/32 [==============================] - 0s 2ms/step - loss: 249653.4531\n",
      "Epoch 248/250\n",
      "32/32 [==============================] - 0s 1ms/step - loss: 249622.1250\n",
      "Epoch 249/250\n",
      "32/32 [==============================] - 0s 1ms/step - loss: 249590.7500\n",
      "Epoch 250/250\n",
      "32/32 [==============================] - 0s 1ms/step - loss: 249559.3125\n"
     ]
    },
    {
     "data": {
      "text/plain": [
       "<keras.callbacks.History at 0x27ce8b37400>"
      ]
     },
     "execution_count": 71,
     "metadata": {},
     "output_type": "execute_result"
    }
   ],
   "source": [
    "final_model = Sequential()\n",
    "\n",
    "final_model.add(Dense(units = 4, activation = \"relu\"))     # input_dim = 2 or input_dim = X_train.shape[0]\n",
    "final_model.add(Dense(units = 4, activation = \"relu\"))\n",
    "final_model.add(Dense(units = 4, activation = \"relu\"))\n",
    "final_model.add(Dense(1))\n",
    "\n",
    "final_model.compile(optimizer = \"rmsprop\", loss = \"mse\")\n",
    "\n",
    "final_model.fit(x = X_scaled, y = y, batch_size = 32, epochs = 250)"
   ]
  },
  {
   "cell_type": "markdown",
   "metadata": {},
   "source": [
    "H5 is a file format to store structured data, it's not a model by itself. Keras saves models in this format as it can easily store the weights and model configuration in a single file."
   ]
  },
  {
   "cell_type": "code",
   "execution_count": null,
   "metadata": {},
   "outputs": [],
   "source": [
    "model.save('model_fake_reg.h5')  # creates a HDF5 file 'my_model.h5'"
   ]
  },
  {
   "cell_type": "markdown",
   "metadata": {},
   "source": [
    "## Prediction-1"
   ]
  },
  {
   "cell_type": "code",
   "execution_count": null,
   "metadata": {},
   "outputs": [],
   "source": [
    "from tensorflow.keras.models import load_model"
   ]
  },
  {
   "cell_type": "code",
   "execution_count": null,
   "metadata": {},
   "outputs": [],
   "source": [
    "model_fake_reg = load_model('model_fake_reg.h5')"
   ]
  },
  {
   "cell_type": "code",
   "execution_count": null,
   "metadata": {},
   "outputs": [],
   "source": [
    "scaler_fake_reg = pickle.load(open(\"scaler_fake_reg\", \"rb\"))"
   ]
  },
  {
   "cell_type": "code",
   "execution_count": null,
   "metadata": {},
   "outputs": [],
   "source": [
    "sample = [[998, 1000]]"
   ]
  },
  {
   "cell_type": "code",
   "execution_count": null,
   "metadata": {},
   "outputs": [],
   "source": [
    "sample_scaled = scaler_fake_reg.transform(sample)"
   ]
  },
  {
   "cell_type": "code",
   "execution_count": null,
   "metadata": {},
   "outputs": [
    {
     "data": {
      "text/plain": [
       "array([[419.6473]], dtype=float32)"
      ]
     },
     "execution_count": 78,
     "metadata": {},
     "output_type": "execute_result"
    }
   ],
   "source": [
    "model_fake_reg.predict(sample_scaled)"
   ]
  },
  {
   "cell_type": "markdown",
   "metadata": {},
   "source": [
    "## Prediction-2"
   ]
  },
  {
   "cell_type": "code",
   "execution_count": null,
   "metadata": {},
   "outputs": [],
   "source": [
    "my_dict = {\"Feature1\": [997, 998, 999, 1000, 1001],\n",
    "           \"Feature2\": [1000, 999, 998, 997, 996]}"
   ]
  },
  {
   "cell_type": "code",
   "execution_count": null,
   "metadata": {},
   "outputs": [
    {
     "data": {
      "text/html": [
       "<div>\n",
       "<style scoped>\n",
       "    .dataframe tbody tr th:only-of-type {\n",
       "        vertical-align: middle;\n",
       "    }\n",
       "\n",
       "    .dataframe tbody tr th {\n",
       "        vertical-align: top;\n",
       "    }\n",
       "\n",
       "    .dataframe thead th {\n",
       "        text-align: right;\n",
       "    }\n",
       "</style>\n",
       "<table border=\"1\" class=\"dataframe\">\n",
       "  <thead>\n",
       "    <tr style=\"text-align: right;\">\n",
       "      <th></th>\n",
       "      <th>Feature1</th>\n",
       "      <th>Feature2</th>\n",
       "    </tr>\n",
       "  </thead>\n",
       "  <tbody>\n",
       "    <tr>\n",
       "      <th>0</th>\n",
       "      <td>997</td>\n",
       "      <td>1000</td>\n",
       "    </tr>\n",
       "    <tr>\n",
       "      <th>1</th>\n",
       "      <td>998</td>\n",
       "      <td>999</td>\n",
       "    </tr>\n",
       "    <tr>\n",
       "      <th>2</th>\n",
       "      <td>999</td>\n",
       "      <td>998</td>\n",
       "    </tr>\n",
       "    <tr>\n",
       "      <th>3</th>\n",
       "      <td>1000</td>\n",
       "      <td>997</td>\n",
       "    </tr>\n",
       "    <tr>\n",
       "      <th>4</th>\n",
       "      <td>1001</td>\n",
       "      <td>996</td>\n",
       "    </tr>\n",
       "  </tbody>\n",
       "</table>\n",
       "</div>"
      ],
      "text/plain": [
       "   Feature1  Feature2\n",
       "0       997      1000\n",
       "1       998       999\n",
       "2       999       998\n",
       "3      1000       997\n",
       "4      1001       996"
      ]
     },
     "execution_count": 80,
     "metadata": {},
     "output_type": "execute_result"
    }
   ],
   "source": [
    "sample = pd.DataFrame(my_dict)\n",
    "sample"
   ]
  },
  {
   "cell_type": "code",
   "execution_count": null,
   "metadata": {},
   "outputs": [
    {
     "data": {
      "text/plain": [
       "array([[-0.00948799,  0.52980619],\n",
       "       [ 0.15312457,  0.35345977],\n",
       "       [ 0.31573713,  0.17711336],\n",
       "       [ 0.47834969,  0.00076694],\n",
       "       [ 0.64096225, -0.17557948]])"
      ]
     },
     "execution_count": 81,
     "metadata": {},
     "output_type": "execute_result"
    }
   ],
   "source": [
    "sample_scaled = scaler_fake_reg.transform(sample)\n",
    "sample_scaled"
   ]
  },
  {
   "cell_type": "code",
   "execution_count": null,
   "metadata": {},
   "outputs": [
    {
     "data": {
      "text/plain": [
       "array([[379.98642],\n",
       "       [332.33572],\n",
       "       [284.68497],\n",
       "       [237.03424],\n",
       "       [189.38353]], dtype=float32)"
      ]
     },
     "execution_count": 82,
     "metadata": {},
     "output_type": "execute_result"
    }
   ],
   "source": [
    "model_fake_reg.predict(sample_scaled)"
   ]
  }
 ],
 "metadata": {
  "kernelspec": {
   "display_name": "Python 3",
   "language": "python",
   "name": "python3"
  },
  "language_info": {
   "codemirror_mode": {
    "name": "ipython",
    "version": 3
   },
   "file_extension": ".py",
   "mimetype": "text/x-python",
   "name": "python",
   "nbconvert_exporter": "python",
   "pygments_lexer": "ipython3",
   "version": "3.8.9"
  }
 },
 "nbformat": 4,
 "nbformat_minor": 4
}
