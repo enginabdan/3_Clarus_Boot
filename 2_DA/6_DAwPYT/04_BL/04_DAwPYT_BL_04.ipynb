{
 "cells": [
  {
   "cell_type": "code",
   "execution_count": 1,
   "id": "a9fef2ce",
   "metadata": {},
   "outputs": [],
   "source": [
    "# 04_DAwPYT_BL_04"
   ]
  },
  {
   "cell_type": "markdown",
   "id": "infinite-parent",
   "metadata": {},
   "source": [
    "Regex, data analizde olmazsa olmaz enstrümanlardan birisidir.\n",
    "Bazen datalar çok karmaşık gelebilir.\n",
    "Regular expression ile işimize yarayan datayı ordan tutup çekmemize yarıyor.\n",
    "\n",
    "Özellikle twitter facebook gibi sosyal medya platformlarında yazım kurallarının dışına sıklıkla çıkılıyor.\n",
    "Kelimelerle iç içe şekilde sayılar, emojiler, farklı dillerde ifadeler kullanılabiliyor.\n",
    "Bu durumlarda kelimeleri temiz şekilde ayıklama ihtiyacı duyuluyor.\n",
    "\n",
    "Mesela;\n",
    "A12B\n",
    "C34G\n",
    "H78J \n",
    "\n",
    "gibi bir datada benim sadece ortadaki sayılara ihtiyacım var ve onları aradan almam gerekiyor.\n",
    "bunu biz regular expression ile yapıyoruz. \n",
    "\n",
    "regular.com sitesinde: \n",
    "kod bölümüne \\d koyduğumuzda datada bir digit gördüğünde onu seçer.\n",
    "eğer \\d\\d bu şekilde 2 yanyana \\d koyarsak yan yana iki numerik değer olan yerleri seçer."
   ]
  },
  {
   "cell_type": "code",
   "execution_count": 2,
   "id": "present-latitude",
   "metadata": {},
   "outputs": [],
   "source": [
    "# regex101.com adresinden metinin içinden veri çekme testini yapabilirsin\n",
    "import re      # regular expression kütüphanesi\n",
    "import pandas as pd"
   ]
  },
  {
   "cell_type": "raw",
   "id": "rapid-afghanistan",
   "metadata": {},
   "source": [
    " Expressions :\n",
    "\n",
    "\"\\d\"   Any numeric digit from `0` to `9`.\n",
    "\"\\D\"   Matches any character which is not a decimal digit. This is the opposite of `\\d`.\n",
    "\"\\\"     Any letter, numeric digit, or the underscore character.  (Think of this as matching \"word\" characters.)\n",
    "\"\\W\"   Any character that is not a letter, numeric digit, or the underscore character.\n",
    "\"\\s\"   Any space, tab, or newline character.(Think of this as matching white-space characters.)\n",
    "\"\\S\"   Any character that is not a space, tab, or newline."
   ]
  },
  {
   "cell_type": "code",
   "execution_count": 3,
   "id": "recognized-assignment",
   "metadata": {},
   "outputs": [],
   "source": [
    "text = \"A23B\"\n",
    "# aradaki 2 basamaklı sayıyı çekip al. "
   ]
  },
  {
   "cell_type": "markdown",
   "id": "c81d0706",
   "metadata": {},
   "source": [
    "#### .search()"
   ]
  },
  {
   "cell_type": "code",
   "execution_count": 4,
   "id": "composite-association",
   "metadata": {},
   "outputs": [
    {
     "name": "stdout",
     "output_type": "stream",
     "text": [
      "<re.Match object; span=(1, 3), match='23'>\n"
     ]
    }
   ],
   "source": [
    "num = re.search(\"\\d\\d\", text)   # yan yana iki digit olduğu yeri al.\n",
    "print(num)\n",
    "# dikkat! çıkan sonuç bir object"
   ]
  },
  {
   "cell_type": "code",
   "execution_count": 5,
   "id": "regular-stock",
   "metadata": {},
   "outputs": [
    {
     "name": "stdout",
     "output_type": "stream",
     "text": [
      "23\n"
     ]
    }
   ],
   "source": [
    "num = re.search(\"\\d\\d\", text) \n",
    "print(num.group())  \n",
    "# objenin içindeki grupları getirir. örneğimizde bir grup olduğu için sadece 23ü getirdi."
   ]
  },
  {
   "cell_type": "code",
   "execution_count": 6,
   "id": "chinese-fireplace",
   "metadata": {},
   "outputs": [
    {
     "name": "stdout",
     "output_type": "stream",
     "text": [
      "234\n"
     ]
    }
   ],
   "source": [
    "text2 = \"A234B\"\n",
    "num = re.search(\"\\d\\d\\d\", text2)   # yan yana 3 digit olduğu yeri al.\n",
    "print(num.group())"
   ]
  },
  {
   "cell_type": "code",
   "execution_count": 7,
   "id": "recognized-bundle",
   "metadata": {},
   "outputs": [
    {
     "name": "stdout",
     "output_type": "stream",
     "text": [
      "23\n"
     ]
    }
   ],
   "source": [
    "text3 = \"A234B\"\n",
    "num = re.search(\"\\d\\d\", text3)   # yan yana 3 digit olduğu yeri al.\n",
    "print(num.group())\n",
    "# ilk bulduğu 2 digiti getirdi."
   ]
  },
  {
   "cell_type": "code",
   "execution_count": 8,
   "id": "precious-palmer",
   "metadata": {},
   "outputs": [
    {
     "name": "stdout",
     "output_type": "stream",
     "text": [
      "23\n"
     ]
    }
   ],
   "source": [
    "text4 = \"A2345B\"\n",
    "num = re.search(\"\\d\\d\", text4)   # yan yana 3 digit olduğu yeri al.\n",
    "print(num.group())\n",
    "# ilk bulduğu 2 digiti getirdi.\n"
   ]
  },
  {
   "cell_type": "markdown",
   "id": "57bbd136",
   "metadata": {},
   "source": [
    "#### .findall()"
   ]
  },
  {
   "cell_type": "code",
   "execution_count": 9,
   "id": "quality-suffering",
   "metadata": {},
   "outputs": [
    {
     "data": {
      "text/plain": [
       "['23', '45']"
      ]
     },
     "execution_count": 9,
     "metadata": {},
     "output_type": "execute_result"
    }
   ],
   "source": [
    "text5 = \"A2345B\"\n",
    "num1 = re.findall(\"\\d{2}\", text5)\n",
    "num1"
   ]
  },
  {
   "cell_type": "code",
   "execution_count": 10,
   "id": "buried-affiliate",
   "metadata": {},
   "outputs": [],
   "source": [
    "text5 = \"4PM\"  # bu sefer integer olmaya değeri getirsin."
   ]
  },
  {
   "cell_type": "code",
   "execution_count": 11,
   "id": "entertaining-packaging",
   "metadata": {},
   "outputs": [
    {
     "name": "stdout",
     "output_type": "stream",
     "text": [
      "P\n"
     ]
    }
   ],
   "source": [
    "nondeci = re.search(\"\\D\", text5)\n",
    "print(nondeci.group())"
   ]
  },
  {
   "cell_type": "code",
   "execution_count": 12,
   "id": "driven-semester",
   "metadata": {},
   "outputs": [],
   "source": [
    "# telefon numarasını çekip alalım\n",
    "text = \"My phone number is 5055523545\""
   ]
  },
  {
   "cell_type": "code",
   "execution_count": 13,
   "id": "studied-stephen",
   "metadata": {},
   "outputs": [
    {
     "name": "stdout",
     "output_type": "stream",
     "text": [
      "5055523545\n"
     ]
    }
   ],
   "source": [
    "output = re.search(\"\\d\\d\\d\\d\\d\\d\\d\\d\\d\\d\", text)\n",
    "print(output.group())"
   ]
  },
  {
   "cell_type": "code",
   "execution_count": 14,
   "id": "peripheral-short",
   "metadata": {},
   "outputs": [
    {
     "name": "stdout",
     "output_type": "stream",
     "text": [
      "505\n"
     ]
    }
   ],
   "source": [
    "# numarayı gruplara bölersek... (rakamlar içindeki gruplar (mesela alan kodu) ayrı bir anlam ifade edebilir)\n",
    "output = re.search(\"(\\d\\d\\d)(\\d\\d\\d)(\\d\\d\\d\\d)\", text)\n",
    "print(output.group(1))"
   ]
  },
  {
   "cell_type": "code",
   "execution_count": 15,
   "id": "improved-range",
   "metadata": {},
   "outputs": [
    {
     "name": "stdout",
     "output_type": "stream",
     "text": [
      "3545\n"
     ]
    }
   ],
   "source": [
    "output = re.search(\"(\\d\\d\\d)(\\d\\d\\d)(\\d\\d\\d\\d)\", text)\n",
    "print(output.group(3))\n",
    "# rakamaların 3.grubunu çektik."
   ]
  },
  {
   "cell_type": "code",
   "execution_count": 16,
   "id": "fallen-drill",
   "metadata": {},
   "outputs": [],
   "source": [
    "# rakamları çekip alalım\n",
    "value = \"9 1, t 10, o 100. 100000\""
   ]
  },
  {
   "cell_type": "markdown",
   "id": "6f3aa936",
   "metadata": {},
   "source": [
    "#### .findall()"
   ]
  },
  {
   "cell_type": "code",
   "execution_count": 17,
   "id": "oriental-float",
   "metadata": {},
   "outputs": [
    {
     "name": "stdout",
     "output_type": "stream",
     "text": [
      "['9', '1', '10', '10', '0', '10', '00', '00']\n"
     ]
    }
   ],
   "source": [
    "# findall() fonksiyonu ile yapacağız.\n",
    "output = re.findall(\"\\d{1,2}\", value)  # 1 basamaklı integerleri al, 2 basamaklı olanlara kadar da al.\n",
    "print(output)"
   ]
  },
  {
   "cell_type": "code",
   "execution_count": 18,
   "id": "under-howard",
   "metadata": {},
   "outputs": [
    {
     "name": "stdout",
     "output_type": "stream",
     "text": [
      "['9', '1', '10', '100', '100', '000']\n"
     ]
    }
   ],
   "source": [
    "output = re.findall(\"\\d{1,3}\", value)  # 1 basamaklı integerleri al, 3 basamaklı olanlar kadar da al.\n",
    "print(output)\n",
    "# son rakamdan 3 digit alınca geriye bir 3 sıfır kaldı"
   ]
  },
  {
   "cell_type": "code",
   "execution_count": 19,
   "id": "central-distinction",
   "metadata": {},
   "outputs": [
    {
     "name": "stdout",
     "output_type": "stream",
     "text": [
      "['9', '1', '10', '100', '10000', '0']\n"
     ]
    }
   ],
   "source": [
    "output = re.findall(\"\\d{1,5}\", value)  # 1 basamaklı integerleri al, 5 basamaklı olanlar kadar da al.\n",
    "print(output)\n",
    "# son rakamdan 5 digit alınca geriye bir 0 kaldı"
   ]
  },
  {
   "cell_type": "code",
   "execution_count": 20,
   "id": "informed-given",
   "metadata": {},
   "outputs": [
    {
     "name": "stdout",
     "output_type": "stream",
     "text": [
      "['9', '1', '10', '100', '100000']\n"
     ]
    }
   ],
   "source": [
    "output = re.findall(\"\\d{1,6}\", value)  # 1 basamaklı integerleri al, 6 basamaklı olanlar kadar da al.\n",
    "print(output)"
   ]
  },
  {
   "cell_type": "markdown",
   "id": "896c338e",
   "metadata": {},
   "source": [
    "#### .sub()"
   ]
  },
  {
   "cell_type": "code",
   "execution_count": 21,
   "id": "formal-people",
   "metadata": {},
   "outputs": [],
   "source": [
    "# istediğim değerleri remove edebilirim. - ler boşluklar, # işime yaramıyor. bunları remove edeceğim.\n",
    "phone = \"2004-959-559 # This is phone number\""
   ]
  },
  {
   "cell_type": "code",
   "execution_count": 22,
   "id": "fatty-kelly",
   "metadata": {},
   "outputs": [
    {
     "name": "stdout",
     "output_type": "stream",
     "text": [
      "2004959559\n"
     ]
    }
   ],
   "source": [
    "output = re.sub(\"\\D\", \"\", phone)\n",
    "print(output)\n",
    "# D olanları yani numerik olmayanları remove et kalanı getir."
   ]
  },
  {
   "cell_type": "code",
   "execution_count": 23,
   "id": "theoretical-beach",
   "metadata": {},
   "outputs": [
    {
     "name": "stdout",
     "output_type": "stream",
     "text": [
      "2004.959.559.......................\n"
     ]
    }
   ],
   "source": [
    "output = re.sub(\"\\D\", \".\", phone)\n",
    "print(output)\n",
    "# D olanları remove et ve remove ettiklerinin yerine \".\" koy"
   ]
  },
  {
   "cell_type": "code",
   "execution_count": 24,
   "id": "searching-application",
   "metadata": {},
   "outputs": [],
   "source": [
    "# şimdi bir pandas serie si üzerinde çalışalım."
   ]
  },
  {
   "cell_type": "code",
   "execution_count": 41,
   "id": "continued-congo",
   "metadata": {},
   "outputs": [
    {
     "data": {
      "text/plain": [
       "0     a3\n",
       "1    b44\n",
       "2     c5\n",
       "dtype: object"
      ]
     },
     "execution_count": 41,
     "metadata": {},
     "output_type": "execute_result"
    }
   ],
   "source": [
    "s1 = pd.Series([\"a3\", \"b44\", \"c5\"])\n",
    "s1"
   ]
  },
  {
   "cell_type": "markdown",
   "id": "1f245692",
   "metadata": {},
   "source": [
    "#### .extract()"
   ]
  },
  {
   "cell_type": "code",
   "execution_count": 42,
   "id": "0543f2b2",
   "metadata": {},
   "outputs": [
    {
     "data": {
      "text/html": [
       "<div>\n",
       "<style scoped>\n",
       "    .dataframe tbody tr th:only-of-type {\n",
       "        vertical-align: middle;\n",
       "    }\n",
       "\n",
       "    .dataframe tbody tr th {\n",
       "        vertical-align: top;\n",
       "    }\n",
       "\n",
       "    .dataframe thead th {\n",
       "        text-align: right;\n",
       "    }\n",
       "</style>\n",
       "<table border=\"1\" class=\"dataframe\">\n",
       "  <thead>\n",
       "    <tr style=\"text-align: right;\">\n",
       "      <th></th>\n",
       "      <th>0</th>\n",
       "    </tr>\n",
       "  </thead>\n",
       "  <tbody>\n",
       "    <tr>\n",
       "      <th>0</th>\n",
       "      <td>3</td>\n",
       "    </tr>\n",
       "    <tr>\n",
       "      <th>1</th>\n",
       "      <td>4</td>\n",
       "    </tr>\n",
       "    <tr>\n",
       "      <th>2</th>\n",
       "      <td>5</td>\n",
       "    </tr>\n",
       "  </tbody>\n",
       "</table>\n",
       "</div>"
      ],
      "text/plain": [
       "   0\n",
       "0  3\n",
       "1  4\n",
       "2  5"
      ]
     },
     "execution_count": 42,
     "metadata": {},
     "output_type": "execute_result"
    }
   ],
   "source": [
    "s1.str.extract(\"(\\d)\")"
   ]
  },
  {
   "cell_type": "code",
   "execution_count": 43,
   "id": "mechanical-applicant",
   "metadata": {},
   "outputs": [
    {
     "data": {
      "text/html": [
       "<div>\n",
       "<style scoped>\n",
       "    .dataframe tbody tr th:only-of-type {\n",
       "        vertical-align: middle;\n",
       "    }\n",
       "\n",
       "    .dataframe tbody tr th {\n",
       "        vertical-align: top;\n",
       "    }\n",
       "\n",
       "    .dataframe thead th {\n",
       "        text-align: right;\n",
       "    }\n",
       "</style>\n",
       "<table border=\"1\" class=\"dataframe\">\n",
       "  <thead>\n",
       "    <tr style=\"text-align: right;\">\n",
       "      <th></th>\n",
       "      <th>0</th>\n",
       "    </tr>\n",
       "  </thead>\n",
       "  <tbody>\n",
       "    <tr>\n",
       "      <th>0</th>\n",
       "      <td>NaN</td>\n",
       "    </tr>\n",
       "    <tr>\n",
       "      <th>1</th>\n",
       "      <td>44</td>\n",
       "    </tr>\n",
       "    <tr>\n",
       "      <th>2</th>\n",
       "      <td>NaN</td>\n",
       "    </tr>\n",
       "  </tbody>\n",
       "</table>\n",
       "</div>"
      ],
      "text/plain": [
       "     0\n",
       "0  NaN\n",
       "1   44\n",
       "2  NaN"
      ]
     },
     "execution_count": 43,
     "metadata": {},
     "output_type": "execute_result"
    }
   ],
   "source": [
    "s1.str.extract(\"(\\d\\d)\")\n",
    "# str kullanarak tüm pandas serie si üzerinde gezinebiliyorum. \n",
    "# extract: "
   ]
  },
  {
   "cell_type": "code",
   "execution_count": 44,
   "id": "documented-cathedral",
   "metadata": {},
   "outputs": [
    {
     "data": {
      "text/plain": [
       "0     a3\n",
       "1    b44\n",
       "2     c5\n",
       "dtype: object"
      ]
     },
     "execution_count": 44,
     "metadata": {},
     "output_type": "execute_result"
    }
   ],
   "source": [
    "s2 = pd.Series([\"a3\", \"b44\", \"c5\"])\n",
    "s2"
   ]
  },
  {
   "cell_type": "code",
   "execution_count": 45,
   "id": "weekly-attention",
   "metadata": {},
   "outputs": [
    {
     "data": {
      "text/html": [
       "<div>\n",
       "<style scoped>\n",
       "    .dataframe tbody tr th:only-of-type {\n",
       "        vertical-align: middle;\n",
       "    }\n",
       "\n",
       "    .dataframe tbody tr th {\n",
       "        vertical-align: top;\n",
       "    }\n",
       "\n",
       "    .dataframe thead th {\n",
       "        text-align: right;\n",
       "    }\n",
       "</style>\n",
       "<table border=\"1\" class=\"dataframe\">\n",
       "  <thead>\n",
       "    <tr style=\"text-align: right;\">\n",
       "      <th></th>\n",
       "      <th>0</th>\n",
       "    </tr>\n",
       "  </thead>\n",
       "  <tbody>\n",
       "    <tr>\n",
       "      <th>0</th>\n",
       "      <td>NaN</td>\n",
       "    </tr>\n",
       "    <tr>\n",
       "      <th>1</th>\n",
       "      <td>44</td>\n",
       "    </tr>\n",
       "    <tr>\n",
       "      <th>2</th>\n",
       "      <td>NaN</td>\n",
       "    </tr>\n",
       "  </tbody>\n",
       "</table>\n",
       "</div>"
      ],
      "text/plain": [
       "     0\n",
       "0  NaN\n",
       "1   44\n",
       "2  NaN"
      ]
     },
     "execution_count": 45,
     "metadata": {},
     "output_type": "execute_result"
    }
   ],
   "source": [
    "s2.str.extract(\"(\\d\\d)\")"
   ]
  },
  {
   "cell_type": "code",
   "execution_count": 46,
   "id": "preceding-edmonton",
   "metadata": {},
   "outputs": [
    {
     "data": {
      "text/html": [
       "<div>\n",
       "<style scoped>\n",
       "    .dataframe tbody tr th:only-of-type {\n",
       "        vertical-align: middle;\n",
       "    }\n",
       "\n",
       "    .dataframe tbody tr th {\n",
       "        vertical-align: top;\n",
       "    }\n",
       "\n",
       "    .dataframe thead th {\n",
       "        text-align: right;\n",
       "    }\n",
       "</style>\n",
       "<table border=\"1\" class=\"dataframe\">\n",
       "  <thead>\n",
       "    <tr style=\"text-align: right;\">\n",
       "      <th></th>\n",
       "      <th>0</th>\n",
       "    </tr>\n",
       "  </thead>\n",
       "  <tbody>\n",
       "    <tr>\n",
       "      <th>0</th>\n",
       "      <td>3</td>\n",
       "    </tr>\n",
       "    <tr>\n",
       "      <th>1</th>\n",
       "      <td>44</td>\n",
       "    </tr>\n",
       "    <tr>\n",
       "      <th>2</th>\n",
       "      <td>556777</td>\n",
       "    </tr>\n",
       "  </tbody>\n",
       "</table>\n",
       "</div>"
      ],
      "text/plain": [
       "        0\n",
       "0       3\n",
       "1      44\n",
       "2  556777"
      ]
     },
     "execution_count": 46,
     "metadata": {},
     "output_type": "execute_result"
    }
   ],
   "source": [
    "s3 = pd.Series([\"a3\", \"b44\", \"c556777\"])\n",
    "s3.str.extract(\"(\\d{1,10})\")"
   ]
  },
  {
   "cell_type": "code",
   "execution_count": 49,
   "id": "temporal-maker",
   "metadata": {},
   "outputs": [],
   "source": [
    "# bu sefer serie deki harfleri istiyorum:\n",
    "s4 = pd.Series([\"a3aa\", \"b4aa\", \"c5aa\"])"
   ]
  },
  {
   "cell_type": "code",
   "execution_count": 50,
   "id": "major-murray",
   "metadata": {},
   "outputs": [
    {
     "data": {
      "text/html": [
       "<div>\n",
       "<style scoped>\n",
       "    .dataframe tbody tr th:only-of-type {\n",
       "        vertical-align: middle;\n",
       "    }\n",
       "\n",
       "    .dataframe tbody tr th {\n",
       "        vertical-align: top;\n",
       "    }\n",
       "\n",
       "    .dataframe thead th {\n",
       "        text-align: right;\n",
       "    }\n",
       "</style>\n",
       "<table border=\"1\" class=\"dataframe\">\n",
       "  <thead>\n",
       "    <tr style=\"text-align: right;\">\n",
       "      <th></th>\n",
       "      <th>0</th>\n",
       "      <th>1</th>\n",
       "      <th>2</th>\n",
       "    </tr>\n",
       "  </thead>\n",
       "  <tbody>\n",
       "    <tr>\n",
       "      <th>0</th>\n",
       "      <td>a</td>\n",
       "      <td>a</td>\n",
       "      <td>a</td>\n",
       "    </tr>\n",
       "    <tr>\n",
       "      <th>1</th>\n",
       "      <td>b</td>\n",
       "      <td>a</td>\n",
       "      <td>a</td>\n",
       "    </tr>\n",
       "    <tr>\n",
       "      <th>2</th>\n",
       "      <td>c</td>\n",
       "      <td>a</td>\n",
       "      <td>a</td>\n",
       "    </tr>\n",
       "  </tbody>\n",
       "</table>\n",
       "</div>"
      ],
      "text/plain": [
       "   0  1  2\n",
       "0  a  a  a\n",
       "1  b  a  a\n",
       "2  c  a  a"
      ]
     },
     "execution_count": 50,
     "metadata": {},
     "output_type": "execute_result"
    }
   ],
   "source": [
    "# w : any letter \n",
    "s4.str.extract(\"(\\w)\\d(\\w)(\\w)\")\n",
    "# arada bir rakam olduğunu bilmeden bu ifadeyi yazamazsın. bir patern yakalaman lazım."
   ]
  },
  {
   "cell_type": "code",
   "execution_count": 51,
   "id": "78c68862",
   "metadata": {},
   "outputs": [
    {
     "data": {
      "text/html": [
       "<div>\n",
       "<style scoped>\n",
       "    .dataframe tbody tr th:only-of-type {\n",
       "        vertical-align: middle;\n",
       "    }\n",
       "\n",
       "    .dataframe tbody tr th {\n",
       "        vertical-align: top;\n",
       "    }\n",
       "\n",
       "    .dataframe thead th {\n",
       "        text-align: right;\n",
       "    }\n",
       "</style>\n",
       "<table border=\"1\" class=\"dataframe\">\n",
       "  <thead>\n",
       "    <tr style=\"text-align: right;\">\n",
       "      <th></th>\n",
       "      <th>0</th>\n",
       "      <th>1</th>\n",
       "      <th>2</th>\n",
       "      <th>3</th>\n",
       "    </tr>\n",
       "  </thead>\n",
       "  <tbody>\n",
       "    <tr>\n",
       "      <th>0</th>\n",
       "      <td>a</td>\n",
       "      <td>3</td>\n",
       "      <td>a</td>\n",
       "      <td>a</td>\n",
       "    </tr>\n",
       "    <tr>\n",
       "      <th>1</th>\n",
       "      <td>b</td>\n",
       "      <td>4</td>\n",
       "      <td>a</td>\n",
       "      <td>a</td>\n",
       "    </tr>\n",
       "    <tr>\n",
       "      <th>2</th>\n",
       "      <td>c</td>\n",
       "      <td>5</td>\n",
       "      <td>a</td>\n",
       "      <td>a</td>\n",
       "    </tr>\n",
       "  </tbody>\n",
       "</table>\n",
       "</div>"
      ],
      "text/plain": [
       "   0  1  2  3\n",
       "0  a  3  a  a\n",
       "1  b  4  a  a\n",
       "2  c  5  a  a"
      ]
     },
     "execution_count": 51,
     "metadata": {},
     "output_type": "execute_result"
    }
   ],
   "source": [
    "s4.str.extract(\"(\\w)(\\d)(\\w)(\\w)\")"
   ]
  },
  {
   "cell_type": "code",
   "execution_count": 32,
   "id": "central-membership",
   "metadata": {},
   "outputs": [
    {
     "data": {
      "text/html": [
       "<div>\n",
       "<style scoped>\n",
       "    .dataframe tbody tr th:only-of-type {\n",
       "        vertical-align: middle;\n",
       "    }\n",
       "\n",
       "    .dataframe tbody tr th {\n",
       "        vertical-align: top;\n",
       "    }\n",
       "\n",
       "    .dataframe thead th {\n",
       "        text-align: right;\n",
       "    }\n",
       "</style>\n",
       "<table border=\"1\" class=\"dataframe\">\n",
       "  <thead>\n",
       "    <tr style=\"text-align: right;\">\n",
       "      <th></th>\n",
       "      <th>0</th>\n",
       "      <th>1</th>\n",
       "    </tr>\n",
       "  </thead>\n",
       "  <tbody>\n",
       "    <tr>\n",
       "      <th>0</th>\n",
       "      <td>a</td>\n",
       "      <td>aa</td>\n",
       "    </tr>\n",
       "    <tr>\n",
       "      <th>1</th>\n",
       "      <td>b</td>\n",
       "      <td>aa</td>\n",
       "    </tr>\n",
       "    <tr>\n",
       "      <th>2</th>\n",
       "      <td>c</td>\n",
       "      <td>aa</td>\n",
       "    </tr>\n",
       "  </tbody>\n",
       "</table>\n",
       "</div>"
      ],
      "text/plain": [
       "   0   1\n",
       "0  a  aa\n",
       "1  b  aa\n",
       "2  c  aa"
      ]
     },
     "execution_count": 32,
     "metadata": {},
     "output_type": "execute_result"
    }
   ],
   "source": [
    "s4.str.extract(\"(\\w)\\d(\\w\\w)\")\n",
    "# önce bir letter al (grup1), sonra arada bir digit var onu at, sonra ikinci grup olarak iki letter yan yana olarak al. "
   ]
  },
  {
   "cell_type": "code",
   "execution_count": 33,
   "id": "welcome-stamp",
   "metadata": {},
   "outputs": [
    {
     "data": {
      "text/html": [
       "<div>\n",
       "<style scoped>\n",
       "    .dataframe tbody tr th:only-of-type {\n",
       "        vertical-align: middle;\n",
       "    }\n",
       "\n",
       "    .dataframe tbody tr th {\n",
       "        vertical-align: top;\n",
       "    }\n",
       "\n",
       "    .dataframe thead th {\n",
       "        text-align: right;\n",
       "    }\n",
       "</style>\n",
       "<table border=\"1\" class=\"dataframe\">\n",
       "  <thead>\n",
       "    <tr style=\"text-align: right;\">\n",
       "      <th></th>\n",
       "      <th>0</th>\n",
       "      <th>1</th>\n",
       "    </tr>\n",
       "  </thead>\n",
       "  <tbody>\n",
       "    <tr>\n",
       "      <th>0</th>\n",
       "      <td>a</td>\n",
       "      <td>aa</td>\n",
       "    </tr>\n",
       "    <tr>\n",
       "      <th>1</th>\n",
       "      <td>b</td>\n",
       "      <td>aa</td>\n",
       "    </tr>\n",
       "    <tr>\n",
       "      <th>2</th>\n",
       "      <td>c</td>\n",
       "      <td>aa</td>\n",
       "    </tr>\n",
       "  </tbody>\n",
       "</table>\n",
       "</div>"
      ],
      "text/plain": [
       "   0   1\n",
       "0  a  aa\n",
       "1  b  aa\n",
       "2  c  aa"
      ]
     },
     "execution_count": 33,
     "metadata": {},
     "output_type": "execute_result"
    }
   ],
   "source": [
    "# süslü parantezde de yanyana iki letter'ı ifade edebiliriz.\n",
    "s4.str.extract(\"(\\w)\\d(\\w{1,2})\")"
   ]
  },
  {
   "cell_type": "code",
   "execution_count": 34,
   "id": "productive-theater",
   "metadata": {},
   "outputs": [],
   "source": [
    "# şimdi can alıcı bir örnek yapacağız."
   ]
  },
  {
   "cell_type": "code",
   "execution_count": 35,
   "id": "prescription-discrimination",
   "metadata": {},
   "outputs": [
    {
     "data": {
      "text/plain": [
       "0       40 l/100 km (comb)\n",
       "1       38 l/100 km (comb)\n",
       "2      6.4 l/100 km (comb)\n",
       "3     8.3 kg/100 km (comb)\n",
       "4     5.1 kg/100 km (comb)\n",
       "5      5.4 l/100 km (comb)\n",
       "6      6.7 l/100 km (comb)\n",
       "7      6.2 l/100 km (comb)\n",
       "8      7.3 l/100 km (comb)\n",
       "9      6.3 l/100 km (comb)\n",
       "10     5.7 l/100 km (comb)\n",
       "11     6.1 l/100 km (comb)\n",
       "12     6.8 l/100 km (comb)\n",
       "13     7.5 l/100 km (comb)\n",
       "14     7.4 l/100 km (comb)\n",
       "15    3.6 kg/100 km (comb)\n",
       "16       0 l/100 km (comb)\n",
       "17     7.8 l/100 km (comb)\n",
       "dtype: object"
      ]
     },
     "execution_count": 35,
     "metadata": {},
     "output_type": "execute_result"
    }
   ],
   "source": [
    "# sayıları al\n",
    "s= pd.Series(['40 l/100 km (comb)', \n",
    "        '38 l/100 km (comb)', '6.4 l/100 km (comb)',\n",
    "       '8.3 kg/100 km (comb)', '5.1 kg/100 km (comb)',\n",
    "       '5.4 l/100 km (comb)', '6.7 l/100 km (comb)',\n",
    "       '6.2 l/100 km (comb)', '7.3 l/100 km (comb)',\n",
    "       '6.3 l/100 km (comb)', '5.7 l/100 km (comb)',\n",
    "       '6.1 l/100 km (comb)', '6.8 l/100 km (comb)',\n",
    "       '7.5 l/100 km (comb)', '7.4 l/100 km (comb)',\n",
    "       '3.6 kg/100 km (comb)', '0 l/100 km (comb)', \n",
    "       '7.8 l/100 km (comb)'])\n",
    "\n",
    "s"
   ]
  },
  {
   "cell_type": "code",
   "execution_count": 54,
   "id": "civic-helicopter",
   "metadata": {},
   "outputs": [
    {
     "data": {
      "text/html": [
       "<div>\n",
       "<style scoped>\n",
       "    .dataframe tbody tr th:only-of-type {\n",
       "        vertical-align: middle;\n",
       "    }\n",
       "\n",
       "    .dataframe tbody tr th {\n",
       "        vertical-align: top;\n",
       "    }\n",
       "\n",
       "    .dataframe thead th {\n",
       "        text-align: right;\n",
       "    }\n",
       "</style>\n",
       "<table border=\"1\" class=\"dataframe\">\n",
       "  <thead>\n",
       "    <tr style=\"text-align: right;\">\n",
       "      <th></th>\n",
       "      <th>0</th>\n",
       "    </tr>\n",
       "  </thead>\n",
       "  <tbody>\n",
       "    <tr>\n",
       "      <th>0</th>\n",
       "      <td>40</td>\n",
       "    </tr>\n",
       "    <tr>\n",
       "      <th>1</th>\n",
       "      <td>38</td>\n",
       "    </tr>\n",
       "    <tr>\n",
       "      <th>2</th>\n",
       "      <td>6.4</td>\n",
       "    </tr>\n",
       "  </tbody>\n",
       "</table>\n",
       "</div>"
      ],
      "text/plain": [
       "     0\n",
       "0   40\n",
       "1   38\n",
       "2  6.4"
      ]
     },
     "execution_count": 54,
     "metadata": {},
     "output_type": "execute_result"
    }
   ],
   "source": [
    "result = s.str.extract(\"(\\d\\d|\\d.\\d|\\d)\")\n",
    "result.head(3)\n",
    "# 1.grup: iki basamaklı veya digit.digit i al (float digitler için bunu koyduk) \n",
    "# veya sadece bir basamaklı digiti al (bir tane 0 için bunu koyduk)"
   ]
  },
  {
   "cell_type": "code",
   "execution_count": 63,
   "id": "light-oxford",
   "metadata": {},
   "outputs": [
    {
     "data": {
      "text/html": [
       "<div>\n",
       "<style scoped>\n",
       "    .dataframe tbody tr th:only-of-type {\n",
       "        vertical-align: middle;\n",
       "    }\n",
       "\n",
       "    .dataframe tbody tr th {\n",
       "        vertical-align: top;\n",
       "    }\n",
       "\n",
       "    .dataframe thead th {\n",
       "        text-align: right;\n",
       "    }\n",
       "</style>\n",
       "<table border=\"1\" class=\"dataframe\">\n",
       "  <thead>\n",
       "    <tr style=\"text-align: right;\">\n",
       "      <th></th>\n",
       "      <th>0</th>\n",
       "      <th>1</th>\n",
       "    </tr>\n",
       "  </thead>\n",
       "  <tbody>\n",
       "    <tr>\n",
       "      <th>0</th>\n",
       "      <td>40</td>\n",
       "      <td>100</td>\n",
       "    </tr>\n",
       "    <tr>\n",
       "      <th>1</th>\n",
       "      <td>38</td>\n",
       "      <td>100</td>\n",
       "    </tr>\n",
       "    <tr>\n",
       "      <th>2</th>\n",
       "      <td>6.4</td>\n",
       "      <td>100</td>\n",
       "    </tr>\n",
       "    <tr>\n",
       "      <th>3</th>\n",
       "      <td>8.3</td>\n",
       "      <td>100</td>\n",
       "    </tr>\n",
       "    <tr>\n",
       "      <th>4</th>\n",
       "      <td>5.1</td>\n",
       "      <td>100</td>\n",
       "    </tr>\n",
       "    <tr>\n",
       "      <th>5</th>\n",
       "      <td>5.4</td>\n",
       "      <td>100</td>\n",
       "    </tr>\n",
       "    <tr>\n",
       "      <th>6</th>\n",
       "      <td>6.7</td>\n",
       "      <td>100</td>\n",
       "    </tr>\n",
       "    <tr>\n",
       "      <th>7</th>\n",
       "      <td>6.2</td>\n",
       "      <td>100</td>\n",
       "    </tr>\n",
       "    <tr>\n",
       "      <th>8</th>\n",
       "      <td>7.3</td>\n",
       "      <td>100</td>\n",
       "    </tr>\n",
       "    <tr>\n",
       "      <th>9</th>\n",
       "      <td>6.3</td>\n",
       "      <td>100</td>\n",
       "    </tr>\n",
       "    <tr>\n",
       "      <th>10</th>\n",
       "      <td>5.7</td>\n",
       "      <td>100</td>\n",
       "    </tr>\n",
       "    <tr>\n",
       "      <th>11</th>\n",
       "      <td>6.1</td>\n",
       "      <td>100</td>\n",
       "    </tr>\n",
       "    <tr>\n",
       "      <th>12</th>\n",
       "      <td>6.8</td>\n",
       "      <td>100</td>\n",
       "    </tr>\n",
       "    <tr>\n",
       "      <th>13</th>\n",
       "      <td>7.5</td>\n",
       "      <td>100</td>\n",
       "    </tr>\n",
       "    <tr>\n",
       "      <th>14</th>\n",
       "      <td>7.4</td>\n",
       "      <td>100</td>\n",
       "    </tr>\n",
       "    <tr>\n",
       "      <th>15</th>\n",
       "      <td>3.6</td>\n",
       "      <td>100</td>\n",
       "    </tr>\n",
       "    <tr>\n",
       "      <th>16</th>\n",
       "      <td>0</td>\n",
       "      <td>100</td>\n",
       "    </tr>\n",
       "    <tr>\n",
       "      <th>17</th>\n",
       "      <td>7.8</td>\n",
       "      <td>100</td>\n",
       "    </tr>\n",
       "  </tbody>\n",
       "</table>\n",
       "</div>"
      ],
      "text/plain": [
       "      0    1\n",
       "0    40  100\n",
       "1    38  100\n",
       "2   6.4  100\n",
       "3   8.3  100\n",
       "4   5.1  100\n",
       "5   5.4  100\n",
       "6   6.7  100\n",
       "7   6.2  100\n",
       "8   7.3  100\n",
       "9   6.3  100\n",
       "10  5.7  100\n",
       "11  6.1  100\n",
       "12  6.8  100\n",
       "13  7.5  100\n",
       "14  7.4  100\n",
       "15  3.6  100\n",
       "16    0  100\n",
       "17  7.8  100"
      ]
     },
     "execution_count": 63,
     "metadata": {},
     "output_type": "execute_result"
    }
   ],
   "source": [
    "result = s.str.extract(\"(\\d\\d|\\d.\\d|\\d).+(\\d\\d\\d)\")\n",
    "result\n",
    "# 2.grup için  .+ koyup devam ediyoruz. bu sayede örneğin 5.7 l/100 km (comb) daki 100'ü de çekebiliriz"
   ]
  },
  {
   "cell_type": "code",
   "execution_count": null,
   "id": "49318495",
   "metadata": {},
   "outputs": [],
   "source": []
  }
 ],
 "metadata": {
  "kernelspec": {
   "display_name": "Python 3",
   "language": "python",
   "name": "python3"
  },
  "language_info": {
   "codemirror_mode": {
    "name": "ipython",
    "version": 3
   },
   "file_extension": ".py",
   "mimetype": "text/x-python",
   "name": "python",
   "nbconvert_exporter": "python",
   "pygments_lexer": "ipython3",
   "version": "3.9.7"
  }
 },
 "nbformat": 4,
 "nbformat_minor": 5
}
