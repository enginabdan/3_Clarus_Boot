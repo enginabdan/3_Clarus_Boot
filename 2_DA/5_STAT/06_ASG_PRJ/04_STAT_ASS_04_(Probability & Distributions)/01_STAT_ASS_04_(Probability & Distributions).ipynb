{
  "cells": [
    {
      "cell_type": "code",
      "execution_count": 2,
      "metadata": {},
      "outputs": [],
      "source": [
        "# 01_STAT_ASS_04_(Probability & Distributions)"
      ]
    },
    {
      "cell_type": "markdown",
      "metadata": {
        "id": "T6p9irt4ELHq"
      },
      "source": [
        "#### EXERCISE 1. \n",
        "Answer the following questions by looking at the distribution table or coding with Python.\n",
        "1.\tA salesperson has found that the probability of a sale on a single contact is approximately 0.3. If the salesperson contacts 10 prospects, what is the approximate probability of making at least one sale?"
      ]
    },
    {
      "cell_type": "code",
      "execution_count": 3,
      "metadata": {
        "id": "x6e8EB_jEqEH"
      },
      "outputs": [],
      "source": [
        "from scipy import stats\n",
        "import numpy as np"
      ]
    },
    {
      "cell_type": "code",
      "execution_count": 4,
      "metadata": {
        "colab": {
          "base_uri": "https://localhost:8080/"
        },
        "id": "NTn0ZRqxELHr",
        "outputId": "fbfdef68-1192-4fae-d099-7408e7749566"
      },
      "outputs": [
        {
          "data": {
            "text/plain": [
              "0.9717524751000001"
            ]
          },
          "execution_count": 4,
          "metadata": {},
          "output_type": "execute_result"
        }
      ],
      "source": [
        "# Binomial Distribution\n",
        "\n",
        "n=10  # trial number\n",
        "p=0.3 # probability\n",
        "x=0  # unsuccess number\n",
        "1 - stats.binom.pmf(x,n,p)"
      ]
    },
    {
      "cell_type": "markdown",
      "metadata": {
        "id": "RqqFLsOLELHr"
      },
      "source": [
        "2.\tTen coins are tossed simultaneously. Find the probability of getting                    \n",
        "(i) at least seven heads             \n",
        "(ii) exactly seven heads                   \n",
        "(iii)at most seven heads                    \n"
      ]
    },
    {
      "cell_type": "code",
      "execution_count": 5,
      "metadata": {
        "colab": {
          "base_uri": "https://localhost:8080/"
        },
        "id": "zYsrAWq0ELHs",
        "outputId": "9e95d0a0-385c-4bfb-babb-73683d9b7fa1"
      },
      "outputs": [
        {
          "data": {
            "text/plain": [
              "0.171875"
            ]
          },
          "execution_count": 5,
          "metadata": {},
          "output_type": "execute_result"
        }
      ],
      "source": [
        "# Binomial Distribution\n",
        "\n",
        "# (i) at least seven heads \n",
        "\n",
        "n=10  # trial number\n",
        "p=0.5 # probability\n",
        "x=6  # success number\n",
        "1 - stats.binom.cdf(x,n, p)"
      ]
    },
    {
      "cell_type": "code",
      "execution_count": 6,
      "metadata": {
        "colab": {
          "base_uri": "https://localhost:8080/"
        },
        "id": "jsNBcU6kELHt",
        "outputId": "96e6ef3a-0146-4ab0-9eeb-06d617977049"
      },
      "outputs": [
        {
          "data": {
            "text/plain": [
              "0.11718749999999999"
            ]
          },
          "execution_count": 6,
          "metadata": {},
          "output_type": "execute_result"
        }
      ],
      "source": [
        "# (ii) exactly seven heads \n",
        "\n",
        "x = 7\n",
        "stats.binom.pmf(x,n, p)"
      ]
    },
    {
      "cell_type": "code",
      "execution_count": 7,
      "metadata": {
        "colab": {
          "base_uri": "https://localhost:8080/"
        },
        "id": "9B54s8AAELHt",
        "outputId": "f80fa70a-13dd-4f0b-a69d-f8506c30f96d"
      },
      "outputs": [
        {
          "data": {
            "text/plain": [
              "0.9453125"
            ]
          },
          "execution_count": 7,
          "metadata": {},
          "output_type": "execute_result"
        }
      ],
      "source": [
        "# (iii) at most seven heads \n",
        "\n",
        "x = 7\n",
        "stats.binom.cdf(x,n, p)"
      ]
    },
    {
      "cell_type": "markdown",
      "metadata": {
        "id": "KRIvK3ZWELHu"
      },
      "source": [
        "#### EXERCISE 2. \n",
        "The cycle time for trucks hauling concrete to a highway construction site is uniformly distributed over the interval 50 to 70 minutes. \n",
        "\n",
        "What is the probability that the cycle time exceeds 65 minutes  if it is known that the cycle time exceeds 55 minutes?\n"
      ]
    },
    {
      "cell_type": "code",
      "execution_count": 8,
      "metadata": {
        "id": "EimpZsZ5Feb8"
      },
      "outputs": [],
      "source": [
        "# Uniform Distribution\n",
        "\n",
        "(a, b) = (50, 70)\n",
        "\n",
        "unifDist = stats.uniform(a, b-a)"
      ]
    },
    {
      "cell_type": "code",
      "execution_count": 9,
      "metadata": {
        "colab": {
          "base_uri": "https://localhost:8080/"
        },
        "id": "H1IyktZAF8MS",
        "outputId": "e434407c-298a-4d41-b28c-1bc8fd6802be"
      },
      "outputs": [
        {
          "name": "stdout",
          "output_type": "stream",
          "text": [
            "Probability that the cycle time exceeds 65 minutes:  0.25\n"
          ]
        }
      ],
      "source": [
        "# Event A: exceed 65\n",
        "pA=1-unifDist.cdf(65)\n",
        "print(\"Probability that the cycle time exceeds 65 minutes: \", pA)"
      ]
    },
    {
      "cell_type": "code",
      "execution_count": 10,
      "metadata": {
        "colab": {
          "base_uri": "https://localhost:8080/"
        },
        "id": "gCYgW_nIF9pb",
        "outputId": "b79f05e4-f4ad-4d79-f317-edfbb72c23da"
      },
      "outputs": [
        {
          "name": "stdout",
          "output_type": "stream",
          "text": [
            "Probability that the cycle time exceeds 55 minutes:  0.75\n"
          ]
        }
      ],
      "source": [
        "# Event B: exceed 55\n",
        "pB=1-unifDist.cdf(55)\n",
        "print(\"Probability that the cycle time exceeds 55 minutes: \", pB)"
      ]
    },
    {
      "cell_type": "code",
      "execution_count": 11,
      "metadata": {
        "colab": {
          "base_uri": "https://localhost:8080/"
        },
        "id": "nmB-HPCNF1C4",
        "outputId": "791265c3-ad43-4c77-cf04-d0b1af937381"
      },
      "outputs": [
        {
          "name": "stdout",
          "output_type": "stream",
          "text": [
            "p(A | B ):  0.3333333333333333\n"
          ]
        }
      ],
      "source": [
        "# p(A | B ) = p(A n B)/p( B )\n",
        "# p(A n B) = p( A ) \n",
        "pAB=pA/pB\n",
        "print(\"p(A | B ): \", pAB)"
      ]
    },
    {
      "cell_type": "code",
      "execution_count": 12,
      "metadata": {},
      "outputs": [
        {
          "data": {
            "text/plain": [
              "0.3333333333333333"
            ]
          },
          "execution_count": 12,
          "metadata": {},
          "output_type": "execute_result"
        }
      ],
      "source": [
        "0.25/0.75"
      ]
    },
    {
      "cell_type": "markdown",
      "metadata": {
        "id": "twz-HlYvFrqh"
      },
      "source": [
        "#### EXERCISE 3. \n",
        "The width of bolts of fabric is normally distributed with mean 950 mm (millimeters) and standard deviation 10 mm.\n"
      ]
    },
    {
      "cell_type": "code",
      "execution_count": 13,
      "metadata": {
        "id": "p00mZmgjFrqi"
      },
      "outputs": [],
      "source": [
        "# Normal Distribution\n",
        "\n",
        "mu=950\n",
        "sigma=10\n",
        "normDist = stats.norm(mu, sigma)"
      ]
    },
    {
      "cell_type": "markdown",
      "metadata": {
        "id": "C9ZdB2V_He1g"
      },
      "source": [
        "1.\tWhat is the probability that a randomly chosen bolt has a width of between 947 and 958mm?"
      ]
    },
    {
      "cell_type": "code",
      "execution_count": 14,
      "metadata": {
        "colab": {
          "base_uri": "https://localhost:8080/"
        },
        "id": "Od9PeAL6HY_D",
        "outputId": "f2a9b485-7829-42cb-c25e-e816288fd15c"
      },
      "outputs": [
        {
          "data": {
            "text/plain": [
              "0.406056023605556"
            ]
          },
          "execution_count": 14,
          "metadata": {},
          "output_type": "execute_result"
        }
      ],
      "source": [
        "normDist.cdf(958)-normDist.cdf(947)"
      ]
    },
    {
      "cell_type": "markdown",
      "metadata": {
        "id": "JuIH3-rlFrqi"
      },
      "source": [
        "2.\tWhat is the appropriate value for C such that a randomly chosen bolt has a width less than C with probability .8531?\n"
      ]
    },
    {
      "cell_type": "code",
      "execution_count": 15,
      "metadata": {
        "colab": {
          "base_uri": "https://localhost:8080/"
        },
        "id": "eWqH8eYPFrqj",
        "outputId": "09957de7-84c7-4312-d082-36dce2ddeeb3"
      },
      "outputs": [
        {
          "data": {
            "text/plain": [
              "960.4982190962642"
            ]
          },
          "execution_count": 15,
          "metadata": {},
          "output_type": "execute_result"
        }
      ],
      "source": [
        "# ppf(percent point function) aka\n",
        "# inverse of cdf(cumulative distribution function) aka Quantile function\n",
        "normDist.ppf(0.8531)"
      ]
    },
    {
      "cell_type": "code",
      "execution_count": 21,
      "metadata": {},
      "outputs": [
        {
          "data": {
            "text/plain": [
              "0.8531000000000009"
            ]
          },
          "execution_count": 21,
          "metadata": {},
          "output_type": "execute_result"
        }
      ],
      "source": [
        "normDist.cdf(960.4982190962642)"
      ]
    },
    {
      "cell_type": "markdown",
      "metadata": {
        "id": "I6VOxMbOHzW6"
      },
      "source": [
        "#### EXERCISE 4. \n",
        "Suppose scores on exams in statistics are normally distributed with an unknown population mean and a population standard deviation of 3 points. A random sample of 36 scores is taken and gives a sample mean (sample mean score) of 68. Find a confidence interval estimate for the population mean exam score (the mean score on all exams). Find a 90% confidence interval for the true (population) mean of statistics exam scores."
      ]
    },
    {
      "cell_type": "code",
      "execution_count": 16,
      "metadata": {
        "id": "OYFpY14tF2FF"
      },
      "outputs": [],
      "source": [
        "# Population standard deviation\n",
        "sigma = 3\n",
        "\n",
        "# Sample size\n",
        "n = 36\n",
        "\n",
        "# Sample mean\n",
        "xbar = 68\n",
        "\n",
        "# Confidence level\n",
        "cl = 0.90"
      ]
    },
    {
      "cell_type": "code",
      "execution_count": 17,
      "metadata": {
        "colab": {
          "base_uri": "https://localhost:8080/"
        },
        "id": "OO-FpqhKH4h7",
        "outputId": "fa584d8f-9b18-46f4-97a5-695f9721ab76"
      },
      "outputs": [
        {
          "data": {
            "text/plain": [
              "(67.17757318652427, 68.82242681347573)"
            ]
          },
          "execution_count": 17,
          "metadata": {},
          "output_type": "execute_result"
        }
      ],
      "source": [
        "# If the population standard deviation is known, you can use z distribution.\n",
        "stats.norm.interval(alpha=cl, loc=xbar, scale=sigma/np.sqrt(n))"
      ]
    },
    {
      "cell_type": "markdown",
      "metadata": {
        "id": "Ya1Yha6mOG5_"
      },
      "source": [
        "#### EXERCISE 5. \n",
        "What is the normal body temperature for healthy humans? A random sample of 130 healthy human body temperatures provided by Allen Shoemaker yielded 98.25 degrees and standard deviation 0.73 degrees. Give a 99% confidence interval for the average body temperature of healthy people."
      ]
    },
    {
      "cell_type": "code",
      "execution_count": 18,
      "metadata": {
        "id": "S2-d3txfOxOz"
      },
      "outputs": [],
      "source": [
        "# Sample size\n",
        "n = 130\n",
        "\n",
        "# Sample mean\n",
        "xbar = 98.25\n",
        "\n",
        "# Sample standard deviation\n",
        "s = 0.73\n",
        "\n",
        "# Confidence level\n",
        "cl = 0.99"
      ]
    },
    {
      "cell_type": "code",
      "execution_count": 19,
      "metadata": {
        "colab": {
          "base_uri": "https://localhost:8080/"
        },
        "id": "ILN7IE0aN_wu",
        "outputId": "9d6a51a0-daab-4095-ff98-44736e0941b8"
      },
      "outputs": [
        {
          "data": {
            "text/plain": [
              "(98.08508192246582, 98.41491807753418)"
            ]
          },
          "execution_count": 19,
          "metadata": {},
          "output_type": "execute_result"
        }
      ],
      "source": [
        "# If the sample size is over 30, you can use z distribution.\n",
        "stats.norm.interval(alpha=cl, loc=xbar, scale=s/np.sqrt(n))"
      ]
    },
    {
      "cell_type": "code",
      "execution_count": 20,
      "metadata": {
        "colab": {
          "base_uri": "https://localhost:8080/"
        },
        "id": "trmss8R8PDe0",
        "outputId": "c2229e9f-d635-4491-e7f8-491fceee13ee"
      },
      "outputs": [
        {
          "data": {
            "text/plain": [
              "(98.08260738705933, 98.41739261294067)"
            ]
          },
          "execution_count": 20,
          "metadata": {},
          "output_type": "execute_result"
        }
      ],
      "source": [
        "# We can also calculate this with t distribution. The result is so close.\n",
        "stats.t.interval(alpha=cl, df=n-1, loc=xbar, scale=s/np.sqrt(n))"
      ]
    }
  ],
  "metadata": {
    "colab": {
      "collapsed_sections": [],
      "name": "Statistics Assignment (Pr.Dist. & CIs) Solutions.ipynb",
      "provenance": []
    },
    "kernelspec": {
      "display_name": "Python 3",
      "language": "python",
      "name": "python3"
    },
    "language_info": {
      "codemirror_mode": {
        "name": "ipython",
        "version": 3
      },
      "file_extension": ".py",
      "mimetype": "text/x-python",
      "name": "python",
      "nbconvert_exporter": "python",
      "pygments_lexer": "ipython3",
      "version": "3.10.4"
    }
  },
  "nbformat": 4,
  "nbformat_minor": 0
}
