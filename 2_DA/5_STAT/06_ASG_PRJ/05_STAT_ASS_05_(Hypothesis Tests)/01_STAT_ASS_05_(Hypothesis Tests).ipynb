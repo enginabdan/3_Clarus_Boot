{
  "cells": [
    {
      "cell_type": "code",
      "execution_count": 1,
      "id": "3c51ccf2",
      "metadata": {},
      "outputs": [],
      "source": [
        "# 01_STAT_ASS_05_(Hypothesis Tests)"
      ]
    },
    {
      "cell_type": "code",
      "execution_count": 2,
      "id": "c62ba1f0",
      "metadata": {
        "id": "c62ba1f0"
      },
      "outputs": [],
      "source": [
        "import pandas as pd\n",
        "import numpy as np\n",
        "from scipy import stats\n",
        "import matplotlib.pyplot as plt\n",
        "import seaborn as sns"
      ]
    },
    {
      "cell_type": "markdown",
      "id": "8aef73cd",
      "metadata": {
        "id": "8aef73cd"
      },
      "source": [
        "TESTS:\n",
        "Dependent t Test            t = stats.ttest_rel(sasample1,sample2), p_value = 2*(1-stats.t.cdf(t, df)\n",
        "(One group, before-after)\n",
        "\n",
        "Independent Sample t Test   t = stats.ttest_ind(sample1, sample2), p_value = 2*(1 - stats.t.cdf(t, df))  \n",
        "(Independent two group)\n",
        "\n",
        "One way ANOVA f Test        t = stats.f_oneway(sample1, sample2, ..), p_value = 1 - stats.f.cdf(t, df1, df2)\n",
        "(for 2 or more group)"
      ]
    },
    {
      "cell_type": "code",
      "execution_count": null,
      "id": "852f8a37",
      "metadata": {
        "id": "852f8a37"
      },
      "outputs": [],
      "source": []
    },
    {
      "cell_type": "markdown",
      "id": "3c96b6c0",
      "metadata": {
        "id": "3c96b6c0"
      },
      "source": [
        "EXERCISE 1. The hourly wages in a particular industry are normally distributed with mean $13.20 and standard deviation $2.50. A company in this industry employs 40 workers, paying them an average of $12.20 per hour. Can this company be accused of paying substandard wages? Use an α = .01 level test. (Wackerly, Ex.10.18)\n",
        "\n",
        "CHECK: statistic: -2.5298221281347035, pvalue= 0.005706018193000826"
      ]
    },
    {
      "cell_type": "markdown",
      "id": "227340f1",
      "metadata": {
        "id": "227340f1"
      },
      "source": [
        "1- ASSUMPTIONS:\n",
        "- Small sample group (t test)\n"
      ]
    },
    {
      "cell_type": "code",
      "execution_count": 3,
      "id": "c4a46fb2",
      "metadata": {
        "id": "c4a46fb2"
      },
      "outputs": [],
      "source": [
        "M = 13.20\n",
        "sigma = 2.50\n",
        "n = 40   #(Z test)\n",
        "mu = 12.20\n",
        "alpha = .01"
      ]
    },
    {
      "cell_type": "markdown",
      "id": "669aeade",
      "metadata": {
        "id": "669aeade"
      },
      "source": [
        "2- HYPOTHESIS: \n",
        "H0 : M = 13.20\n",
        "Ha : M < 13.20  (One-tail hypotesis) (Left tail)"
      ]
    },
    {
      "cell_type": "markdown",
      "id": "800c1099",
      "metadata": {
        "id": "800c1099"
      },
      "source": [
        "3- TEST STATISTIC:"
      ]
    },
    {
      "cell_type": "code",
      "execution_count": 4,
      "id": "b38f54c3",
      "metadata": {
        "colab": {
          "base_uri": "https://localhost:8080/"
        },
        "id": "b38f54c3",
        "outputId": "25264c5c-d10f-499c-9219-32d9be691d67"
      },
      "outputs": [
        {
          "data": {
            "text/plain": [
              "-2.5298221281347035"
            ]
          },
          "execution_count": 4,
          "metadata": {},
          "output_type": "execute_result"
        }
      ],
      "source": [
        "t = (mu - M) / (sigma / np.sqrt(n))\n",
        "t"
      ]
    },
    {
      "cell_type": "markdown",
      "id": "08f71316",
      "metadata": {
        "id": "08f71316"
      },
      "source": [
        "4- P_value:"
      ]
    },
    {
      "cell_type": "code",
      "execution_count": 5,
      "id": "3c2a92e0",
      "metadata": {
        "colab": {
          "base_uri": "https://localhost:8080/"
        },
        "id": "3c2a92e0",
        "outputId": "d465b244-7b4b-46d3-e927-5085bd93dc7f"
      },
      "outputs": [
        {
          "data": {
            "text/plain": [
              "0.005706018193000826"
            ]
          },
          "execution_count": 5,
          "metadata": {},
          "output_type": "execute_result"
        }
      ],
      "source": [
        "p_value1 = stats.norm.cdf(t)\n",
        "p_value1"
      ]
    },
    {
      "cell_type": "markdown",
      "id": "ea4a5f58",
      "metadata": {
        "id": "ea4a5f58"
      },
      "source": [
        "5- Conclusion:"
      ]
    },
    {
      "cell_type": "code",
      "execution_count": 6,
      "id": "88754e14",
      "metadata": {
        "colab": {
          "base_uri": "https://localhost:8080/"
        },
        "id": "88754e14",
        "outputId": "15a3c94d-5d55-4b8f-a48d-421f5752bcdc"
      },
      "outputs": [
        {
          "name": "stdout",
          "output_type": "stream",
          "text": [
            "'Reject the null.' At the 0.01 significance level, we have sufficient evidence to reject the H0 hypothesis. This company can be accused of paying substandard wages.\n"
          ]
        }
      ],
      "source": [
        "alpha = 0.01\n",
        "\n",
        "if p_value1 < alpha :\n",
        "    print(\"'Reject the null.' At the 0.01 significance level, we have sufficient evidence to reject the H0 hypothesis. This company can be accused of paying substandard wages.\")\n",
        "else : \n",
        "    print(\"'Fail to reject the null.' At the 0.01 significance level, we don't have sufficient evidence to reject the H0 hypothesis. This company cannot be accused of paying substandard wages.\")"
      ]
    },
    {
      "cell_type": "code",
      "execution_count": null,
      "id": "59c099f3",
      "metadata": {
        "id": "59c099f3"
      },
      "outputs": [],
      "source": []
    },
    {
      "cell_type": "markdown",
      "id": "f4eeef89",
      "metadata": {
        "id": "f4eeef89"
      },
      "source": [
        "EXERCISE 2.Shear strength measurements derived from unconfined compression tests for two types of soils gave the results shown in the following document (measurements in tons per square foot). Do the soils appear to differ with respect to average shear strength, at the 1% significance level?\n",
        "\n",
        "Results for two type of soils\n",
        "\n",
        "CHECK: statistic: 5.1681473319343345, pvalue= 2.593228732352821e-06"
      ]
    },
    {
      "cell_type": "code",
      "execution_count": 7,
      "id": "7909645e",
      "metadata": {
        "colab": {
          "base_uri": "https://localhost:8080/",
          "height": 206
        },
        "id": "7909645e",
        "outputId": "4e979942-b9dc-4277-c532-888eccba68b6"
      },
      "outputs": [
        {
          "data": {
            "text/html": [
              "<div>\n",
              "<style scoped>\n",
              "    .dataframe tbody tr th:only-of-type {\n",
              "        vertical-align: middle;\n",
              "    }\n",
              "\n",
              "    .dataframe tbody tr th {\n",
              "        vertical-align: top;\n",
              "    }\n",
              "\n",
              "    .dataframe thead th {\n",
              "        text-align: right;\n",
              "    }\n",
              "</style>\n",
              "<table border=\"1\" class=\"dataframe\">\n",
              "  <thead>\n",
              "    <tr style=\"text-align: right;\">\n",
              "      <th></th>\n",
              "      <th>Soil1</th>\n",
              "      <th>Soil2</th>\n",
              "    </tr>\n",
              "  </thead>\n",
              "  <tbody>\n",
              "    <tr>\n",
              "      <th>0</th>\n",
              "      <td>1.442</td>\n",
              "      <td>1.364</td>\n",
              "    </tr>\n",
              "    <tr>\n",
              "      <th>1</th>\n",
              "      <td>1.943</td>\n",
              "      <td>1.878</td>\n",
              "    </tr>\n",
              "    <tr>\n",
              "      <th>2</th>\n",
              "      <td>1.110</td>\n",
              "      <td>1.337</td>\n",
              "    </tr>\n",
              "    <tr>\n",
              "      <th>3</th>\n",
              "      <td>1.912</td>\n",
              "      <td>1.828</td>\n",
              "    </tr>\n",
              "    <tr>\n",
              "      <th>4</th>\n",
              "      <td>1.553</td>\n",
              "      <td>1.371</td>\n",
              "    </tr>\n",
              "  </tbody>\n",
              "</table>\n",
              "</div>"
            ],
            "text/plain": [
              "   Soil1  Soil2\n",
              "0  1.442  1.364\n",
              "1  1.943  1.878\n",
              "2  1.110  1.337\n",
              "3  1.912  1.828\n",
              "4  1.553  1.371"
            ]
          },
          "execution_count": 7,
          "metadata": {},
          "output_type": "execute_result"
        }
      ],
      "source": [
        "df_soil = pd.read_csv(\"soil - Sheet1.csv\")\n",
        "df_soil.head()"
      ]
    },
    {
      "cell_type": "markdown",
      "id": "85b45b3b",
      "metadata": {
        "id": "85b45b3b"
      },
      "source": [
        "1- ASSUMPTIONS:\n",
        "Independent 2 groups     (Independent t-Test)"
      ]
    },
    {
      "cell_type": "code",
      "execution_count": 8,
      "id": "07bfe6fd",
      "metadata": {
        "id": "07bfe6fd"
      },
      "outputs": [],
      "source": [
        "alpha = 0.01"
      ]
    },
    {
      "cell_type": "code",
      "execution_count": 9,
      "id": "6f085012",
      "metadata": {
        "colab": {
          "base_uri": "https://localhost:8080/"
        },
        "id": "6f085012",
        "outputId": "6a03164e-f10f-487f-8a22-02f7e1ca235b"
      },
      "outputs": [
        {
          "data": {
            "text/plain": [
              "5"
            ]
          },
          "execution_count": 9,
          "metadata": {},
          "output_type": "execute_result"
        }
      ],
      "source": [
        "df_soil.Soil1.isnull().sum()"
      ]
    },
    {
      "cell_type": "code",
      "execution_count": 10,
      "id": "3b55351b",
      "metadata": {
        "colab": {
          "base_uri": "https://localhost:8080/"
        },
        "id": "3b55351b",
        "outputId": "20288734-4c8b-4c56-e610-db6bbc946a9d"
      },
      "outputs": [
        {
          "data": {
            "text/plain": [
              "0"
            ]
          },
          "execution_count": 10,
          "metadata": {},
          "output_type": "execute_result"
        }
      ],
      "source": [
        "df_soil.Soil2.isnull().sum()"
      ]
    },
    {
      "cell_type": "code",
      "execution_count": 11,
      "id": "b6c3fa9c",
      "metadata": {
        "id": "b6c3fa9c"
      },
      "outputs": [],
      "source": [
        "soil1_n = df_soil.Soil1[df_soil.Soil1.notnull()]"
      ]
    },
    {
      "cell_type": "code",
      "execution_count": 12,
      "id": "abbe9806",
      "metadata": {
        "colab": {
          "base_uri": "https://localhost:8080/"
        },
        "id": "abbe9806",
        "outputId": "6f3663bb-c1ed-41d7-9d5f-452cecac4b43"
      },
      "outputs": [
        {
          "data": {
            "text/plain": [
              "30"
            ]
          },
          "execution_count": 12,
          "metadata": {},
          "output_type": "execute_result"
        }
      ],
      "source": [
        "n1 = len(soil1_n)\n",
        "n1"
      ]
    },
    {
      "cell_type": "code",
      "execution_count": 13,
      "id": "5b75a669",
      "metadata": {
        "colab": {
          "base_uri": "https://localhost:8080/"
        },
        "id": "5b75a669",
        "outputId": "575747d8-7250-40dc-c5eb-f3f5125079e1"
      },
      "outputs": [
        {
          "data": {
            "text/plain": [
              "35"
            ]
          },
          "execution_count": 13,
          "metadata": {},
          "output_type": "execute_result"
        }
      ],
      "source": [
        "n2 = len(df_soil.Soil2)\n",
        "n2"
      ]
    },
    {
      "cell_type": "code",
      "execution_count": 14,
      "id": "c232d9c2",
      "metadata": {
        "colab": {
          "base_uri": "https://localhost:8080/"
        },
        "id": "c232d9c2",
        "outputId": "71474499-aad9-496e-b047-0140ebd6e505"
      },
      "outputs": [
        {
          "data": {
            "text/plain": [
              "1.6918000000000002"
            ]
          },
          "execution_count": 14,
          "metadata": {},
          "output_type": "execute_result"
        }
      ],
      "source": [
        "mu1 = df_soil.Soil1.mean()\n",
        "mu1"
      ]
    },
    {
      "cell_type": "code",
      "execution_count": 15,
      "id": "b6db459a",
      "metadata": {
        "colab": {
          "base_uri": "https://localhost:8080/"
        },
        "id": "b6db459a",
        "outputId": "2a1c01aa-e58c-4a59-ea2c-3f71cbc7b8ce"
      },
      "outputs": [
        {
          "data": {
            "text/plain": [
              "1.4171142857142855"
            ]
          },
          "execution_count": 15,
          "metadata": {},
          "output_type": "execute_result"
        }
      ],
      "source": [
        "mu2 = df_soil.Soil2.mean()\n",
        "mu2"
      ]
    },
    {
      "cell_type": "code",
      "execution_count": 16,
      "id": "8ff9b57a",
      "metadata": {
        "colab": {
          "base_uri": "https://localhost:8080/"
        },
        "id": "8ff9b57a",
        "outputId": "fd3913de-4999-4a24-d77d-80630e7822b2"
      },
      "outputs": [
        {
          "data": {
            "text/plain": [
              "0.2069028424331008"
            ]
          },
          "execution_count": 16,
          "metadata": {},
          "output_type": "execute_result"
        }
      ],
      "source": [
        "s1 = np.sqrt(df_soil.Soil1.var())\n",
        "s1"
      ]
    },
    {
      "cell_type": "code",
      "execution_count": 17,
      "id": "e49b64db",
      "metadata": {
        "colab": {
          "base_uri": "https://localhost:8080/"
        },
        "id": "e49b64db",
        "outputId": "151a7612-56fc-432d-a620-81c8535a986e"
      },
      "outputs": [
        {
          "data": {
            "text/plain": [
              "0.2191842860711146"
            ]
          },
          "execution_count": 17,
          "metadata": {},
          "output_type": "execute_result"
        }
      ],
      "source": [
        "s2 = np.sqrt(df_soil.Soil2.var())\n",
        "s2"
      ]
    },
    {
      "cell_type": "markdown",
      "id": "c00c3cfc",
      "metadata": {
        "id": "c00c3cfc"
      },
      "source": [
        "2- HYPOTHESIS:\n",
        "H0 : M1 = M2\n",
        "H1 : M1 != M2    (Two tail test)"
      ]
    },
    {
      "cell_type": "markdown",
      "id": "bcd2f6e8",
      "metadata": {
        "id": "bcd2f6e8"
      },
      "source": [
        "3- TEST STATISTIC:"
      ]
    },
    {
      "cell_type": "code",
      "execution_count": 18,
      "id": "4c3e76af",
      "metadata": {
        "colab": {
          "base_uri": "https://localhost:8080/"
        },
        "id": "4c3e76af",
        "outputId": "7f42c264-4e83-4eae-a334-ba52070de860"
      },
      "outputs": [
        {
          "data": {
            "text/plain": [
              "Ttest_indResult(statistic=5.1681473319343345, pvalue=2.59322873235282e-06)"
            ]
          },
          "execution_count": 18,
          "metadata": {},
          "output_type": "execute_result"
        }
      ],
      "source": [
        "ind_soil = stats.ttest_ind(soil1_n, df_soil.Soil2)\n",
        "ind_soil"
      ]
    },
    {
      "cell_type": "code",
      "execution_count": 19,
      "id": "1f3a3169",
      "metadata": {
        "colab": {
          "base_uri": "https://localhost:8080/"
        },
        "id": "1f3a3169",
        "outputId": "a51dfc67-eed4-4ea2-fbb6-9802c70faec8"
      },
      "outputs": [
        {
          "data": {
            "text/plain": [
              "5.1681473319343345"
            ]
          },
          "execution_count": 19,
          "metadata": {},
          "output_type": "execute_result"
        }
      ],
      "source": [
        "t = ind_soil.statistic\n",
        "t"
      ]
    },
    {
      "cell_type": "code",
      "execution_count": 20,
      "id": "89755ef2",
      "metadata": {
        "colab": {
          "base_uri": "https://localhost:8080/"
        },
        "id": "89755ef2",
        "outputId": "9b018810-4f90-40d8-c5a5-ed72f6648bcc"
      },
      "outputs": [
        {
          "data": {
            "text/plain": [
              "2.59322873235282e-06"
            ]
          },
          "execution_count": 20,
          "metadata": {},
          "output_type": "execute_result"
        }
      ],
      "source": [
        "p_value = ind_soil.pvalue\n",
        "p_value"
      ]
    },
    {
      "cell_type": "markdown",
      "id": "f07571c1",
      "metadata": {
        "id": "f07571c1"
      },
      "source": [
        "4- P_value:"
      ]
    },
    {
      "cell_type": "code",
      "execution_count": 21,
      "id": "500a052c",
      "metadata": {
        "colab": {
          "base_uri": "https://localhost:8080/"
        },
        "id": "500a052c",
        "outputId": "9f7974d5-65a0-410e-f637-0fe75341dc2c"
      },
      "outputs": [
        {
          "data": {
            "text/plain": [
              "63"
            ]
          },
          "execution_count": 21,
          "metadata": {},
          "output_type": "execute_result"
        }
      ],
      "source": [
        "df = n1 + n2 - 2\n",
        "df"
      ]
    },
    {
      "cell_type": "code",
      "execution_count": 22,
      "id": "f2ae84d9",
      "metadata": {
        "colab": {
          "base_uri": "https://localhost:8080/"
        },
        "id": "f2ae84d9",
        "outputId": "368ba0bc-30f9-47f7-9bca-cd3486137d44"
      },
      "outputs": [
        {
          "data": {
            "text/plain": [
              "2.5932287324170744e-06"
            ]
          },
          "execution_count": 22,
          "metadata": {},
          "output_type": "execute_result"
        }
      ],
      "source": [
        "p_value = 2 * (1 - stats.t.cdf(t, df))\n",
        "p_value"
      ]
    },
    {
      "cell_type": "markdown",
      "id": "2f09f7db",
      "metadata": {
        "id": "2f09f7db"
      },
      "source": [
        "5- CONCLUSION: \n",
        "p_value < alpha\n"
      ]
    },
    {
      "cell_type": "code",
      "execution_count": 23,
      "id": "89ec65bc",
      "metadata": {
        "colab": {
          "base_uri": "https://localhost:8080/"
        },
        "id": "89ec65bc",
        "outputId": "94f34598-1b45-4a64-e7be-1cefb43429c1"
      },
      "outputs": [
        {
          "name": "stdout",
          "output_type": "stream",
          "text": [
            "'Reject the null.' At the 0.01 significance level, we have sufficient evidence to reject the H0 hypothesis.\n"
          ]
        }
      ],
      "source": [
        "alpha = 0.01\n",
        "\n",
        "if p_value < alpha :\n",
        "    print(\"'Reject the null.' At the 0.01 significance level, we have sufficient evidence to reject the H0 hypothesis.\")\n",
        "else :\n",
        "    print(\"'Fail to reject the null.' At the 0.01 significance level, we don't have sufficient evidence to reject the H0 hypothesis.\")"
      ]
    },
    {
      "cell_type": "code",
      "execution_count": null,
      "id": "cc2f1879",
      "metadata": {
        "id": "cc2f1879"
      },
      "outputs": [],
      "source": []
    },
    {
      "cell_type": "markdown",
      "id": "19f233d4",
      "metadata": {
        "id": "19f233d4"
      },
      "source": [
        "EXERCISE 3. The following dataset is based on data provided by the World Bank (https://datacatalog.worldbank.org/dataset/education-statistics). World Bank Edstats.  2015 PISA Test Dataset\n",
        "\n",
        "    Get descriptive statistics (the central tendency, dispersion and shape of a dataset’s distribution) for each continent group (AS, EU, AF, NA, SA, OC).\n",
        "    Determine whether there is any difference (on the average) for the math scores among European (EU) and Asian (AS) countries (assume normality and equal variances). Draw side-by-side box plots.\n",
        "\n",
        "CHECK: statistic=0.870055317967983, pvalue=0.38826888111307345"
      ]
    },
    {
      "cell_type": "code",
      "execution_count": 24,
      "id": "d7603e33",
      "metadata": {
        "colab": {
          "base_uri": "https://localhost:8080/",
          "height": 206
        },
        "id": "d7603e33",
        "outputId": "bf1833c9-fb79-4989-8616-53fc966fe72f"
      },
      "outputs": [
        {
          "data": {
            "text/html": [
              "<div>\n",
              "<style scoped>\n",
              "    .dataframe tbody tr th:only-of-type {\n",
              "        vertical-align: middle;\n",
              "    }\n",
              "\n",
              "    .dataframe tbody tr th {\n",
              "        vertical-align: top;\n",
              "    }\n",
              "\n",
              "    .dataframe thead th {\n",
              "        text-align: right;\n",
              "    }\n",
              "</style>\n",
              "<table border=\"1\" class=\"dataframe\">\n",
              "  <thead>\n",
              "    <tr style=\"text-align: right;\">\n",
              "      <th></th>\n",
              "      <th>Country Code</th>\n",
              "      <th>Continent_Code</th>\n",
              "      <th>internet_users_per_100</th>\n",
              "      <th>Math</th>\n",
              "      <th>Reading</th>\n",
              "      <th>Science</th>\n",
              "    </tr>\n",
              "  </thead>\n",
              "  <tbody>\n",
              "    <tr>\n",
              "      <th>0</th>\n",
              "      <td>ALB</td>\n",
              "      <td>EU</td>\n",
              "      <td>63.252933</td>\n",
              "      <td>413.1570</td>\n",
              "      <td>405.2588</td>\n",
              "      <td>427.2250</td>\n",
              "    </tr>\n",
              "    <tr>\n",
              "      <th>1</th>\n",
              "      <td>ARE</td>\n",
              "      <td>AS</td>\n",
              "      <td>90.500000</td>\n",
              "      <td>427.4827</td>\n",
              "      <td>433.5423</td>\n",
              "      <td>436.7311</td>\n",
              "    </tr>\n",
              "    <tr>\n",
              "      <th>2</th>\n",
              "      <td>ARG</td>\n",
              "      <td>SA</td>\n",
              "      <td>68.043064</td>\n",
              "      <td>409.0333</td>\n",
              "      <td>425.3031</td>\n",
              "      <td>432.2262</td>\n",
              "    </tr>\n",
              "    <tr>\n",
              "      <th>3</th>\n",
              "      <td>AUS</td>\n",
              "      <td>OC</td>\n",
              "      <td>84.560519</td>\n",
              "      <td>493.8962</td>\n",
              "      <td>502.9006</td>\n",
              "      <td>509.9939</td>\n",
              "    </tr>\n",
              "    <tr>\n",
              "      <th>4</th>\n",
              "      <td>AUT</td>\n",
              "      <td>EU</td>\n",
              "      <td>83.940142</td>\n",
              "      <td>496.7423</td>\n",
              "      <td>484.8656</td>\n",
              "      <td>495.0375</td>\n",
              "    </tr>\n",
              "  </tbody>\n",
              "</table>\n",
              "</div>"
            ],
            "text/plain": [
              "  Country Code Continent_Code  internet_users_per_100      Math   Reading  \\\n",
              "0          ALB             EU               63.252933  413.1570  405.2588   \n",
              "1          ARE             AS               90.500000  427.4827  433.5423   \n",
              "2          ARG             SA               68.043064  409.0333  425.3031   \n",
              "3          AUS             OC               84.560519  493.8962  502.9006   \n",
              "4          AUT             EU               83.940142  496.7423  484.8656   \n",
              "\n",
              "    Science  \n",
              "0  427.2250  \n",
              "1  436.7311  \n",
              "2  432.2262  \n",
              "3  509.9939  \n",
              "4  495.0375  "
            ]
          },
          "execution_count": 24,
          "metadata": {},
          "output_type": "execute_result"
        }
      ],
      "source": [
        "df_pisa = pd.read_csv(\"2015 PISA Test - Sheet1.csv\")\n",
        "df_pisa.head()"
      ]
    },
    {
      "cell_type": "code",
      "execution_count": 25,
      "id": "8711f687",
      "metadata": {
        "colab": {
          "base_uri": "https://localhost:8080/"
        },
        "id": "8711f687",
        "outputId": "0316750d-7c3b-438e-b8da-d65cc81e4ca4"
      },
      "outputs": [
        {
          "data": {
            "text/plain": [
              "(70, 6)"
            ]
          },
          "execution_count": 25,
          "metadata": {},
          "output_type": "execute_result"
        }
      ],
      "source": [
        "df_pisa.shape"
      ]
    },
    {
      "cell_type": "code",
      "execution_count": 26,
      "id": "615efd62",
      "metadata": {
        "colab": {
          "base_uri": "https://localhost:8080/",
          "height": 300
        },
        "id": "615efd62",
        "outputId": "370aed58-3991-47a2-bd3a-f80b35d7f9c4"
      },
      "outputs": [
        {
          "data": {
            "text/html": [
              "<div>\n",
              "<style scoped>\n",
              "    .dataframe tbody tr th:only-of-type {\n",
              "        vertical-align: middle;\n",
              "    }\n",
              "\n",
              "    .dataframe tbody tr th {\n",
              "        vertical-align: top;\n",
              "    }\n",
              "\n",
              "    .dataframe thead th {\n",
              "        text-align: right;\n",
              "    }\n",
              "</style>\n",
              "<table border=\"1\" class=\"dataframe\">\n",
              "  <thead>\n",
              "    <tr style=\"text-align: right;\">\n",
              "      <th></th>\n",
              "      <th>internet_users_per_100</th>\n",
              "      <th>Math</th>\n",
              "      <th>Reading</th>\n",
              "      <th>Science</th>\n",
              "    </tr>\n",
              "  </thead>\n",
              "  <tbody>\n",
              "    <tr>\n",
              "      <th>count</th>\n",
              "      <td>70.000000</td>\n",
              "      <td>70.000000</td>\n",
              "      <td>70.000000</td>\n",
              "      <td>70.000000</td>\n",
              "    </tr>\n",
              "    <tr>\n",
              "      <th>mean</th>\n",
              "      <td>71.973099</td>\n",
              "      <td>460.971557</td>\n",
              "      <td>460.997291</td>\n",
              "      <td>465.439093</td>\n",
              "    </tr>\n",
              "    <tr>\n",
              "      <th>std</th>\n",
              "      <td>16.390632</td>\n",
              "      <td>53.327205</td>\n",
              "      <td>49.502679</td>\n",
              "      <td>48.397254</td>\n",
              "    </tr>\n",
              "    <tr>\n",
              "      <th>min</th>\n",
              "      <td>21.976068</td>\n",
              "      <td>327.702000</td>\n",
              "      <td>346.549000</td>\n",
              "      <td>331.638800</td>\n",
              "    </tr>\n",
              "    <tr>\n",
              "      <th>25%</th>\n",
              "      <td>60.899020</td>\n",
              "      <td>417.416075</td>\n",
              "      <td>426.948625</td>\n",
              "      <td>425.923375</td>\n",
              "    </tr>\n",
              "    <tr>\n",
              "      <th>50%</th>\n",
              "      <td>72.999350</td>\n",
              "      <td>477.607150</td>\n",
              "      <td>480.199850</td>\n",
              "      <td>475.400050</td>\n",
              "    </tr>\n",
              "    <tr>\n",
              "      <th>75%</th>\n",
              "      <td>85.026763</td>\n",
              "      <td>500.482925</td>\n",
              "      <td>499.687475</td>\n",
              "      <td>502.431250</td>\n",
              "    </tr>\n",
              "    <tr>\n",
              "      <th>max</th>\n",
              "      <td>98.200000</td>\n",
              "      <td>564.189700</td>\n",
              "      <td>535.100200</td>\n",
              "      <td>555.574700</td>\n",
              "    </tr>\n",
              "  </tbody>\n",
              "</table>\n",
              "</div>"
            ],
            "text/plain": [
              "       internet_users_per_100        Math     Reading     Science\n",
              "count               70.000000   70.000000   70.000000   70.000000\n",
              "mean                71.973099  460.971557  460.997291  465.439093\n",
              "std                 16.390632   53.327205   49.502679   48.397254\n",
              "min                 21.976068  327.702000  346.549000  331.638800\n",
              "25%                 60.899020  417.416075  426.948625  425.923375\n",
              "50%                 72.999350  477.607150  480.199850  475.400050\n",
              "75%                 85.026763  500.482925  499.687475  502.431250\n",
              "max                 98.200000  564.189700  535.100200  555.574700"
            ]
          },
          "execution_count": 26,
          "metadata": {},
          "output_type": "execute_result"
        }
      ],
      "source": [
        "df_pisa.describe()"
      ]
    },
    {
      "cell_type": "code",
      "execution_count": 27,
      "id": "bf9d4f0a",
      "metadata": {
        "colab": {
          "base_uri": "https://localhost:8080/",
          "height": 1000
        },
        "id": "bf9d4f0a",
        "outputId": "5f018ab5-2baf-417c-ec5c-6cd9dbb94b55"
      },
      "outputs": [
        {
          "data": {
            "text/html": [
              "<div>\n",
              "<style scoped>\n",
              "    .dataframe tbody tr th:only-of-type {\n",
              "        vertical-align: middle;\n",
              "    }\n",
              "\n",
              "    .dataframe tbody tr th {\n",
              "        vertical-align: top;\n",
              "    }\n",
              "\n",
              "    .dataframe thead th {\n",
              "        text-align: right;\n",
              "    }\n",
              "</style>\n",
              "<table border=\"1\" class=\"dataframe\">\n",
              "  <thead>\n",
              "    <tr style=\"text-align: right;\">\n",
              "      <th></th>\n",
              "      <th>Continent_Code</th>\n",
              "      <th>AF</th>\n",
              "      <th>AS</th>\n",
              "      <th>EU</th>\n",
              "      <th>OC</th>\n",
              "      <th>SA</th>\n",
              "    </tr>\n",
              "  </thead>\n",
              "  <tbody>\n",
              "    <tr>\n",
              "      <th rowspan=\"8\" valign=\"top\">internet_users_per_100</th>\n",
              "      <th>count</th>\n",
              "      <td>2.000000</td>\n",
              "      <td>17.000000</td>\n",
              "      <td>37.000000</td>\n",
              "      <td>2.000000</td>\n",
              "      <td>7.000000</td>\n",
              "    </tr>\n",
              "    <tr>\n",
              "      <th>mean</th>\n",
              "      <td>43.359918</td>\n",
              "      <td>68.455613</td>\n",
              "      <td>77.274888</td>\n",
              "      <td>86.391704</td>\n",
              "      <td>60.180494</td>\n",
              "    </tr>\n",
              "    <tr>\n",
              "      <th>std</th>\n",
              "      <td>7.297226</td>\n",
              "      <td>21.086060</td>\n",
              "      <td>12.425773</td>\n",
              "      <td>2.589686</td>\n",
              "      <td>9.772455</td>\n",
              "    </tr>\n",
              "    <tr>\n",
              "      <th>min</th>\n",
              "      <td>38.200000</td>\n",
              "      <td>21.976068</td>\n",
              "      <td>53.744979</td>\n",
              "      <td>84.560519</td>\n",
              "      <td>40.900000</td>\n",
              "    </tr>\n",
              "    <tr>\n",
              "      <th>25%</th>\n",
              "      <td>40.779959</td>\n",
              "      <td>50.300000</td>\n",
              "      <td>68.632900</td>\n",
              "      <td>85.476112</td>\n",
              "      <td>57.116462</td>\n",
              "    </tr>\n",
              "    <tr>\n",
              "      <th>50%</th>\n",
              "      <td>43.359918</td>\n",
              "      <td>74.000000</td>\n",
              "      <td>76.184000</td>\n",
              "      <td>86.391704</td>\n",
              "      <td>64.289000</td>\n",
              "    </tr>\n",
              "    <tr>\n",
              "      <th>75%</th>\n",
              "      <td>45.939877</td>\n",
              "      <td>84.948353</td>\n",
              "      <td>87.479056</td>\n",
              "      <td>87.307296</td>\n",
              "      <td>66.321532</td>\n",
              "    </tr>\n",
              "    <tr>\n",
              "      <th>max</th>\n",
              "      <td>48.519836</td>\n",
              "      <td>92.884826</td>\n",
              "      <td>98.200000</td>\n",
              "      <td>88.222889</td>\n",
              "      <td>69.198471</td>\n",
              "    </tr>\n",
              "    <tr>\n",
              "      <th rowspan=\"8\" valign=\"top\">Math</th>\n",
              "      <th>count</th>\n",
              "      <td>2.000000</td>\n",
              "      <td>17.000000</td>\n",
              "      <td>37.000000</td>\n",
              "      <td>2.000000</td>\n",
              "      <td>7.000000</td>\n",
              "    </tr>\n",
              "    <tr>\n",
              "      <th>mean</th>\n",
              "      <td>363.212100</td>\n",
              "      <td>466.216647</td>\n",
              "      <td>477.981449</td>\n",
              "      <td>494.559750</td>\n",
              "      <td>402.887700</td>\n",
              "    </tr>\n",
              "    <tr>\n",
              "      <th>std</th>\n",
              "      <td>5.099513</td>\n",
              "      <td>64.356490</td>\n",
              "      <td>35.150403</td>\n",
              "      <td>0.938401</td>\n",
              "      <td>18.128894</td>\n",
              "    </tr>\n",
              "    <tr>\n",
              "      <th>min</th>\n",
              "      <td>359.606200</td>\n",
              "      <td>380.259000</td>\n",
              "      <td>371.311400</td>\n",
              "      <td>493.896200</td>\n",
              "      <td>377.069500</td>\n",
              "    </tr>\n",
              "    <tr>\n",
              "      <th>25%</th>\n",
              "      <td>361.409150</td>\n",
              "      <td>403.833200</td>\n",
              "      <td>464.040100</td>\n",
              "      <td>494.227975</td>\n",
              "      <td>388.102200</td>\n",
              "    </tr>\n",
              "    <tr>\n",
              "      <th>50%</th>\n",
              "      <td>363.212100</td>\n",
              "      <td>459.816000</td>\n",
              "      <td>489.728700</td>\n",
              "      <td>494.559750</td>\n",
              "      <td>409.033300</td>\n",
              "    </tr>\n",
              "    <tr>\n",
              "      <th>75%</th>\n",
              "      <td>365.015050</td>\n",
              "      <td>531.296100</td>\n",
              "      <td>503.722000</td>\n",
              "      <td>494.891525</td>\n",
              "      <td>417.617650</td>\n",
              "    </tr>\n",
              "    <tr>\n",
              "      <th>max</th>\n",
              "      <td>366.818000</td>\n",
              "      <td>564.189700</td>\n",
              "      <td>521.250600</td>\n",
              "      <td>495.223300</td>\n",
              "      <td>422.671400</td>\n",
              "    </tr>\n",
              "    <tr>\n",
              "      <th rowspan=\"8\" valign=\"top\">Reading</th>\n",
              "      <th>count</th>\n",
              "      <td>2.000000</td>\n",
              "      <td>17.000000</td>\n",
              "      <td>37.000000</td>\n",
              "      <td>2.000000</td>\n",
              "      <td>7.000000</td>\n",
              "    </tr>\n",
              "    <tr>\n",
              "      <th>mean</th>\n",
              "      <td>355.457400</td>\n",
              "      <td>454.059682</td>\n",
              "      <td>476.164608</td>\n",
              "      <td>506.085650</td>\n",
              "      <td>425.359229</td>\n",
              "    </tr>\n",
              "    <tr>\n",
              "      <th>std</th>\n",
              "      <td>7.916909</td>\n",
              "      <td>57.048962</td>\n",
              "      <td>37.720545</td>\n",
              "      <td>4.504341</td>\n",
              "      <td>19.709688</td>\n",
              "    </tr>\n",
              "    <tr>\n",
              "      <th>min</th>\n",
              "      <td>349.859300</td>\n",
              "      <td>346.549000</td>\n",
              "      <td>351.741500</td>\n",
              "      <td>502.900600</td>\n",
              "      <td>397.541400</td>\n",
              "    </tr>\n",
              "    <tr>\n",
              "      <th>25%</th>\n",
              "      <td>352.658350</td>\n",
              "      <td>408.102200</td>\n",
              "      <td>452.514300</td>\n",
              "      <td>504.493125</td>\n",
              "      <td>416.126900</td>\n",
              "    </tr>\n",
              "    <tr>\n",
              "      <th>50%</th>\n",
              "      <td>355.457400</td>\n",
              "      <td>433.542300</td>\n",
              "      <td>487.250100</td>\n",
              "      <td>506.085650</td>\n",
              "      <td>425.303100</td>\n",
              "    </tr>\n",
              "    <tr>\n",
              "      <th>75%</th>\n",
              "      <td>358.256450</td>\n",
              "      <td>508.690500</td>\n",
              "      <td>499.814600</td>\n",
              "      <td>507.678175</td>\n",
              "      <td>431.922700</td>\n",
              "    </tr>\n",
              "    <tr>\n",
              "      <th>max</th>\n",
              "      <td>361.055500</td>\n",
              "      <td>535.100200</td>\n",
              "      <td>526.424700</td>\n",
              "      <td>509.270700</td>\n",
              "      <td>458.570900</td>\n",
              "    </tr>\n",
              "    <tr>\n",
              "      <th rowspan=\"8\" valign=\"top\">Science</th>\n",
              "      <th>count</th>\n",
              "      <td>2.000000</td>\n",
              "      <td>17.000000</td>\n",
              "      <td>37.000000</td>\n",
              "      <td>2.000000</td>\n",
              "      <td>7.000000</td>\n",
              "    </tr>\n",
              "    <tr>\n",
              "      <th>mean</th>\n",
              "      <td>381.074250</td>\n",
              "      <td>467.945847</td>\n",
              "      <td>478.299381</td>\n",
              "      <td>511.648700</td>\n",
              "      <td>421.747186</td>\n",
              "    </tr>\n",
              "    <tr>\n",
              "      <th>std</th>\n",
              "      <td>7.536556</td>\n",
              "      <td>56.671371</td>\n",
              "      <td>34.450616</td>\n",
              "      <td>2.340241</td>\n",
              "      <td>18.470319</td>\n",
              "    </tr>\n",
              "    <tr>\n",
              "      <th>min</th>\n",
              "      <td>375.745100</td>\n",
              "      <td>386.485400</td>\n",
              "      <td>383.682400</td>\n",
              "      <td>509.993900</td>\n",
              "      <td>396.683600</td>\n",
              "    </tr>\n",
              "    <tr>\n",
              "      <th>25%</th>\n",
              "      <td>378.409675</td>\n",
              "      <td>417.611200</td>\n",
              "      <td>460.774900</td>\n",
              "      <td>510.821300</td>\n",
              "      <td>408.205450</td>\n",
              "    </tr>\n",
              "    <tr>\n",
              "      <th>50%</th>\n",
              "      <td>381.074250</td>\n",
              "      <td>456.483600</td>\n",
              "      <td>490.225000</td>\n",
              "      <td>511.648700</td>\n",
              "      <td>424.590500</td>\n",
              "    </tr>\n",
              "    <tr>\n",
              "      <th>75%</th>\n",
              "      <td>383.738825</td>\n",
              "      <td>523.277400</td>\n",
              "      <td>501.936900</td>\n",
              "      <td>512.476100</td>\n",
              "      <td>433.794600</td>\n",
              "    </tr>\n",
              "    <tr>\n",
              "      <th>max</th>\n",
              "      <td>386.403400</td>\n",
              "      <td>555.574700</td>\n",
              "      <td>534.193700</td>\n",
              "      <td>513.303500</td>\n",
              "      <td>446.956100</td>\n",
              "    </tr>\n",
              "  </tbody>\n",
              "</table>\n",
              "</div>"
            ],
            "text/plain": [
              "Continent_Code                        AF          AS          EU          OC  \\\n",
              "internet_users_per_100 count    2.000000   17.000000   37.000000    2.000000   \n",
              "                       mean    43.359918   68.455613   77.274888   86.391704   \n",
              "                       std      7.297226   21.086060   12.425773    2.589686   \n",
              "                       min     38.200000   21.976068   53.744979   84.560519   \n",
              "                       25%     40.779959   50.300000   68.632900   85.476112   \n",
              "                       50%     43.359918   74.000000   76.184000   86.391704   \n",
              "                       75%     45.939877   84.948353   87.479056   87.307296   \n",
              "                       max     48.519836   92.884826   98.200000   88.222889   \n",
              "Math                   count    2.000000   17.000000   37.000000    2.000000   \n",
              "                       mean   363.212100  466.216647  477.981449  494.559750   \n",
              "                       std      5.099513   64.356490   35.150403    0.938401   \n",
              "                       min    359.606200  380.259000  371.311400  493.896200   \n",
              "                       25%    361.409150  403.833200  464.040100  494.227975   \n",
              "                       50%    363.212100  459.816000  489.728700  494.559750   \n",
              "                       75%    365.015050  531.296100  503.722000  494.891525   \n",
              "                       max    366.818000  564.189700  521.250600  495.223300   \n",
              "Reading                count    2.000000   17.000000   37.000000    2.000000   \n",
              "                       mean   355.457400  454.059682  476.164608  506.085650   \n",
              "                       std      7.916909   57.048962   37.720545    4.504341   \n",
              "                       min    349.859300  346.549000  351.741500  502.900600   \n",
              "                       25%    352.658350  408.102200  452.514300  504.493125   \n",
              "                       50%    355.457400  433.542300  487.250100  506.085650   \n",
              "                       75%    358.256450  508.690500  499.814600  507.678175   \n",
              "                       max    361.055500  535.100200  526.424700  509.270700   \n",
              "Science                count    2.000000   17.000000   37.000000    2.000000   \n",
              "                       mean   381.074250  467.945847  478.299381  511.648700   \n",
              "                       std      7.536556   56.671371   34.450616    2.340241   \n",
              "                       min    375.745100  386.485400  383.682400  509.993900   \n",
              "                       25%    378.409675  417.611200  460.774900  510.821300   \n",
              "                       50%    381.074250  456.483600  490.225000  511.648700   \n",
              "                       75%    383.738825  523.277400  501.936900  512.476100   \n",
              "                       max    386.403400  555.574700  534.193700  513.303500   \n",
              "\n",
              "Continent_Code                        SA  \n",
              "internet_users_per_100 count    7.000000  \n",
              "                       mean    60.180494  \n",
              "                       std      9.772455  \n",
              "                       min     40.900000  \n",
              "                       25%     57.116462  \n",
              "                       50%     64.289000  \n",
              "                       75%     66.321532  \n",
              "                       max     69.198471  \n",
              "Math                   count    7.000000  \n",
              "                       mean   402.887700  \n",
              "                       std     18.128894  \n",
              "                       min    377.069500  \n",
              "                       25%    388.102200  \n",
              "                       50%    409.033300  \n",
              "                       75%    417.617650  \n",
              "                       max    422.671400  \n",
              "Reading                count    7.000000  \n",
              "                       mean   425.359229  \n",
              "                       std     19.709688  \n",
              "                       min    397.541400  \n",
              "                       25%    416.126900  \n",
              "                       50%    425.303100  \n",
              "                       75%    431.922700  \n",
              "                       max    458.570900  \n",
              "Science                count    7.000000  \n",
              "                       mean   421.747186  \n",
              "                       std     18.470319  \n",
              "                       min    396.683600  \n",
              "                       25%    408.205450  \n",
              "                       50%    424.590500  \n",
              "                       75%    433.794600  \n",
              "                       max    446.956100  "
            ]
          },
          "execution_count": 27,
          "metadata": {},
          "output_type": "execute_result"
        }
      ],
      "source": [
        "df_pisa.groupby(\"Continent_Code\").describe().T"
      ]
    },
    {
      "cell_type": "code",
      "execution_count": 28,
      "id": "8a6c3e30",
      "metadata": {
        "colab": {
          "base_uri": "https://localhost:8080/"
        },
        "id": "8a6c3e30",
        "outputId": "a6781179-c453-4378-bd56-332a8f30829d"
      },
      "outputs": [
        {
          "data": {
            "text/plain": [
              "0"
            ]
          },
          "execution_count": 28,
          "metadata": {},
          "output_type": "execute_result"
        }
      ],
      "source": [
        "df_pisa[df_pisa.Continent_Code == \"EU\"][\"Math\"].isnull().sum()"
      ]
    },
    {
      "cell_type": "code",
      "execution_count": 29,
      "id": "f3431554",
      "metadata": {
        "colab": {
          "base_uri": "https://localhost:8080/"
        },
        "id": "f3431554",
        "outputId": "df7bd491-aba6-4f18-ddce-413f3cd6483b"
      },
      "outputs": [
        {
          "data": {
            "text/plain": [
              "0"
            ]
          },
          "execution_count": 29,
          "metadata": {},
          "output_type": "execute_result"
        }
      ],
      "source": [
        "df_pisa[df_pisa.Continent_Code== \"AS\"][\"Math\"].isnull().sum()"
      ]
    },
    {
      "cell_type": "markdown",
      "id": "db431e07",
      "metadata": {
        "id": "db431e07"
      },
      "source": [
        "1- ASSUMPTIONS: \n",
        " Independent 2 groups (Independent t-Test)"
      ]
    },
    {
      "cell_type": "code",
      "execution_count": 30,
      "id": "be6554de",
      "metadata": {
        "colab": {
          "base_uri": "https://localhost:8080/"
        },
        "id": "be6554de",
        "outputId": "b17b1ad2-09a5-4426-a779-9a3ad3fd4a76"
      },
      "outputs": [
        {
          "data": {
            "text/plain": [
              "37"
            ]
          },
          "execution_count": 30,
          "metadata": {},
          "output_type": "execute_result"
        }
      ],
      "source": [
        "n1 = len(df_pisa[df_pisa.Continent_Code == \"EU\"])\n",
        "n1"
      ]
    },
    {
      "cell_type": "code",
      "execution_count": 31,
      "id": "69068a87",
      "metadata": {
        "colab": {
          "base_uri": "https://localhost:8080/"
        },
        "id": "69068a87",
        "outputId": "ce782b0f-2c8a-45a8-d637-4a48c2264f3b"
      },
      "outputs": [
        {
          "data": {
            "text/plain": [
              "17"
            ]
          },
          "execution_count": 31,
          "metadata": {},
          "output_type": "execute_result"
        }
      ],
      "source": [
        "n2 = len(df_pisa[df_pisa.Continent_Code == \"AS\"])\n",
        "n2"
      ]
    },
    {
      "cell_type": "code",
      "execution_count": 32,
      "id": "241ec829",
      "metadata": {
        "colab": {
          "base_uri": "https://localhost:8080/"
        },
        "id": "241ec829",
        "outputId": "1fcb9269-40fe-4113-cb15-2f1ba5b9ef22"
      },
      "outputs": [
        {
          "data": {
            "text/plain": [
              "477.98144864864867"
            ]
          },
          "execution_count": 32,
          "metadata": {},
          "output_type": "execute_result"
        }
      ],
      "source": [
        "mu1 = (df_pisa[df_pisa.Continent_Code == \"EU\"])[\"Math\"].mean()\n",
        "mu1"
      ]
    },
    {
      "cell_type": "code",
      "execution_count": 33,
      "id": "c76346f1",
      "metadata": {
        "colab": {
          "base_uri": "https://localhost:8080/"
        },
        "id": "c76346f1",
        "outputId": "cce9123f-7525-4598-eebb-8b9783e2c520"
      },
      "outputs": [
        {
          "data": {
            "text/plain": [
              "466.21664705882347"
            ]
          },
          "execution_count": 33,
          "metadata": {},
          "output_type": "execute_result"
        }
      ],
      "source": [
        "mu2 = (df_pisa[df_pisa.Continent_Code == \"AS\"])[\"Math\"].mean()\n",
        "mu2"
      ]
    },
    {
      "cell_type": "code",
      "execution_count": 34,
      "id": "3dc6ca44",
      "metadata": {
        "colab": {
          "base_uri": "https://localhost:8080/"
        },
        "id": "3dc6ca44",
        "outputId": "baecbe71-61a6-4cb6-d711-b566f2399267"
      },
      "outputs": [
        {
          "data": {
            "text/plain": [
              "35.15040262727063"
            ]
          },
          "execution_count": 34,
          "metadata": {},
          "output_type": "execute_result"
        }
      ],
      "source": [
        "std1 = np.sqrt(df_pisa[df_pisa.Continent_Code == \"EU\"][\"Math\"].var())\n",
        "std1"
      ]
    },
    {
      "cell_type": "code",
      "execution_count": 35,
      "id": "698c9e22",
      "metadata": {
        "colab": {
          "base_uri": "https://localhost:8080/"
        },
        "id": "698c9e22",
        "outputId": "2605e56a-0e4a-4f09-f7f2-b5660d441935"
      },
      "outputs": [
        {
          "data": {
            "text/plain": [
              "64.35649013277641"
            ]
          },
          "execution_count": 35,
          "metadata": {},
          "output_type": "execute_result"
        }
      ],
      "source": [
        "std2 = np.sqrt(df_pisa[df_pisa.Continent_Code == \"AS\"][\"Math\"].var())\n",
        "std2"
      ]
    },
    {
      "cell_type": "markdown",
      "id": "195073b3",
      "metadata": {
        "id": "195073b3"
      },
      "source": [
        "2- HYPOTHESIS:"
      ]
    },
    {
      "cell_type": "markdown",
      "id": "ce656fc2",
      "metadata": {
        "id": "ce656fc2"
      },
      "source": [
        "H0 : M1 = M2\n",
        "Ha : M1 != M2  (Two tail test)"
      ]
    },
    {
      "cell_type": "markdown",
      "id": "9aaac7e8",
      "metadata": {
        "id": "9aaac7e8"
      },
      "source": [
        "3- TEST STATISTIC:"
      ]
    },
    {
      "cell_type": "code",
      "execution_count": 36,
      "id": "69f8f6e5",
      "metadata": {
        "colab": {
          "base_uri": "https://localhost:8080/"
        },
        "id": "69f8f6e5",
        "outputId": "559d18cb-4de7-4990-88fd-9ddea928c7d6"
      },
      "outputs": [
        {
          "data": {
            "text/plain": [
              "Ttest_indResult(statistic=0.870055317967983, pvalue=0.38826888111307345)"
            ]
          },
          "execution_count": 36,
          "metadata": {},
          "output_type": "execute_result"
        }
      ],
      "source": [
        "ind_pisa = stats.ttest_ind(df_pisa[df_pisa.Continent_Code == \"EU\"][\"Math\"], df_pisa[df_pisa.Continent_Code == \"AS\"][\"Math\"])\n",
        "ind_pisa"
      ]
    },
    {
      "cell_type": "code",
      "execution_count": 37,
      "id": "290287e4",
      "metadata": {
        "colab": {
          "base_uri": "https://localhost:8080/"
        },
        "id": "290287e4",
        "outputId": "a4ef43fd-15a3-453a-ee4a-6c5e1ca9b33c"
      },
      "outputs": [
        {
          "data": {
            "text/plain": [
              "0.870055317967983"
            ]
          },
          "execution_count": 37,
          "metadata": {},
          "output_type": "execute_result"
        }
      ],
      "source": [
        "t_pisa = ind_pisa.statistic\n",
        "t_pisa"
      ]
    },
    {
      "cell_type": "markdown",
      "id": "46b5687c",
      "metadata": {
        "id": "46b5687c"
      },
      "source": [
        "4- P_value:"
      ]
    },
    {
      "cell_type": "code",
      "execution_count": 38,
      "id": "c2a9a4ee",
      "metadata": {
        "colab": {
          "base_uri": "https://localhost:8080/"
        },
        "id": "c2a9a4ee",
        "outputId": "f20d6745-1eb1-4174-d8c3-604fae50be47"
      },
      "outputs": [
        {
          "data": {
            "text/plain": [
              "52"
            ]
          },
          "execution_count": 38,
          "metadata": {},
          "output_type": "execute_result"
        }
      ],
      "source": [
        "df = n1 + n2 - 2\n",
        "df"
      ]
    },
    {
      "cell_type": "code",
      "execution_count": 39,
      "id": "0851099b",
      "metadata": {
        "colab": {
          "base_uri": "https://localhost:8080/"
        },
        "id": "0851099b",
        "outputId": "225a7f7c-df83-47c7-a4d1-1b6711bf72aa"
      },
      "outputs": [
        {
          "data": {
            "text/plain": [
              "0.38826888111307345"
            ]
          },
          "execution_count": 39,
          "metadata": {},
          "output_type": "execute_result"
        }
      ],
      "source": [
        "p_value = ind_pisa.pvalue\n",
        "p_value"
      ]
    },
    {
      "cell_type": "code",
      "execution_count": 40,
      "id": "f9040e33",
      "metadata": {
        "colab": {
          "base_uri": "https://localhost:8080/"
        },
        "id": "f9040e33",
        "outputId": "674779f9-c56e-4499-ad5b-678763cf1e3d"
      },
      "outputs": [
        {
          "data": {
            "text/plain": [
              "0.38826888111307345"
            ]
          },
          "execution_count": 40,
          "metadata": {},
          "output_type": "execute_result"
        }
      ],
      "source": [
        "p_value = 2  * (1 - stats.t.cdf(t_pisa, df))\n",
        "p_value"
      ]
    },
    {
      "cell_type": "markdown",
      "id": "06d1772f",
      "metadata": {
        "id": "06d1772f"
      },
      "source": [
        "5- CONCLUSION:"
      ]
    },
    {
      "cell_type": "code",
      "execution_count": 41,
      "id": "c4e7401d",
      "metadata": {
        "colab": {
          "base_uri": "https://localhost:8080/"
        },
        "id": "c4e7401d",
        "outputId": "ebc32669-b38e-41ed-e363-cc96459759a6"
      },
      "outputs": [
        {
          "name": "stdout",
          "output_type": "stream",
          "text": [
            "'Fail to reject the null.' At the 0.01 significance level, we don't have sufficient evidence to reject the H0 hypothesis.\n"
          ]
        }
      ],
      "source": [
        "alpha = 0.05   #Default\n",
        "if p_value < alpha :\n",
        "    print(\"'Reject the null.' At the 0.01 significance level, we have sufficient evidence to reject the H0 hypothesis.\")\n",
        "else :\n",
        "    print(\"'Fail to reject the null.' At the 0.01 significance level, we don't have sufficient evidence to reject the H0 hypothesis.\")"
      ]
    },
    {
      "cell_type": "code",
      "execution_count": 42,
      "id": "c945c9ee",
      "metadata": {
        "colab": {
          "base_uri": "https://localhost:8080/",
          "height": 377
        },
        "id": "c945c9ee",
        "outputId": "91ca8550-d672-43c0-868f-8fe7f95c0d65"
      },
      "outputs": [
        {
          "data": {
            "image/png": "[encoded data removed]",
            "text/plain": [
              "<Figure size 720x432 with 2 Axes>"
            ]
          },
          "metadata": {
            "needs_background": "light"
          },
          "output_type": "display_data"
        }
      ],
      "source": [
        "fig, ax = plt.subplots(nrows=1, ncols=2, figsize=(10,6), sharey=True)\n",
        "sns.boxplot(y=df_pisa[df_pisa.Continent_Code=='EU'].Math, ax=ax[0])\n",
        "ax[0].set_title('Average Math Scores Among European Countries')\n",
        "sns.boxplot(y=df_pisa[df_pisa.Continent_Code=='AS'].Math, ax=ax[1])\n",
        "ax[1].set_title('Average Math Scores Among Asian Countries');"
      ]
    },
    {
      "cell_type": "code",
      "execution_count": null,
      "id": "1060a395",
      "metadata": {
        "id": "1060a395"
      },
      "outputs": [],
      "source": []
    },
    {
      "cell_type": "markdown",
      "id": "d99823fe",
      "metadata": {
        "id": "d99823fe"
      },
      "source": [
        "EXERCISE 4.The sample dataset has placement test scores (out of 100 points) for four subject areas: English, Reading, Math, and Writing. Students in the sample completed all 4 placement tests when they enrolled in the university. Suppose we are particularly interested in the English and Math sections, and want to determine whether students tended to score higher on their English or Math test, on average. We could use a paired t test to test if there was a significant difference in the average of the two tests.\n",
        "\n",
        "Sample Dataset 2014\n",
        "\n",
        "CHECK: statistic=36.312568981719856, pvalue=3.0710987192210606e-128"
      ]
    },
    {
      "cell_type": "code",
      "execution_count": 43,
      "id": "3ce77266",
      "metadata": {
        "colab": {
          "base_uri": "https://localhost:8080/",
          "height": 313
        },
        "id": "3ce77266",
        "outputId": "ac44983d-7d8a-4cbe-8d04-745e49e65514"
      },
      "outputs": [
        {
          "data": {
            "text/html": [
              "<div>\n",
              "<style scoped>\n",
              "    .dataframe tbody tr th:only-of-type {\n",
              "        vertical-align: middle;\n",
              "    }\n",
              "\n",
              "    .dataframe tbody tr th {\n",
              "        vertical-align: top;\n",
              "    }\n",
              "\n",
              "    .dataframe thead th {\n",
              "        text-align: right;\n",
              "    }\n",
              "</style>\n",
              "<table border=\"1\" class=\"dataframe\">\n",
              "  <thead>\n",
              "    <tr style=\"text-align: right;\">\n",
              "      <th></th>\n",
              "      <th>ids</th>\n",
              "      <th>bday</th>\n",
              "      <th>enrolldate</th>\n",
              "      <th>expgradate</th>\n",
              "      <th>Rank</th>\n",
              "      <th>Major</th>\n",
              "      <th>Gender</th>\n",
              "      <th>Athlete</th>\n",
              "      <th>Height</th>\n",
              "      <th>Weight</th>\n",
              "      <th>...</th>\n",
              "      <th>English</th>\n",
              "      <th>Reading</th>\n",
              "      <th>Math</th>\n",
              "      <th>Writing</th>\n",
              "      <th>State</th>\n",
              "      <th>LiveOnCampus</th>\n",
              "      <th>HowCommute</th>\n",
              "      <th>CommuteTime</th>\n",
              "      <th>SleepTime</th>\n",
              "      <th>StudyTime</th>\n",
              "    </tr>\n",
              "  </thead>\n",
              "  <tbody>\n",
              "    <tr>\n",
              "      <th>0</th>\n",
              "      <td>43783</td>\n",
              "      <td>3/22/1995</td>\n",
              "      <td>NaN</td>\n",
              "      <td>NaN</td>\n",
              "      <td>NaN</td>\n",
              "      <td>NaN</td>\n",
              "      <td>0.0</td>\n",
              "      <td>0</td>\n",
              "      <td>72.35</td>\n",
              "      <td>NaN</td>\n",
              "      <td>...</td>\n",
              "      <td>88.24</td>\n",
              "      <td>81.50</td>\n",
              "      <td>60.02</td>\n",
              "      <td>81.44</td>\n",
              "      <td>In state</td>\n",
              "      <td>1.0</td>\n",
              "      <td>NaN</td>\n",
              "      <td>NaN</td>\n",
              "      <td>7.0</td>\n",
              "      <td>1.0</td>\n",
              "    </tr>\n",
              "    <tr>\n",
              "      <th>1</th>\n",
              "      <td>20278</td>\n",
              "      <td>1/1/1995</td>\n",
              "      <td>NaN</td>\n",
              "      <td>NaN</td>\n",
              "      <td>NaN</td>\n",
              "      <td>Philosophy</td>\n",
              "      <td>0.0</td>\n",
              "      <td>0</td>\n",
              "      <td>70.66</td>\n",
              "      <td>179.20</td>\n",
              "      <td>...</td>\n",
              "      <td>89.45</td>\n",
              "      <td>85.25</td>\n",
              "      <td>70.19</td>\n",
              "      <td>73.27</td>\n",
              "      <td>NaN</td>\n",
              "      <td>1.0</td>\n",
              "      <td>NaN</td>\n",
              "      <td>NaN</td>\n",
              "      <td>5.0</td>\n",
              "      <td>2.0</td>\n",
              "    </tr>\n",
              "    <tr>\n",
              "      <th>2</th>\n",
              "      <td>20389</td>\n",
              "      <td>12/31/1994</td>\n",
              "      <td>NaN</td>\n",
              "      <td>NaN</td>\n",
              "      <td>NaN</td>\n",
              "      <td>NaN</td>\n",
              "      <td>0.0</td>\n",
              "      <td>0</td>\n",
              "      <td>70.68</td>\n",
              "      <td>198.52</td>\n",
              "      <td>...</td>\n",
              "      <td>96.73</td>\n",
              "      <td>86.88</td>\n",
              "      <td>71.20</td>\n",
              "      <td>84.24</td>\n",
              "      <td>In state</td>\n",
              "      <td>NaN</td>\n",
              "      <td>NaN</td>\n",
              "      <td>NaN</td>\n",
              "      <td>8.0</td>\n",
              "      <td>7.0</td>\n",
              "    </tr>\n",
              "    <tr>\n",
              "      <th>3</th>\n",
              "      <td>22820</td>\n",
              "      <td>12/1/1994</td>\n",
              "      <td>NaN</td>\n",
              "      <td>NaN</td>\n",
              "      <td>NaN</td>\n",
              "      <td>business administration</td>\n",
              "      <td>1.0</td>\n",
              "      <td>0</td>\n",
              "      <td>NaN</td>\n",
              "      <td>198.34</td>\n",
              "      <td>...</td>\n",
              "      <td>74.06</td>\n",
              "      <td>88.68</td>\n",
              "      <td>55.89</td>\n",
              "      <td>73.16</td>\n",
              "      <td>In state</td>\n",
              "      <td>1.0</td>\n",
              "      <td>NaN</td>\n",
              "      <td>NaN</td>\n",
              "      <td>2.0</td>\n",
              "      <td>6.0</td>\n",
              "    </tr>\n",
              "    <tr>\n",
              "      <th>4</th>\n",
              "      <td>24559</td>\n",
              "      <td>11/10/1994</td>\n",
              "      <td>NaN</td>\n",
              "      <td>NaN</td>\n",
              "      <td>NaN</td>\n",
              "      <td>NaN</td>\n",
              "      <td>1.0</td>\n",
              "      <td>1</td>\n",
              "      <td>67.43</td>\n",
              "      <td>128.17</td>\n",
              "      <td>...</td>\n",
              "      <td>82.61</td>\n",
              "      <td>77.30</td>\n",
              "      <td>65.52</td>\n",
              "      <td>80.45</td>\n",
              "      <td>Out of state</td>\n",
              "      <td>1.0</td>\n",
              "      <td>NaN</td>\n",
              "      <td>NaN</td>\n",
              "      <td>7.0</td>\n",
              "      <td>3.0</td>\n",
              "    </tr>\n",
              "  </tbody>\n",
              "</table>\n",
              "<p>5 rows × 23 columns</p>\n",
              "</div>"
            ],
            "text/plain": [
              "     ids        bday enrolldate expgradate  Rank                    Major  \\\n",
              "0  43783   3/22/1995        NaN        NaN   NaN                      NaN   \n",
              "1  20278    1/1/1995        NaN        NaN   NaN               Philosophy   \n",
              "2  20389  12/31/1994        NaN        NaN   NaN                      NaN   \n",
              "3  22820   12/1/1994        NaN        NaN   NaN  business administration   \n",
              "4  24559  11/10/1994        NaN        NaN   NaN                      NaN   \n",
              "\n",
              "   Gender  Athlete  Height  Weight  ...  English  Reading   Math  Writing  \\\n",
              "0     0.0        0   72.35     NaN  ...    88.24    81.50  60.02    81.44   \n",
              "1     0.0        0   70.66  179.20  ...    89.45    85.25  70.19    73.27   \n",
              "2     0.0        0   70.68  198.52  ...    96.73    86.88  71.20    84.24   \n",
              "3     1.0        0     NaN  198.34  ...    74.06    88.68  55.89    73.16   \n",
              "4     1.0        1   67.43  128.17  ...    82.61    77.30  65.52    80.45   \n",
              "\n",
              "          State  LiveOnCampus  HowCommute CommuteTime  SleepTime  StudyTime  \n",
              "0      In state           1.0         NaN         NaN        7.0        1.0  \n",
              "1           NaN           1.0         NaN         NaN        5.0        2.0  \n",
              "2      In state           NaN         NaN         NaN        8.0        7.0  \n",
              "3      In state           1.0         NaN         NaN        2.0        6.0  \n",
              "4  Out of state           1.0         NaN         NaN        7.0        3.0  \n",
              "\n",
              "[5 rows x 23 columns]"
            ]
          },
          "execution_count": 43,
          "metadata": {},
          "output_type": "execute_result"
        }
      ],
      "source": [
        "df_sample = pd.read_csv(\"students_2014 - students_2014.csv\")\n",
        "df_sample.head()"
      ]
    },
    {
      "cell_type": "markdown",
      "id": "279bf587",
      "metadata": {
        "id": "279bf587"
      },
      "source": [
        "1- ASSUMPTIONS: \n",
        "Dependent 1 groups (Dependent t-Test)"
      ]
    },
    {
      "cell_type": "code",
      "execution_count": 44,
      "id": "50fb22b2",
      "metadata": {
        "colab": {
          "base_uri": "https://localhost:8080/",
          "height": 424
        },
        "id": "50fb22b2",
        "outputId": "78ae524d-1a72-44a8-ff67-2c888fab1286"
      },
      "outputs": [
        {
          "data": {
            "text/html": [
              "<div>\n",
              "<style scoped>\n",
              "    .dataframe tbody tr th:only-of-type {\n",
              "        vertical-align: middle;\n",
              "    }\n",
              "\n",
              "    .dataframe tbody tr th {\n",
              "        vertical-align: top;\n",
              "    }\n",
              "\n",
              "    .dataframe thead th {\n",
              "        text-align: right;\n",
              "    }\n",
              "</style>\n",
              "<table border=\"1\" class=\"dataframe\">\n",
              "  <thead>\n",
              "    <tr style=\"text-align: right;\">\n",
              "      <th></th>\n",
              "      <th>English</th>\n",
              "      <th>Math</th>\n",
              "    </tr>\n",
              "  </thead>\n",
              "  <tbody>\n",
              "    <tr>\n",
              "      <th>0</th>\n",
              "      <td>88.24</td>\n",
              "      <td>60.02</td>\n",
              "    </tr>\n",
              "    <tr>\n",
              "      <th>1</th>\n",
              "      <td>89.45</td>\n",
              "      <td>70.19</td>\n",
              "    </tr>\n",
              "    <tr>\n",
              "      <th>2</th>\n",
              "      <td>96.73</td>\n",
              "      <td>71.20</td>\n",
              "    </tr>\n",
              "    <tr>\n",
              "      <th>3</th>\n",
              "      <td>74.06</td>\n",
              "      <td>55.89</td>\n",
              "    </tr>\n",
              "    <tr>\n",
              "      <th>4</th>\n",
              "      <td>82.61</td>\n",
              "      <td>65.52</td>\n",
              "    </tr>\n",
              "    <tr>\n",
              "      <th>...</th>\n",
              "      <td>...</td>\n",
              "      <td>...</td>\n",
              "    </tr>\n",
              "    <tr>\n",
              "      <th>430</th>\n",
              "      <td>87.72</td>\n",
              "      <td>65.31</td>\n",
              "    </tr>\n",
              "    <tr>\n",
              "      <th>431</th>\n",
              "      <td>91.01</td>\n",
              "      <td>70.25</td>\n",
              "    </tr>\n",
              "    <tr>\n",
              "      <th>432</th>\n",
              "      <td>81.05</td>\n",
              "      <td>58.16</td>\n",
              "    </tr>\n",
              "    <tr>\n",
              "      <th>433</th>\n",
              "      <td>75.59</td>\n",
              "      <td>66.84</td>\n",
              "    </tr>\n",
              "    <tr>\n",
              "      <th>434</th>\n",
              "      <td>75.65</td>\n",
              "      <td>60.24</td>\n",
              "    </tr>\n",
              "  </tbody>\n",
              "</table>\n",
              "<p>435 rows × 2 columns</p>\n",
              "</div>"
            ],
            "text/plain": [
              "     English   Math\n",
              "0      88.24  60.02\n",
              "1      89.45  70.19\n",
              "2      96.73  71.20\n",
              "3      74.06  55.89\n",
              "4      82.61  65.52\n",
              "..       ...    ...\n",
              "430    87.72  65.31\n",
              "431    91.01  70.25\n",
              "432    81.05  58.16\n",
              "433    75.59  66.84\n",
              "434    75.65  60.24\n",
              "\n",
              "[435 rows x 2 columns]"
            ]
          },
          "execution_count": 44,
          "metadata": {},
          "output_type": "execute_result"
        }
      ],
      "source": [
        "df_new = df_sample[[\"English\", \"Math\"]]\n",
        "df_new"
      ]
    },
    {
      "cell_type": "code",
      "execution_count": 45,
      "id": "b2e4bd3c",
      "metadata": {
        "colab": {
          "base_uri": "https://localhost:8080/"
        },
        "id": "b2e4bd3c",
        "outputId": "da5a20e1-aec3-4f4f-9630-011c33acef57"
      },
      "outputs": [
        {
          "data": {
            "text/plain": [
              "English    26\n",
              "Math       13\n",
              "dtype: int64"
            ]
          },
          "execution_count": 45,
          "metadata": {},
          "output_type": "execute_result"
        }
      ],
      "source": [
        "df_new.isnull().sum()"
      ]
    },
    {
      "cell_type": "code",
      "execution_count": 46,
      "id": "2836a994",
      "metadata": {
        "colab": {
          "base_uri": "https://localhost:8080/",
          "height": 531
        },
        "id": "2836a994",
        "outputId": "57b4b343-5346-47de-d212-d425133e4abe"
      },
      "outputs": [
        {
          "name": "stderr",
          "output_type": "stream",
          "text": [
            "C:\\Users\\engin\\AppData\\Local\\Temp\\ipykernel_13696\\292800547.py:1: SettingWithCopyWarning: \n",
            "A value is trying to be set on a copy of a slice from a DataFrame\n",
            "\n",
            "See the caveats in the documentation: https://pandas.pydata.org/pandas-docs/stable/user_guide/indexing.html#returning-a-view-versus-a-copy\n",
            "  df_new.dropna(inplace=True)\n"
          ]
        },
        {
          "data": {
            "text/html": [
              "<div>\n",
              "<style scoped>\n",
              "    .dataframe tbody tr th:only-of-type {\n",
              "        vertical-align: middle;\n",
              "    }\n",
              "\n",
              "    .dataframe tbody tr th {\n",
              "        vertical-align: top;\n",
              "    }\n",
              "\n",
              "    .dataframe thead th {\n",
              "        text-align: right;\n",
              "    }\n",
              "</style>\n",
              "<table border=\"1\" class=\"dataframe\">\n",
              "  <thead>\n",
              "    <tr style=\"text-align: right;\">\n",
              "      <th></th>\n",
              "      <th>English</th>\n",
              "      <th>Math</th>\n",
              "    </tr>\n",
              "  </thead>\n",
              "  <tbody>\n",
              "    <tr>\n",
              "      <th>0</th>\n",
              "      <td>88.24</td>\n",
              "      <td>60.02</td>\n",
              "    </tr>\n",
              "    <tr>\n",
              "      <th>1</th>\n",
              "      <td>89.45</td>\n",
              "      <td>70.19</td>\n",
              "    </tr>\n",
              "    <tr>\n",
              "      <th>2</th>\n",
              "      <td>96.73</td>\n",
              "      <td>71.20</td>\n",
              "    </tr>\n",
              "    <tr>\n",
              "      <th>3</th>\n",
              "      <td>74.06</td>\n",
              "      <td>55.89</td>\n",
              "    </tr>\n",
              "    <tr>\n",
              "      <th>4</th>\n",
              "      <td>82.61</td>\n",
              "      <td>65.52</td>\n",
              "    </tr>\n",
              "    <tr>\n",
              "      <th>...</th>\n",
              "      <td>...</td>\n",
              "      <td>...</td>\n",
              "    </tr>\n",
              "    <tr>\n",
              "      <th>430</th>\n",
              "      <td>87.72</td>\n",
              "      <td>65.31</td>\n",
              "    </tr>\n",
              "    <tr>\n",
              "      <th>431</th>\n",
              "      <td>91.01</td>\n",
              "      <td>70.25</td>\n",
              "    </tr>\n",
              "    <tr>\n",
              "      <th>432</th>\n",
              "      <td>81.05</td>\n",
              "      <td>58.16</td>\n",
              "    </tr>\n",
              "    <tr>\n",
              "      <th>433</th>\n",
              "      <td>75.59</td>\n",
              "      <td>66.84</td>\n",
              "    </tr>\n",
              "    <tr>\n",
              "      <th>434</th>\n",
              "      <td>75.65</td>\n",
              "      <td>60.24</td>\n",
              "    </tr>\n",
              "  </tbody>\n",
              "</table>\n",
              "<p>398 rows × 2 columns</p>\n",
              "</div>"
            ],
            "text/plain": [
              "     English   Math\n",
              "0      88.24  60.02\n",
              "1      89.45  70.19\n",
              "2      96.73  71.20\n",
              "3      74.06  55.89\n",
              "4      82.61  65.52\n",
              "..       ...    ...\n",
              "430    87.72  65.31\n",
              "431    91.01  70.25\n",
              "432    81.05  58.16\n",
              "433    75.59  66.84\n",
              "434    75.65  60.24\n",
              "\n",
              "[398 rows x 2 columns]"
            ]
          },
          "execution_count": 46,
          "metadata": {},
          "output_type": "execute_result"
        }
      ],
      "source": [
        "df_new.dropna(inplace=True)\n",
        "df_new"
      ]
    },
    {
      "cell_type": "code",
      "execution_count": 47,
      "id": "d1e7a60c",
      "metadata": {
        "colab": {
          "base_uri": "https://localhost:8080/"
        },
        "id": "d1e7a60c",
        "outputId": "133da0fb-d341-498d-bd8a-c63dbd34f10b"
      },
      "outputs": [
        {
          "data": {
            "text/plain": [
              "0"
            ]
          },
          "execution_count": 47,
          "metadata": {},
          "output_type": "execute_result"
        }
      ],
      "source": [
        "df_new.English.isnull().sum()"
      ]
    },
    {
      "cell_type": "code",
      "execution_count": 48,
      "id": "5c4d74e3",
      "metadata": {
        "colab": {
          "base_uri": "https://localhost:8080/"
        },
        "id": "5c4d74e3",
        "outputId": "0c6cfb0b-2b6b-44d9-d862-3c61f9a1ba47"
      },
      "outputs": [
        {
          "data": {
            "text/plain": [
              "398"
            ]
          },
          "execution_count": 48,
          "metadata": {},
          "output_type": "execute_result"
        }
      ],
      "source": [
        "n1 = len(df_new.English)\n",
        "n1"
      ]
    },
    {
      "cell_type": "code",
      "execution_count": 49,
      "id": "ff00fa1f",
      "metadata": {
        "colab": {
          "base_uri": "https://localhost:8080/"
        },
        "id": "ff00fa1f",
        "outputId": "928fe238-4755-4969-d264-dfcc9012994b"
      },
      "outputs": [
        {
          "data": {
            "text/plain": [
              "398"
            ]
          },
          "execution_count": 49,
          "metadata": {},
          "output_type": "execute_result"
        }
      ],
      "source": [
        "n2 = len(df_new.Math)\n",
        "n2"
      ]
    },
    {
      "cell_type": "markdown",
      "id": "38ee17da",
      "metadata": {
        "id": "38ee17da"
      },
      "source": [
        "2- HYPOTHESIS:"
      ]
    },
    {
      "cell_type": "markdown",
      "id": "f6cdf067",
      "metadata": {
        "id": "f6cdf067"
      },
      "source": [
        "H0 : M1 = M2\n",
        "Ha : M1 != M2  (Two tail test)"
      ]
    },
    {
      "cell_type": "markdown",
      "id": "509cacba",
      "metadata": {
        "id": "509cacba"
      },
      "source": [
        "3- TEST STATISTIC:"
      ]
    },
    {
      "cell_type": "code",
      "execution_count": 50,
      "id": "08c424d2",
      "metadata": {
        "colab": {
          "base_uri": "https://localhost:8080/"
        },
        "id": "08c424d2",
        "outputId": "4dad45a0-f82a-42a7-9b08-46beadb22d10"
      },
      "outputs": [
        {
          "data": {
            "text/plain": [
              "Ttest_relResult(statistic=36.312568981719856, pvalue=3.0710987192210606e-128)"
            ]
          },
          "execution_count": 50,
          "metadata": {},
          "output_type": "execute_result"
        }
      ],
      "source": [
        "ind_sample = stats.ttest_rel(df_new.English, df_new.Math)\n",
        "ind_sample"
      ]
    },
    {
      "cell_type": "code",
      "execution_count": 51,
      "id": "5d3e2a4a",
      "metadata": {
        "colab": {
          "base_uri": "https://localhost:8080/"
        },
        "id": "5d3e2a4a",
        "outputId": "48929adb-e95c-4c8b-de60-3a608c5beff0"
      },
      "outputs": [
        {
          "data": {
            "text/plain": [
              "36.312568981719856"
            ]
          },
          "execution_count": 51,
          "metadata": {},
          "output_type": "execute_result"
        }
      ],
      "source": [
        "t = ind_sample.statistic\n",
        "t"
      ]
    },
    {
      "cell_type": "markdown",
      "id": "3263a8e5",
      "metadata": {
        "id": "3263a8e5"
      },
      "source": [
        "4- P_value:"
      ]
    },
    {
      "cell_type": "code",
      "execution_count": 52,
      "id": "d348a0e3",
      "metadata": {
        "colab": {
          "base_uri": "https://localhost:8080/"
        },
        "id": "d348a0e3",
        "outputId": "86418db5-e839-47d4-cfa1-22804869143e"
      },
      "outputs": [
        {
          "data": {
            "text/plain": [
              "3.0710987192210606e-128"
            ]
          },
          "execution_count": 52,
          "metadata": {},
          "output_type": "execute_result"
        }
      ],
      "source": [
        "ind_sample.pvalue"
      ]
    },
    {
      "cell_type": "code",
      "execution_count": 53,
      "id": "f95fa7f2",
      "metadata": {
        "colab": {
          "base_uri": "https://localhost:8080/"
        },
        "id": "f95fa7f2",
        "outputId": "2c706d2b-943e-4843-9cdd-afbc13e9699b"
      },
      "outputs": [
        {
          "data": {
            "text/plain": [
              "794"
            ]
          },
          "execution_count": 53,
          "metadata": {},
          "output_type": "execute_result"
        }
      ],
      "source": [
        "df = n1 + n2 - 2\n",
        "df"
      ]
    },
    {
      "cell_type": "code",
      "execution_count": 54,
      "id": "5414538e",
      "metadata": {
        "colab": {
          "base_uri": "https://localhost:8080/"
        },
        "id": "5414538e",
        "outputId": "33c87e0e-4532-43a8-d151-e40e5aaed6b9"
      },
      "outputs": [
        {
          "data": {
            "text/plain": [
              "0.0"
            ]
          },
          "execution_count": 54,
          "metadata": {},
          "output_type": "execute_result"
        }
      ],
      "source": [
        "p_value =  2 * (1 - stats.t.cdf(t, df))\n",
        "p_value"
      ]
    },
    {
      "cell_type": "markdown",
      "id": "91dfcca8",
      "metadata": {
        "id": "91dfcca8"
      },
      "source": [
        "5- CONCLUSION:"
      ]
    },
    {
      "cell_type": "code",
      "execution_count": 55,
      "id": "c8f83110",
      "metadata": {
        "colab": {
          "base_uri": "https://localhost:8080/"
        },
        "id": "c8f83110",
        "outputId": "cae1f9c2-8789-4c82-9edf-a74238dad66a"
      },
      "outputs": [
        {
          "name": "stdout",
          "output_type": "stream",
          "text": [
            "'Reject the null.' At the 0.01 significance level, we have sufficient evidence to reject the H0 hypothesis.\n"
          ]
        }
      ],
      "source": [
        "alpha = 0.05   #Default\n",
        "if p_value < alpha :\n",
        "    print(\"'Reject the null.' At the 0.01 significance level, we have sufficient evidence to reject the H0 hypothesis.\")\n",
        "else :\n",
        "    print(\"'Fail to reject the null.' At the 0.01 significance level, we don't have sufficient evidence to reject the H0 hypothesis.\")"
      ]
    },
    {
      "cell_type": "code",
      "execution_count": null,
      "id": "9c18e648",
      "metadata": {
        "id": "9c18e648"
      },
      "outputs": [],
      "source": []
    }
  ],
  "metadata": {
    "colab": {
      "name": "Statistics_Assignmet_5.ipynb",
      "provenance": []
    },
    "kernelspec": {
      "display_name": "Python 3",
      "language": "python",
      "name": "python3"
    },
    "language_info": {
      "codemirror_mode": {
        "name": "ipython",
        "version": 3
      },
      "file_extension": ".py",
      "mimetype": "text/x-python",
      "name": "python",
      "nbconvert_exporter": "python",
      "pygments_lexer": "ipython3",
      "version": "3.10.4"
    }
  },
  "nbformat": 4,
  "nbformat_minor": 5
}
