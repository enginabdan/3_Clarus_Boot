{
 "cells": [
  {
   "cell_type": "code",
   "execution_count": 1,
   "metadata": {},
   "outputs": [],
   "source": [
    "# pyodbc: python open data base connectivity api for MS SQL"
   ]
  },
  {
   "cell_type": "code",
   "execution_count": 7,
   "metadata": {},
   "outputs": [
    {
     "name": "stdout",
     "output_type": "stream",
     "text": [
      "Requirement already satisfied: pyodbc in c:\\users\\engin\\appdata\\local\\programs\\python\\python39\\lib\\site-packages (4.0.32)\n",
      "Note: you may need to restart the kernel to use updated packages.\n"
     ]
    },
    {
     "name": "stderr",
     "output_type": "stream",
     "text": [
      "WARNING: You are using pip version 22.0.3; however, version 22.0.4 is available.\n",
      "You should consider upgrading via the 'C:\\Users\\engin\\AppData\\Local\\Programs\\Python\\Python39\\python.exe -m pip install --upgrade pip' command.\n"
     ]
    }
   ],
   "source": [
    "pip install pyodbc"
   ]
  },
  {
   "cell_type": "code",
   "execution_count": 2,
   "metadata": {},
   "outputs": [],
   "source": [
    "import pyodbc"
   ]
  },
  {
   "cell_type": "markdown",
   "metadata": {},
   "source": [
    "## SQL Server Connection"
   ]
  },
  {
   "cell_type": "code",
   "execution_count": 9,
   "metadata": {},
   "outputs": [],
   "source": [
    "def create_server_connection(driver, server, database, user, password):\n",
    "    conn = None\n",
    "    try: \n",
    "        conn = pyodbc.connect(DRIVER = driver, SERVER= server, DATABASE = database, UID= user, PWD= password)\n",
    "        print(\"Successfull\")\n",
    "    except Error as err:\n",
    "        print(f\"Error:'{err}'\")\n",
    "    return conn"
   ]
  },
  {
   "cell_type": "code",
   "execution_count": 10,
   "metadata": {},
   "outputs": [
    {
     "ename": "NameError",
     "evalue": "name 'Error' is not defined",
     "output_type": "error",
     "traceback": [
      "\u001b[1;31m---------------------------------------------------------------------------\u001b[0m",
      "\u001b[1;31mInterfaceError\u001b[0m                            Traceback (most recent call last)",
      "\u001b[1;32md:\\1_Engin\\1_Google_Drive\\1_IT_Courses\\1_Github_Mine\\02_DA\\03_DBMD\\01_HD\\07_DBMD_HD_05.ipynb Cell 5'\u001b[0m in \u001b[0;36mcreate_server_connection\u001b[1;34m(driver, server, database, user, password)\u001b[0m\n\u001b[0;32m      <a href='vscode-notebook-cell:/d%3A/1_Engin/1_Google_Drive/1_IT_Courses/1_Github_Mine/02_DA/03_DBMD/01_HD/07_DBMD_HD_05.ipynb#ch0000004?line=2'>3</a>\u001b[0m \u001b[39mtry\u001b[39;00m: \n\u001b[1;32m----> <a href='vscode-notebook-cell:/d%3A/1_Engin/1_Google_Drive/1_IT_Courses/1_Github_Mine/02_DA/03_DBMD/01_HD/07_DBMD_HD_05.ipynb#ch0000004?line=3'>4</a>\u001b[0m     conn \u001b[39m=\u001b[39m pyodbc\u001b[39m.\u001b[39;49mconnect(DRIVER \u001b[39m=\u001b[39;49m driver, SERVER\u001b[39m=\u001b[39;49m server, DATABASE \u001b[39m=\u001b[39;49m database, UID\u001b[39m=\u001b[39;49m user, PWD\u001b[39m=\u001b[39;49m password)\n\u001b[0;32m      <a href='vscode-notebook-cell:/d%3A/1_Engin/1_Google_Drive/1_IT_Courses/1_Github_Mine/02_DA/03_DBMD/01_HD/07_DBMD_HD_05.ipynb#ch0000004?line=4'>5</a>\u001b[0m     \u001b[39mprint\u001b[39m(\u001b[39m\"\u001b[39m\u001b[39mSuccessfull\u001b[39m\u001b[39m\"\u001b[39m)\n",
      "\u001b[1;31mInterfaceError\u001b[0m: ('28000', \"[28000] [Microsoft][ODBC Driver 17 for SQL Server][SQL Server]Login failed for user 'sa'. (18456) (SQLDriverConnect); [28000] [Microsoft][ODBC Driver 17 for SQL Server][SQL Server]Login failed for user 'sa'. (18456)\")",
      "\nDuring handling of the above exception, another exception occurred:\n",
      "\u001b[1;31mNameError\u001b[0m                                 Traceback (most recent call last)",
      "\u001b[1;32md:\\1_Engin\\1_Google_Drive\\1_IT_Courses\\1_Github_Mine\\02_DA\\03_DBMD\\01_HD\\07_DBMD_HD_05.ipynb Cell 6'\u001b[0m in \u001b[0;36m<module>\u001b[1;34m\u001b[0m\n\u001b[0;32m      <a href='vscode-notebook-cell:/d%3A/1_Engin/1_Google_Drive/1_IT_Courses/1_Github_Mine/02_DA/03_DBMD/01_HD/07_DBMD_HD_05.ipynb#ch0000005?line=3'>4</a>\u001b[0m user \u001b[39m=\u001b[39m \u001b[39m'\u001b[39m\u001b[39msa\u001b[39m\u001b[39m'\u001b[39m \n\u001b[0;32m      <a href='vscode-notebook-cell:/d%3A/1_Engin/1_Google_Drive/1_IT_Courses/1_Github_Mine/02_DA/03_DBMD/01_HD/07_DBMD_HD_05.ipynb#ch0000005?line=4'>5</a>\u001b[0m password \u001b[39m=\u001b[39m \u001b[39m'\u001b[39m\u001b[39m------\u001b[39m\u001b[39m'\u001b[39m\n\u001b[1;32m----> <a href='vscode-notebook-cell:/d%3A/1_Engin/1_Google_Drive/1_IT_Courses/1_Github_Mine/02_DA/03_DBMD/01_HD/07_DBMD_HD_05.ipynb#ch0000005?line=5'>6</a>\u001b[0m conn \u001b[39m=\u001b[39m create_server_connection(driver, server, database, user, password)\n",
      "\u001b[1;32md:\\1_Engin\\1_Google_Drive\\1_IT_Courses\\1_Github_Mine\\02_DA\\03_DBMD\\01_HD\\07_DBMD_HD_05.ipynb Cell 5'\u001b[0m in \u001b[0;36mcreate_server_connection\u001b[1;34m(driver, server, database, user, password)\u001b[0m\n\u001b[0;32m      <a href='vscode-notebook-cell:/d%3A/1_Engin/1_Google_Drive/1_IT_Courses/1_Github_Mine/02_DA/03_DBMD/01_HD/07_DBMD_HD_05.ipynb#ch0000004?line=3'>4</a>\u001b[0m     conn \u001b[39m=\u001b[39m pyodbc\u001b[39m.\u001b[39mconnect(DRIVER \u001b[39m=\u001b[39m driver, SERVER\u001b[39m=\u001b[39m server, DATABASE \u001b[39m=\u001b[39m database, UID\u001b[39m=\u001b[39m user, PWD\u001b[39m=\u001b[39m password)\n\u001b[0;32m      <a href='vscode-notebook-cell:/d%3A/1_Engin/1_Google_Drive/1_IT_Courses/1_Github_Mine/02_DA/03_DBMD/01_HD/07_DBMD_HD_05.ipynb#ch0000004?line=4'>5</a>\u001b[0m     \u001b[39mprint\u001b[39m(\u001b[39m\"\u001b[39m\u001b[39mSuccessfull\u001b[39m\u001b[39m\"\u001b[39m)\n\u001b[1;32m----> <a href='vscode-notebook-cell:/d%3A/1_Engin/1_Google_Drive/1_IT_Courses/1_Github_Mine/02_DA/03_DBMD/01_HD/07_DBMD_HD_05.ipynb#ch0000004?line=5'>6</a>\u001b[0m \u001b[39mexcept\u001b[39;00m Error \u001b[39mas\u001b[39;00m err:\n\u001b[0;32m      <a href='vscode-notebook-cell:/d%3A/1_Engin/1_Google_Drive/1_IT_Courses/1_Github_Mine/02_DA/03_DBMD/01_HD/07_DBMD_HD_05.ipynb#ch0000004?line=6'>7</a>\u001b[0m     \u001b[39mprint\u001b[39m(\u001b[39mf\u001b[39m\u001b[39m\"\u001b[39m\u001b[39mError:\u001b[39m\u001b[39m'\u001b[39m\u001b[39m{\u001b[39;00merr\u001b[39m}\u001b[39;00m\u001b[39m'\u001b[39m\u001b[39m\"\u001b[39m)\n\u001b[0;32m      <a href='vscode-notebook-cell:/d%3A/1_Engin/1_Google_Drive/1_IT_Courses/1_Github_Mine/02_DA/03_DBMD/01_HD/07_DBMD_HD_05.ipynb#ch0000004?line=7'>8</a>\u001b[0m \u001b[39mreturn\u001b[39;00m conn\n",
      "\u001b[1;31mNameError\u001b[0m: name 'Error' is not defined"
     ]
    }
   ],
   "source": [
    "driver = '{ODBC Driver 17 for SQL Server}'\n",
    "server = 'localhost' #şu anda server her birimizin kendi makinesi\n",
    "database = 'master'#yeni bir db oluşturacağız\n",
    "user = 'sa' \n",
    "password = '------'\n",
    "conn = create_server_connection(driver, server, database, user, password)"
   ]
  },
  {
   "cell_type": "code",
   "execution_count": 3,
   "metadata": {},
   "outputs": [
    {
     "data": {
      "text/plain": [
       "['SQL Server',\n",
       " 'Microsoft Access Driver (*.mdb, *.accdb)',\n",
       " 'Microsoft Excel Driver (*.xls, *.xlsx, *.xlsm, *.xlsb)',\n",
       " 'Microsoft Access Text Driver (*.txt, *.csv)',\n",
       " 'SQL Server Native Client 11.0',\n",
       " 'SQL Server Native Client RDA 11.0',\n",
       " 'ODBC Driver 17 for SQL Server']"
      ]
     },
     "execution_count": 3,
     "metadata": {},
     "output_type": "execute_result"
    }
   ],
   "source": [
    "pyodbc.drivers()"
   ]
  },
  {
   "cell_type": "markdown",
   "metadata": {},
   "source": [
    "### windows authentication"
   ]
  },
  {
   "cell_type": "code",
   "execution_count": 4,
   "metadata": {},
   "outputs": [],
   "source": [
    "conn_string = \"driver={ODBC Driver 17 for SQL Server}; server=localhost; database=master; TRUSTED_CONNECTION=yes;\""
   ]
  },
  {
   "cell_type": "code",
   "execution_count": 55,
   "metadata": {},
   "outputs": [],
   "source": [
    "conn = pyodbc.connect(conn_string);"
   ]
  },
  {
   "cell_type": "code",
   "execution_count": 56,
   "metadata": {},
   "outputs": [],
   "source": [
    "crs = conn.cursor()"
   ]
  },
  {
   "cell_type": "code",
   "execution_count": 57,
   "metadata": {},
   "outputs": [],
   "source": [
    "conn.autocommit = True"
   ]
  },
  {
   "cell_type": "code",
   "execution_count": 16,
   "metadata": {},
   "outputs": [],
   "source": [
    "#conn.commit() Her defasında commit etme zorunluluğu var yukarıdaki code bunu yapar"
   ]
  },
  {
   "cell_type": "code",
   "execution_count": 9,
   "metadata": {},
   "outputs": [],
   "source": [
    "create_database_query = 'Create database test_1'"
   ]
  },
  {
   "cell_type": "code",
   "execution_count": 17,
   "metadata": {},
   "outputs": [],
   "source": [
    "def create_database (conn, create_database_query):\n",
    "    crs = conn.cursor()\n",
    "    try: \n",
    "        crs.execute(create_database_query)\n",
    "        print(\"Database is Created Succesfully\")\n",
    "    except Error as err:\n",
    "        print(f\"Error:'{err}'\")"
   ]
  },
  {
   "cell_type": "code",
   "execution_count": 11,
   "metadata": {},
   "outputs": [
    {
     "name": "stdout",
     "output_type": "stream",
     "text": [
      "Database is Created Succesfully\n"
     ]
    }
   ],
   "source": [
    "create_database(conn, create_database_query)"
   ]
  },
  {
   "cell_type": "code",
   "execution_count": 18,
   "metadata": {},
   "outputs": [],
   "source": [
    "def execute_query(conn, query):\n",
    "    crs = conn.cursor()\n",
    "    try:\n",
    "        crs.execute(query)\n",
    "        conn.commit()\n",
    "        print(\"Query Succeessful!\")\n",
    "    except Error as err:\n",
    "        print(f\"Error:'{err}'\")"
   ]
  },
  {
   "cell_type": "code",
   "execution_count": 19,
   "metadata": {},
   "outputs": [
    {
     "name": "stdout",
     "output_type": "stream",
     "text": [
      "Query Succeessful!\n"
     ]
    }
   ],
   "source": [
    "query = 'USE Test_1'\n",
    "execute_query(conn,query)"
   ]
  },
  {
   "cell_type": "markdown",
   "metadata": {},
   "source": [
    "## Create Table "
   ]
  },
  {
   "cell_type": "code",
   "execution_count": 20,
   "metadata": {},
   "outputs": [
    {
     "ename": "NameError",
     "evalue": "name 'Error' is not defined",
     "output_type": "error",
     "traceback": [
      "\u001b[1;31m---------------------------------------------------------------------------\u001b[0m",
      "\u001b[1;31mProgrammingError\u001b[0m                          Traceback (most recent call last)",
      "\u001b[1;32md:\\1_Engin\\1_Google_Drive\\1_IT_Courses\\1_Github_Mine\\02_DA\\03_DBMD\\01_HD\\07_DBMD_HD_05.ipynb Cell 17'\u001b[0m in \u001b[0;36mexecute_query\u001b[1;34m(conn, query)\u001b[0m\n\u001b[0;32m      <a href='vscode-notebook-cell:/d%3A/1_Engin/1_Google_Drive/1_IT_Courses/1_Github_Mine/02_DA/03_DBMD/01_HD/07_DBMD_HD_05.ipynb#ch0000016?line=2'>3</a>\u001b[0m \u001b[39mtry\u001b[39;00m:\n\u001b[1;32m----> <a href='vscode-notebook-cell:/d%3A/1_Engin/1_Google_Drive/1_IT_Courses/1_Github_Mine/02_DA/03_DBMD/01_HD/07_DBMD_HD_05.ipynb#ch0000016?line=3'>4</a>\u001b[0m     crs\u001b[39m.\u001b[39;49mexecute(query)\n\u001b[0;32m      <a href='vscode-notebook-cell:/d%3A/1_Engin/1_Google_Drive/1_IT_Courses/1_Github_Mine/02_DA/03_DBMD/01_HD/07_DBMD_HD_05.ipynb#ch0000016?line=4'>5</a>\u001b[0m     conn\u001b[39m.\u001b[39mcommit()\n",
      "\u001b[1;31mProgrammingError\u001b[0m: ('42S01', \"[42S01] [Microsoft][ODBC Driver 17 for SQL Server][SQL Server]There is already an object named 'TestA' in the database. (2714) (SQLExecDirectW)\")",
      "\nDuring handling of the above exception, another exception occurred:\n",
      "\u001b[1;31mNameError\u001b[0m                                 Traceback (most recent call last)",
      "\u001b[1;32md:\\1_Engin\\1_Google_Drive\\1_IT_Courses\\1_Github_Mine\\02_DA\\03_DBMD\\01_HD\\07_DBMD_HD_05.ipynb Cell 20'\u001b[0m in \u001b[0;36m<module>\u001b[1;34m\u001b[0m\n\u001b[0;32m      <a href='vscode-notebook-cell:/d%3A/1_Engin/1_Google_Drive/1_IT_Courses/1_Github_Mine/02_DA/03_DBMD/01_HD/07_DBMD_HD_05.ipynb#ch0000019?line=0'>1</a>\u001b[0m query \u001b[39m=\u001b[39m \u001b[39m'\u001b[39m\u001b[39mCREATE TABLE TestA (\u001b[39m\u001b[39m\\\u001b[39;00m\n\u001b[0;32m      <a href='vscode-notebook-cell:/d%3A/1_Engin/1_Google_Drive/1_IT_Courses/1_Github_Mine/02_DA/03_DBMD/01_HD/07_DBMD_HD_05.ipynb#ch0000019?line=1'>2</a>\u001b[0m \u001b[39m           ID INT IDENTITY (1,1) NOT NULL, \u001b[39m\u001b[39m\\\u001b[39;00m\n\u001b[0;32m      <a href='vscode-notebook-cell:/d%3A/1_Engin/1_Google_Drive/1_IT_Courses/1_Github_Mine/02_DA/03_DBMD/01_HD/07_DBMD_HD_05.ipynb#ch0000019?line=2'>3</a>\u001b[0m \u001b[39m           FirstName VARCHAR(255) NOT NULL,\u001b[39m\u001b[39m\\\u001b[39;00m\n\u001b[0;32m      <a href='vscode-notebook-cell:/d%3A/1_Engin/1_Google_Drive/1_IT_Courses/1_Github_Mine/02_DA/03_DBMD/01_HD/07_DBMD_HD_05.ipynb#ch0000019?line=3'>4</a>\u001b[0m \u001b[39m           LastName VARCHAR(255) NOT NULL,\u001b[39m\u001b[39m\\\u001b[39;00m\n\u001b[0;32m      <a href='vscode-notebook-cell:/d%3A/1_Engin/1_Google_Drive/1_IT_Courses/1_Github_Mine/02_DA/03_DBMD/01_HD/07_DBMD_HD_05.ipynb#ch0000019?line=4'>5</a>\u001b[0m \u001b[39m           PRIMARY KEY(ID))\u001b[39m\u001b[39m'\u001b[39m\n\u001b[1;32m----> <a href='vscode-notebook-cell:/d%3A/1_Engin/1_Google_Drive/1_IT_Courses/1_Github_Mine/02_DA/03_DBMD/01_HD/07_DBMD_HD_05.ipynb#ch0000019?line=6'>7</a>\u001b[0m execute_query(conn, query)\n",
      "\u001b[1;32md:\\1_Engin\\1_Google_Drive\\1_IT_Courses\\1_Github_Mine\\02_DA\\03_DBMD\\01_HD\\07_DBMD_HD_05.ipynb Cell 17'\u001b[0m in \u001b[0;36mexecute_query\u001b[1;34m(conn, query)\u001b[0m\n\u001b[0;32m      <a href='vscode-notebook-cell:/d%3A/1_Engin/1_Google_Drive/1_IT_Courses/1_Github_Mine/02_DA/03_DBMD/01_HD/07_DBMD_HD_05.ipynb#ch0000016?line=4'>5</a>\u001b[0m     conn\u001b[39m.\u001b[39mcommit()\n\u001b[0;32m      <a href='vscode-notebook-cell:/d%3A/1_Engin/1_Google_Drive/1_IT_Courses/1_Github_Mine/02_DA/03_DBMD/01_HD/07_DBMD_HD_05.ipynb#ch0000016?line=5'>6</a>\u001b[0m     \u001b[39mprint\u001b[39m(\u001b[39m\"\u001b[39m\u001b[39mQuery Succeessful!\u001b[39m\u001b[39m\"\u001b[39m)\n\u001b[1;32m----> <a href='vscode-notebook-cell:/d%3A/1_Engin/1_Google_Drive/1_IT_Courses/1_Github_Mine/02_DA/03_DBMD/01_HD/07_DBMD_HD_05.ipynb#ch0000016?line=6'>7</a>\u001b[0m \u001b[39mexcept\u001b[39;00m Error \u001b[39mas\u001b[39;00m err:\n\u001b[0;32m      <a href='vscode-notebook-cell:/d%3A/1_Engin/1_Google_Drive/1_IT_Courses/1_Github_Mine/02_DA/03_DBMD/01_HD/07_DBMD_HD_05.ipynb#ch0000016?line=7'>8</a>\u001b[0m     \u001b[39mprint\u001b[39m(\u001b[39mf\u001b[39m\u001b[39m\"\u001b[39m\u001b[39mError:\u001b[39m\u001b[39m'\u001b[39m\u001b[39m{\u001b[39;00merr\u001b[39m}\u001b[39;00m\u001b[39m'\u001b[39m\u001b[39m\"\u001b[39m)\n",
      "\u001b[1;31mNameError\u001b[0m: name 'Error' is not defined"
     ]
    }
   ],
   "source": [
    "query = 'CREATE TABLE TestA (\\\n",
    "           ID INT IDENTITY (1,1) NOT NULL, \\\n",
    "           FirstName VARCHAR(255) NOT NULL,\\\n",
    "           LastName VARCHAR(255) NOT NULL,\\\n",
    "           PRIMARY KEY(ID))'\n",
    "\n",
    "execute_query(conn, query)"
   ]
  },
  {
   "cell_type": "markdown",
   "metadata": {},
   "source": [
    "## Insert"
   ]
  },
  {
   "cell_type": "code",
   "execution_count": 21,
   "metadata": {},
   "outputs": [
    {
     "data": {
      "text/plain": [
       "<pyodbc.Cursor at 0x2214d9bb730>"
      ]
     },
     "execution_count": 21,
     "metadata": {},
     "output_type": "execute_result"
    }
   ],
   "source": [
    "crs= conn.cursor()\n",
    "crs.execute(\"INSERT TestA (FirstName, LastName) VALUES ('Bob', 'Marley')\")\n",
    "#conn.commit()"
   ]
  },
  {
   "cell_type": "code",
   "execution_count": 22,
   "metadata": {},
   "outputs": [
    {
     "data": {
      "text/plain": [
       "<pyodbc.Cursor at 0x2214d9bb730>"
      ]
     },
     "execution_count": 22,
     "metadata": {},
     "output_type": "execute_result"
    }
   ],
   "source": [
    "crs.execute(\"INSERT TestA (FirstName, LastName) VALUES (?,?)\",'Bruce', 'Lee')"
   ]
  },
  {
   "cell_type": "code",
   "execution_count": 23,
   "metadata": {},
   "outputs": [
    {
     "data": {
      "text/plain": [
       "<pyodbc.Cursor at 0x2214d9bb730>"
      ]
     },
     "execution_count": 23,
     "metadata": {},
     "output_type": "execute_result"
    }
   ],
   "source": [
    "crs.execute(\"INSERT TestA (FirstName, LastName) VALUES (?,?)\",'Tom', 'Hanks')\n",
    "crs.execute(\"INSERT TestA (FirstName, LastName) VALUES (?,?)\",'Bart', 'Simpson')"
   ]
  },
  {
   "cell_type": "code",
   "execution_count": 24,
   "metadata": {},
   "outputs": [
    {
     "data": {
      "text/plain": [
       "<pyodbc.Cursor at 0x2214d9bb730>"
      ]
     },
     "execution_count": 24,
     "metadata": {},
     "output_type": "execute_result"
    }
   ],
   "source": [
    "crs.execute(\"INSERT TestA (FirstName, LastName) VALUES (?,?)\",'Tom', 'Cat')\n",
    "crs.execute(\"INSERT TestA (FirstName, LastName) VALUES (?,?)\",'Jerry', 'Mouse')\n",
    "crs.execute(\"INSERT TestA (FirstName, LastName) VALUES (?,?)\",'Owen', 'William')\n",
    "crs.execute(\"INSERT TestA (FirstName, LastName) VALUES (?,?)\",'Stefan', 'Müller')"
   ]
  },
  {
   "cell_type": "markdown",
   "metadata": {},
   "source": [
    "## Delete "
   ]
  },
  {
   "cell_type": "code",
   "execution_count": 21,
   "metadata": {},
   "outputs": [
    {
     "data": {
      "text/plain": [
       "<pyodbc.Cursor at 0x211751e65b0>"
      ]
     },
     "execution_count": 21,
     "metadata": {},
     "output_type": "execute_result"
    }
   ],
   "source": [
    "crs.execute(\"DELETE FROM TestA WHERE FirstName = 'Jerry'\")"
   ]
  },
  {
   "cell_type": "code",
   "execution_count": 22,
   "metadata": {},
   "outputs": [
    {
     "data": {
      "text/plain": [
       "<pyodbc.Cursor at 0x211751e65b0>"
      ]
     },
     "execution_count": 22,
     "metadata": {},
     "output_type": "execute_result"
    }
   ],
   "source": [
    "crs.execute(\"DELETE FROM TestA WHERE FirstName = ?\" ,'Stefan')"
   ]
  },
  {
   "cell_type": "markdown",
   "metadata": {},
   "source": [
    "## Rowcount "
   ]
  },
  {
   "cell_type": "code",
   "execution_count": 23,
   "metadata": {},
   "outputs": [
    {
     "data": {
      "text/plain": [
       "1"
      ]
     },
     "execution_count": 23,
     "metadata": {},
     "output_type": "execute_result"
    }
   ],
   "source": [
    "crs.rowcount"
   ]
  },
  {
   "cell_type": "code",
   "execution_count": 24,
   "metadata": {},
   "outputs": [
    {
     "name": "stdout",
     "output_type": "stream",
     "text": [
      "1 row(s) deleted\n"
     ]
    }
   ],
   "source": [
    "print(crs.rowcount,\"row(s) deleted\")"
   ]
  },
  {
   "cell_type": "markdown",
   "metadata": {},
   "source": [
    "## read data"
   ]
  },
  {
   "cell_type": "markdown",
   "metadata": {},
   "source": [
    "### fetchone()"
   ]
  },
  {
   "cell_type": "code",
   "execution_count": 25,
   "metadata": {},
   "outputs": [
    {
     "data": {
      "text/plain": [
       "('Bob', 'Marley')"
      ]
     },
     "execution_count": 25,
     "metadata": {},
     "output_type": "execute_result"
    }
   ],
   "source": [
    "crs.execute('SELECT FirstName, LastName FROM TestA')\n",
    "row = crs.fetchone() #tablodaki ilk kaydı getirir\n",
    "row"
   ]
  },
  {
   "cell_type": "code",
   "execution_count": 26,
   "metadata": {},
   "outputs": [
    {
     "data": {
      "text/plain": [
       "('Bruce', 'Lee')"
      ]
     },
     "execution_count": 26,
     "metadata": {},
     "output_type": "execute_result"
    }
   ],
   "source": [
    "row = crs.fetchone() #tablodaki ilk kaydı getirir, bir sonrakini getirir her seferinde\n",
    "row"
   ]
  },
  {
   "cell_type": "code",
   "execution_count": 27,
   "metadata": {},
   "outputs": [
    {
     "data": {
      "text/plain": [
       "'Bruce'"
      ]
     },
     "execution_count": 27,
     "metadata": {},
     "output_type": "execute_result"
    }
   ],
   "source": [
    "row.FirstName"
   ]
  },
  {
   "cell_type": "code",
   "execution_count": 28,
   "metadata": {},
   "outputs": [
    {
     "data": {
      "text/plain": [
       "'Lee'"
      ]
     },
     "execution_count": 28,
     "metadata": {},
     "output_type": "execute_result"
    }
   ],
   "source": [
    "row.LastName"
   ]
  },
  {
   "cell_type": "markdown",
   "metadata": {},
   "source": [
    "## fetchall()"
   ]
  },
  {
   "cell_type": "code",
   "execution_count": 29,
   "metadata": {},
   "outputs": [
    {
     "data": {
      "text/plain": [
       "[(1, 'Bob', 'Marley'),\n",
       " (2, 'Bruce', 'Lee'),\n",
       " (3, 'Tom', 'Hanks'),\n",
       " (4, 'Bart', 'Simpson'),\n",
       " (5, 'Tom', 'Hanks'),\n",
       " (6, 'Bart', 'Simpson'),\n",
       " (7, 'Tom', 'Cat'),\n",
       " (9, 'Owen', 'William'),\n",
       " (11, 'Bob', 'Marley'),\n",
       " (12, 'Bruce', 'Lee'),\n",
       " (13, 'Tom', 'Hanks'),\n",
       " (14, 'Bart', 'Simpson'),\n",
       " (15, 'Tom', 'Cat'),\n",
       " (16, 'Jerry', 'Mouse'),\n",
       " (17, 'Owen', 'William'),\n",
       " (18, 'Stefan', 'Müller')]"
      ]
     },
     "execution_count": 29,
     "metadata": {},
     "output_type": "execute_result"
    }
   ],
   "source": [
    "crs.execute('SELECT ID, FirstName, LastName FROM TestA')\n",
    "rows = crs.fetchall()\n",
    "rows"
   ]
  },
  {
   "cell_type": "code",
   "execution_count": 30,
   "metadata": {},
   "outputs": [
    {
     "name": "stdout",
     "output_type": "stream",
     "text": [
      "1 Bob Marley\n",
      "2 Bruce Lee\n",
      "3 Tom Hanks\n",
      "4 Bart Simpson\n",
      "5 Tom Hanks\n",
      "6 Bart Simpson\n",
      "7 Tom Cat\n",
      "9 Owen William\n",
      "11 Bob Marley\n",
      "12 Bruce Lee\n",
      "13 Tom Hanks\n",
      "14 Bart Simpson\n",
      "15 Tom Cat\n",
      "16 Jerry Mouse\n",
      "17 Owen William\n",
      "18 Stefan Müller\n"
     ]
    }
   ],
   "source": [
    "for row in rows:\n",
    "    print(row.ID, row.FirstName, row.LastName)"
   ]
  },
  {
   "cell_type": "code",
   "execution_count": 31,
   "metadata": {},
   "outputs": [
    {
     "data": {
      "text/plain": [
       "[(1, 'Bob', 'Marley'),\n",
       " (2, 'Bruce', 'Lee'),\n",
       " (3, 'Tom', 'Hanks'),\n",
       " (4, 'Bart', 'Simpson'),\n",
       " (5, 'Tom', 'Hanks'),\n",
       " (6, 'Bart', 'Simpson'),\n",
       " (7, 'Tom', 'Cat'),\n",
       " (9, 'Owen', 'William'),\n",
       " (11, 'Bob', 'Marley'),\n",
       " (12, 'Bruce', 'Lee'),\n",
       " (13, 'Tom', 'Hanks'),\n",
       " (14, 'Bart', 'Simpson'),\n",
       " (15, 'Tom', 'Cat'),\n",
       " (16, 'Jerry', 'Mouse'),\n",
       " (17, 'Owen', 'William'),\n",
       " (18, 'Stefan', 'Müller')]"
      ]
     },
     "execution_count": 31,
     "metadata": {},
     "output_type": "execute_result"
    }
   ],
   "source": [
    "crs.execute(\"\"\"SELECT ID, FirstName, LastName \n",
    "                FROM TestA\"\"\")\n",
    "rows = crs.fetchall()\n",
    "rows"
   ]
  },
  {
   "cell_type": "code",
   "execution_count": 32,
   "metadata": {},
   "outputs": [
    {
     "data": {
      "text/plain": [
       "list"
      ]
     },
     "execution_count": 32,
     "metadata": {},
     "output_type": "execute_result"
    }
   ],
   "source": [
    "type(rows)"
   ]
  },
  {
   "cell_type": "code",
   "execution_count": 33,
   "metadata": {},
   "outputs": [
    {
     "data": {
      "text/plain": [
       "[(9, 'Owen', 'William'), (17, 'Owen', 'William')]"
      ]
     },
     "execution_count": 33,
     "metadata": {},
     "output_type": "execute_result"
    }
   ],
   "source": [
    "crs.execute(\"\"\"SELECT ID, FirstName, LastName \n",
    "               FROM TestA\n",
    "               WHERE FirstName = ? and LastName = ?\"\"\", ['Owen', 'William'])\n",
    "rows = crs.fetchall()\n",
    "rows"
   ]
  },
  {
   "cell_type": "markdown",
   "metadata": {},
   "source": [
    "## Fetchmany()"
   ]
  },
  {
   "cell_type": "code",
   "execution_count": 34,
   "metadata": {},
   "outputs": [
    {
     "data": {
      "text/plain": [
       "[(1, 'Bob', 'Marley'), (2, 'Bruce', 'Lee')]"
      ]
     },
     "execution_count": 34,
     "metadata": {},
     "output_type": "execute_result"
    }
   ],
   "source": [
    "crs.execute(\"\"\"SELECT ID, FirstName, LastName \n",
    "               FROM TestA\"\"\")\n",
    "rows = crs.fetchmany(2)\n",
    "rows"
   ]
  },
  {
   "cell_type": "markdown",
   "metadata": {},
   "source": [
    "## Fetchval()"
   ]
  },
  {
   "cell_type": "code",
   "execution_count": 35,
   "metadata": {},
   "outputs": [
    {
     "data": {
      "text/plain": [
       "9"
      ]
     },
     "execution_count": 35,
     "metadata": {},
     "output_type": "execute_result"
    }
   ],
   "source": [
    "crs.execute(\"SELECT MAX(ID) FROM TestA\").fetchval()"
   ]
  },
  {
   "cell_type": "code",
   "execution_count": 36,
   "metadata": {},
   "outputs": [
    {
     "data": {
      "text/plain": [
       "'Bob'"
      ]
     },
     "execution_count": 36,
     "metadata": {},
     "output_type": "execute_result"
    }
   ],
   "source": [
    "crs.execute(\"SELECT FirstName FROM TestA\").fetchval()"
   ]
  },
  {
   "cell_type": "markdown",
   "metadata": {},
   "source": [
    "## Pandas Methods"
   ]
  },
  {
   "cell_type": "code",
   "execution_count": 34,
   "metadata": {},
   "outputs": [],
   "source": [
    "import pandas as pd"
   ]
  },
  {
   "cell_type": "code",
   "execution_count": 35,
   "metadata": {},
   "outputs": [],
   "source": [
    "def read_query (conn, query): #connection nesnesi yukarıda tanımlanmıştı.\n",
    "    crs = conn. cursor()\n",
    "    results = None\n",
    "    crs.execute(query)\n",
    "    results = crs.fetchall()\n",
    "    return results"
   ]
  },
  {
   "cell_type": "code",
   "execution_count": 36,
   "metadata": {},
   "outputs": [],
   "source": [
    "query = \"\"\"SELECT ID, FirstName, LastName FROM TestA\"\"\""
   ]
  },
  {
   "cell_type": "code",
   "execution_count": 37,
   "metadata": {},
   "outputs": [],
   "source": [
    "result = read_query (conn, query)"
   ]
  },
  {
   "cell_type": "code",
   "execution_count": 38,
   "metadata": {},
   "outputs": [
    {
     "data": {
      "text/plain": [
       "[(1, 'Bob', 'Marley'),\n",
       " (2, 'Bruce', 'Lee'),\n",
       " (3, 'Tom', 'Hanks'),\n",
       " (4, 'Bart', 'Simpson'),\n",
       " (5, 'Tom', 'Hanks'),\n",
       " (6, 'Bart', 'Simpson'),\n",
       " (7, 'Tom', 'Cat'),\n",
       " (9, 'Owen', 'William'),\n",
       " (11, 'Bob', 'Marley'),\n",
       " (12, 'Bruce', 'Lee'),\n",
       " (13, 'Tom', 'Hanks'),\n",
       " (14, 'Bart', 'Simpson'),\n",
       " (15, 'Tom', 'Cat'),\n",
       " (16, 'Jerry', 'Mouse'),\n",
       " (17, 'Owen', 'William'),\n",
       " (18, 'Stefan', 'Müller')]"
      ]
     },
     "execution_count": 38,
     "metadata": {},
     "output_type": "execute_result"
    }
   ],
   "source": [
    "result"
   ]
  },
  {
   "cell_type": "code",
   "execution_count": 39,
   "metadata": {},
   "outputs": [],
   "source": [
    "df= pd.DataFrame(result)"
   ]
  },
  {
   "cell_type": "code",
   "execution_count": 40,
   "metadata": {},
   "outputs": [
    {
     "data": {
      "text/html": [
       "<div>\n",
       "<style scoped>\n",
       "    .dataframe tbody tr th:only-of-type {\n",
       "        vertical-align: middle;\n",
       "    }\n",
       "\n",
       "    .dataframe tbody tr th {\n",
       "        vertical-align: top;\n",
       "    }\n",
       "\n",
       "    .dataframe thead th {\n",
       "        text-align: right;\n",
       "    }\n",
       "</style>\n",
       "<table border=\"1\" class=\"dataframe\">\n",
       "  <thead>\n",
       "    <tr style=\"text-align: right;\">\n",
       "      <th></th>\n",
       "      <th>0</th>\n",
       "    </tr>\n",
       "  </thead>\n",
       "  <tbody>\n",
       "    <tr>\n",
       "      <th>0</th>\n",
       "      <td>[1, Bob, Marley]</td>\n",
       "    </tr>\n",
       "    <tr>\n",
       "      <th>1</th>\n",
       "      <td>[2, Bruce, Lee]</td>\n",
       "    </tr>\n",
       "    <tr>\n",
       "      <th>2</th>\n",
       "      <td>[3, Tom, Hanks]</td>\n",
       "    </tr>\n",
       "    <tr>\n",
       "      <th>3</th>\n",
       "      <td>[4, Bart, Simpson]</td>\n",
       "    </tr>\n",
       "    <tr>\n",
       "      <th>4</th>\n",
       "      <td>[5, Tom, Hanks]</td>\n",
       "    </tr>\n",
       "    <tr>\n",
       "      <th>5</th>\n",
       "      <td>[6, Bart, Simpson]</td>\n",
       "    </tr>\n",
       "    <tr>\n",
       "      <th>6</th>\n",
       "      <td>[7, Tom, Cat]</td>\n",
       "    </tr>\n",
       "    <tr>\n",
       "      <th>7</th>\n",
       "      <td>[9, Owen, William]</td>\n",
       "    </tr>\n",
       "    <tr>\n",
       "      <th>8</th>\n",
       "      <td>[11, Bob, Marley]</td>\n",
       "    </tr>\n",
       "    <tr>\n",
       "      <th>9</th>\n",
       "      <td>[12, Bruce, Lee]</td>\n",
       "    </tr>\n",
       "    <tr>\n",
       "      <th>10</th>\n",
       "      <td>[13, Tom, Hanks]</td>\n",
       "    </tr>\n",
       "    <tr>\n",
       "      <th>11</th>\n",
       "      <td>[14, Bart, Simpson]</td>\n",
       "    </tr>\n",
       "    <tr>\n",
       "      <th>12</th>\n",
       "      <td>[15, Tom, Cat]</td>\n",
       "    </tr>\n",
       "    <tr>\n",
       "      <th>13</th>\n",
       "      <td>[16, Jerry, Mouse]</td>\n",
       "    </tr>\n",
       "    <tr>\n",
       "      <th>14</th>\n",
       "      <td>[17, Owen, William]</td>\n",
       "    </tr>\n",
       "    <tr>\n",
       "      <th>15</th>\n",
       "      <td>[18, Stefan, Müller]</td>\n",
       "    </tr>\n",
       "  </tbody>\n",
       "</table>\n",
       "</div>"
      ],
      "text/plain": [
       "                       0\n",
       "0       [1, Bob, Marley]\n",
       "1        [2, Bruce, Lee]\n",
       "2        [3, Tom, Hanks]\n",
       "3     [4, Bart, Simpson]\n",
       "4        [5, Tom, Hanks]\n",
       "5     [6, Bart, Simpson]\n",
       "6          [7, Tom, Cat]\n",
       "7     [9, Owen, William]\n",
       "8      [11, Bob, Marley]\n",
       "9       [12, Bruce, Lee]\n",
       "10      [13, Tom, Hanks]\n",
       "11   [14, Bart, Simpson]\n",
       "12        [15, Tom, Cat]\n",
       "13    [16, Jerry, Mouse]\n",
       "14   [17, Owen, William]\n",
       "15  [18, Stefan, Müller]"
      ]
     },
     "execution_count": 40,
     "metadata": {},
     "output_type": "execute_result"
    }
   ],
   "source": [
    "df"
   ]
  },
  {
   "cell_type": "code",
   "execution_count": 41,
   "metadata": {},
   "outputs": [],
   "source": [
    "from_db = []\n",
    "\n",
    "for result in result:\n",
    "    result = list(result)\n",
    "    from_db.append(result)"
   ]
  },
  {
   "cell_type": "code",
   "execution_count": 42,
   "metadata": {},
   "outputs": [
    {
     "data": {
      "text/plain": [
       "[[1, 'Bob', 'Marley'],\n",
       " [2, 'Bruce', 'Lee'],\n",
       " [3, 'Tom', 'Hanks'],\n",
       " [4, 'Bart', 'Simpson'],\n",
       " [5, 'Tom', 'Hanks'],\n",
       " [6, 'Bart', 'Simpson'],\n",
       " [7, 'Tom', 'Cat'],\n",
       " [9, 'Owen', 'William'],\n",
       " [11, 'Bob', 'Marley'],\n",
       " [12, 'Bruce', 'Lee'],\n",
       " [13, 'Tom', 'Hanks'],\n",
       " [14, 'Bart', 'Simpson'],\n",
       " [15, 'Tom', 'Cat'],\n",
       " [16, 'Jerry', 'Mouse'],\n",
       " [17, 'Owen', 'William'],\n",
       " [18, 'Stefan', 'Müller']]"
      ]
     },
     "execution_count": 42,
     "metadata": {},
     "output_type": "execute_result"
    }
   ],
   "source": [
    "from_db"
   ]
  },
  {
   "cell_type": "code",
   "execution_count": 43,
   "metadata": {},
   "outputs": [
    {
     "data": {
      "text/html": [
       "<div>\n",
       "<style scoped>\n",
       "    .dataframe tbody tr th:only-of-type {\n",
       "        vertical-align: middle;\n",
       "    }\n",
       "\n",
       "    .dataframe tbody tr th {\n",
       "        vertical-align: top;\n",
       "    }\n",
       "\n",
       "    .dataframe thead th {\n",
       "        text-align: right;\n",
       "    }\n",
       "</style>\n",
       "<table border=\"1\" class=\"dataframe\">\n",
       "  <thead>\n",
       "    <tr style=\"text-align: right;\">\n",
       "      <th></th>\n",
       "      <th>ID</th>\n",
       "      <th>FirstName</th>\n",
       "      <th>LastName</th>\n",
       "    </tr>\n",
       "  </thead>\n",
       "  <tbody>\n",
       "    <tr>\n",
       "      <th>0</th>\n",
       "      <td>1</td>\n",
       "      <td>Bob</td>\n",
       "      <td>Marley</td>\n",
       "    </tr>\n",
       "    <tr>\n",
       "      <th>1</th>\n",
       "      <td>2</td>\n",
       "      <td>Bruce</td>\n",
       "      <td>Lee</td>\n",
       "    </tr>\n",
       "    <tr>\n",
       "      <th>2</th>\n",
       "      <td>3</td>\n",
       "      <td>Tom</td>\n",
       "      <td>Hanks</td>\n",
       "    </tr>\n",
       "    <tr>\n",
       "      <th>3</th>\n",
       "      <td>4</td>\n",
       "      <td>Bart</td>\n",
       "      <td>Simpson</td>\n",
       "    </tr>\n",
       "    <tr>\n",
       "      <th>4</th>\n",
       "      <td>5</td>\n",
       "      <td>Tom</td>\n",
       "      <td>Hanks</td>\n",
       "    </tr>\n",
       "    <tr>\n",
       "      <th>5</th>\n",
       "      <td>6</td>\n",
       "      <td>Bart</td>\n",
       "      <td>Simpson</td>\n",
       "    </tr>\n",
       "    <tr>\n",
       "      <th>6</th>\n",
       "      <td>7</td>\n",
       "      <td>Tom</td>\n",
       "      <td>Cat</td>\n",
       "    </tr>\n",
       "    <tr>\n",
       "      <th>7</th>\n",
       "      <td>9</td>\n",
       "      <td>Owen</td>\n",
       "      <td>William</td>\n",
       "    </tr>\n",
       "    <tr>\n",
       "      <th>8</th>\n",
       "      <td>11</td>\n",
       "      <td>Bob</td>\n",
       "      <td>Marley</td>\n",
       "    </tr>\n",
       "    <tr>\n",
       "      <th>9</th>\n",
       "      <td>12</td>\n",
       "      <td>Bruce</td>\n",
       "      <td>Lee</td>\n",
       "    </tr>\n",
       "    <tr>\n",
       "      <th>10</th>\n",
       "      <td>13</td>\n",
       "      <td>Tom</td>\n",
       "      <td>Hanks</td>\n",
       "    </tr>\n",
       "    <tr>\n",
       "      <th>11</th>\n",
       "      <td>14</td>\n",
       "      <td>Bart</td>\n",
       "      <td>Simpson</td>\n",
       "    </tr>\n",
       "    <tr>\n",
       "      <th>12</th>\n",
       "      <td>15</td>\n",
       "      <td>Tom</td>\n",
       "      <td>Cat</td>\n",
       "    </tr>\n",
       "    <tr>\n",
       "      <th>13</th>\n",
       "      <td>16</td>\n",
       "      <td>Jerry</td>\n",
       "      <td>Mouse</td>\n",
       "    </tr>\n",
       "    <tr>\n",
       "      <th>14</th>\n",
       "      <td>17</td>\n",
       "      <td>Owen</td>\n",
       "      <td>William</td>\n",
       "    </tr>\n",
       "    <tr>\n",
       "      <th>15</th>\n",
       "      <td>18</td>\n",
       "      <td>Stefan</td>\n",
       "      <td>Müller</td>\n",
       "    </tr>\n",
       "  </tbody>\n",
       "</table>\n",
       "</div>"
      ],
      "text/plain": [
       "    ID FirstName LastName\n",
       "0    1       Bob   Marley\n",
       "1    2     Bruce      Lee\n",
       "2    3       Tom    Hanks\n",
       "3    4      Bart  Simpson\n",
       "4    5       Tom    Hanks\n",
       "5    6      Bart  Simpson\n",
       "6    7       Tom      Cat\n",
       "7    9      Owen  William\n",
       "8   11       Bob   Marley\n",
       "9   12     Bruce      Lee\n",
       "10  13       Tom    Hanks\n",
       "11  14      Bart  Simpson\n",
       "12  15       Tom      Cat\n",
       "13  16     Jerry    Mouse\n",
       "14  17      Owen  William\n",
       "15  18    Stefan   Müller"
      ]
     },
     "execution_count": 43,
     "metadata": {},
     "output_type": "execute_result"
    }
   ],
   "source": [
    "columns = ['ID','FirstName', 'LastName']\n",
    "df = pd.DataFrame(from_db, columns = columns)\n",
    "df"
   ]
  },
  {
   "cell_type": "code",
   "execution_count": 44,
   "metadata": {},
   "outputs": [
    {
     "name": "stdout",
     "output_type": "stream",
     "text": [
      "Query Succeessful!\n"
     ]
    }
   ],
   "source": [
    "query = 'USE BikeStores'\n",
    "execute_query(conn,query)"
   ]
  },
  {
   "cell_type": "code",
   "execution_count": 45,
   "metadata": {},
   "outputs": [
    {
     "data": {
      "text/plain": [
       "[(1, 'Electra'),\n",
       " (2, 'Haro'),\n",
       " (3, 'Heller'),\n",
       " (4, 'Pure Cycles'),\n",
       " (5, 'Ritchey'),\n",
       " (6, 'Strider'),\n",
       " (7, 'Sun Bicycles'),\n",
       " (8, 'Surly'),\n",
       " (9, 'Trek')]"
      ]
     },
     "execution_count": 45,
     "metadata": {},
     "output_type": "execute_result"
    }
   ],
   "source": [
    "crs.execute(\"SELECT * FROM production.brands\").fetchall()"
   ]
  },
  {
   "cell_type": "code",
   "execution_count": 46,
   "metadata": {},
   "outputs": [
    {
     "data": {
      "text/html": [
       "<div>\n",
       "<style scoped>\n",
       "    .dataframe tbody tr th:only-of-type {\n",
       "        vertical-align: middle;\n",
       "    }\n",
       "\n",
       "    .dataframe tbody tr th {\n",
       "        vertical-align: top;\n",
       "    }\n",
       "\n",
       "    .dataframe thead th {\n",
       "        text-align: right;\n",
       "    }\n",
       "</style>\n",
       "<table border=\"1\" class=\"dataframe\">\n",
       "  <thead>\n",
       "    <tr style=\"text-align: right;\">\n",
       "      <th></th>\n",
       "      <th>brand_id</th>\n",
       "      <th>brand_name</th>\n",
       "    </tr>\n",
       "  </thead>\n",
       "  <tbody>\n",
       "    <tr>\n",
       "      <th>0</th>\n",
       "      <td>1</td>\n",
       "      <td>Electra</td>\n",
       "    </tr>\n",
       "    <tr>\n",
       "      <th>1</th>\n",
       "      <td>2</td>\n",
       "      <td>Haro</td>\n",
       "    </tr>\n",
       "    <tr>\n",
       "      <th>2</th>\n",
       "      <td>3</td>\n",
       "      <td>Heller</td>\n",
       "    </tr>\n",
       "    <tr>\n",
       "      <th>3</th>\n",
       "      <td>4</td>\n",
       "      <td>Pure Cycles</td>\n",
       "    </tr>\n",
       "    <tr>\n",
       "      <th>4</th>\n",
       "      <td>5</td>\n",
       "      <td>Ritchey</td>\n",
       "    </tr>\n",
       "    <tr>\n",
       "      <th>5</th>\n",
       "      <td>6</td>\n",
       "      <td>Strider</td>\n",
       "    </tr>\n",
       "    <tr>\n",
       "      <th>6</th>\n",
       "      <td>7</td>\n",
       "      <td>Sun Bicycles</td>\n",
       "    </tr>\n",
       "    <tr>\n",
       "      <th>7</th>\n",
       "      <td>8</td>\n",
       "      <td>Surly</td>\n",
       "    </tr>\n",
       "    <tr>\n",
       "      <th>8</th>\n",
       "      <td>9</td>\n",
       "      <td>Trek</td>\n",
       "    </tr>\n",
       "  </tbody>\n",
       "</table>\n",
       "</div>"
      ],
      "text/plain": [
       "   brand_id    brand_name\n",
       "0         1       Electra\n",
       "1         2          Haro\n",
       "2         3        Heller\n",
       "3         4   Pure Cycles\n",
       "4         5       Ritchey\n",
       "5         6       Strider\n",
       "6         7  Sun Bicycles\n",
       "7         8         Surly\n",
       "8         9          Trek"
      ]
     },
     "execution_count": 46,
     "metadata": {},
     "output_type": "execute_result"
    }
   ],
   "source": [
    "pd.read_sql(\"SELECT * FROM production.brands\", con = conn)"
   ]
  },
  {
   "cell_type": "code",
   "execution_count": 47,
   "metadata": {},
   "outputs": [
    {
     "data": {
      "text/html": [
       "<div>\n",
       "<style scoped>\n",
       "    .dataframe tbody tr th:only-of-type {\n",
       "        vertical-align: middle;\n",
       "    }\n",
       "\n",
       "    .dataframe tbody tr th {\n",
       "        vertical-align: top;\n",
       "    }\n",
       "\n",
       "    .dataframe thead th {\n",
       "        text-align: right;\n",
       "    }\n",
       "</style>\n",
       "<table border=\"1\" class=\"dataframe\">\n",
       "  <thead>\n",
       "    <tr style=\"text-align: right;\">\n",
       "      <th></th>\n",
       "      <th>product_id</th>\n",
       "      <th>product_name</th>\n",
       "      <th>brand_id</th>\n",
       "      <th>category_id</th>\n",
       "      <th>model_year</th>\n",
       "      <th>list_price</th>\n",
       "    </tr>\n",
       "  </thead>\n",
       "  <tbody>\n",
       "    <tr>\n",
       "      <th>0</th>\n",
       "      <td>1</td>\n",
       "      <td>Trek 820 - 2016</td>\n",
       "      <td>9</td>\n",
       "      <td>6</td>\n",
       "      <td>2016</td>\n",
       "      <td>379.99</td>\n",
       "    </tr>\n",
       "    <tr>\n",
       "      <th>1</th>\n",
       "      <td>2</td>\n",
       "      <td>Ritchey Timberwolf Frameset - 2016</td>\n",
       "      <td>5</td>\n",
       "      <td>6</td>\n",
       "      <td>2016</td>\n",
       "      <td>749.99</td>\n",
       "    </tr>\n",
       "    <tr>\n",
       "      <th>2</th>\n",
       "      <td>3</td>\n",
       "      <td>Surly Wednesday Frameset - 2016</td>\n",
       "      <td>8</td>\n",
       "      <td>6</td>\n",
       "      <td>2016</td>\n",
       "      <td>999.99</td>\n",
       "    </tr>\n",
       "    <tr>\n",
       "      <th>3</th>\n",
       "      <td>4</td>\n",
       "      <td>Trek Fuel EX 8 29 - 2016</td>\n",
       "      <td>9</td>\n",
       "      <td>6</td>\n",
       "      <td>2016</td>\n",
       "      <td>2899.99</td>\n",
       "    </tr>\n",
       "    <tr>\n",
       "      <th>4</th>\n",
       "      <td>5</td>\n",
       "      <td>Heller Shagamaw Frame - 2016</td>\n",
       "      <td>3</td>\n",
       "      <td>6</td>\n",
       "      <td>2016</td>\n",
       "      <td>1320.99</td>\n",
       "    </tr>\n",
       "    <tr>\n",
       "      <th>5</th>\n",
       "      <td>6</td>\n",
       "      <td>Surly Ice Cream Truck Frameset - 2016</td>\n",
       "      <td>8</td>\n",
       "      <td>6</td>\n",
       "      <td>2016</td>\n",
       "      <td>469.99</td>\n",
       "    </tr>\n",
       "    <tr>\n",
       "      <th>6</th>\n",
       "      <td>7</td>\n",
       "      <td>Trek Slash 8 27.5 - 2016</td>\n",
       "      <td>9</td>\n",
       "      <td>6</td>\n",
       "      <td>2016</td>\n",
       "      <td>3999.99</td>\n",
       "    </tr>\n",
       "    <tr>\n",
       "      <th>7</th>\n",
       "      <td>8</td>\n",
       "      <td>Trek Remedy 29 Carbon Frameset - 2016</td>\n",
       "      <td>9</td>\n",
       "      <td>6</td>\n",
       "      <td>2016</td>\n",
       "      <td>1799.99</td>\n",
       "    </tr>\n",
       "    <tr>\n",
       "      <th>8</th>\n",
       "      <td>9</td>\n",
       "      <td>Trek Conduit+ - 2016</td>\n",
       "      <td>9</td>\n",
       "      <td>5</td>\n",
       "      <td>2016</td>\n",
       "      <td>2999.99</td>\n",
       "    </tr>\n",
       "    <tr>\n",
       "      <th>9</th>\n",
       "      <td>10</td>\n",
       "      <td>Surly Straggler - 2016</td>\n",
       "      <td>8</td>\n",
       "      <td>4</td>\n",
       "      <td>2016</td>\n",
       "      <td>1549.00</td>\n",
       "    </tr>\n",
       "  </tbody>\n",
       "</table>\n",
       "</div>"
      ],
      "text/plain": [
       "   product_id                           product_name  brand_id  category_id  \\\n",
       "0           1                        Trek 820 - 2016         9            6   \n",
       "1           2     Ritchey Timberwolf Frameset - 2016         5            6   \n",
       "2           3        Surly Wednesday Frameset - 2016         8            6   \n",
       "3           4               Trek Fuel EX 8 29 - 2016         9            6   \n",
       "4           5           Heller Shagamaw Frame - 2016         3            6   \n",
       "5           6  Surly Ice Cream Truck Frameset - 2016         8            6   \n",
       "6           7               Trek Slash 8 27.5 - 2016         9            6   \n",
       "7           8  Trek Remedy 29 Carbon Frameset - 2016         9            6   \n",
       "8           9                   Trek Conduit+ - 2016         9            5   \n",
       "9          10                 Surly Straggler - 2016         8            4   \n",
       "\n",
       "   model_year  list_price  \n",
       "0        2016      379.99  \n",
       "1        2016      749.99  \n",
       "2        2016      999.99  \n",
       "3        2016     2899.99  \n",
       "4        2016     1320.99  \n",
       "5        2016      469.99  \n",
       "6        2016     3999.99  \n",
       "7        2016     1799.99  \n",
       "8        2016     2999.99  \n",
       "9        2016     1549.00  "
      ]
     },
     "execution_count": 47,
     "metadata": {},
     "output_type": "execute_result"
    }
   ],
   "source": [
    "df_prod = pd.read_sql(\"SELECT * FROM production.products\", con = conn)\n",
    "df_prod.head(10)"
   ]
  },
  {
   "cell_type": "markdown",
   "metadata": {},
   "source": [
    "## DF to Databese"
   ]
  },
  {
   "cell_type": "code",
   "execution_count": 63,
   "metadata": {},
   "outputs": [],
   "source": [
    "import sqlalchemy\n",
    "import urllib"
   ]
  },
  {
   "cell_type": "code",
   "execution_count": 64,
   "metadata": {},
   "outputs": [
    {
     "data": {
      "text/plain": [
       "<pyodbc.Cursor at 0x2214e5b3bb0>"
      ]
     },
     "execution_count": 64,
     "metadata": {},
     "output_type": "execute_result"
    }
   ],
   "source": [
    "crs.execute('USE Test_1')"
   ]
  },
  {
   "cell_type": "code",
   "execution_count": 65,
   "metadata": {},
   "outputs": [],
   "source": [
    "driver = '{ODBC Driver 17 for SQL Server}'\n",
    "server = 'localhost' #şu anda server her birimizin kendi makinesi\n",
    "database = 'Test_1'#yeni bir db oluşturacağız\n",
    "user = 'sa' \n",
    "password = '---'"
   ]
  },
  {
   "cell_type": "code",
   "execution_count": 66,
   "metadata": {},
   "outputs": [],
   "source": [
    "params = 'DRIVER='+driver + ';SERVER=' + server +';PORT=1433;DATABASE='+ database + ';UID=' + user + ';PWD=' + password "
   ]
  },
  {
   "cell_type": "code",
   "execution_count": 67,
   "metadata": {},
   "outputs": [],
   "source": [
    "db_params = urllib.parse.quote_plus (params)\n",
    "engine = sqlalchemy.create_engine(\"mssql+pyodbc:///?odbc_connect={}\".format(db_params))"
   ]
  },
  {
   "cell_type": "code",
   "execution_count": 68,
   "metadata": {},
   "outputs": [
    {
     "ename": "DatabaseError",
     "evalue": "Execution failed on sql 'SELECT * FROM production.products where product_id < 10': ('42S02', \"[42S02] [Microsoft][ODBC Driver 17 for SQL Server][SQL Server]Invalid object name 'production.products'. (208) (SQLExecDirectW)\")",
     "output_type": "error",
     "traceback": [
      "\u001b[1;31m---------------------------------------------------------------------------\u001b[0m",
      "\u001b[1;31mProgrammingError\u001b[0m                          Traceback (most recent call last)",
      "File \u001b[1;32m~\\AppData\\Local\\Programs\\Python\\Python39\\lib\\site-packages\\pandas\\io\\sql.py:2056\u001b[0m, in \u001b[0;36mSQLiteDatabase.execute\u001b[1;34m(self, *args, **kwargs)\u001b[0m\n\u001b[0;32m   <a href='file:///c%3A/Users/engin/AppData/Local/Programs/Python/Python39/lib/site-packages/pandas/io/sql.py?line=2054'>2055</a>\u001b[0m \u001b[39mtry\u001b[39;00m:\n\u001b[1;32m-> <a href='file:///c%3A/Users/engin/AppData/Local/Programs/Python/Python39/lib/site-packages/pandas/io/sql.py?line=2055'>2056</a>\u001b[0m     cur\u001b[39m.\u001b[39mexecute(\u001b[39m*\u001b[39margs, \u001b[39m*\u001b[39m\u001b[39m*\u001b[39mkwargs)\n\u001b[0;32m   <a href='file:///c%3A/Users/engin/AppData/Local/Programs/Python/Python39/lib/site-packages/pandas/io/sql.py?line=2056'>2057</a>\u001b[0m     \u001b[39mreturn\u001b[39;00m cur\n",
      "\u001b[1;31mProgrammingError\u001b[0m: ('42S02', \"[42S02] [Microsoft][ODBC Driver 17 for SQL Server][SQL Server]Invalid object name 'production.products'. (208) (SQLExecDirectW)\")",
      "\nThe above exception was the direct cause of the following exception:\n",
      "\u001b[1;31mDatabaseError\u001b[0m                             Traceback (most recent call last)",
      "\u001b[1;32md:\\1_Engin\\1_Google_Drive\\1_IT_Courses\\1_Github_Mine\\02_DA\\03_DBMD\\01_HD\\07_DBMD_HD_05.ipynb Cell 70'\u001b[0m in \u001b[0;36m<module>\u001b[1;34m\u001b[0m\n\u001b[1;32m----> <a href='vscode-notebook-cell:/d%3A/1_Engin/1_Google_Drive/1_IT_Courses/1_Github_Mine/02_DA/03_DBMD/01_HD/07_DBMD_HD_05.ipynb#ch0000070?line=0'>1</a>\u001b[0m df_prod \u001b[39m=\u001b[39m pd\u001b[39m.\u001b[39;49mread_sql(\u001b[39m\"\u001b[39;49m\u001b[39mSELECT * FROM production.products where product_id < 10\u001b[39;49m\u001b[39m\"\u001b[39;49m, con \u001b[39m=\u001b[39;49m conn)\n\u001b[0;32m      <a href='vscode-notebook-cell:/d%3A/1_Engin/1_Google_Drive/1_IT_Courses/1_Github_Mine/02_DA/03_DBMD/01_HD/07_DBMD_HD_05.ipynb#ch0000070?line=1'>2</a>\u001b[0m df_prod\u001b[39m.\u001b[39mhead(\u001b[39m10\u001b[39m)\n",
      "File \u001b[1;32m~\\AppData\\Local\\Programs\\Python\\Python39\\lib\\site-packages\\pandas\\io\\sql.py:602\u001b[0m, in \u001b[0;36mread_sql\u001b[1;34m(sql, con, index_col, coerce_float, params, parse_dates, columns, chunksize)\u001b[0m\n\u001b[0;32m    <a href='file:///c%3A/Users/engin/AppData/Local/Programs/Python/Python39/lib/site-packages/pandas/io/sql.py?line=598'>599</a>\u001b[0m pandas_sql \u001b[39m=\u001b[39m pandasSQL_builder(con)\n\u001b[0;32m    <a href='file:///c%3A/Users/engin/AppData/Local/Programs/Python/Python39/lib/site-packages/pandas/io/sql.py?line=600'>601</a>\u001b[0m \u001b[39mif\u001b[39;00m \u001b[39misinstance\u001b[39m(pandas_sql, SQLiteDatabase):\n\u001b[1;32m--> <a href='file:///c%3A/Users/engin/AppData/Local/Programs/Python/Python39/lib/site-packages/pandas/io/sql.py?line=601'>602</a>\u001b[0m     \u001b[39mreturn\u001b[39;00m pandas_sql\u001b[39m.\u001b[39;49mread_query(\n\u001b[0;32m    <a href='file:///c%3A/Users/engin/AppData/Local/Programs/Python/Python39/lib/site-packages/pandas/io/sql.py?line=602'>603</a>\u001b[0m         sql,\n\u001b[0;32m    <a href='file:///c%3A/Users/engin/AppData/Local/Programs/Python/Python39/lib/site-packages/pandas/io/sql.py?line=603'>604</a>\u001b[0m         index_col\u001b[39m=\u001b[39;49mindex_col,\n\u001b[0;32m    <a href='file:///c%3A/Users/engin/AppData/Local/Programs/Python/Python39/lib/site-packages/pandas/io/sql.py?line=604'>605</a>\u001b[0m         params\u001b[39m=\u001b[39;49mparams,\n\u001b[0;32m    <a href='file:///c%3A/Users/engin/AppData/Local/Programs/Python/Python39/lib/site-packages/pandas/io/sql.py?line=605'>606</a>\u001b[0m         coerce_float\u001b[39m=\u001b[39;49mcoerce_float,\n\u001b[0;32m    <a href='file:///c%3A/Users/engin/AppData/Local/Programs/Python/Python39/lib/site-packages/pandas/io/sql.py?line=606'>607</a>\u001b[0m         parse_dates\u001b[39m=\u001b[39;49mparse_dates,\n\u001b[0;32m    <a href='file:///c%3A/Users/engin/AppData/Local/Programs/Python/Python39/lib/site-packages/pandas/io/sql.py?line=607'>608</a>\u001b[0m         chunksize\u001b[39m=\u001b[39;49mchunksize,\n\u001b[0;32m    <a href='file:///c%3A/Users/engin/AppData/Local/Programs/Python/Python39/lib/site-packages/pandas/io/sql.py?line=608'>609</a>\u001b[0m     )\n\u001b[0;32m    <a href='file:///c%3A/Users/engin/AppData/Local/Programs/Python/Python39/lib/site-packages/pandas/io/sql.py?line=610'>611</a>\u001b[0m \u001b[39mtry\u001b[39;00m:\n\u001b[0;32m    <a href='file:///c%3A/Users/engin/AppData/Local/Programs/Python/Python39/lib/site-packages/pandas/io/sql.py?line=611'>612</a>\u001b[0m     _is_table_name \u001b[39m=\u001b[39m pandas_sql\u001b[39m.\u001b[39mhas_table(sql)\n",
      "File \u001b[1;32m~\\AppData\\Local\\Programs\\Python\\Python39\\lib\\site-packages\\pandas\\io\\sql.py:2116\u001b[0m, in \u001b[0;36mSQLiteDatabase.read_query\u001b[1;34m(self, sql, index_col, coerce_float, params, parse_dates, chunksize, dtype)\u001b[0m\n\u001b[0;32m   <a href='file:///c%3A/Users/engin/AppData/Local/Programs/Python/Python39/lib/site-packages/pandas/io/sql.py?line=2103'>2104</a>\u001b[0m \u001b[39mdef\u001b[39;00m \u001b[39mread_query\u001b[39m(\n\u001b[0;32m   <a href='file:///c%3A/Users/engin/AppData/Local/Programs/Python/Python39/lib/site-packages/pandas/io/sql.py?line=2104'>2105</a>\u001b[0m     \u001b[39mself\u001b[39m,\n\u001b[0;32m   <a href='file:///c%3A/Users/engin/AppData/Local/Programs/Python/Python39/lib/site-packages/pandas/io/sql.py?line=2105'>2106</a>\u001b[0m     sql,\n\u001b[1;32m   (...)\u001b[0m\n\u001b[0;32m   <a href='file:///c%3A/Users/engin/AppData/Local/Programs/Python/Python39/lib/site-packages/pandas/io/sql.py?line=2111'>2112</a>\u001b[0m     dtype: DtypeArg \u001b[39m|\u001b[39m \u001b[39mNone\u001b[39;00m \u001b[39m=\u001b[39m \u001b[39mNone\u001b[39;00m,\n\u001b[0;32m   <a href='file:///c%3A/Users/engin/AppData/Local/Programs/Python/Python39/lib/site-packages/pandas/io/sql.py?line=2112'>2113</a>\u001b[0m ):\n\u001b[0;32m   <a href='file:///c%3A/Users/engin/AppData/Local/Programs/Python/Python39/lib/site-packages/pandas/io/sql.py?line=2114'>2115</a>\u001b[0m     args \u001b[39m=\u001b[39m _convert_params(sql, params)\n\u001b[1;32m-> <a href='file:///c%3A/Users/engin/AppData/Local/Programs/Python/Python39/lib/site-packages/pandas/io/sql.py?line=2115'>2116</a>\u001b[0m     cursor \u001b[39m=\u001b[39m \u001b[39mself\u001b[39;49m\u001b[39m.\u001b[39;49mexecute(\u001b[39m*\u001b[39;49margs)\n\u001b[0;32m   <a href='file:///c%3A/Users/engin/AppData/Local/Programs/Python/Python39/lib/site-packages/pandas/io/sql.py?line=2116'>2117</a>\u001b[0m     columns \u001b[39m=\u001b[39m [col_desc[\u001b[39m0\u001b[39m] \u001b[39mfor\u001b[39;00m col_desc \u001b[39min\u001b[39;00m cursor\u001b[39m.\u001b[39mdescription]\n\u001b[0;32m   <a href='file:///c%3A/Users/engin/AppData/Local/Programs/Python/Python39/lib/site-packages/pandas/io/sql.py?line=2118'>2119</a>\u001b[0m     \u001b[39mif\u001b[39;00m chunksize \u001b[39mis\u001b[39;00m \u001b[39mnot\u001b[39;00m \u001b[39mNone\u001b[39;00m:\n",
      "File \u001b[1;32m~\\AppData\\Local\\Programs\\Python\\Python39\\lib\\site-packages\\pandas\\io\\sql.py:2068\u001b[0m, in \u001b[0;36mSQLiteDatabase.execute\u001b[1;34m(self, *args, **kwargs)\u001b[0m\n\u001b[0;32m   <a href='file:///c%3A/Users/engin/AppData/Local/Programs/Python/Python39/lib/site-packages/pandas/io/sql.py?line=2064'>2065</a>\u001b[0m     \u001b[39mraise\u001b[39;00m ex \u001b[39mfrom\u001b[39;00m \u001b[39minner_exc\u001b[39;00m\n\u001b[0;32m   <a href='file:///c%3A/Users/engin/AppData/Local/Programs/Python/Python39/lib/site-packages/pandas/io/sql.py?line=2066'>2067</a>\u001b[0m ex \u001b[39m=\u001b[39m DatabaseError(\u001b[39mf\u001b[39m\u001b[39m\"\u001b[39m\u001b[39mExecution failed on sql \u001b[39m\u001b[39m'\u001b[39m\u001b[39m{\u001b[39;00margs[\u001b[39m0\u001b[39m]\u001b[39m}\u001b[39;00m\u001b[39m'\u001b[39m\u001b[39m: \u001b[39m\u001b[39m{\u001b[39;00mexc\u001b[39m}\u001b[39;00m\u001b[39m\"\u001b[39m)\n\u001b[1;32m-> <a href='file:///c%3A/Users/engin/AppData/Local/Programs/Python/Python39/lib/site-packages/pandas/io/sql.py?line=2067'>2068</a>\u001b[0m \u001b[39mraise\u001b[39;00m ex \u001b[39mfrom\u001b[39;00m \u001b[39mexc\u001b[39;00m\n",
      "\u001b[1;31mDatabaseError\u001b[0m: Execution failed on sql 'SELECT * FROM production.products where product_id < 10': ('42S02', \"[42S02] [Microsoft][ODBC Driver 17 for SQL Server][SQL Server]Invalid object name 'production.products'. (208) (SQLExecDirectW)\")"
     ]
    }
   ],
   "source": [
    "df_prod = pd.read_sql(\"SELECT * FROM production.products where product_id < 10\", con = conn)\n",
    "df_prod.head(10)"
   ]
  },
  {
   "cell_type": "code",
   "execution_count": 62,
   "metadata": {},
   "outputs": [
    {
     "ename": "InterfaceError",
     "evalue": "(pyodbc.InterfaceError) ('28000', \"[28000] [Microsoft][ODBC Driver 17 for SQL Server][SQL Server]Login failed for user 'sa'. (18456) (SQLDriverConnect); [28000] [Microsoft][ODBC Driver 17 for SQL Server]Invalid connection string attribute (0); [28000] [Microsoft][ODBC Driver 17 for SQL Server][SQL Server]Login failed for user 'sa'. (18456); [28000] [Microsoft][ODBC Driver 17 for SQL Server]Invalid connection string attribute (0)\")\n(Background on this error at: https://sqlalche.me/e/14/rvf5)",
     "output_type": "error",
     "traceback": [
      "\u001b[1;31m---------------------------------------------------------------------------\u001b[0m",
      "\u001b[1;31mInterfaceError\u001b[0m                            Traceback (most recent call last)",
      "File \u001b[1;32m~\\AppData\\Local\\Programs\\Python\\Python39\\lib\\site-packages\\sqlalchemy\\engine\\base.py:3250\u001b[0m, in \u001b[0;36mEngine._wrap_pool_connect\u001b[1;34m(self, fn, connection)\u001b[0m\n\u001b[0;32m   <a href='file:///c%3A/Users/engin/AppData/Local/Programs/Python/Python39/lib/site-packages/sqlalchemy/engine/base.py?line=3248'>3249</a>\u001b[0m \u001b[39mtry\u001b[39;00m:\n\u001b[1;32m-> <a href='file:///c%3A/Users/engin/AppData/Local/Programs/Python/Python39/lib/site-packages/sqlalchemy/engine/base.py?line=3249'>3250</a>\u001b[0m     \u001b[39mreturn\u001b[39;00m fn()\n\u001b[0;32m   <a href='file:///c%3A/Users/engin/AppData/Local/Programs/Python/Python39/lib/site-packages/sqlalchemy/engine/base.py?line=3250'>3251</a>\u001b[0m \u001b[39mexcept\u001b[39;00m dialect\u001b[39m.\u001b[39mdbapi\u001b[39m.\u001b[39mError \u001b[39mas\u001b[39;00m e:\n",
      "File \u001b[1;32m~\\AppData\\Local\\Programs\\Python\\Python39\\lib\\site-packages\\sqlalchemy\\pool\\base.py:310\u001b[0m, in \u001b[0;36mPool.connect\u001b[1;34m(self)\u001b[0m\n\u001b[0;32m    <a href='file:///c%3A/Users/engin/AppData/Local/Programs/Python/Python39/lib/site-packages/sqlalchemy/pool/base.py?line=302'>303</a>\u001b[0m \u001b[39m\"\"\"Return a DBAPI connection from the pool.\u001b[39;00m\n\u001b[0;32m    <a href='file:///c%3A/Users/engin/AppData/Local/Programs/Python/Python39/lib/site-packages/sqlalchemy/pool/base.py?line=303'>304</a>\u001b[0m \n\u001b[0;32m    <a href='file:///c%3A/Users/engin/AppData/Local/Programs/Python/Python39/lib/site-packages/sqlalchemy/pool/base.py?line=304'>305</a>\u001b[0m \u001b[39mThe connection is instrumented such that when its\u001b[39;00m\n\u001b[1;32m   (...)\u001b[0m\n\u001b[0;32m    <a href='file:///c%3A/Users/engin/AppData/Local/Programs/Python/Python39/lib/site-packages/sqlalchemy/pool/base.py?line=307'>308</a>\u001b[0m \n\u001b[0;32m    <a href='file:///c%3A/Users/engin/AppData/Local/Programs/Python/Python39/lib/site-packages/sqlalchemy/pool/base.py?line=308'>309</a>\u001b[0m \u001b[39m\"\"\"\u001b[39;00m\n\u001b[1;32m--> <a href='file:///c%3A/Users/engin/AppData/Local/Programs/Python/Python39/lib/site-packages/sqlalchemy/pool/base.py?line=309'>310</a>\u001b[0m \u001b[39mreturn\u001b[39;00m _ConnectionFairy\u001b[39m.\u001b[39;49m_checkout(\u001b[39mself\u001b[39;49m)\n",
      "File \u001b[1;32m~\\AppData\\Local\\Programs\\Python\\Python39\\lib\\site-packages\\sqlalchemy\\pool\\base.py:868\u001b[0m, in \u001b[0;36m_ConnectionFairy._checkout\u001b[1;34m(cls, pool, threadconns, fairy)\u001b[0m\n\u001b[0;32m    <a href='file:///c%3A/Users/engin/AppData/Local/Programs/Python/Python39/lib/site-packages/sqlalchemy/pool/base.py?line=866'>867</a>\u001b[0m \u001b[39mif\u001b[39;00m \u001b[39mnot\u001b[39;00m fairy:\n\u001b[1;32m--> <a href='file:///c%3A/Users/engin/AppData/Local/Programs/Python/Python39/lib/site-packages/sqlalchemy/pool/base.py?line=867'>868</a>\u001b[0m     fairy \u001b[39m=\u001b[39m _ConnectionRecord\u001b[39m.\u001b[39;49mcheckout(pool)\n\u001b[0;32m    <a href='file:///c%3A/Users/engin/AppData/Local/Programs/Python/Python39/lib/site-packages/sqlalchemy/pool/base.py?line=869'>870</a>\u001b[0m     fairy\u001b[39m.\u001b[39m_pool \u001b[39m=\u001b[39m pool\n",
      "File \u001b[1;32m~\\AppData\\Local\\Programs\\Python\\Python39\\lib\\site-packages\\sqlalchemy\\pool\\base.py:476\u001b[0m, in \u001b[0;36m_ConnectionRecord.checkout\u001b[1;34m(cls, pool)\u001b[0m\n\u001b[0;32m    <a href='file:///c%3A/Users/engin/AppData/Local/Programs/Python/Python39/lib/site-packages/sqlalchemy/pool/base.py?line=473'>474</a>\u001b[0m \u001b[39m@classmethod\u001b[39m\n\u001b[0;32m    <a href='file:///c%3A/Users/engin/AppData/Local/Programs/Python/Python39/lib/site-packages/sqlalchemy/pool/base.py?line=474'>475</a>\u001b[0m \u001b[39mdef\u001b[39;00m \u001b[39mcheckout\u001b[39m(\u001b[39mcls\u001b[39m, pool):\n\u001b[1;32m--> <a href='file:///c%3A/Users/engin/AppData/Local/Programs/Python/Python39/lib/site-packages/sqlalchemy/pool/base.py?line=475'>476</a>\u001b[0m     rec \u001b[39m=\u001b[39m pool\u001b[39m.\u001b[39;49m_do_get()\n\u001b[0;32m    <a href='file:///c%3A/Users/engin/AppData/Local/Programs/Python/Python39/lib/site-packages/sqlalchemy/pool/base.py?line=476'>477</a>\u001b[0m     \u001b[39mtry\u001b[39;00m:\n",
      "File \u001b[1;32m~\\AppData\\Local\\Programs\\Python\\Python39\\lib\\site-packages\\sqlalchemy\\pool\\impl.py:146\u001b[0m, in \u001b[0;36mQueuePool._do_get\u001b[1;34m(self)\u001b[0m\n\u001b[0;32m    <a href='file:///c%3A/Users/engin/AppData/Local/Programs/Python/Python39/lib/site-packages/sqlalchemy/pool/impl.py?line=144'>145</a>\u001b[0m         \u001b[39mwith\u001b[39;00m util\u001b[39m.\u001b[39msafe_reraise():\n\u001b[1;32m--> <a href='file:///c%3A/Users/engin/AppData/Local/Programs/Python/Python39/lib/site-packages/sqlalchemy/pool/impl.py?line=145'>146</a>\u001b[0m             \u001b[39mself\u001b[39m\u001b[39m.\u001b[39m_dec_overflow()\n\u001b[0;32m    <a href='file:///c%3A/Users/engin/AppData/Local/Programs/Python/Python39/lib/site-packages/sqlalchemy/pool/impl.py?line=146'>147</a>\u001b[0m \u001b[39melse\u001b[39;00m:\n",
      "File \u001b[1;32m~\\AppData\\Local\\Programs\\Python\\Python39\\lib\\site-packages\\sqlalchemy\\util\\langhelpers.py:70\u001b[0m, in \u001b[0;36msafe_reraise.__exit__\u001b[1;34m(self, type_, value, traceback)\u001b[0m\n\u001b[0;32m     <a href='file:///c%3A/Users/engin/AppData/Local/Programs/Python/Python39/lib/site-packages/sqlalchemy/util/langhelpers.py?line=68'>69</a>\u001b[0m     \u001b[39mif\u001b[39;00m \u001b[39mnot\u001b[39;00m \u001b[39mself\u001b[39m\u001b[39m.\u001b[39mwarn_only:\n\u001b[1;32m---> <a href='file:///c%3A/Users/engin/AppData/Local/Programs/Python/Python39/lib/site-packages/sqlalchemy/util/langhelpers.py?line=69'>70</a>\u001b[0m         compat\u001b[39m.\u001b[39;49mraise_(\n\u001b[0;32m     <a href='file:///c%3A/Users/engin/AppData/Local/Programs/Python/Python39/lib/site-packages/sqlalchemy/util/langhelpers.py?line=70'>71</a>\u001b[0m             exc_value,\n\u001b[0;32m     <a href='file:///c%3A/Users/engin/AppData/Local/Programs/Python/Python39/lib/site-packages/sqlalchemy/util/langhelpers.py?line=71'>72</a>\u001b[0m             with_traceback\u001b[39m=\u001b[39;49mexc_tb,\n\u001b[0;32m     <a href='file:///c%3A/Users/engin/AppData/Local/Programs/Python/Python39/lib/site-packages/sqlalchemy/util/langhelpers.py?line=72'>73</a>\u001b[0m         )\n\u001b[0;32m     <a href='file:///c%3A/Users/engin/AppData/Local/Programs/Python/Python39/lib/site-packages/sqlalchemy/util/langhelpers.py?line=73'>74</a>\u001b[0m \u001b[39melse\u001b[39;00m:\n",
      "File \u001b[1;32m~\\AppData\\Local\\Programs\\Python\\Python39\\lib\\site-packages\\sqlalchemy\\util\\compat.py:207\u001b[0m, in \u001b[0;36mraise_\u001b[1;34m(***failed resolving arguments***)\u001b[0m\n\u001b[0;32m    <a href='file:///c%3A/Users/engin/AppData/Local/Programs/Python/Python39/lib/site-packages/sqlalchemy/util/compat.py?line=205'>206</a>\u001b[0m \u001b[39mtry\u001b[39;00m:\n\u001b[1;32m--> <a href='file:///c%3A/Users/engin/AppData/Local/Programs/Python/Python39/lib/site-packages/sqlalchemy/util/compat.py?line=206'>207</a>\u001b[0m     \u001b[39mraise\u001b[39;00m exception\n\u001b[0;32m    <a href='file:///c%3A/Users/engin/AppData/Local/Programs/Python/Python39/lib/site-packages/sqlalchemy/util/compat.py?line=207'>208</a>\u001b[0m \u001b[39mfinally\u001b[39;00m:\n\u001b[0;32m    <a href='file:///c%3A/Users/engin/AppData/Local/Programs/Python/Python39/lib/site-packages/sqlalchemy/util/compat.py?line=208'>209</a>\u001b[0m     \u001b[39m# credit to\u001b[39;00m\n\u001b[0;32m    <a href='file:///c%3A/Users/engin/AppData/Local/Programs/Python/Python39/lib/site-packages/sqlalchemy/util/compat.py?line=209'>210</a>\u001b[0m     \u001b[39m# https://cosmicpercolator.com/2016/01/13/exception-leaks-in-python-2-and-3/\u001b[39;00m\n\u001b[0;32m    <a href='file:///c%3A/Users/engin/AppData/Local/Programs/Python/Python39/lib/site-packages/sqlalchemy/util/compat.py?line=210'>211</a>\u001b[0m     \u001b[39m# as the __traceback__ object creates a cycle\u001b[39;00m\n",
      "File \u001b[1;32m~\\AppData\\Local\\Programs\\Python\\Python39\\lib\\site-packages\\sqlalchemy\\pool\\impl.py:143\u001b[0m, in \u001b[0;36mQueuePool._do_get\u001b[1;34m(self)\u001b[0m\n\u001b[0;32m    <a href='file:///c%3A/Users/engin/AppData/Local/Programs/Python/Python39/lib/site-packages/sqlalchemy/pool/impl.py?line=141'>142</a>\u001b[0m \u001b[39mtry\u001b[39;00m:\n\u001b[1;32m--> <a href='file:///c%3A/Users/engin/AppData/Local/Programs/Python/Python39/lib/site-packages/sqlalchemy/pool/impl.py?line=142'>143</a>\u001b[0m     \u001b[39mreturn\u001b[39;00m \u001b[39mself\u001b[39;49m\u001b[39m.\u001b[39;49m_create_connection()\n\u001b[0;32m    <a href='file:///c%3A/Users/engin/AppData/Local/Programs/Python/Python39/lib/site-packages/sqlalchemy/pool/impl.py?line=143'>144</a>\u001b[0m \u001b[39mexcept\u001b[39;00m:\n",
      "File \u001b[1;32m~\\AppData\\Local\\Programs\\Python\\Python39\\lib\\site-packages\\sqlalchemy\\pool\\base.py:256\u001b[0m, in \u001b[0;36mPool._create_connection\u001b[1;34m(self)\u001b[0m\n\u001b[0;32m    <a href='file:///c%3A/Users/engin/AppData/Local/Programs/Python/Python39/lib/site-packages/sqlalchemy/pool/base.py?line=253'>254</a>\u001b[0m \u001b[39m\"\"\"Called by subclasses to create a new ConnectionRecord.\"\"\"\u001b[39;00m\n\u001b[1;32m--> <a href='file:///c%3A/Users/engin/AppData/Local/Programs/Python/Python39/lib/site-packages/sqlalchemy/pool/base.py?line=255'>256</a>\u001b[0m \u001b[39mreturn\u001b[39;00m _ConnectionRecord(\u001b[39mself\u001b[39;49m)\n",
      "File \u001b[1;32m~\\AppData\\Local\\Programs\\Python\\Python39\\lib\\site-packages\\sqlalchemy\\pool\\base.py:371\u001b[0m, in \u001b[0;36m_ConnectionRecord.__init__\u001b[1;34m(self, pool, connect)\u001b[0m\n\u001b[0;32m    <a href='file:///c%3A/Users/engin/AppData/Local/Programs/Python/Python39/lib/site-packages/sqlalchemy/pool/base.py?line=369'>370</a>\u001b[0m \u001b[39mif\u001b[39;00m connect:\n\u001b[1;32m--> <a href='file:///c%3A/Users/engin/AppData/Local/Programs/Python/Python39/lib/site-packages/sqlalchemy/pool/base.py?line=370'>371</a>\u001b[0m     \u001b[39mself\u001b[39;49m\u001b[39m.\u001b[39;49m__connect()\n\u001b[0;32m    <a href='file:///c%3A/Users/engin/AppData/Local/Programs/Python/Python39/lib/site-packages/sqlalchemy/pool/base.py?line=371'>372</a>\u001b[0m \u001b[39mself\u001b[39m\u001b[39m.\u001b[39mfinalize_callback \u001b[39m=\u001b[39m deque()\n",
      "File \u001b[1;32m~\\AppData\\Local\\Programs\\Python\\Python39\\lib\\site-packages\\sqlalchemy\\pool\\base.py:666\u001b[0m, in \u001b[0;36m_ConnectionRecord.__connect\u001b[1;34m(self)\u001b[0m\n\u001b[0;32m    <a href='file:///c%3A/Users/engin/AppData/Local/Programs/Python/Python39/lib/site-packages/sqlalchemy/pool/base.py?line=664'>665</a>\u001b[0m     \u001b[39mwith\u001b[39;00m util\u001b[39m.\u001b[39msafe_reraise():\n\u001b[1;32m--> <a href='file:///c%3A/Users/engin/AppData/Local/Programs/Python/Python39/lib/site-packages/sqlalchemy/pool/base.py?line=665'>666</a>\u001b[0m         pool\u001b[39m.\u001b[39mlogger\u001b[39m.\u001b[39mdebug(\u001b[39m\"\u001b[39m\u001b[39mError on connect(): \u001b[39m\u001b[39m%s\u001b[39;00m\u001b[39m\"\u001b[39m, e)\n\u001b[0;32m    <a href='file:///c%3A/Users/engin/AppData/Local/Programs/Python/Python39/lib/site-packages/sqlalchemy/pool/base.py?line=666'>667</a>\u001b[0m \u001b[39melse\u001b[39;00m:\n\u001b[0;32m    <a href='file:///c%3A/Users/engin/AppData/Local/Programs/Python/Python39/lib/site-packages/sqlalchemy/pool/base.py?line=667'>668</a>\u001b[0m     \u001b[39m# in SQLAlchemy 1.4 the first_connect event is not used by\u001b[39;00m\n\u001b[0;32m    <a href='file:///c%3A/Users/engin/AppData/Local/Programs/Python/Python39/lib/site-packages/sqlalchemy/pool/base.py?line=668'>669</a>\u001b[0m     \u001b[39m# the engine, so this will usually not be set\u001b[39;00m\n",
      "File \u001b[1;32m~\\AppData\\Local\\Programs\\Python\\Python39\\lib\\site-packages\\sqlalchemy\\util\\langhelpers.py:70\u001b[0m, in \u001b[0;36msafe_reraise.__exit__\u001b[1;34m(self, type_, value, traceback)\u001b[0m\n\u001b[0;32m     <a href='file:///c%3A/Users/engin/AppData/Local/Programs/Python/Python39/lib/site-packages/sqlalchemy/util/langhelpers.py?line=68'>69</a>\u001b[0m     \u001b[39mif\u001b[39;00m \u001b[39mnot\u001b[39;00m \u001b[39mself\u001b[39m\u001b[39m.\u001b[39mwarn_only:\n\u001b[1;32m---> <a href='file:///c%3A/Users/engin/AppData/Local/Programs/Python/Python39/lib/site-packages/sqlalchemy/util/langhelpers.py?line=69'>70</a>\u001b[0m         compat\u001b[39m.\u001b[39;49mraise_(\n\u001b[0;32m     <a href='file:///c%3A/Users/engin/AppData/Local/Programs/Python/Python39/lib/site-packages/sqlalchemy/util/langhelpers.py?line=70'>71</a>\u001b[0m             exc_value,\n\u001b[0;32m     <a href='file:///c%3A/Users/engin/AppData/Local/Programs/Python/Python39/lib/site-packages/sqlalchemy/util/langhelpers.py?line=71'>72</a>\u001b[0m             with_traceback\u001b[39m=\u001b[39;49mexc_tb,\n\u001b[0;32m     <a href='file:///c%3A/Users/engin/AppData/Local/Programs/Python/Python39/lib/site-packages/sqlalchemy/util/langhelpers.py?line=72'>73</a>\u001b[0m         )\n\u001b[0;32m     <a href='file:///c%3A/Users/engin/AppData/Local/Programs/Python/Python39/lib/site-packages/sqlalchemy/util/langhelpers.py?line=73'>74</a>\u001b[0m \u001b[39melse\u001b[39;00m:\n",
      "File \u001b[1;32m~\\AppData\\Local\\Programs\\Python\\Python39\\lib\\site-packages\\sqlalchemy\\util\\compat.py:207\u001b[0m, in \u001b[0;36mraise_\u001b[1;34m(***failed resolving arguments***)\u001b[0m\n\u001b[0;32m    <a href='file:///c%3A/Users/engin/AppData/Local/Programs/Python/Python39/lib/site-packages/sqlalchemy/util/compat.py?line=205'>206</a>\u001b[0m \u001b[39mtry\u001b[39;00m:\n\u001b[1;32m--> <a href='file:///c%3A/Users/engin/AppData/Local/Programs/Python/Python39/lib/site-packages/sqlalchemy/util/compat.py?line=206'>207</a>\u001b[0m     \u001b[39mraise\u001b[39;00m exception\n\u001b[0;32m    <a href='file:///c%3A/Users/engin/AppData/Local/Programs/Python/Python39/lib/site-packages/sqlalchemy/util/compat.py?line=207'>208</a>\u001b[0m \u001b[39mfinally\u001b[39;00m:\n\u001b[0;32m    <a href='file:///c%3A/Users/engin/AppData/Local/Programs/Python/Python39/lib/site-packages/sqlalchemy/util/compat.py?line=208'>209</a>\u001b[0m     \u001b[39m# credit to\u001b[39;00m\n\u001b[0;32m    <a href='file:///c%3A/Users/engin/AppData/Local/Programs/Python/Python39/lib/site-packages/sqlalchemy/util/compat.py?line=209'>210</a>\u001b[0m     \u001b[39m# https://cosmicpercolator.com/2016/01/13/exception-leaks-in-python-2-and-3/\u001b[39;00m\n\u001b[0;32m    <a href='file:///c%3A/Users/engin/AppData/Local/Programs/Python/Python39/lib/site-packages/sqlalchemy/util/compat.py?line=210'>211</a>\u001b[0m     \u001b[39m# as the __traceback__ object creates a cycle\u001b[39;00m\n",
      "File \u001b[1;32m~\\AppData\\Local\\Programs\\Python\\Python39\\lib\\site-packages\\sqlalchemy\\pool\\base.py:661\u001b[0m, in \u001b[0;36m_ConnectionRecord.__connect\u001b[1;34m(self)\u001b[0m\n\u001b[0;32m    <a href='file:///c%3A/Users/engin/AppData/Local/Programs/Python/Python39/lib/site-packages/sqlalchemy/pool/base.py?line=659'>660</a>\u001b[0m \u001b[39mself\u001b[39m\u001b[39m.\u001b[39mstarttime \u001b[39m=\u001b[39m time\u001b[39m.\u001b[39mtime()\n\u001b[1;32m--> <a href='file:///c%3A/Users/engin/AppData/Local/Programs/Python/Python39/lib/site-packages/sqlalchemy/pool/base.py?line=660'>661</a>\u001b[0m \u001b[39mself\u001b[39m\u001b[39m.\u001b[39mdbapi_connection \u001b[39m=\u001b[39m connection \u001b[39m=\u001b[39m pool\u001b[39m.\u001b[39;49m_invoke_creator(\u001b[39mself\u001b[39;49m)\n\u001b[0;32m    <a href='file:///c%3A/Users/engin/AppData/Local/Programs/Python/Python39/lib/site-packages/sqlalchemy/pool/base.py?line=661'>662</a>\u001b[0m pool\u001b[39m.\u001b[39mlogger\u001b[39m.\u001b[39mdebug(\u001b[39m\"\u001b[39m\u001b[39mCreated new connection \u001b[39m\u001b[39m%r\u001b[39;00m\u001b[39m\"\u001b[39m, connection)\n",
      "File \u001b[1;32m~\\AppData\\Local\\Programs\\Python\\Python39\\lib\\site-packages\\sqlalchemy\\engine\\create.py:590\u001b[0m, in \u001b[0;36mcreate_engine.<locals>.connect\u001b[1;34m(connection_record)\u001b[0m\n\u001b[0;32m    <a href='file:///c%3A/Users/engin/AppData/Local/Programs/Python/Python39/lib/site-packages/sqlalchemy/engine/create.py?line=588'>589</a>\u001b[0m             \u001b[39mreturn\u001b[39;00m connection\n\u001b[1;32m--> <a href='file:///c%3A/Users/engin/AppData/Local/Programs/Python/Python39/lib/site-packages/sqlalchemy/engine/create.py?line=589'>590</a>\u001b[0m \u001b[39mreturn\u001b[39;00m dialect\u001b[39m.\u001b[39mconnect(\u001b[39m*\u001b[39mcargs, \u001b[39m*\u001b[39m\u001b[39m*\u001b[39mcparams)\n",
      "File \u001b[1;32m~\\AppData\\Local\\Programs\\Python\\Python39\\lib\\site-packages\\sqlalchemy\\engine\\default.py:597\u001b[0m, in \u001b[0;36mDefaultDialect.connect\u001b[1;34m(self, *cargs, **cparams)\u001b[0m\n\u001b[0;32m    <a href='file:///c%3A/Users/engin/AppData/Local/Programs/Python/Python39/lib/site-packages/sqlalchemy/engine/default.py?line=594'>595</a>\u001b[0m \u001b[39mdef\u001b[39;00m \u001b[39mconnect\u001b[39m(\u001b[39mself\u001b[39m, \u001b[39m*\u001b[39mcargs, \u001b[39m*\u001b[39m\u001b[39m*\u001b[39mcparams):\n\u001b[0;32m    <a href='file:///c%3A/Users/engin/AppData/Local/Programs/Python/Python39/lib/site-packages/sqlalchemy/engine/default.py?line=595'>596</a>\u001b[0m     \u001b[39m# inherits the docstring from interfaces.Dialect.connect\u001b[39;00m\n\u001b[1;32m--> <a href='file:///c%3A/Users/engin/AppData/Local/Programs/Python/Python39/lib/site-packages/sqlalchemy/engine/default.py?line=596'>597</a>\u001b[0m     \u001b[39mreturn\u001b[39;00m \u001b[39mself\u001b[39m\u001b[39m.\u001b[39mdbapi\u001b[39m.\u001b[39mconnect(\u001b[39m*\u001b[39mcargs, \u001b[39m*\u001b[39m\u001b[39m*\u001b[39mcparams)\n",
      "\u001b[1;31mInterfaceError\u001b[0m: ('28000', \"[28000] [Microsoft][ODBC Driver 17 for SQL Server][SQL Server]Login failed for user 'sa'. (18456) (SQLDriverConnect); [28000] [Microsoft][ODBC Driver 17 for SQL Server]Invalid connection string attribute (0); [28000] [Microsoft][ODBC Driver 17 for SQL Server][SQL Server]Login failed for user 'sa'. (18456); [28000] [Microsoft][ODBC Driver 17 for SQL Server]Invalid connection string attribute (0)\")",
      "\nThe above exception was the direct cause of the following exception:\n",
      "\u001b[1;31mInterfaceError\u001b[0m                            Traceback (most recent call last)",
      "\u001b[1;32md:\\1_Engin\\1_Google_Drive\\1_IT_Courses\\1_Github_Mine\\02_DA\\03_DBMD\\01_HD\\07_DBMD_HD_05.ipynb Cell 71'\u001b[0m in \u001b[0;36m<module>\u001b[1;34m\u001b[0m\n\u001b[1;32m----> <a href='vscode-notebook-cell:/d%3A/1_Engin/1_Google_Drive/1_IT_Courses/1_Github_Mine/02_DA/03_DBMD/01_HD/07_DBMD_HD_05.ipynb#ch0000071?line=0'>1</a>\u001b[0m df_prod\u001b[39m.\u001b[39;49mto_sql(\u001b[39m\"\u001b[39;49m\u001b[39mproducts_bikes\u001b[39;49m\u001b[39m\"\u001b[39;49m, engine, index \u001b[39m=\u001b[39;49m \u001b[39mFalse\u001b[39;49;00m, if_exists \u001b[39m=\u001b[39;49m \u001b[39m\"\u001b[39;49m\u001b[39mappend\u001b[39;49m\u001b[39m\"\u001b[39;49m, schema \u001b[39m=\u001b[39;49m \u001b[39m\"\u001b[39;49m\u001b[39mdbo\u001b[39;49m\u001b[39m\"\u001b[39;49m)\n",
      "File \u001b[1;32m~\\AppData\\Local\\Programs\\Python\\Python39\\lib\\site-packages\\pandas\\core\\generic.py:2872\u001b[0m, in \u001b[0;36mNDFrame.to_sql\u001b[1;34m(self, name, con, schema, if_exists, index, index_label, chunksize, dtype, method)\u001b[0m\n\u001b[0;32m   <a href='file:///c%3A/Users/engin/AppData/Local/Programs/Python/Python39/lib/site-packages/pandas/core/generic.py?line=2733'>2734</a>\u001b[0m \u001b[39m\"\"\"\u001b[39;00m\n\u001b[0;32m   <a href='file:///c%3A/Users/engin/AppData/Local/Programs/Python/Python39/lib/site-packages/pandas/core/generic.py?line=2734'>2735</a>\u001b[0m \u001b[39mWrite records stored in a DataFrame to a SQL database.\u001b[39;00m\n\u001b[0;32m   <a href='file:///c%3A/Users/engin/AppData/Local/Programs/Python/Python39/lib/site-packages/pandas/core/generic.py?line=2735'>2736</a>\u001b[0m \n\u001b[1;32m   (...)\u001b[0m\n\u001b[0;32m   <a href='file:///c%3A/Users/engin/AppData/Local/Programs/Python/Python39/lib/site-packages/pandas/core/generic.py?line=2867'>2868</a>\u001b[0m \u001b[39m[(1,), (None,), (2,)]\u001b[39;00m\n\u001b[0;32m   <a href='file:///c%3A/Users/engin/AppData/Local/Programs/Python/Python39/lib/site-packages/pandas/core/generic.py?line=2868'>2869</a>\u001b[0m \u001b[39m\"\"\"\u001b[39;00m\n\u001b[0;32m   <a href='file:///c%3A/Users/engin/AppData/Local/Programs/Python/Python39/lib/site-packages/pandas/core/generic.py?line=2869'>2870</a>\u001b[0m \u001b[39mfrom\u001b[39;00m \u001b[39mpandas\u001b[39;00m\u001b[39m.\u001b[39;00m\u001b[39mio\u001b[39;00m \u001b[39mimport\u001b[39;00m sql\n\u001b[1;32m-> <a href='file:///c%3A/Users/engin/AppData/Local/Programs/Python/Python39/lib/site-packages/pandas/core/generic.py?line=2871'>2872</a>\u001b[0m sql\u001b[39m.\u001b[39;49mto_sql(\n\u001b[0;32m   <a href='file:///c%3A/Users/engin/AppData/Local/Programs/Python/Python39/lib/site-packages/pandas/core/generic.py?line=2872'>2873</a>\u001b[0m     \u001b[39mself\u001b[39;49m,\n\u001b[0;32m   <a href='file:///c%3A/Users/engin/AppData/Local/Programs/Python/Python39/lib/site-packages/pandas/core/generic.py?line=2873'>2874</a>\u001b[0m     name,\n\u001b[0;32m   <a href='file:///c%3A/Users/engin/AppData/Local/Programs/Python/Python39/lib/site-packages/pandas/core/generic.py?line=2874'>2875</a>\u001b[0m     con,\n\u001b[0;32m   <a href='file:///c%3A/Users/engin/AppData/Local/Programs/Python/Python39/lib/site-packages/pandas/core/generic.py?line=2875'>2876</a>\u001b[0m     schema\u001b[39m=\u001b[39;49mschema,\n\u001b[0;32m   <a href='file:///c%3A/Users/engin/AppData/Local/Programs/Python/Python39/lib/site-packages/pandas/core/generic.py?line=2876'>2877</a>\u001b[0m     if_exists\u001b[39m=\u001b[39;49mif_exists,\n\u001b[0;32m   <a href='file:///c%3A/Users/engin/AppData/Local/Programs/Python/Python39/lib/site-packages/pandas/core/generic.py?line=2877'>2878</a>\u001b[0m     index\u001b[39m=\u001b[39;49mindex,\n\u001b[0;32m   <a href='file:///c%3A/Users/engin/AppData/Local/Programs/Python/Python39/lib/site-packages/pandas/core/generic.py?line=2878'>2879</a>\u001b[0m     index_label\u001b[39m=\u001b[39;49mindex_label,\n\u001b[0;32m   <a href='file:///c%3A/Users/engin/AppData/Local/Programs/Python/Python39/lib/site-packages/pandas/core/generic.py?line=2879'>2880</a>\u001b[0m     chunksize\u001b[39m=\u001b[39;49mchunksize,\n\u001b[0;32m   <a href='file:///c%3A/Users/engin/AppData/Local/Programs/Python/Python39/lib/site-packages/pandas/core/generic.py?line=2880'>2881</a>\u001b[0m     dtype\u001b[39m=\u001b[39;49mdtype,\n\u001b[0;32m   <a href='file:///c%3A/Users/engin/AppData/Local/Programs/Python/Python39/lib/site-packages/pandas/core/generic.py?line=2881'>2882</a>\u001b[0m     method\u001b[39m=\u001b[39;49mmethod,\n\u001b[0;32m   <a href='file:///c%3A/Users/engin/AppData/Local/Programs/Python/Python39/lib/site-packages/pandas/core/generic.py?line=2882'>2883</a>\u001b[0m )\n",
      "File \u001b[1;32m~\\AppData\\Local\\Programs\\Python\\Python39\\lib\\site-packages\\pandas\\io\\sql.py:717\u001b[0m, in \u001b[0;36mto_sql\u001b[1;34m(frame, name, con, schema, if_exists, index, index_label, chunksize, dtype, method, engine, **engine_kwargs)\u001b[0m\n\u001b[0;32m    <a href='file:///c%3A/Users/engin/AppData/Local/Programs/Python/Python39/lib/site-packages/pandas/io/sql.py?line=711'>712</a>\u001b[0m \u001b[39melif\u001b[39;00m \u001b[39mnot\u001b[39;00m \u001b[39misinstance\u001b[39m(frame, DataFrame):\n\u001b[0;32m    <a href='file:///c%3A/Users/engin/AppData/Local/Programs/Python/Python39/lib/site-packages/pandas/io/sql.py?line=712'>713</a>\u001b[0m     \u001b[39mraise\u001b[39;00m \u001b[39mNotImplementedError\u001b[39;00m(\n\u001b[0;32m    <a href='file:///c%3A/Users/engin/AppData/Local/Programs/Python/Python39/lib/site-packages/pandas/io/sql.py?line=713'>714</a>\u001b[0m         \u001b[39m\"\u001b[39m\u001b[39m'\u001b[39m\u001b[39mframe\u001b[39m\u001b[39m'\u001b[39m\u001b[39m argument should be either a Series or a DataFrame\u001b[39m\u001b[39m\"\u001b[39m\n\u001b[0;32m    <a href='file:///c%3A/Users/engin/AppData/Local/Programs/Python/Python39/lib/site-packages/pandas/io/sql.py?line=714'>715</a>\u001b[0m     )\n\u001b[1;32m--> <a href='file:///c%3A/Users/engin/AppData/Local/Programs/Python/Python39/lib/site-packages/pandas/io/sql.py?line=716'>717</a>\u001b[0m pandas_sql\u001b[39m.\u001b[39mto_sql(\n\u001b[0;32m    <a href='file:///c%3A/Users/engin/AppData/Local/Programs/Python/Python39/lib/site-packages/pandas/io/sql.py?line=717'>718</a>\u001b[0m     frame,\n\u001b[0;32m    <a href='file:///c%3A/Users/engin/AppData/Local/Programs/Python/Python39/lib/site-packages/pandas/io/sql.py?line=718'>719</a>\u001b[0m     name,\n\u001b[0;32m    <a href='file:///c%3A/Users/engin/AppData/Local/Programs/Python/Python39/lib/site-packages/pandas/io/sql.py?line=719'>720</a>\u001b[0m     if_exists\u001b[39m=\u001b[39mif_exists,\n\u001b[0;32m    <a href='file:///c%3A/Users/engin/AppData/Local/Programs/Python/Python39/lib/site-packages/pandas/io/sql.py?line=720'>721</a>\u001b[0m     index\u001b[39m=\u001b[39mindex,\n\u001b[0;32m    <a href='file:///c%3A/Users/engin/AppData/Local/Programs/Python/Python39/lib/site-packages/pandas/io/sql.py?line=721'>722</a>\u001b[0m     index_label\u001b[39m=\u001b[39mindex_label,\n\u001b[0;32m    <a href='file:///c%3A/Users/engin/AppData/Local/Programs/Python/Python39/lib/site-packages/pandas/io/sql.py?line=722'>723</a>\u001b[0m     schema\u001b[39m=\u001b[39mschema,\n\u001b[0;32m    <a href='file:///c%3A/Users/engin/AppData/Local/Programs/Python/Python39/lib/site-packages/pandas/io/sql.py?line=723'>724</a>\u001b[0m     chunksize\u001b[39m=\u001b[39mchunksize,\n\u001b[0;32m    <a href='file:///c%3A/Users/engin/AppData/Local/Programs/Python/Python39/lib/site-packages/pandas/io/sql.py?line=724'>725</a>\u001b[0m     dtype\u001b[39m=\u001b[39mdtype,\n\u001b[0;32m    <a href='file:///c%3A/Users/engin/AppData/Local/Programs/Python/Python39/lib/site-packages/pandas/io/sql.py?line=725'>726</a>\u001b[0m     method\u001b[39m=\u001b[39mmethod,\n\u001b[0;32m    <a href='file:///c%3A/Users/engin/AppData/Local/Programs/Python/Python39/lib/site-packages/pandas/io/sql.py?line=726'>727</a>\u001b[0m     engine\u001b[39m=\u001b[39mengine,\n\u001b[0;32m    <a href='file:///c%3A/Users/engin/AppData/Local/Programs/Python/Python39/lib/site-packages/pandas/io/sql.py?line=727'>728</a>\u001b[0m     \u001b[39m*\u001b[39m\u001b[39m*\u001b[39mengine_kwargs,\n\u001b[0;32m    <a href='file:///c%3A/Users/engin/AppData/Local/Programs/Python/Python39/lib/site-packages/pandas/io/sql.py?line=728'>729</a>\u001b[0m )\n",
      "File \u001b[1;32m~\\AppData\\Local\\Programs\\Python\\Python39\\lib\\site-packages\\pandas\\io\\sql.py:1751\u001b[0m, in \u001b[0;36mSQLDatabase.to_sql\u001b[1;34m(self, frame, name, if_exists, index, index_label, schema, chunksize, dtype, method, engine, **engine_kwargs)\u001b[0m\n\u001b[0;32m   <a href='file:///c%3A/Users/engin/AppData/Local/Programs/Python/Python39/lib/site-packages/pandas/io/sql.py?line=1700'>1701</a>\u001b[0m \u001b[39m\"\"\"\u001b[39;00m\n\u001b[0;32m   <a href='file:///c%3A/Users/engin/AppData/Local/Programs/Python/Python39/lib/site-packages/pandas/io/sql.py?line=1701'>1702</a>\u001b[0m \u001b[39mWrite records stored in a DataFrame to a SQL database.\u001b[39;00m\n\u001b[0;32m   <a href='file:///c%3A/Users/engin/AppData/Local/Programs/Python/Python39/lib/site-packages/pandas/io/sql.py?line=1702'>1703</a>\u001b[0m \n\u001b[1;32m   (...)\u001b[0m\n\u001b[0;32m   <a href='file:///c%3A/Users/engin/AppData/Local/Programs/Python/Python39/lib/site-packages/pandas/io/sql.py?line=1746'>1747</a>\u001b[0m \u001b[39m    Any additional kwargs are passed to the engine.\u001b[39;00m\n\u001b[0;32m   <a href='file:///c%3A/Users/engin/AppData/Local/Programs/Python/Python39/lib/site-packages/pandas/io/sql.py?line=1747'>1748</a>\u001b[0m \u001b[39m\"\"\"\u001b[39;00m\n\u001b[0;32m   <a href='file:///c%3A/Users/engin/AppData/Local/Programs/Python/Python39/lib/site-packages/pandas/io/sql.py?line=1748'>1749</a>\u001b[0m sql_engine \u001b[39m=\u001b[39m get_engine(engine)\n\u001b[1;32m-> <a href='file:///c%3A/Users/engin/AppData/Local/Programs/Python/Python39/lib/site-packages/pandas/io/sql.py?line=1750'>1751</a>\u001b[0m table \u001b[39m=\u001b[39m \u001b[39mself\u001b[39;49m\u001b[39m.\u001b[39;49mprep_table(\n\u001b[0;32m   <a href='file:///c%3A/Users/engin/AppData/Local/Programs/Python/Python39/lib/site-packages/pandas/io/sql.py?line=1751'>1752</a>\u001b[0m     frame\u001b[39m=\u001b[39;49mframe,\n\u001b[0;32m   <a href='file:///c%3A/Users/engin/AppData/Local/Programs/Python/Python39/lib/site-packages/pandas/io/sql.py?line=1752'>1753</a>\u001b[0m     name\u001b[39m=\u001b[39;49mname,\n\u001b[0;32m   <a href='file:///c%3A/Users/engin/AppData/Local/Programs/Python/Python39/lib/site-packages/pandas/io/sql.py?line=1753'>1754</a>\u001b[0m     if_exists\u001b[39m=\u001b[39;49mif_exists,\n\u001b[0;32m   <a href='file:///c%3A/Users/engin/AppData/Local/Programs/Python/Python39/lib/site-packages/pandas/io/sql.py?line=1754'>1755</a>\u001b[0m     index\u001b[39m=\u001b[39;49mindex,\n\u001b[0;32m   <a href='file:///c%3A/Users/engin/AppData/Local/Programs/Python/Python39/lib/site-packages/pandas/io/sql.py?line=1755'>1756</a>\u001b[0m     index_label\u001b[39m=\u001b[39;49mindex_label,\n\u001b[0;32m   <a href='file:///c%3A/Users/engin/AppData/Local/Programs/Python/Python39/lib/site-packages/pandas/io/sql.py?line=1756'>1757</a>\u001b[0m     schema\u001b[39m=\u001b[39;49mschema,\n\u001b[0;32m   <a href='file:///c%3A/Users/engin/AppData/Local/Programs/Python/Python39/lib/site-packages/pandas/io/sql.py?line=1757'>1758</a>\u001b[0m     dtype\u001b[39m=\u001b[39;49mdtype,\n\u001b[0;32m   <a href='file:///c%3A/Users/engin/AppData/Local/Programs/Python/Python39/lib/site-packages/pandas/io/sql.py?line=1758'>1759</a>\u001b[0m )\n\u001b[0;32m   <a href='file:///c%3A/Users/engin/AppData/Local/Programs/Python/Python39/lib/site-packages/pandas/io/sql.py?line=1760'>1761</a>\u001b[0m sql_engine\u001b[39m.\u001b[39minsert_records(\n\u001b[0;32m   <a href='file:///c%3A/Users/engin/AppData/Local/Programs/Python/Python39/lib/site-packages/pandas/io/sql.py?line=1761'>1762</a>\u001b[0m     table\u001b[39m=\u001b[39mtable,\n\u001b[0;32m   <a href='file:///c%3A/Users/engin/AppData/Local/Programs/Python/Python39/lib/site-packages/pandas/io/sql.py?line=1762'>1763</a>\u001b[0m     con\u001b[39m=\u001b[39m\u001b[39mself\u001b[39m\u001b[39m.\u001b[39mconnectable,\n\u001b[1;32m   (...)\u001b[0m\n\u001b[0;32m   <a href='file:///c%3A/Users/engin/AppData/Local/Programs/Python/Python39/lib/site-packages/pandas/io/sql.py?line=1769'>1770</a>\u001b[0m     \u001b[39m*\u001b[39m\u001b[39m*\u001b[39mengine_kwargs,\n\u001b[0;32m   <a href='file:///c%3A/Users/engin/AppData/Local/Programs/Python/Python39/lib/site-packages/pandas/io/sql.py?line=1770'>1771</a>\u001b[0m )\n\u001b[0;32m   <a href='file:///c%3A/Users/engin/AppData/Local/Programs/Python/Python39/lib/site-packages/pandas/io/sql.py?line=1772'>1773</a>\u001b[0m \u001b[39mself\u001b[39m\u001b[39m.\u001b[39mcheck_case_sensitive(name\u001b[39m=\u001b[39mname, schema\u001b[39m=\u001b[39mschema)\n",
      "File \u001b[1;32m~\\AppData\\Local\\Programs\\Python\\Python39\\lib\\site-packages\\pandas\\io\\sql.py:1650\u001b[0m, in \u001b[0;36mSQLDatabase.prep_table\u001b[1;34m(self, frame, name, if_exists, index, index_label, schema, dtype)\u001b[0m\n\u001b[0;32m   <a href='file:///c%3A/Users/engin/AppData/Local/Programs/Python/Python39/lib/site-packages/pandas/io/sql.py?line=1637'>1638</a>\u001b[0m             \u001b[39mraise\u001b[39;00m \u001b[39mValueError\u001b[39;00m(\u001b[39mf\u001b[39m\u001b[39m\"\u001b[39m\u001b[39mThe type of \u001b[39m\u001b[39m{\u001b[39;00mcol\u001b[39m}\u001b[39;00m\u001b[39m is not a SQLAlchemy type\u001b[39m\u001b[39m\"\u001b[39m)\n\u001b[0;32m   <a href='file:///c%3A/Users/engin/AppData/Local/Programs/Python/Python39/lib/site-packages/pandas/io/sql.py?line=1639'>1640</a>\u001b[0m table \u001b[39m=\u001b[39m SQLTable(\n\u001b[0;32m   <a href='file:///c%3A/Users/engin/AppData/Local/Programs/Python/Python39/lib/site-packages/pandas/io/sql.py?line=1640'>1641</a>\u001b[0m     name,\n\u001b[0;32m   <a href='file:///c%3A/Users/engin/AppData/Local/Programs/Python/Python39/lib/site-packages/pandas/io/sql.py?line=1641'>1642</a>\u001b[0m     \u001b[39mself\u001b[39m,\n\u001b[1;32m   (...)\u001b[0m\n\u001b[0;32m   <a href='file:///c%3A/Users/engin/AppData/Local/Programs/Python/Python39/lib/site-packages/pandas/io/sql.py?line=1647'>1648</a>\u001b[0m     dtype\u001b[39m=\u001b[39mdtype,\n\u001b[0;32m   <a href='file:///c%3A/Users/engin/AppData/Local/Programs/Python/Python39/lib/site-packages/pandas/io/sql.py?line=1648'>1649</a>\u001b[0m )\n\u001b[1;32m-> <a href='file:///c%3A/Users/engin/AppData/Local/Programs/Python/Python39/lib/site-packages/pandas/io/sql.py?line=1649'>1650</a>\u001b[0m table\u001b[39m.\u001b[39;49mcreate()\n\u001b[0;32m   <a href='file:///c%3A/Users/engin/AppData/Local/Programs/Python/Python39/lib/site-packages/pandas/io/sql.py?line=1650'>1651</a>\u001b[0m \u001b[39mreturn\u001b[39;00m table\n",
      "File \u001b[1;32m~\\AppData\\Local\\Programs\\Python\\Python39\\lib\\site-packages\\pandas\\io\\sql.py:856\u001b[0m, in \u001b[0;36mSQLTable.create\u001b[1;34m(self)\u001b[0m\n\u001b[0;32m    <a href='file:///c%3A/Users/engin/AppData/Local/Programs/Python/Python39/lib/site-packages/pandas/io/sql.py?line=854'>855</a>\u001b[0m \u001b[39mdef\u001b[39;00m \u001b[39mcreate\u001b[39m(\u001b[39mself\u001b[39m):\n\u001b[1;32m--> <a href='file:///c%3A/Users/engin/AppData/Local/Programs/Python/Python39/lib/site-packages/pandas/io/sql.py?line=855'>856</a>\u001b[0m     \u001b[39mif\u001b[39;00m \u001b[39mself\u001b[39;49m\u001b[39m.\u001b[39;49mexists():\n\u001b[0;32m    <a href='file:///c%3A/Users/engin/AppData/Local/Programs/Python/Python39/lib/site-packages/pandas/io/sql.py?line=856'>857</a>\u001b[0m         \u001b[39mif\u001b[39;00m \u001b[39mself\u001b[39m\u001b[39m.\u001b[39mif_exists \u001b[39m==\u001b[39m \u001b[39m\"\u001b[39m\u001b[39mfail\u001b[39m\u001b[39m\"\u001b[39m:\n\u001b[0;32m    <a href='file:///c%3A/Users/engin/AppData/Local/Programs/Python/Python39/lib/site-packages/pandas/io/sql.py?line=857'>858</a>\u001b[0m             \u001b[39mraise\u001b[39;00m \u001b[39mValueError\u001b[39;00m(\u001b[39mf\u001b[39m\u001b[39m\"\u001b[39m\u001b[39mTable \u001b[39m\u001b[39m'\u001b[39m\u001b[39m{\u001b[39;00m\u001b[39mself\u001b[39m\u001b[39m.\u001b[39mname\u001b[39m}\u001b[39;00m\u001b[39m'\u001b[39m\u001b[39m already exists.\u001b[39m\u001b[39m\"\u001b[39m)\n",
      "File \u001b[1;32m~\\AppData\\Local\\Programs\\Python\\Python39\\lib\\site-packages\\pandas\\io\\sql.py:840\u001b[0m, in \u001b[0;36mSQLTable.exists\u001b[1;34m(self)\u001b[0m\n\u001b[0;32m    <a href='file:///c%3A/Users/engin/AppData/Local/Programs/Python/Python39/lib/site-packages/pandas/io/sql.py?line=838'>839</a>\u001b[0m \u001b[39mdef\u001b[39;00m \u001b[39mexists\u001b[39m(\u001b[39mself\u001b[39m):\n\u001b[1;32m--> <a href='file:///c%3A/Users/engin/AppData/Local/Programs/Python/Python39/lib/site-packages/pandas/io/sql.py?line=839'>840</a>\u001b[0m     \u001b[39mreturn\u001b[39;00m \u001b[39mself\u001b[39;49m\u001b[39m.\u001b[39;49mpd_sql\u001b[39m.\u001b[39;49mhas_table(\u001b[39mself\u001b[39;49m\u001b[39m.\u001b[39;49mname, \u001b[39mself\u001b[39;49m\u001b[39m.\u001b[39;49mschema)\n",
      "File \u001b[1;32m~\\AppData\\Local\\Programs\\Python\\Python39\\lib\\site-packages\\pandas\\io\\sql.py:1783\u001b[0m, in \u001b[0;36mSQLDatabase.has_table\u001b[1;34m(self, name, schema)\u001b[0m\n\u001b[0;32m   <a href='file:///c%3A/Users/engin/AppData/Local/Programs/Python/Python39/lib/site-packages/pandas/io/sql.py?line=1779'>1780</a>\u001b[0m \u001b[39mif\u001b[39;00m _gt14():\n\u001b[0;32m   <a href='file:///c%3A/Users/engin/AppData/Local/Programs/Python/Python39/lib/site-packages/pandas/io/sql.py?line=1780'>1781</a>\u001b[0m     \u001b[39mimport\u001b[39;00m \u001b[39msqlalchemy\u001b[39;00m \u001b[39mas\u001b[39;00m \u001b[39msa\u001b[39;00m\n\u001b[1;32m-> <a href='file:///c%3A/Users/engin/AppData/Local/Programs/Python/Python39/lib/site-packages/pandas/io/sql.py?line=1782'>1783</a>\u001b[0m     insp \u001b[39m=\u001b[39m sa\u001b[39m.\u001b[39;49minspect(\u001b[39mself\u001b[39;49m\u001b[39m.\u001b[39;49mconnectable)\n\u001b[0;32m   <a href='file:///c%3A/Users/engin/AppData/Local/Programs/Python/Python39/lib/site-packages/pandas/io/sql.py?line=1783'>1784</a>\u001b[0m     \u001b[39mreturn\u001b[39;00m insp\u001b[39m.\u001b[39mhas_table(name, schema \u001b[39mor\u001b[39;00m \u001b[39mself\u001b[39m\u001b[39m.\u001b[39mmeta\u001b[39m.\u001b[39mschema)\n\u001b[0;32m   <a href='file:///c%3A/Users/engin/AppData/Local/Programs/Python/Python39/lib/site-packages/pandas/io/sql.py?line=1784'>1785</a>\u001b[0m \u001b[39melse\u001b[39;00m:\n",
      "File \u001b[1;32m~\\AppData\\Local\\Programs\\Python\\Python39\\lib\\site-packages\\sqlalchemy\\inspection.py:64\u001b[0m, in \u001b[0;36minspect\u001b[1;34m(subject, raiseerr)\u001b[0m\n\u001b[0;32m     <a href='file:///c%3A/Users/engin/AppData/Local/Programs/Python/Python39/lib/site-packages/sqlalchemy/inspection.py?line=61'>62</a>\u001b[0m \u001b[39mif\u001b[39;00m reg \u001b[39mis\u001b[39;00m \u001b[39mTrue\u001b[39;00m:\n\u001b[0;32m     <a href='file:///c%3A/Users/engin/AppData/Local/Programs/Python/Python39/lib/site-packages/sqlalchemy/inspection.py?line=62'>63</a>\u001b[0m     \u001b[39mreturn\u001b[39;00m subject\n\u001b[1;32m---> <a href='file:///c%3A/Users/engin/AppData/Local/Programs/Python/Python39/lib/site-packages/sqlalchemy/inspection.py?line=63'>64</a>\u001b[0m ret \u001b[39m=\u001b[39m reg(subject)\n\u001b[0;32m     <a href='file:///c%3A/Users/engin/AppData/Local/Programs/Python/Python39/lib/site-packages/sqlalchemy/inspection.py?line=64'>65</a>\u001b[0m \u001b[39mif\u001b[39;00m ret \u001b[39mis\u001b[39;00m \u001b[39mnot\u001b[39;00m \u001b[39mNone\u001b[39;00m:\n\u001b[0;32m     <a href='file:///c%3A/Users/engin/AppData/Local/Programs/Python/Python39/lib/site-packages/sqlalchemy/inspection.py?line=65'>66</a>\u001b[0m     \u001b[39mbreak\u001b[39;00m\n",
      "File \u001b[1;32m~\\AppData\\Local\\Programs\\Python\\Python39\\lib\\site-packages\\sqlalchemy\\engine\\reflection.py:182\u001b[0m, in \u001b[0;36mInspector._engine_insp\u001b[1;34m(bind)\u001b[0m\n\u001b[0;32m    <a href='file:///c%3A/Users/engin/AppData/Local/Programs/Python/Python39/lib/site-packages/sqlalchemy/engine/reflection.py?line=179'>180</a>\u001b[0m \u001b[39m@inspection\u001b[39m\u001b[39m.\u001b[39m_inspects(Engine)\n\u001b[0;32m    <a href='file:///c%3A/Users/engin/AppData/Local/Programs/Python/Python39/lib/site-packages/sqlalchemy/engine/reflection.py?line=180'>181</a>\u001b[0m \u001b[39mdef\u001b[39;00m \u001b[39m_engine_insp\u001b[39m(bind):\n\u001b[1;32m--> <a href='file:///c%3A/Users/engin/AppData/Local/Programs/Python/Python39/lib/site-packages/sqlalchemy/engine/reflection.py?line=181'>182</a>\u001b[0m     \u001b[39mreturn\u001b[39;00m Inspector\u001b[39m.\u001b[39;49m_construct(Inspector\u001b[39m.\u001b[39;49m_init_engine, bind)\n",
      "File \u001b[1;32m~\\AppData\\Local\\Programs\\Python\\Python39\\lib\\site-packages\\sqlalchemy\\engine\\reflection.py:117\u001b[0m, in \u001b[0;36mInspector._construct\u001b[1;34m(cls, init, bind)\u001b[0m\n\u001b[0;32m    <a href='file:///c%3A/Users/engin/AppData/Local/Programs/Python/Python39/lib/site-packages/sqlalchemy/engine/reflection.py?line=113'>114</a>\u001b[0m     \u001b[39mcls\u001b[39m \u001b[39m=\u001b[39m bind\u001b[39m.\u001b[39mdialect\u001b[39m.\u001b[39minspector\n\u001b[0;32m    <a href='file:///c%3A/Users/engin/AppData/Local/Programs/Python/Python39/lib/site-packages/sqlalchemy/engine/reflection.py?line=115'>116</a>\u001b[0m \u001b[39mself\u001b[39m \u001b[39m=\u001b[39m \u001b[39mcls\u001b[39m\u001b[39m.\u001b[39m\u001b[39m__new__\u001b[39m(\u001b[39mcls\u001b[39m)\n\u001b[1;32m--> <a href='file:///c%3A/Users/engin/AppData/Local/Programs/Python/Python39/lib/site-packages/sqlalchemy/engine/reflection.py?line=116'>117</a>\u001b[0m init(\u001b[39mself\u001b[39;49m, bind)\n\u001b[0;32m    <a href='file:///c%3A/Users/engin/AppData/Local/Programs/Python/Python39/lib/site-packages/sqlalchemy/engine/reflection.py?line=117'>118</a>\u001b[0m \u001b[39mreturn\u001b[39;00m \u001b[39mself\u001b[39m\n",
      "File \u001b[1;32m~\\AppData\\Local\\Programs\\Python\\Python39\\lib\\site-packages\\sqlalchemy\\engine\\reflection.py:128\u001b[0m, in \u001b[0;36mInspector._init_engine\u001b[1;34m(self, engine)\u001b[0m\n\u001b[0;32m    <a href='file:///c%3A/Users/engin/AppData/Local/Programs/Python/Python39/lib/site-packages/sqlalchemy/engine/reflection.py?line=125'>126</a>\u001b[0m \u001b[39mdef\u001b[39;00m \u001b[39m_init_engine\u001b[39m(\u001b[39mself\u001b[39m, engine):\n\u001b[0;32m    <a href='file:///c%3A/Users/engin/AppData/Local/Programs/Python/Python39/lib/site-packages/sqlalchemy/engine/reflection.py?line=126'>127</a>\u001b[0m     \u001b[39mself\u001b[39m\u001b[39m.\u001b[39mbind \u001b[39m=\u001b[39m \u001b[39mself\u001b[39m\u001b[39m.\u001b[39mengine \u001b[39m=\u001b[39m engine\n\u001b[1;32m--> <a href='file:///c%3A/Users/engin/AppData/Local/Programs/Python/Python39/lib/site-packages/sqlalchemy/engine/reflection.py?line=127'>128</a>\u001b[0m     engine\u001b[39m.\u001b[39;49mconnect()\u001b[39m.\u001b[39mclose()\n\u001b[0;32m    <a href='file:///c%3A/Users/engin/AppData/Local/Programs/Python/Python39/lib/site-packages/sqlalchemy/engine/reflection.py?line=128'>129</a>\u001b[0m     \u001b[39mself\u001b[39m\u001b[39m.\u001b[39m_op_context_requires_connect \u001b[39m=\u001b[39m \u001b[39mTrue\u001b[39;00m\n\u001b[0;32m    <a href='file:///c%3A/Users/engin/AppData/Local/Programs/Python/Python39/lib/site-packages/sqlalchemy/engine/reflection.py?line=129'>130</a>\u001b[0m     \u001b[39mself\u001b[39m\u001b[39m.\u001b[39mdialect \u001b[39m=\u001b[39m \u001b[39mself\u001b[39m\u001b[39m.\u001b[39mengine\u001b[39m.\u001b[39mdialect\n",
      "File \u001b[1;32m~\\AppData\\Local\\Programs\\Python\\Python39\\lib\\site-packages\\sqlalchemy\\engine\\base.py:3204\u001b[0m, in \u001b[0;36mEngine.connect\u001b[1;34m(self, close_with_result)\u001b[0m\n\u001b[0;32m   <a href='file:///c%3A/Users/engin/AppData/Local/Programs/Python/Python39/lib/site-packages/sqlalchemy/engine/base.py?line=3188'>3189</a>\u001b[0m \u001b[39mdef\u001b[39;00m \u001b[39mconnect\u001b[39m(\u001b[39mself\u001b[39m, close_with_result\u001b[39m=\u001b[39m\u001b[39mFalse\u001b[39;00m):\n\u001b[0;32m   <a href='file:///c%3A/Users/engin/AppData/Local/Programs/Python/Python39/lib/site-packages/sqlalchemy/engine/base.py?line=3189'>3190</a>\u001b[0m     \u001b[39m\"\"\"Return a new :class:`_engine.Connection` object.\u001b[39;00m\n\u001b[0;32m   <a href='file:///c%3A/Users/engin/AppData/Local/Programs/Python/Python39/lib/site-packages/sqlalchemy/engine/base.py?line=3190'>3191</a>\u001b[0m \n\u001b[0;32m   <a href='file:///c%3A/Users/engin/AppData/Local/Programs/Python/Python39/lib/site-packages/sqlalchemy/engine/base.py?line=3191'>3192</a>\u001b[0m \u001b[39m    The :class:`_engine.Connection` object is a facade that uses a DBAPI\u001b[39;00m\n\u001b[1;32m   (...)\u001b[0m\n\u001b[0;32m   <a href='file:///c%3A/Users/engin/AppData/Local/Programs/Python/Python39/lib/site-packages/sqlalchemy/engine/base.py?line=3200'>3201</a>\u001b[0m \n\u001b[0;32m   <a href='file:///c%3A/Users/engin/AppData/Local/Programs/Python/Python39/lib/site-packages/sqlalchemy/engine/base.py?line=3201'>3202</a>\u001b[0m \u001b[39m    \"\"\"\u001b[39;00m\n\u001b[1;32m-> <a href='file:///c%3A/Users/engin/AppData/Local/Programs/Python/Python39/lib/site-packages/sqlalchemy/engine/base.py?line=3203'>3204</a>\u001b[0m     \u001b[39mreturn\u001b[39;00m \u001b[39mself\u001b[39;49m\u001b[39m.\u001b[39;49m_connection_cls(\u001b[39mself\u001b[39;49m, close_with_result\u001b[39m=\u001b[39;49mclose_with_result)\n",
      "File \u001b[1;32m~\\AppData\\Local\\Programs\\Python\\Python39\\lib\\site-packages\\sqlalchemy\\engine\\base.py:96\u001b[0m, in \u001b[0;36mConnection.__init__\u001b[1;34m(self, engine, connection, close_with_result, _branch_from, _execution_options, _dispatch, _has_events, _allow_revalidate)\u001b[0m\n\u001b[0;32m     <a href='file:///c%3A/Users/engin/AppData/Local/Programs/Python/Python39/lib/site-packages/sqlalchemy/engine/base.py?line=90'>91</a>\u001b[0m     \u001b[39mself\u001b[39m\u001b[39m.\u001b[39m_has_events \u001b[39m=\u001b[39m _branch_from\u001b[39m.\u001b[39m_has_events\n\u001b[0;32m     <a href='file:///c%3A/Users/engin/AppData/Local/Programs/Python/Python39/lib/site-packages/sqlalchemy/engine/base.py?line=91'>92</a>\u001b[0m \u001b[39melse\u001b[39;00m:\n\u001b[0;32m     <a href='file:///c%3A/Users/engin/AppData/Local/Programs/Python/Python39/lib/site-packages/sqlalchemy/engine/base.py?line=92'>93</a>\u001b[0m     \u001b[39mself\u001b[39m\u001b[39m.\u001b[39m_dbapi_connection \u001b[39m=\u001b[39m (\n\u001b[0;32m     <a href='file:///c%3A/Users/engin/AppData/Local/Programs/Python/Python39/lib/site-packages/sqlalchemy/engine/base.py?line=93'>94</a>\u001b[0m         connection\n\u001b[0;32m     <a href='file:///c%3A/Users/engin/AppData/Local/Programs/Python/Python39/lib/site-packages/sqlalchemy/engine/base.py?line=94'>95</a>\u001b[0m         \u001b[39mif\u001b[39;00m connection \u001b[39mis\u001b[39;00m \u001b[39mnot\u001b[39;00m \u001b[39mNone\u001b[39;00m\n\u001b[1;32m---> <a href='file:///c%3A/Users/engin/AppData/Local/Programs/Python/Python39/lib/site-packages/sqlalchemy/engine/base.py?line=95'>96</a>\u001b[0m         \u001b[39melse\u001b[39;00m engine\u001b[39m.\u001b[39;49mraw_connection()\n\u001b[0;32m     <a href='file:///c%3A/Users/engin/AppData/Local/Programs/Python/Python39/lib/site-packages/sqlalchemy/engine/base.py?line=96'>97</a>\u001b[0m     )\n\u001b[0;32m     <a href='file:///c%3A/Users/engin/AppData/Local/Programs/Python/Python39/lib/site-packages/sqlalchemy/engine/base.py?line=98'>99</a>\u001b[0m     \u001b[39mself\u001b[39m\u001b[39m.\u001b[39m_transaction \u001b[39m=\u001b[39m \u001b[39mself\u001b[39m\u001b[39m.\u001b[39m_nested_transaction \u001b[39m=\u001b[39m \u001b[39mNone\u001b[39;00m\n\u001b[0;32m    <a href='file:///c%3A/Users/engin/AppData/Local/Programs/Python/Python39/lib/site-packages/sqlalchemy/engine/base.py?line=99'>100</a>\u001b[0m     \u001b[39mself\u001b[39m\u001b[39m.\u001b[39m__savepoint_seq \u001b[39m=\u001b[39m \u001b[39m0\u001b[39m\n",
      "File \u001b[1;32m~\\AppData\\Local\\Programs\\Python\\Python39\\lib\\site-packages\\sqlalchemy\\engine\\base.py:3283\u001b[0m, in \u001b[0;36mEngine.raw_connection\u001b[1;34m(self, _connection)\u001b[0m\n\u001b[0;32m   <a href='file:///c%3A/Users/engin/AppData/Local/Programs/Python/Python39/lib/site-packages/sqlalchemy/engine/base.py?line=3260'>3261</a>\u001b[0m \u001b[39mdef\u001b[39;00m \u001b[39mraw_connection\u001b[39m(\u001b[39mself\u001b[39m, _connection\u001b[39m=\u001b[39m\u001b[39mNone\u001b[39;00m):\n\u001b[0;32m   <a href='file:///c%3A/Users/engin/AppData/Local/Programs/Python/Python39/lib/site-packages/sqlalchemy/engine/base.py?line=3261'>3262</a>\u001b[0m     \u001b[39m\"\"\"Return a \"raw\" DBAPI connection from the connection pool.\u001b[39;00m\n\u001b[0;32m   <a href='file:///c%3A/Users/engin/AppData/Local/Programs/Python/Python39/lib/site-packages/sqlalchemy/engine/base.py?line=3262'>3263</a>\u001b[0m \n\u001b[0;32m   <a href='file:///c%3A/Users/engin/AppData/Local/Programs/Python/Python39/lib/site-packages/sqlalchemy/engine/base.py?line=3263'>3264</a>\u001b[0m \u001b[39m    The returned object is a proxied version of the DBAPI\u001b[39;00m\n\u001b[1;32m   (...)\u001b[0m\n\u001b[0;32m   <a href='file:///c%3A/Users/engin/AppData/Local/Programs/Python/Python39/lib/site-packages/sqlalchemy/engine/base.py?line=3280'>3281</a>\u001b[0m \n\u001b[0;32m   <a href='file:///c%3A/Users/engin/AppData/Local/Programs/Python/Python39/lib/site-packages/sqlalchemy/engine/base.py?line=3281'>3282</a>\u001b[0m \u001b[39m    \"\"\"\u001b[39;00m\n\u001b[1;32m-> <a href='file:///c%3A/Users/engin/AppData/Local/Programs/Python/Python39/lib/site-packages/sqlalchemy/engine/base.py?line=3282'>3283</a>\u001b[0m     \u001b[39mreturn\u001b[39;00m \u001b[39mself\u001b[39;49m\u001b[39m.\u001b[39;49m_wrap_pool_connect(\u001b[39mself\u001b[39;49m\u001b[39m.\u001b[39;49mpool\u001b[39m.\u001b[39;49mconnect, _connection)\n",
      "File \u001b[1;32m~\\AppData\\Local\\Programs\\Python\\Python39\\lib\\site-packages\\sqlalchemy\\engine\\base.py:3253\u001b[0m, in \u001b[0;36mEngine._wrap_pool_connect\u001b[1;34m(self, fn, connection)\u001b[0m\n\u001b[0;32m   <a href='file:///c%3A/Users/engin/AppData/Local/Programs/Python/Python39/lib/site-packages/sqlalchemy/engine/base.py?line=3250'>3251</a>\u001b[0m \u001b[39mexcept\u001b[39;00m dialect\u001b[39m.\u001b[39mdbapi\u001b[39m.\u001b[39mError \u001b[39mas\u001b[39;00m e:\n\u001b[0;32m   <a href='file:///c%3A/Users/engin/AppData/Local/Programs/Python/Python39/lib/site-packages/sqlalchemy/engine/base.py?line=3251'>3252</a>\u001b[0m     \u001b[39mif\u001b[39;00m connection \u001b[39mis\u001b[39;00m \u001b[39mNone\u001b[39;00m:\n\u001b[1;32m-> <a href='file:///c%3A/Users/engin/AppData/Local/Programs/Python/Python39/lib/site-packages/sqlalchemy/engine/base.py?line=3252'>3253</a>\u001b[0m         Connection\u001b[39m.\u001b[39;49m_handle_dbapi_exception_noconnection(\n\u001b[0;32m   <a href='file:///c%3A/Users/engin/AppData/Local/Programs/Python/Python39/lib/site-packages/sqlalchemy/engine/base.py?line=3253'>3254</a>\u001b[0m             e, dialect, \u001b[39mself\u001b[39;49m\n\u001b[0;32m   <a href='file:///c%3A/Users/engin/AppData/Local/Programs/Python/Python39/lib/site-packages/sqlalchemy/engine/base.py?line=3254'>3255</a>\u001b[0m         )\n\u001b[0;32m   <a href='file:///c%3A/Users/engin/AppData/Local/Programs/Python/Python39/lib/site-packages/sqlalchemy/engine/base.py?line=3255'>3256</a>\u001b[0m     \u001b[39melse\u001b[39;00m:\n\u001b[0;32m   <a href='file:///c%3A/Users/engin/AppData/Local/Programs/Python/Python39/lib/site-packages/sqlalchemy/engine/base.py?line=3256'>3257</a>\u001b[0m         util\u001b[39m.\u001b[39mraise_(\n\u001b[0;32m   <a href='file:///c%3A/Users/engin/AppData/Local/Programs/Python/Python39/lib/site-packages/sqlalchemy/engine/base.py?line=3257'>3258</a>\u001b[0m             sys\u001b[39m.\u001b[39mexc_info()[\u001b[39m1\u001b[39m], with_traceback\u001b[39m=\u001b[39msys\u001b[39m.\u001b[39mexc_info()[\u001b[39m2\u001b[39m]\n\u001b[0;32m   <a href='file:///c%3A/Users/engin/AppData/Local/Programs/Python/Python39/lib/site-packages/sqlalchemy/engine/base.py?line=3258'>3259</a>\u001b[0m         )\n",
      "File \u001b[1;32m~\\AppData\\Local\\Programs\\Python\\Python39\\lib\\site-packages\\sqlalchemy\\engine\\base.py:2100\u001b[0m, in \u001b[0;36mConnection._handle_dbapi_exception_noconnection\u001b[1;34m(cls, e, dialect, engine)\u001b[0m\n\u001b[0;32m   <a href='file:///c%3A/Users/engin/AppData/Local/Programs/Python/Python39/lib/site-packages/sqlalchemy/engine/base.py?line=2097'>2098</a>\u001b[0m     util\u001b[39m.\u001b[39mraise_(newraise, with_traceback\u001b[39m=\u001b[39mexc_info[\u001b[39m2\u001b[39m], from_\u001b[39m=\u001b[39me)\n\u001b[0;32m   <a href='file:///c%3A/Users/engin/AppData/Local/Programs/Python/Python39/lib/site-packages/sqlalchemy/engine/base.py?line=2098'>2099</a>\u001b[0m \u001b[39melif\u001b[39;00m should_wrap:\n\u001b[1;32m-> <a href='file:///c%3A/Users/engin/AppData/Local/Programs/Python/Python39/lib/site-packages/sqlalchemy/engine/base.py?line=2099'>2100</a>\u001b[0m     util\u001b[39m.\u001b[39;49mraise_(\n\u001b[0;32m   <a href='file:///c%3A/Users/engin/AppData/Local/Programs/Python/Python39/lib/site-packages/sqlalchemy/engine/base.py?line=2100'>2101</a>\u001b[0m         sqlalchemy_exception, with_traceback\u001b[39m=\u001b[39;49mexc_info[\u001b[39m2\u001b[39;49m], from_\u001b[39m=\u001b[39;49me\n\u001b[0;32m   <a href='file:///c%3A/Users/engin/AppData/Local/Programs/Python/Python39/lib/site-packages/sqlalchemy/engine/base.py?line=2101'>2102</a>\u001b[0m     )\n\u001b[0;32m   <a href='file:///c%3A/Users/engin/AppData/Local/Programs/Python/Python39/lib/site-packages/sqlalchemy/engine/base.py?line=2102'>2103</a>\u001b[0m \u001b[39melse\u001b[39;00m:\n\u001b[0;32m   <a href='file:///c%3A/Users/engin/AppData/Local/Programs/Python/Python39/lib/site-packages/sqlalchemy/engine/base.py?line=2103'>2104</a>\u001b[0m     util\u001b[39m.\u001b[39mraise_(exc_info[\u001b[39m1\u001b[39m], with_traceback\u001b[39m=\u001b[39mexc_info[\u001b[39m2\u001b[39m])\n",
      "File \u001b[1;32m~\\AppData\\Local\\Programs\\Python\\Python39\\lib\\site-packages\\sqlalchemy\\util\\compat.py:207\u001b[0m, in \u001b[0;36mraise_\u001b[1;34m(***failed resolving arguments***)\u001b[0m\n\u001b[0;32m    <a href='file:///c%3A/Users/engin/AppData/Local/Programs/Python/Python39/lib/site-packages/sqlalchemy/util/compat.py?line=203'>204</a>\u001b[0m     exception\u001b[39m.\u001b[39m__cause__ \u001b[39m=\u001b[39m replace_context\n\u001b[0;32m    <a href='file:///c%3A/Users/engin/AppData/Local/Programs/Python/Python39/lib/site-packages/sqlalchemy/util/compat.py?line=205'>206</a>\u001b[0m \u001b[39mtry\u001b[39;00m:\n\u001b[1;32m--> <a href='file:///c%3A/Users/engin/AppData/Local/Programs/Python/Python39/lib/site-packages/sqlalchemy/util/compat.py?line=206'>207</a>\u001b[0m     \u001b[39mraise\u001b[39;00m exception\n\u001b[0;32m    <a href='file:///c%3A/Users/engin/AppData/Local/Programs/Python/Python39/lib/site-packages/sqlalchemy/util/compat.py?line=207'>208</a>\u001b[0m \u001b[39mfinally\u001b[39;00m:\n\u001b[0;32m    <a href='file:///c%3A/Users/engin/AppData/Local/Programs/Python/Python39/lib/site-packages/sqlalchemy/util/compat.py?line=208'>209</a>\u001b[0m     \u001b[39m# credit to\u001b[39;00m\n\u001b[0;32m    <a href='file:///c%3A/Users/engin/AppData/Local/Programs/Python/Python39/lib/site-packages/sqlalchemy/util/compat.py?line=209'>210</a>\u001b[0m     \u001b[39m# https://cosmicpercolator.com/2016/01/13/exception-leaks-in-python-2-and-3/\u001b[39;00m\n\u001b[0;32m    <a href='file:///c%3A/Users/engin/AppData/Local/Programs/Python/Python39/lib/site-packages/sqlalchemy/util/compat.py?line=210'>211</a>\u001b[0m     \u001b[39m# as the __traceback__ object creates a cycle\u001b[39;00m\n\u001b[0;32m    <a href='file:///c%3A/Users/engin/AppData/Local/Programs/Python/Python39/lib/site-packages/sqlalchemy/util/compat.py?line=211'>212</a>\u001b[0m     \u001b[39mdel\u001b[39;00m exception, replace_context, from_, with_traceback\n",
      "File \u001b[1;32m~\\AppData\\Local\\Programs\\Python\\Python39\\lib\\site-packages\\sqlalchemy\\engine\\base.py:3250\u001b[0m, in \u001b[0;36mEngine._wrap_pool_connect\u001b[1;34m(self, fn, connection)\u001b[0m\n\u001b[0;32m   <a href='file:///c%3A/Users/engin/AppData/Local/Programs/Python/Python39/lib/site-packages/sqlalchemy/engine/base.py?line=3247'>3248</a>\u001b[0m dialect \u001b[39m=\u001b[39m \u001b[39mself\u001b[39m\u001b[39m.\u001b[39mdialect\n\u001b[0;32m   <a href='file:///c%3A/Users/engin/AppData/Local/Programs/Python/Python39/lib/site-packages/sqlalchemy/engine/base.py?line=3248'>3249</a>\u001b[0m \u001b[39mtry\u001b[39;00m:\n\u001b[1;32m-> <a href='file:///c%3A/Users/engin/AppData/Local/Programs/Python/Python39/lib/site-packages/sqlalchemy/engine/base.py?line=3249'>3250</a>\u001b[0m     \u001b[39mreturn\u001b[39;00m fn()\n\u001b[0;32m   <a href='file:///c%3A/Users/engin/AppData/Local/Programs/Python/Python39/lib/site-packages/sqlalchemy/engine/base.py?line=3250'>3251</a>\u001b[0m \u001b[39mexcept\u001b[39;00m dialect\u001b[39m.\u001b[39mdbapi\u001b[39m.\u001b[39mError \u001b[39mas\u001b[39;00m e:\n\u001b[0;32m   <a href='file:///c%3A/Users/engin/AppData/Local/Programs/Python/Python39/lib/site-packages/sqlalchemy/engine/base.py?line=3251'>3252</a>\u001b[0m     \u001b[39mif\u001b[39;00m connection \u001b[39mis\u001b[39;00m \u001b[39mNone\u001b[39;00m:\n",
      "File \u001b[1;32m~\\AppData\\Local\\Programs\\Python\\Python39\\lib\\site-packages\\sqlalchemy\\pool\\base.py:310\u001b[0m, in \u001b[0;36mPool.connect\u001b[1;34m(self)\u001b[0m\n\u001b[0;32m    <a href='file:///c%3A/Users/engin/AppData/Local/Programs/Python/Python39/lib/site-packages/sqlalchemy/pool/base.py?line=301'>302</a>\u001b[0m \u001b[39mdef\u001b[39;00m \u001b[39mconnect\u001b[39m(\u001b[39mself\u001b[39m):\n\u001b[0;32m    <a href='file:///c%3A/Users/engin/AppData/Local/Programs/Python/Python39/lib/site-packages/sqlalchemy/pool/base.py?line=302'>303</a>\u001b[0m     \u001b[39m\"\"\"Return a DBAPI connection from the pool.\u001b[39;00m\n\u001b[0;32m    <a href='file:///c%3A/Users/engin/AppData/Local/Programs/Python/Python39/lib/site-packages/sqlalchemy/pool/base.py?line=303'>304</a>\u001b[0m \n\u001b[0;32m    <a href='file:///c%3A/Users/engin/AppData/Local/Programs/Python/Python39/lib/site-packages/sqlalchemy/pool/base.py?line=304'>305</a>\u001b[0m \u001b[39m    The connection is instrumented such that when its\u001b[39;00m\n\u001b[1;32m   (...)\u001b[0m\n\u001b[0;32m    <a href='file:///c%3A/Users/engin/AppData/Local/Programs/Python/Python39/lib/site-packages/sqlalchemy/pool/base.py?line=307'>308</a>\u001b[0m \n\u001b[0;32m    <a href='file:///c%3A/Users/engin/AppData/Local/Programs/Python/Python39/lib/site-packages/sqlalchemy/pool/base.py?line=308'>309</a>\u001b[0m \u001b[39m    \"\"\"\u001b[39;00m\n\u001b[1;32m--> <a href='file:///c%3A/Users/engin/AppData/Local/Programs/Python/Python39/lib/site-packages/sqlalchemy/pool/base.py?line=309'>310</a>\u001b[0m     \u001b[39mreturn\u001b[39;00m _ConnectionFairy\u001b[39m.\u001b[39;49m_checkout(\u001b[39mself\u001b[39;49m)\n",
      "File \u001b[1;32m~\\AppData\\Local\\Programs\\Python\\Python39\\lib\\site-packages\\sqlalchemy\\pool\\base.py:868\u001b[0m, in \u001b[0;36m_ConnectionFairy._checkout\u001b[1;34m(cls, pool, threadconns, fairy)\u001b[0m\n\u001b[0;32m    <a href='file:///c%3A/Users/engin/AppData/Local/Programs/Python/Python39/lib/site-packages/sqlalchemy/pool/base.py?line=864'>865</a>\u001b[0m \u001b[39m@classmethod\u001b[39m\n\u001b[0;32m    <a href='file:///c%3A/Users/engin/AppData/Local/Programs/Python/Python39/lib/site-packages/sqlalchemy/pool/base.py?line=865'>866</a>\u001b[0m \u001b[39mdef\u001b[39;00m \u001b[39m_checkout\u001b[39m(\u001b[39mcls\u001b[39m, pool, threadconns\u001b[39m=\u001b[39m\u001b[39mNone\u001b[39;00m, fairy\u001b[39m=\u001b[39m\u001b[39mNone\u001b[39;00m):\n\u001b[0;32m    <a href='file:///c%3A/Users/engin/AppData/Local/Programs/Python/Python39/lib/site-packages/sqlalchemy/pool/base.py?line=866'>867</a>\u001b[0m     \u001b[39mif\u001b[39;00m \u001b[39mnot\u001b[39;00m fairy:\n\u001b[1;32m--> <a href='file:///c%3A/Users/engin/AppData/Local/Programs/Python/Python39/lib/site-packages/sqlalchemy/pool/base.py?line=867'>868</a>\u001b[0m         fairy \u001b[39m=\u001b[39m _ConnectionRecord\u001b[39m.\u001b[39;49mcheckout(pool)\n\u001b[0;32m    <a href='file:///c%3A/Users/engin/AppData/Local/Programs/Python/Python39/lib/site-packages/sqlalchemy/pool/base.py?line=869'>870</a>\u001b[0m         fairy\u001b[39m.\u001b[39m_pool \u001b[39m=\u001b[39m pool\n\u001b[0;32m    <a href='file:///c%3A/Users/engin/AppData/Local/Programs/Python/Python39/lib/site-packages/sqlalchemy/pool/base.py?line=870'>871</a>\u001b[0m         fairy\u001b[39m.\u001b[39m_counter \u001b[39m=\u001b[39m \u001b[39m0\u001b[39m\n",
      "File \u001b[1;32m~\\AppData\\Local\\Programs\\Python\\Python39\\lib\\site-packages\\sqlalchemy\\pool\\base.py:476\u001b[0m, in \u001b[0;36m_ConnectionRecord.checkout\u001b[1;34m(cls, pool)\u001b[0m\n\u001b[0;32m    <a href='file:///c%3A/Users/engin/AppData/Local/Programs/Python/Python39/lib/site-packages/sqlalchemy/pool/base.py?line=473'>474</a>\u001b[0m \u001b[39m@classmethod\u001b[39m\n\u001b[0;32m    <a href='file:///c%3A/Users/engin/AppData/Local/Programs/Python/Python39/lib/site-packages/sqlalchemy/pool/base.py?line=474'>475</a>\u001b[0m \u001b[39mdef\u001b[39;00m \u001b[39mcheckout\u001b[39m(\u001b[39mcls\u001b[39m, pool):\n\u001b[1;32m--> <a href='file:///c%3A/Users/engin/AppData/Local/Programs/Python/Python39/lib/site-packages/sqlalchemy/pool/base.py?line=475'>476</a>\u001b[0m     rec \u001b[39m=\u001b[39m pool\u001b[39m.\u001b[39;49m_do_get()\n\u001b[0;32m    <a href='file:///c%3A/Users/engin/AppData/Local/Programs/Python/Python39/lib/site-packages/sqlalchemy/pool/base.py?line=476'>477</a>\u001b[0m     \u001b[39mtry\u001b[39;00m:\n\u001b[0;32m    <a href='file:///c%3A/Users/engin/AppData/Local/Programs/Python/Python39/lib/site-packages/sqlalchemy/pool/base.py?line=477'>478</a>\u001b[0m         dbapi_connection \u001b[39m=\u001b[39m rec\u001b[39m.\u001b[39mget_connection()\n",
      "File \u001b[1;32m~\\AppData\\Local\\Programs\\Python\\Python39\\lib\\site-packages\\sqlalchemy\\pool\\impl.py:146\u001b[0m, in \u001b[0;36mQueuePool._do_get\u001b[1;34m(self)\u001b[0m\n\u001b[0;32m    <a href='file:///c%3A/Users/engin/AppData/Local/Programs/Python/Python39/lib/site-packages/sqlalchemy/pool/impl.py?line=143'>144</a>\u001b[0m     \u001b[39mexcept\u001b[39;00m:\n\u001b[0;32m    <a href='file:///c%3A/Users/engin/AppData/Local/Programs/Python/Python39/lib/site-packages/sqlalchemy/pool/impl.py?line=144'>145</a>\u001b[0m         \u001b[39mwith\u001b[39;00m util\u001b[39m.\u001b[39msafe_reraise():\n\u001b[1;32m--> <a href='file:///c%3A/Users/engin/AppData/Local/Programs/Python/Python39/lib/site-packages/sqlalchemy/pool/impl.py?line=145'>146</a>\u001b[0m             \u001b[39mself\u001b[39m\u001b[39m.\u001b[39m_dec_overflow()\n\u001b[0;32m    <a href='file:///c%3A/Users/engin/AppData/Local/Programs/Python/Python39/lib/site-packages/sqlalchemy/pool/impl.py?line=146'>147</a>\u001b[0m \u001b[39melse\u001b[39;00m:\n\u001b[0;32m    <a href='file:///c%3A/Users/engin/AppData/Local/Programs/Python/Python39/lib/site-packages/sqlalchemy/pool/impl.py?line=147'>148</a>\u001b[0m     \u001b[39mreturn\u001b[39;00m \u001b[39mself\u001b[39m\u001b[39m.\u001b[39m_do_get()\n",
      "File \u001b[1;32m~\\AppData\\Local\\Programs\\Python\\Python39\\lib\\site-packages\\sqlalchemy\\util\\langhelpers.py:70\u001b[0m, in \u001b[0;36msafe_reraise.__exit__\u001b[1;34m(self, type_, value, traceback)\u001b[0m\n\u001b[0;32m     <a href='file:///c%3A/Users/engin/AppData/Local/Programs/Python/Python39/lib/site-packages/sqlalchemy/util/langhelpers.py?line=67'>68</a>\u001b[0m     \u001b[39mself\u001b[39m\u001b[39m.\u001b[39m_exc_info \u001b[39m=\u001b[39m \u001b[39mNone\u001b[39;00m  \u001b[39m# remove potential circular references\u001b[39;00m\n\u001b[0;32m     <a href='file:///c%3A/Users/engin/AppData/Local/Programs/Python/Python39/lib/site-packages/sqlalchemy/util/langhelpers.py?line=68'>69</a>\u001b[0m     \u001b[39mif\u001b[39;00m \u001b[39mnot\u001b[39;00m \u001b[39mself\u001b[39m\u001b[39m.\u001b[39mwarn_only:\n\u001b[1;32m---> <a href='file:///c%3A/Users/engin/AppData/Local/Programs/Python/Python39/lib/site-packages/sqlalchemy/util/langhelpers.py?line=69'>70</a>\u001b[0m         compat\u001b[39m.\u001b[39;49mraise_(\n\u001b[0;32m     <a href='file:///c%3A/Users/engin/AppData/Local/Programs/Python/Python39/lib/site-packages/sqlalchemy/util/langhelpers.py?line=70'>71</a>\u001b[0m             exc_value,\n\u001b[0;32m     <a href='file:///c%3A/Users/engin/AppData/Local/Programs/Python/Python39/lib/site-packages/sqlalchemy/util/langhelpers.py?line=71'>72</a>\u001b[0m             with_traceback\u001b[39m=\u001b[39;49mexc_tb,\n\u001b[0;32m     <a href='file:///c%3A/Users/engin/AppData/Local/Programs/Python/Python39/lib/site-packages/sqlalchemy/util/langhelpers.py?line=72'>73</a>\u001b[0m         )\n\u001b[0;32m     <a href='file:///c%3A/Users/engin/AppData/Local/Programs/Python/Python39/lib/site-packages/sqlalchemy/util/langhelpers.py?line=73'>74</a>\u001b[0m \u001b[39melse\u001b[39;00m:\n\u001b[0;32m     <a href='file:///c%3A/Users/engin/AppData/Local/Programs/Python/Python39/lib/site-packages/sqlalchemy/util/langhelpers.py?line=74'>75</a>\u001b[0m     \u001b[39mif\u001b[39;00m \u001b[39mnot\u001b[39;00m compat\u001b[39m.\u001b[39mpy3k \u001b[39mand\u001b[39;00m \u001b[39mself\u001b[39m\u001b[39m.\u001b[39m_exc_info \u001b[39mand\u001b[39;00m \u001b[39mself\u001b[39m\u001b[39m.\u001b[39m_exc_info[\u001b[39m1\u001b[39m]:\n\u001b[0;32m     <a href='file:///c%3A/Users/engin/AppData/Local/Programs/Python/Python39/lib/site-packages/sqlalchemy/util/langhelpers.py?line=75'>76</a>\u001b[0m         \u001b[39m# emulate Py3K's behavior of telling us when an exception\u001b[39;00m\n\u001b[0;32m     <a href='file:///c%3A/Users/engin/AppData/Local/Programs/Python/Python39/lib/site-packages/sqlalchemy/util/langhelpers.py?line=76'>77</a>\u001b[0m         \u001b[39m# occurs in an exception handler.\u001b[39;00m\n",
      "File \u001b[1;32m~\\AppData\\Local\\Programs\\Python\\Python39\\lib\\site-packages\\sqlalchemy\\util\\compat.py:207\u001b[0m, in \u001b[0;36mraise_\u001b[1;34m(***failed resolving arguments***)\u001b[0m\n\u001b[0;32m    <a href='file:///c%3A/Users/engin/AppData/Local/Programs/Python/Python39/lib/site-packages/sqlalchemy/util/compat.py?line=203'>204</a>\u001b[0m     exception\u001b[39m.\u001b[39m__cause__ \u001b[39m=\u001b[39m replace_context\n\u001b[0;32m    <a href='file:///c%3A/Users/engin/AppData/Local/Programs/Python/Python39/lib/site-packages/sqlalchemy/util/compat.py?line=205'>206</a>\u001b[0m \u001b[39mtry\u001b[39;00m:\n\u001b[1;32m--> <a href='file:///c%3A/Users/engin/AppData/Local/Programs/Python/Python39/lib/site-packages/sqlalchemy/util/compat.py?line=206'>207</a>\u001b[0m     \u001b[39mraise\u001b[39;00m exception\n\u001b[0;32m    <a href='file:///c%3A/Users/engin/AppData/Local/Programs/Python/Python39/lib/site-packages/sqlalchemy/util/compat.py?line=207'>208</a>\u001b[0m \u001b[39mfinally\u001b[39;00m:\n\u001b[0;32m    <a href='file:///c%3A/Users/engin/AppData/Local/Programs/Python/Python39/lib/site-packages/sqlalchemy/util/compat.py?line=208'>209</a>\u001b[0m     \u001b[39m# credit to\u001b[39;00m\n\u001b[0;32m    <a href='file:///c%3A/Users/engin/AppData/Local/Programs/Python/Python39/lib/site-packages/sqlalchemy/util/compat.py?line=209'>210</a>\u001b[0m     \u001b[39m# https://cosmicpercolator.com/2016/01/13/exception-leaks-in-python-2-and-3/\u001b[39;00m\n\u001b[0;32m    <a href='file:///c%3A/Users/engin/AppData/Local/Programs/Python/Python39/lib/site-packages/sqlalchemy/util/compat.py?line=210'>211</a>\u001b[0m     \u001b[39m# as the __traceback__ object creates a cycle\u001b[39;00m\n\u001b[0;32m    <a href='file:///c%3A/Users/engin/AppData/Local/Programs/Python/Python39/lib/site-packages/sqlalchemy/util/compat.py?line=211'>212</a>\u001b[0m     \u001b[39mdel\u001b[39;00m exception, replace_context, from_, with_traceback\n",
      "File \u001b[1;32m~\\AppData\\Local\\Programs\\Python\\Python39\\lib\\site-packages\\sqlalchemy\\pool\\impl.py:143\u001b[0m, in \u001b[0;36mQueuePool._do_get\u001b[1;34m(self)\u001b[0m\n\u001b[0;32m    <a href='file:///c%3A/Users/engin/AppData/Local/Programs/Python/Python39/lib/site-packages/sqlalchemy/pool/impl.py?line=140'>141</a>\u001b[0m \u001b[39mif\u001b[39;00m \u001b[39mself\u001b[39m\u001b[39m.\u001b[39m_inc_overflow():\n\u001b[0;32m    <a href='file:///c%3A/Users/engin/AppData/Local/Programs/Python/Python39/lib/site-packages/sqlalchemy/pool/impl.py?line=141'>142</a>\u001b[0m     \u001b[39mtry\u001b[39;00m:\n\u001b[1;32m--> <a href='file:///c%3A/Users/engin/AppData/Local/Programs/Python/Python39/lib/site-packages/sqlalchemy/pool/impl.py?line=142'>143</a>\u001b[0m         \u001b[39mreturn\u001b[39;00m \u001b[39mself\u001b[39;49m\u001b[39m.\u001b[39;49m_create_connection()\n\u001b[0;32m    <a href='file:///c%3A/Users/engin/AppData/Local/Programs/Python/Python39/lib/site-packages/sqlalchemy/pool/impl.py?line=143'>144</a>\u001b[0m     \u001b[39mexcept\u001b[39;00m:\n\u001b[0;32m    <a href='file:///c%3A/Users/engin/AppData/Local/Programs/Python/Python39/lib/site-packages/sqlalchemy/pool/impl.py?line=144'>145</a>\u001b[0m         \u001b[39mwith\u001b[39;00m util\u001b[39m.\u001b[39msafe_reraise():\n",
      "File \u001b[1;32m~\\AppData\\Local\\Programs\\Python\\Python39\\lib\\site-packages\\sqlalchemy\\pool\\base.py:256\u001b[0m, in \u001b[0;36mPool._create_connection\u001b[1;34m(self)\u001b[0m\n\u001b[0;32m    <a href='file:///c%3A/Users/engin/AppData/Local/Programs/Python/Python39/lib/site-packages/sqlalchemy/pool/base.py?line=252'>253</a>\u001b[0m \u001b[39mdef\u001b[39;00m \u001b[39m_create_connection\u001b[39m(\u001b[39mself\u001b[39m):\n\u001b[0;32m    <a href='file:///c%3A/Users/engin/AppData/Local/Programs/Python/Python39/lib/site-packages/sqlalchemy/pool/base.py?line=253'>254</a>\u001b[0m     \u001b[39m\"\"\"Called by subclasses to create a new ConnectionRecord.\"\"\"\u001b[39;00m\n\u001b[1;32m--> <a href='file:///c%3A/Users/engin/AppData/Local/Programs/Python/Python39/lib/site-packages/sqlalchemy/pool/base.py?line=255'>256</a>\u001b[0m     \u001b[39mreturn\u001b[39;00m _ConnectionRecord(\u001b[39mself\u001b[39;49m)\n",
      "File \u001b[1;32m~\\AppData\\Local\\Programs\\Python\\Python39\\lib\\site-packages\\sqlalchemy\\pool\\base.py:371\u001b[0m, in \u001b[0;36m_ConnectionRecord.__init__\u001b[1;34m(self, pool, connect)\u001b[0m\n\u001b[0;32m    <a href='file:///c%3A/Users/engin/AppData/Local/Programs/Python/Python39/lib/site-packages/sqlalchemy/pool/base.py?line=368'>369</a>\u001b[0m \u001b[39mself\u001b[39m\u001b[39m.\u001b[39m__pool \u001b[39m=\u001b[39m pool\n\u001b[0;32m    <a href='file:///c%3A/Users/engin/AppData/Local/Programs/Python/Python39/lib/site-packages/sqlalchemy/pool/base.py?line=369'>370</a>\u001b[0m \u001b[39mif\u001b[39;00m connect:\n\u001b[1;32m--> <a href='file:///c%3A/Users/engin/AppData/Local/Programs/Python/Python39/lib/site-packages/sqlalchemy/pool/base.py?line=370'>371</a>\u001b[0m     \u001b[39mself\u001b[39;49m\u001b[39m.\u001b[39;49m__connect()\n\u001b[0;32m    <a href='file:///c%3A/Users/engin/AppData/Local/Programs/Python/Python39/lib/site-packages/sqlalchemy/pool/base.py?line=371'>372</a>\u001b[0m \u001b[39mself\u001b[39m\u001b[39m.\u001b[39mfinalize_callback \u001b[39m=\u001b[39m deque()\n",
      "File \u001b[1;32m~\\AppData\\Local\\Programs\\Python\\Python39\\lib\\site-packages\\sqlalchemy\\pool\\base.py:666\u001b[0m, in \u001b[0;36m_ConnectionRecord.__connect\u001b[1;34m(self)\u001b[0m\n\u001b[0;32m    <a href='file:///c%3A/Users/engin/AppData/Local/Programs/Python/Python39/lib/site-packages/sqlalchemy/pool/base.py?line=663'>664</a>\u001b[0m \u001b[39mexcept\u001b[39;00m \u001b[39mException\u001b[39;00m \u001b[39mas\u001b[39;00m e:\n\u001b[0;32m    <a href='file:///c%3A/Users/engin/AppData/Local/Programs/Python/Python39/lib/site-packages/sqlalchemy/pool/base.py?line=664'>665</a>\u001b[0m     \u001b[39mwith\u001b[39;00m util\u001b[39m.\u001b[39msafe_reraise():\n\u001b[1;32m--> <a href='file:///c%3A/Users/engin/AppData/Local/Programs/Python/Python39/lib/site-packages/sqlalchemy/pool/base.py?line=665'>666</a>\u001b[0m         pool\u001b[39m.\u001b[39mlogger\u001b[39m.\u001b[39mdebug(\u001b[39m\"\u001b[39m\u001b[39mError on connect(): \u001b[39m\u001b[39m%s\u001b[39;00m\u001b[39m\"\u001b[39m, e)\n\u001b[0;32m    <a href='file:///c%3A/Users/engin/AppData/Local/Programs/Python/Python39/lib/site-packages/sqlalchemy/pool/base.py?line=666'>667</a>\u001b[0m \u001b[39melse\u001b[39;00m:\n\u001b[0;32m    <a href='file:///c%3A/Users/engin/AppData/Local/Programs/Python/Python39/lib/site-packages/sqlalchemy/pool/base.py?line=667'>668</a>\u001b[0m     \u001b[39m# in SQLAlchemy 1.4 the first_connect event is not used by\u001b[39;00m\n\u001b[0;32m    <a href='file:///c%3A/Users/engin/AppData/Local/Programs/Python/Python39/lib/site-packages/sqlalchemy/pool/base.py?line=668'>669</a>\u001b[0m     \u001b[39m# the engine, so this will usually not be set\u001b[39;00m\n\u001b[0;32m    <a href='file:///c%3A/Users/engin/AppData/Local/Programs/Python/Python39/lib/site-packages/sqlalchemy/pool/base.py?line=669'>670</a>\u001b[0m     \u001b[39mif\u001b[39;00m pool\u001b[39m.\u001b[39mdispatch\u001b[39m.\u001b[39mfirst_connect:\n",
      "File \u001b[1;32m~\\AppData\\Local\\Programs\\Python\\Python39\\lib\\site-packages\\sqlalchemy\\util\\langhelpers.py:70\u001b[0m, in \u001b[0;36msafe_reraise.__exit__\u001b[1;34m(self, type_, value, traceback)\u001b[0m\n\u001b[0;32m     <a href='file:///c%3A/Users/engin/AppData/Local/Programs/Python/Python39/lib/site-packages/sqlalchemy/util/langhelpers.py?line=67'>68</a>\u001b[0m     \u001b[39mself\u001b[39m\u001b[39m.\u001b[39m_exc_info \u001b[39m=\u001b[39m \u001b[39mNone\u001b[39;00m  \u001b[39m# remove potential circular references\u001b[39;00m\n\u001b[0;32m     <a href='file:///c%3A/Users/engin/AppData/Local/Programs/Python/Python39/lib/site-packages/sqlalchemy/util/langhelpers.py?line=68'>69</a>\u001b[0m     \u001b[39mif\u001b[39;00m \u001b[39mnot\u001b[39;00m \u001b[39mself\u001b[39m\u001b[39m.\u001b[39mwarn_only:\n\u001b[1;32m---> <a href='file:///c%3A/Users/engin/AppData/Local/Programs/Python/Python39/lib/site-packages/sqlalchemy/util/langhelpers.py?line=69'>70</a>\u001b[0m         compat\u001b[39m.\u001b[39;49mraise_(\n\u001b[0;32m     <a href='file:///c%3A/Users/engin/AppData/Local/Programs/Python/Python39/lib/site-packages/sqlalchemy/util/langhelpers.py?line=70'>71</a>\u001b[0m             exc_value,\n\u001b[0;32m     <a href='file:///c%3A/Users/engin/AppData/Local/Programs/Python/Python39/lib/site-packages/sqlalchemy/util/langhelpers.py?line=71'>72</a>\u001b[0m             with_traceback\u001b[39m=\u001b[39;49mexc_tb,\n\u001b[0;32m     <a href='file:///c%3A/Users/engin/AppData/Local/Programs/Python/Python39/lib/site-packages/sqlalchemy/util/langhelpers.py?line=72'>73</a>\u001b[0m         )\n\u001b[0;32m     <a href='file:///c%3A/Users/engin/AppData/Local/Programs/Python/Python39/lib/site-packages/sqlalchemy/util/langhelpers.py?line=73'>74</a>\u001b[0m \u001b[39melse\u001b[39;00m:\n\u001b[0;32m     <a href='file:///c%3A/Users/engin/AppData/Local/Programs/Python/Python39/lib/site-packages/sqlalchemy/util/langhelpers.py?line=74'>75</a>\u001b[0m     \u001b[39mif\u001b[39;00m \u001b[39mnot\u001b[39;00m compat\u001b[39m.\u001b[39mpy3k \u001b[39mand\u001b[39;00m \u001b[39mself\u001b[39m\u001b[39m.\u001b[39m_exc_info \u001b[39mand\u001b[39;00m \u001b[39mself\u001b[39m\u001b[39m.\u001b[39m_exc_info[\u001b[39m1\u001b[39m]:\n\u001b[0;32m     <a href='file:///c%3A/Users/engin/AppData/Local/Programs/Python/Python39/lib/site-packages/sqlalchemy/util/langhelpers.py?line=75'>76</a>\u001b[0m         \u001b[39m# emulate Py3K's behavior of telling us when an exception\u001b[39;00m\n\u001b[0;32m     <a href='file:///c%3A/Users/engin/AppData/Local/Programs/Python/Python39/lib/site-packages/sqlalchemy/util/langhelpers.py?line=76'>77</a>\u001b[0m         \u001b[39m# occurs in an exception handler.\u001b[39;00m\n",
      "File \u001b[1;32m~\\AppData\\Local\\Programs\\Python\\Python39\\lib\\site-packages\\sqlalchemy\\util\\compat.py:207\u001b[0m, in \u001b[0;36mraise_\u001b[1;34m(***failed resolving arguments***)\u001b[0m\n\u001b[0;32m    <a href='file:///c%3A/Users/engin/AppData/Local/Programs/Python/Python39/lib/site-packages/sqlalchemy/util/compat.py?line=203'>204</a>\u001b[0m     exception\u001b[39m.\u001b[39m__cause__ \u001b[39m=\u001b[39m replace_context\n\u001b[0;32m    <a href='file:///c%3A/Users/engin/AppData/Local/Programs/Python/Python39/lib/site-packages/sqlalchemy/util/compat.py?line=205'>206</a>\u001b[0m \u001b[39mtry\u001b[39;00m:\n\u001b[1;32m--> <a href='file:///c%3A/Users/engin/AppData/Local/Programs/Python/Python39/lib/site-packages/sqlalchemy/util/compat.py?line=206'>207</a>\u001b[0m     \u001b[39mraise\u001b[39;00m exception\n\u001b[0;32m    <a href='file:///c%3A/Users/engin/AppData/Local/Programs/Python/Python39/lib/site-packages/sqlalchemy/util/compat.py?line=207'>208</a>\u001b[0m \u001b[39mfinally\u001b[39;00m:\n\u001b[0;32m    <a href='file:///c%3A/Users/engin/AppData/Local/Programs/Python/Python39/lib/site-packages/sqlalchemy/util/compat.py?line=208'>209</a>\u001b[0m     \u001b[39m# credit to\u001b[39;00m\n\u001b[0;32m    <a href='file:///c%3A/Users/engin/AppData/Local/Programs/Python/Python39/lib/site-packages/sqlalchemy/util/compat.py?line=209'>210</a>\u001b[0m     \u001b[39m# https://cosmicpercolator.com/2016/01/13/exception-leaks-in-python-2-and-3/\u001b[39;00m\n\u001b[0;32m    <a href='file:///c%3A/Users/engin/AppData/Local/Programs/Python/Python39/lib/site-packages/sqlalchemy/util/compat.py?line=210'>211</a>\u001b[0m     \u001b[39m# as the __traceback__ object creates a cycle\u001b[39;00m\n\u001b[0;32m    <a href='file:///c%3A/Users/engin/AppData/Local/Programs/Python/Python39/lib/site-packages/sqlalchemy/util/compat.py?line=211'>212</a>\u001b[0m     \u001b[39mdel\u001b[39;00m exception, replace_context, from_, with_traceback\n",
      "File \u001b[1;32m~\\AppData\\Local\\Programs\\Python\\Python39\\lib\\site-packages\\sqlalchemy\\pool\\base.py:661\u001b[0m, in \u001b[0;36m_ConnectionRecord.__connect\u001b[1;34m(self)\u001b[0m\n\u001b[0;32m    <a href='file:///c%3A/Users/engin/AppData/Local/Programs/Python/Python39/lib/site-packages/sqlalchemy/pool/base.py?line=658'>659</a>\u001b[0m \u001b[39mtry\u001b[39;00m:\n\u001b[0;32m    <a href='file:///c%3A/Users/engin/AppData/Local/Programs/Python/Python39/lib/site-packages/sqlalchemy/pool/base.py?line=659'>660</a>\u001b[0m     \u001b[39mself\u001b[39m\u001b[39m.\u001b[39mstarttime \u001b[39m=\u001b[39m time\u001b[39m.\u001b[39mtime()\n\u001b[1;32m--> <a href='file:///c%3A/Users/engin/AppData/Local/Programs/Python/Python39/lib/site-packages/sqlalchemy/pool/base.py?line=660'>661</a>\u001b[0m     \u001b[39mself\u001b[39m\u001b[39m.\u001b[39mdbapi_connection \u001b[39m=\u001b[39m connection \u001b[39m=\u001b[39m pool\u001b[39m.\u001b[39;49m_invoke_creator(\u001b[39mself\u001b[39;49m)\n\u001b[0;32m    <a href='file:///c%3A/Users/engin/AppData/Local/Programs/Python/Python39/lib/site-packages/sqlalchemy/pool/base.py?line=661'>662</a>\u001b[0m     pool\u001b[39m.\u001b[39mlogger\u001b[39m.\u001b[39mdebug(\u001b[39m\"\u001b[39m\u001b[39mCreated new connection \u001b[39m\u001b[39m%r\u001b[39;00m\u001b[39m\"\u001b[39m, connection)\n\u001b[0;32m    <a href='file:///c%3A/Users/engin/AppData/Local/Programs/Python/Python39/lib/site-packages/sqlalchemy/pool/base.py?line=662'>663</a>\u001b[0m     \u001b[39mself\u001b[39m\u001b[39m.\u001b[39mfresh \u001b[39m=\u001b[39m \u001b[39mTrue\u001b[39;00m\n",
      "File \u001b[1;32m~\\AppData\\Local\\Programs\\Python\\Python39\\lib\\site-packages\\sqlalchemy\\engine\\create.py:590\u001b[0m, in \u001b[0;36mcreate_engine.<locals>.connect\u001b[1;34m(connection_record)\u001b[0m\n\u001b[0;32m    <a href='file:///c%3A/Users/engin/AppData/Local/Programs/Python/Python39/lib/site-packages/sqlalchemy/engine/create.py?line=587'>588</a>\u001b[0m         \u001b[39mif\u001b[39;00m connection \u001b[39mis\u001b[39;00m \u001b[39mnot\u001b[39;00m \u001b[39mNone\u001b[39;00m:\n\u001b[0;32m    <a href='file:///c%3A/Users/engin/AppData/Local/Programs/Python/Python39/lib/site-packages/sqlalchemy/engine/create.py?line=588'>589</a>\u001b[0m             \u001b[39mreturn\u001b[39;00m connection\n\u001b[1;32m--> <a href='file:///c%3A/Users/engin/AppData/Local/Programs/Python/Python39/lib/site-packages/sqlalchemy/engine/create.py?line=589'>590</a>\u001b[0m \u001b[39mreturn\u001b[39;00m dialect\u001b[39m.\u001b[39mconnect(\u001b[39m*\u001b[39mcargs, \u001b[39m*\u001b[39m\u001b[39m*\u001b[39mcparams)\n",
      "File \u001b[1;32m~\\AppData\\Local\\Programs\\Python\\Python39\\lib\\site-packages\\sqlalchemy\\engine\\default.py:597\u001b[0m, in \u001b[0;36mDefaultDialect.connect\u001b[1;34m(self, *cargs, **cparams)\u001b[0m\n\u001b[0;32m    <a href='file:///c%3A/Users/engin/AppData/Local/Programs/Python/Python39/lib/site-packages/sqlalchemy/engine/default.py?line=594'>595</a>\u001b[0m \u001b[39mdef\u001b[39;00m \u001b[39mconnect\u001b[39m(\u001b[39mself\u001b[39m, \u001b[39m*\u001b[39mcargs, \u001b[39m*\u001b[39m\u001b[39m*\u001b[39mcparams):\n\u001b[0;32m    <a href='file:///c%3A/Users/engin/AppData/Local/Programs/Python/Python39/lib/site-packages/sqlalchemy/engine/default.py?line=595'>596</a>\u001b[0m     \u001b[39m# inherits the docstring from interfaces.Dialect.connect\u001b[39;00m\n\u001b[1;32m--> <a href='file:///c%3A/Users/engin/AppData/Local/Programs/Python/Python39/lib/site-packages/sqlalchemy/engine/default.py?line=596'>597</a>\u001b[0m     \u001b[39mreturn\u001b[39;00m \u001b[39mself\u001b[39m\u001b[39m.\u001b[39mdbapi\u001b[39m.\u001b[39mconnect(\u001b[39m*\u001b[39mcargs, \u001b[39m*\u001b[39m\u001b[39m*\u001b[39mcparams)\n",
      "\u001b[1;31mInterfaceError\u001b[0m: (pyodbc.InterfaceError) ('28000', \"[28000] [Microsoft][ODBC Driver 17 for SQL Server][SQL Server]Login failed for user 'sa'. (18456) (SQLDriverConnect); [28000] [Microsoft][ODBC Driver 17 for SQL Server]Invalid connection string attribute (0); [28000] [Microsoft][ODBC Driver 17 for SQL Server][SQL Server]Login failed for user 'sa'. (18456); [28000] [Microsoft][ODBC Driver 17 for SQL Server]Invalid connection string attribute (0)\")\n(Background on this error at: https://sqlalche.me/e/14/rvf5)"
     ]
    }
   ],
   "source": [
    "df_prod.to_sql(\"products_bikes\", engine, index = False, if_exists = \"append\", schema = \"dbo\")"
   ]
  },
  {
   "cell_type": "code",
   "execution_count": null,
   "metadata": {},
   "outputs": [],
   "source": []
  }
 ],
 "metadata": {
  "kernelspec": {
   "display_name": "Python 3.9.12 64-bit",
   "language": "python",
   "name": "python3"
  },
  "language_info": {
   "codemirror_mode": {
    "name": "ipython",
    "version": 3
   },
   "file_extension": ".py",
   "mimetype": "text/x-python",
   "name": "python",
   "nbconvert_exporter": "python",
   "pygments_lexer": "ipython3",
   "version": "3.9.12"
  },
  "vscode": {
   "interpreter": {
    "hash": "78d5379cc5a4e608d385c34b2eb3bb89eeab02a92c9e7d486e469b4c860ee8ca"
   }
  }
 },
 "nbformat": 4,
 "nbformat_minor": 4
}
